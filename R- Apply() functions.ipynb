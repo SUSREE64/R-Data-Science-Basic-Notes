{
  "cells": [
    {
      "metadata": {
        "collapsed": true
      },
      "cell_type": "markdown",
      "source": "### Apply() functions "
    },
    {
      "metadata": {},
      "cell_type": "markdown",
      "source": "#### apply() function works on matrices or arrays<br>\n##### We use apply() over a matrice. This function takes 5 arguments:\n\n**_Description: “Returns a vector or array or list of values obtained by applying a function to margins of an array or matrix.”_**\n\nOK – we know about vectors/arrays and functions, but what are these “margins”? Simple: either the rows (1), the columns (2) or both (1:2). By “both”, we mean “apply the function to each individual value.” An example:\n"
    },
    {
      "metadata": {},
      "cell_type": "markdown",
      "source": " apply(X, MARGIN, FUN)<br>\nHere:<br>\n-x: an array or matrix\n-MARGIN:  take a value or range between 1 and 2 to define where to apply the function:<br>\n-MARGIN=1`: the manipulation is performed on rows<br>\n-MARGIN=2`: the manipulation is performed on columns<br>\n-MARGIN=c(1,2)` the manipulation is performed on rows and columns<br>\n-FUN: tells which function to apply. Built functions like mean, median, sum, min, max and even user-defined functions can be applied><br>"
    },
    {
      "metadata": {
        "trusted": true
      },
      "cell_type": "code",
      "source": "mat <- matrix(1:15, nrow = 3)\nmat",
      "execution_count": 2,
      "outputs": [
        {
          "output_type": "display_data",
          "data": {
            "text/plain": "     [,1] [,2] [,3] [,4] [,5]\n[1,] 1    4    7    10   13  \n[2,] 2    5    8    11   14  \n[3,] 3    6    9    12   15  ",
            "text/latex": "A matrix: 3 x 5 of type int\n\\begin{tabular}{lllll}\n\t 1 & 4 & 7 & 10 & 13\\\\\n\t 2 & 5 & 8 & 11 & 14\\\\\n\t 3 & 6 & 9 & 12 & 15\\\\\n\\end{tabular}\n",
            "text/markdown": "\nA matrix: 3 x 5 of type int\n\n| 1 | 4 | 7 | 10 | 13 |\n| 2 | 5 | 8 | 11 | 14 |\n| 3 | 6 | 9 | 12 | 15 |\n\n",
            "text/html": "<table>\n<caption>A matrix: 3 x 5 of type int</caption>\n<tbody>\n\t<tr><td>1</td><td>4</td><td>7</td><td>10</td><td>13</td></tr>\n\t<tr><td>2</td><td>5</td><td>8</td><td>11</td><td>14</td></tr>\n\t<tr><td>3</td><td>6</td><td>9</td><td>12</td><td>15</td></tr>\n</tbody>\n</table>\n"
          },
          "metadata": {}
        }
      ]
    },
    {
      "metadata": {
        "trusted": true
      },
      "cell_type": "code",
      "source": "# suppose we what to have the sum of columns with built in sum function\napply(mat, 2, sum) # here 2 in the arguments indicate that it is taking columns",
      "execution_count": 3,
      "outputs": [
        {
          "output_type": "display_data",
          "data": {
            "text/plain": "[1]  6 15 24 33 42",
            "text/latex": "\\begin{enumerate*}\n\\item 6\n\\item 15\n\\item 24\n\\item 33\n\\item 42\n\\end{enumerate*}\n",
            "text/markdown": "1. 6\n2. 15\n3. 24\n4. 33\n5. 42\n\n\n",
            "text/html": "<ol class=list-inline>\n\t<li>6</li>\n\t<li>15</li>\n\t<li>24</li>\n\t<li>33</li>\n\t<li>42</li>\n</ol>\n"
          },
          "metadata": {}
        }
      ]
    },
    {
      "metadata": {
        "trusted": true
      },
      "cell_type": "code",
      "source": "apply(mat, 2, mean) # Average of column elements",
      "execution_count": 5,
      "outputs": [
        {
          "output_type": "display_data",
          "data": {
            "text/plain": "[1]  2  5  8 11 14",
            "text/latex": "\\begin{enumerate*}\n\\item 2\n\\item 5\n\\item 8\n\\item 11\n\\item 14\n\\end{enumerate*}\n",
            "text/markdown": "1. 2\n2. 5\n3. 8\n4. 11\n5. 14\n\n\n",
            "text/html": "<ol class=list-inline>\n\t<li>2</li>\n\t<li>5</li>\n\t<li>8</li>\n\t<li>11</li>\n\t<li>14</li>\n</ol>\n"
          },
          "metadata": {}
        }
      ]
    },
    {
      "metadata": {
        "trusted": true
      },
      "cell_type": "code",
      "source": "apply(mat, 1, sd) # standard deviation of rows",
      "execution_count": 7,
      "outputs": [
        {
          "output_type": "display_data",
          "data": {
            "text/plain": "[1] 4.743416 4.743416 4.743416",
            "text/latex": "\\begin{enumerate*}\n\\item 4.74341649025257\n\\item 4.74341649025257\n\\item 4.74341649025257\n\\end{enumerate*}\n",
            "text/markdown": "1. 4.74341649025257\n2. 4.74341649025257\n3. 4.74341649025257\n\n\n",
            "text/html": "<ol class=list-inline>\n\t<li>4.74341649025257</li>\n\t<li>4.74341649025257</li>\n\t<li>4.74341649025257</li>\n</ol>\n"
          },
          "metadata": {}
        }
      ]
    },
    {
      "metadata": {
        "trusted": true
      },
      "cell_type": "markdown",
      "source": "#### Apply() function on a column of a dataframe"
    },
    {
      "metadata": {
        "trusted": true
      },
      "cell_type": "code",
      "source": "df <- mtcars",
      "execution_count": 1,
      "outputs": []
    },
    {
      "metadata": {
        "trusted": true
      },
      "cell_type": "code",
      "source": "### Suppose using a function on mpg  create a new column with rating if mpg > 15 good, if not average\nrating <- function(x){\n    if (x > 15){\n        return('Good')\n    }else {\n        'Average'\n    }\n}\n\ndf['Rating'] <- apply(df['mpg'], 1, rating)",
      "execution_count": 6,
      "outputs": []
    },
    {
      "metadata": {
        "trusted": true
      },
      "cell_type": "code",
      "source": "head(df)",
      "execution_count": 8,
      "outputs": [
        {
          "output_type": "display_data",
          "data": {
            "text/plain": "                  mpg  cyl disp hp  drat wt    qsec  vs am gear carb Rating\nMazda RX4         21.0 6   160  110 3.90 2.620 16.46 0  1  4    4    Good  \nMazda RX4 Wag     21.0 6   160  110 3.90 2.875 17.02 0  1  4    4    Good  \nDatsun 710        22.8 4   108   93 3.85 2.320 18.61 1  1  4    1    Good  \nHornet 4 Drive    21.4 6   258  110 3.08 3.215 19.44 1  0  3    1    Good  \nHornet Sportabout 18.7 8   360  175 3.15 3.440 17.02 0  0  3    2    Good  \nValiant           18.1 6   225  105 2.76 3.460 20.22 1  0  3    1    Good  ",
            "text/latex": "A data.frame: 6 x 12\n\\begin{tabular}{r|llllllllllll}\n  & mpg & cyl & disp & hp & drat & wt & qsec & vs & am & gear & carb & Rating\\\\\n  & <dbl> & <dbl> & <dbl> & <dbl> & <dbl> & <dbl> & <dbl> & <dbl> & <dbl> & <dbl> & <dbl> & <chr>\\\\\n\\hline\n\tMazda RX4 & 21.0 & 6 & 160 & 110 & 3.90 & 2.620 & 16.46 & 0 & 1 & 4 & 4 & Good\\\\\n\tMazda RX4 Wag & 21.0 & 6 & 160 & 110 & 3.90 & 2.875 & 17.02 & 0 & 1 & 4 & 4 & Good\\\\\n\tDatsun 710 & 22.8 & 4 & 108 &  93 & 3.85 & 2.320 & 18.61 & 1 & 1 & 4 & 1 & Good\\\\\n\tHornet 4 Drive & 21.4 & 6 & 258 & 110 & 3.08 & 3.215 & 19.44 & 1 & 0 & 3 & 1 & Good\\\\\n\tHornet Sportabout & 18.7 & 8 & 360 & 175 & 3.15 & 3.440 & 17.02 & 0 & 0 & 3 & 2 & Good\\\\\n\tValiant & 18.1 & 6 & 225 & 105 & 2.76 & 3.460 & 20.22 & 1 & 0 & 3 & 1 & Good\\\\\n\\end{tabular}\n",
            "text/markdown": "\nA data.frame: 6 x 12\n\n| <!--/--> | mpg &lt;dbl&gt; | cyl &lt;dbl&gt; | disp &lt;dbl&gt; | hp &lt;dbl&gt; | drat &lt;dbl&gt; | wt &lt;dbl&gt; | qsec &lt;dbl&gt; | vs &lt;dbl&gt; | am &lt;dbl&gt; | gear &lt;dbl&gt; | carb &lt;dbl&gt; | Rating &lt;chr&gt; |\n|---|---|---|---|---|---|---|---|---|---|---|---|---|\n| Mazda RX4 | 21.0 | 6 | 160 | 110 | 3.90 | 2.620 | 16.46 | 0 | 1 | 4 | 4 | Good |\n| Mazda RX4 Wag | 21.0 | 6 | 160 | 110 | 3.90 | 2.875 | 17.02 | 0 | 1 | 4 | 4 | Good |\n| Datsun 710 | 22.8 | 4 | 108 |  93 | 3.85 | 2.320 | 18.61 | 1 | 1 | 4 | 1 | Good |\n| Hornet 4 Drive | 21.4 | 6 | 258 | 110 | 3.08 | 3.215 | 19.44 | 1 | 0 | 3 | 1 | Good |\n| Hornet Sportabout | 18.7 | 8 | 360 | 175 | 3.15 | 3.440 | 17.02 | 0 | 0 | 3 | 2 | Good |\n| Valiant | 18.1 | 6 | 225 | 105 | 2.76 | 3.460 | 20.22 | 1 | 0 | 3 | 1 | Good |\n\n",
            "text/html": "<table>\n<caption>A data.frame: 6 x 12</caption>\n<thead>\n\t<tr><th></th><th scope=col>mpg</th><th scope=col>cyl</th><th scope=col>disp</th><th scope=col>hp</th><th scope=col>drat</th><th scope=col>wt</th><th scope=col>qsec</th><th scope=col>vs</th><th scope=col>am</th><th scope=col>gear</th><th scope=col>carb</th><th scope=col>Rating</th></tr>\n\t<tr><th></th><th scope=col>&lt;dbl&gt;</th><th scope=col>&lt;dbl&gt;</th><th scope=col>&lt;dbl&gt;</th><th scope=col>&lt;dbl&gt;</th><th scope=col>&lt;dbl&gt;</th><th scope=col>&lt;dbl&gt;</th><th scope=col>&lt;dbl&gt;</th><th scope=col>&lt;dbl&gt;</th><th scope=col>&lt;dbl&gt;</th><th scope=col>&lt;dbl&gt;</th><th scope=col>&lt;dbl&gt;</th><th scope=col>&lt;chr&gt;</th></tr>\n</thead>\n<tbody>\n\t<tr><th scope=row>Mazda RX4</th><td>21.0</td><td>6</td><td>160</td><td>110</td><td>3.90</td><td>2.620</td><td>16.46</td><td>0</td><td>1</td><td>4</td><td>4</td><td>Good</td></tr>\n\t<tr><th scope=row>Mazda RX4 Wag</th><td>21.0</td><td>6</td><td>160</td><td>110</td><td>3.90</td><td>2.875</td><td>17.02</td><td>0</td><td>1</td><td>4</td><td>4</td><td>Good</td></tr>\n\t<tr><th scope=row>Datsun 710</th><td>22.8</td><td>4</td><td>108</td><td> 93</td><td>3.85</td><td>2.320</td><td>18.61</td><td>1</td><td>1</td><td>4</td><td>1</td><td>Good</td></tr>\n\t<tr><th scope=row>Hornet 4 Drive</th><td>21.4</td><td>6</td><td>258</td><td>110</td><td>3.08</td><td>3.215</td><td>19.44</td><td>1</td><td>0</td><td>3</td><td>1</td><td>Good</td></tr>\n\t<tr><th scope=row>Hornet Sportabout</th><td>18.7</td><td>8</td><td>360</td><td>175</td><td>3.15</td><td>3.440</td><td>17.02</td><td>0</td><td>0</td><td>3</td><td>2</td><td>Good</td></tr>\n\t<tr><th scope=row>Valiant</th><td>18.1</td><td>6</td><td>225</td><td>105</td><td>2.76</td><td>3.460</td><td>20.22</td><td>1</td><td>0</td><td>3</td><td>1</td><td>Good</td></tr>\n</tbody>\n</table>\n"
          },
          "metadata": {}
        }
      ]
    },
    {
      "metadata": {
        "trusted": true
      },
      "cell_type": "code",
      "source": "",
      "execution_count": null,
      "outputs": []
    }
  ],
  "metadata": {
    "kernelspec": {
      "name": "r",
      "display_name": "R",
      "language": "R"
    },
    "language_info": {
      "mimetype": "text/x-r-source",
      "name": "R",
      "pygments_lexer": "r",
      "version": "3.5.3",
      "file_extension": ".r",
      "codemirror_mode": "r"
    }
  },
  "nbformat": 4,
  "nbformat_minor": 2
}