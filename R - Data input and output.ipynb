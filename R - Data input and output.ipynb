{
  "cells": [
    {
      "metadata": {
        "collapsed": true
      },
      "cell_type": "markdown",
      "source": "### R - Data Input and Output"
    },
    {
      "metadata": {},
      "cell_type": "markdown",
      "source": "####  CSV Files reading and writing to data frames"
    },
    {
      "metadata": {
        "trusted": true
      },
      "cell_type": "code",
      "source": "# writing a dataframe to csv file using a built in data set iris\nwrite.csv(iris,file = \"iris_df.csv\") # this creates comma separated iris_df.csv file in working director\n",
      "execution_count": 1,
      "outputs": []
    },
    {
      "metadata": {
        "trusted": true
      },
      "cell_type": "code",
      "source": "# Reding a csv file to a dataframe\ndf <- read.csv(file = 'iris_df.csv')",
      "execution_count": 2,
      "outputs": []
    },
    {
      "metadata": {
        "trusted": true
      },
      "cell_type": "code",
      "source": "is.data.frame(df)",
      "execution_count": 3,
      "outputs": [
        {
          "output_type": "display_data",
          "data": {
            "text/plain": "[1] TRUE",
            "text/latex": "TRUE",
            "text/markdown": "TRUE",
            "text/html": "TRUE"
          },
          "metadata": {}
        }
      ]
    },
    {
      "metadata": {
        "trusted": true
      },
      "cell_type": "code",
      "source": "head(df,3)",
      "execution_count": 4,
      "outputs": [
        {
          "output_type": "display_data",
          "data": {
            "text/plain": "  X Sepal.Length Sepal.Width Petal.Length Petal.Width Species\n1 1 5.1          3.5         1.4          0.2         setosa \n2 2 4.9          3.0         1.4          0.2         setosa \n3 3 4.7          3.2         1.3          0.2         setosa ",
            "text/latex": "A data.frame: 3 x 6\n\\begin{tabular}{r|llllll}\n X & Sepal.Length & Sepal.Width & Petal.Length & Petal.Width & Species\\\\\n <int> & <dbl> & <dbl> & <dbl> & <dbl> & <fct>\\\\\n\\hline\n\t 1 & 5.1 & 3.5 & 1.4 & 0.2 & setosa\\\\\n\t 2 & 4.9 & 3.0 & 1.4 & 0.2 & setosa\\\\\n\t 3 & 4.7 & 3.2 & 1.3 & 0.2 & setosa\\\\\n\\end{tabular}\n",
            "text/markdown": "\nA data.frame: 3 x 6\n\n| X &lt;int&gt; | Sepal.Length &lt;dbl&gt; | Sepal.Width &lt;dbl&gt; | Petal.Length &lt;dbl&gt; | Petal.Width &lt;dbl&gt; | Species &lt;fct&gt; |\n|---|---|---|---|---|---|\n| 1 | 5.1 | 3.5 | 1.4 | 0.2 | setosa |\n| 2 | 4.9 | 3.0 | 1.4 | 0.2 | setosa |\n| 3 | 4.7 | 3.2 | 1.3 | 0.2 | setosa |\n\n",
            "text/html": "<table>\n<caption>A data.frame: 3 x 6</caption>\n<thead>\n\t<tr><th scope=col>X</th><th scope=col>Sepal.Length</th><th scope=col>Sepal.Width</th><th scope=col>Petal.Length</th><th scope=col>Petal.Width</th><th scope=col>Species</th></tr>\n\t<tr><th scope=col>&lt;int&gt;</th><th scope=col>&lt;dbl&gt;</th><th scope=col>&lt;dbl&gt;</th><th scope=col>&lt;dbl&gt;</th><th scope=col>&lt;dbl&gt;</th><th scope=col>&lt;fct&gt;</th></tr>\n</thead>\n<tbody>\n\t<tr><td>1</td><td>5.1</td><td>3.5</td><td>1.4</td><td>0.2</td><td>setosa</td></tr>\n\t<tr><td>2</td><td>4.9</td><td>3.0</td><td>1.4</td><td>0.2</td><td>setosa</td></tr>\n\t<tr><td>3</td><td>4.7</td><td>3.2</td><td>1.3</td><td>0.2</td><td>setosa</td></tr>\n</tbody>\n</table>\n"
          },
          "metadata": {}
        }
      ]
    },
    {
      "metadata": {},
      "cell_type": "markdown",
      "source": "### Reading the  EXCEL data\n"
    },
    {
      "metadata": {
        "trusted": true
      },
      "cell_type": "code",
      "source": "# We need to use a library for reading excel files\nlibrary(readxl)",
      "execution_count": 5,
      "outputs": []
    },
    {
      "metadata": {
        "trusted": true
      },
      "cell_type": "code",
      "source": "# This command shows all the sheets in the excel work book\nexcel_sheets('TopBabyNamesbyState.xlsx')",
      "execution_count": 6,
      "outputs": [
        {
          "output_type": "display_data",
          "data": {
            "text/plain": "[1] \"Sheet1\"              \"Sheet5\"              \"TopBabyNamesbyState\"",
            "text/latex": "\\begin{enumerate*}\n\\item 'Sheet1'\n\\item 'Sheet5'\n\\item 'TopBabyNamesbyState'\n\\end{enumerate*}\n",
            "text/markdown": "1. 'Sheet1'\n2. 'Sheet5'\n3. 'TopBabyNamesbyState'\n\n\n",
            "text/html": "<ol class=list-inline>\n\t<li>'Sheet1'</li>\n\t<li>'Sheet5'</li>\n\t<li>'TopBabyNamesbyState'</li>\n</ol>\n"
          },
          "metadata": {}
        }
      ]
    },
    {
      "metadata": {
        "trusted": true
      },
      "cell_type": "code",
      "source": "# Reading the sheet into a dataframe\nbabynamesdf <- read_xlsx(sheet= 'TopBabyNamesbyState', path = 'TopBabyNamesbyState.xlsx')",
      "execution_count": 7,
      "outputs": []
    },
    {
      "metadata": {
        "trusted": true
      },
      "cell_type": "code",
      "source": "head(babynamesdf,2)",
      "execution_count": 8,
      "outputs": [
        {
          "output_type": "display_data",
          "data": {
            "text/plain": "  State Gender Year Top Name Occurences\n1 AK    F      1910 Mary     14        \n2 AK    F      1911 Mary     12        ",
            "text/latex": "A tibble: 2 x 5\n\\begin{tabular}{r|lllll}\n State & Gender & Year & Top Name & Occurences\\\\\n <chr> & <chr> & <dbl> & <chr> & <dbl>\\\\\n\\hline\n\t AK & F & 1910 & Mary & 14\\\\\n\t AK & F & 1911 & Mary & 12\\\\\n\\end{tabular}\n",
            "text/markdown": "\nA tibble: 2 x 5\n\n| State &lt;chr&gt; | Gender &lt;chr&gt; | Year &lt;dbl&gt; | Top Name &lt;chr&gt; | Occurences &lt;dbl&gt; |\n|---|---|---|---|---|\n| AK | F | 1910 | Mary | 14 |\n| AK | F | 1911 | Mary | 12 |\n\n",
            "text/html": "<table>\n<caption>A tibble: 2 x 5</caption>\n<thead>\n\t<tr><th scope=col>State</th><th scope=col>Gender</th><th scope=col>Year</th><th scope=col>Top Name</th><th scope=col>Occurences</th></tr>\n\t<tr><th scope=col>&lt;chr&gt;</th><th scope=col>&lt;chr&gt;</th><th scope=col>&lt;dbl&gt;</th><th scope=col>&lt;chr&gt;</th><th scope=col>&lt;dbl&gt;</th></tr>\n</thead>\n<tbody>\n\t<tr><td>AK</td><td>F</td><td>1910</td><td>Mary</td><td>14</td></tr>\n\t<tr><td>AK</td><td>F</td><td>1911</td><td>Mary</td><td>12</td></tr>\n</tbody>\n</table>\n"
          },
          "metadata": {}
        }
      ]
    },
    {
      "metadata": {
        "trusted": true
      },
      "cell_type": "code",
      "source": "str(babynamesdf)",
      "execution_count": 9,
      "outputs": [
        {
          "output_type": "stream",
          "text": "Classes ‘tbl_df’, ‘tbl’ and 'data.frame':\t10506 obs. of  5 variables:\n $ State     : chr  \"AK\" \"AK\" \"AK\" \"AK\" ...\n $ Gender    : chr  \"F\" \"F\" \"F\" \"F\" ...\n $ Year      : num  1910 1911 1912 1913 1914 ...\n $ Top Name  : chr  \"Mary\" \"Mary\" \"Mary\" \"Mary\" ...\n $ Occurences: num  14 12 9 21 22 23 18 21 27 22 ...\n",
          "name": "stdout"
        }
      ]
    },
    {
      "metadata": {
        "trusted": true
      },
      "cell_type": "code",
      "source": "summary(babynamesdf)",
      "execution_count": 10,
      "outputs": [
        {
          "output_type": "display_data",
          "data": {
            "text/plain": "    State              Gender               Year        Top Name        \n Length:10506       Length:10506       Min.   :1910   Length:10506      \n Class :character   Class :character   1st Qu.:1935   Class :character  \n Mode  :character   Mode  :character   Median :1961   Mode  :character  \n                                       Mean   :1961                     \n                                       3rd Qu.:1987                     \n                                       Max.   :2012                     \n   Occurences   \n Min.   :    8  \n 1st Qu.:  267  \n Median :  718  \n Mean   : 1186  \n 3rd Qu.: 1582  \n Max.   :10023  "
          },
          "metadata": {}
        }
      ]
    },
    {
      "metadata": {
        "trusted": true
      },
      "cell_type": "code",
      "source": "babynamesdf[c('Top Name', 'Occurences')]",
      "execution_count": 11,
      "outputs": [
        {
          "output_type": "display_data",
          "data": {
            "text/plain": "      Top Name    Occurences\n1     Mary        14        \n2     Mary        12        \n3     Mary         9        \n4     Mary        21        \n5     Mary        22        \n6     Mary        23        \n7     Mary        18        \n8     Mary        21        \n9     Mary        27        \n10    Mary        22        \n11    Mary        38        \n12    Mary        36        \n13    Mary        29        \n14    Mary        26        \n15    Mary        41        \n16    Mary        24        \n17    Mary        39        \n18    Mary        30        \n19    Mary        27        \n20    Mary        25        \n21    Mary        35        \n22    Mary        41        \n23    Mary        26        \n24    Mary        25        \n25    Mary        31        \n26    Mary        29        \n27    Mary        33        \n28    Mary        41        \n29    Mary        37        \n30    Mary        28        \n...   ...         ...       \n10477 Michael     171       \n10478 Michael     144       \n10479 Christopher 142       \n10480 Christopher 125       \n10481 Michael      94       \n10482 Michael      99       \n10483 Michael     102       \n10484 Michael      83       \n10485 Michael      85       \n10486 Michael      74       \n10487 Tyler        90       \n10488 Austin       71       \n10489 Joshua       62       \n10490 Tyler        68       \n10491 Jacob        55       \n10492 Austin       55       \n10493 Michael      52       \n10494 Jacob        49       \n10495 Jacob        44       \n10496 Ethan        52       \n10497 Jacob        47       \n10498 Michael      34       \n10499 Jacob        41       \n10500 Ethan        44       \n10501 James        38       \n10502 James        41       \n10503 Wyatt        42       \n10504 James        36       \n10505 William      32       \n10506 Liam         41       ",
            "text/latex": "A tibble: 10506 x 2\n\\begin{tabular}{r|ll}\n Top Name & Occurences\\\\\n <chr> & <dbl>\\\\\n\\hline\n\t Mary & 14\\\\\n\t Mary & 12\\\\\n\t Mary &  9\\\\\n\t Mary & 21\\\\\n\t Mary & 22\\\\\n\t Mary & 23\\\\\n\t Mary & 18\\\\\n\t Mary & 21\\\\\n\t Mary & 27\\\\\n\t Mary & 22\\\\\n\t Mary & 38\\\\\n\t Mary & 36\\\\\n\t Mary & 29\\\\\n\t Mary & 26\\\\\n\t Mary & 41\\\\\n\t Mary & 24\\\\\n\t Mary & 39\\\\\n\t Mary & 30\\\\\n\t Mary & 27\\\\\n\t Mary & 25\\\\\n\t Mary & 35\\\\\n\t Mary & 41\\\\\n\t Mary & 26\\\\\n\t Mary & 25\\\\\n\t Mary & 31\\\\\n\t Mary & 29\\\\\n\t Mary & 33\\\\\n\t Mary & 41\\\\\n\t Mary & 37\\\\\n\t Mary & 28\\\\\n\t ... & ...\\\\\n\t Michael     & 171\\\\\n\t Michael     & 144\\\\\n\t Christopher & 142\\\\\n\t Christopher & 125\\\\\n\t Michael     &  94\\\\\n\t Michael     &  99\\\\\n\t Michael     & 102\\\\\n\t Michael     &  83\\\\\n\t Michael     &  85\\\\\n\t Michael     &  74\\\\\n\t Tyler       &  90\\\\\n\t Austin      &  71\\\\\n\t Joshua      &  62\\\\\n\t Tyler       &  68\\\\\n\t Jacob       &  55\\\\\n\t Austin      &  55\\\\\n\t Michael     &  52\\\\\n\t Jacob       &  49\\\\\n\t Jacob       &  44\\\\\n\t Ethan       &  52\\\\\n\t Jacob       &  47\\\\\n\t Michael     &  34\\\\\n\t Jacob       &  41\\\\\n\t Ethan       &  44\\\\\n\t James       &  38\\\\\n\t James       &  41\\\\\n\t Wyatt       &  42\\\\\n\t James       &  36\\\\\n\t William     &  32\\\\\n\t Liam        &  41\\\\\n\\end{tabular}\n",
            "text/markdown": "\nA tibble: 10506 x 2\n\n| Top Name &lt;chr&gt; | Occurences &lt;dbl&gt; |\n|---|---|\n| Mary | 14 |\n| Mary | 12 |\n| Mary |  9 |\n| Mary | 21 |\n| Mary | 22 |\n| Mary | 23 |\n| Mary | 18 |\n| Mary | 21 |\n| Mary | 27 |\n| Mary | 22 |\n| Mary | 38 |\n| Mary | 36 |\n| Mary | 29 |\n| Mary | 26 |\n| Mary | 41 |\n| Mary | 24 |\n| Mary | 39 |\n| Mary | 30 |\n| Mary | 27 |\n| Mary | 25 |\n| Mary | 35 |\n| Mary | 41 |\n| Mary | 26 |\n| Mary | 25 |\n| Mary | 31 |\n| Mary | 29 |\n| Mary | 33 |\n| Mary | 41 |\n| Mary | 37 |\n| Mary | 28 |\n| ... | ... |\n| Michael     | 171 |\n| Michael     | 144 |\n| Christopher | 142 |\n| Christopher | 125 |\n| Michael     |  94 |\n| Michael     |  99 |\n| Michael     | 102 |\n| Michael     |  83 |\n| Michael     |  85 |\n| Michael     |  74 |\n| Tyler       |  90 |\n| Austin      |  71 |\n| Joshua      |  62 |\n| Tyler       |  68 |\n| Jacob       |  55 |\n| Austin      |  55 |\n| Michael     |  52 |\n| Jacob       |  49 |\n| Jacob       |  44 |\n| Ethan       |  52 |\n| Jacob       |  47 |\n| Michael     |  34 |\n| Jacob       |  41 |\n| Ethan       |  44 |\n| James       |  38 |\n| James       |  41 |\n| Wyatt       |  42 |\n| James       |  36 |\n| William     |  32 |\n| Liam        |  41 |\n\n",
            "text/html": "<table>\n<caption>A tibble: 10506 x 2</caption>\n<thead>\n\t<tr><th scope=col>Top Name</th><th scope=col>Occurences</th></tr>\n\t<tr><th scope=col>&lt;chr&gt;</th><th scope=col>&lt;dbl&gt;</th></tr>\n</thead>\n<tbody>\n\t<tr><td>Mary</td><td>14</td></tr>\n\t<tr><td>Mary</td><td>12</td></tr>\n\t<tr><td>Mary</td><td> 9</td></tr>\n\t<tr><td>Mary</td><td>21</td></tr>\n\t<tr><td>Mary</td><td>22</td></tr>\n\t<tr><td>Mary</td><td>23</td></tr>\n\t<tr><td>Mary</td><td>18</td></tr>\n\t<tr><td>Mary</td><td>21</td></tr>\n\t<tr><td>Mary</td><td>27</td></tr>\n\t<tr><td>Mary</td><td>22</td></tr>\n\t<tr><td>Mary</td><td>38</td></tr>\n\t<tr><td>Mary</td><td>36</td></tr>\n\t<tr><td>Mary</td><td>29</td></tr>\n\t<tr><td>Mary</td><td>26</td></tr>\n\t<tr><td>Mary</td><td>41</td></tr>\n\t<tr><td>Mary</td><td>24</td></tr>\n\t<tr><td>Mary</td><td>39</td></tr>\n\t<tr><td>Mary</td><td>30</td></tr>\n\t<tr><td>Mary</td><td>27</td></tr>\n\t<tr><td>Mary</td><td>25</td></tr>\n\t<tr><td>Mary</td><td>35</td></tr>\n\t<tr><td>Mary</td><td>41</td></tr>\n\t<tr><td>Mary</td><td>26</td></tr>\n\t<tr><td>Mary</td><td>25</td></tr>\n\t<tr><td>Mary</td><td>31</td></tr>\n\t<tr><td>Mary</td><td>29</td></tr>\n\t<tr><td>Mary</td><td>33</td></tr>\n\t<tr><td>Mary</td><td>41</td></tr>\n\t<tr><td>Mary</td><td>37</td></tr>\n\t<tr><td>Mary</td><td>28</td></tr>\n\t<tr><td>...</td><td>...</td></tr>\n\t<tr><td>Michael    </td><td>171</td></tr>\n\t<tr><td>Michael    </td><td>144</td></tr>\n\t<tr><td>Christopher</td><td>142</td></tr>\n\t<tr><td>Christopher</td><td>125</td></tr>\n\t<tr><td>Michael    </td><td> 94</td></tr>\n\t<tr><td>Michael    </td><td> 99</td></tr>\n\t<tr><td>Michael    </td><td>102</td></tr>\n\t<tr><td>Michael    </td><td> 83</td></tr>\n\t<tr><td>Michael    </td><td> 85</td></tr>\n\t<tr><td>Michael    </td><td> 74</td></tr>\n\t<tr><td>Tyler      </td><td> 90</td></tr>\n\t<tr><td>Austin     </td><td> 71</td></tr>\n\t<tr><td>Joshua     </td><td> 62</td></tr>\n\t<tr><td>Tyler      </td><td> 68</td></tr>\n\t<tr><td>Jacob      </td><td> 55</td></tr>\n\t<tr><td>Austin     </td><td> 55</td></tr>\n\t<tr><td>Michael    </td><td> 52</td></tr>\n\t<tr><td>Jacob      </td><td> 49</td></tr>\n\t<tr><td>Jacob      </td><td> 44</td></tr>\n\t<tr><td>Ethan      </td><td> 52</td></tr>\n\t<tr><td>Jacob      </td><td> 47</td></tr>\n\t<tr><td>Michael    </td><td> 34</td></tr>\n\t<tr><td>Jacob      </td><td> 41</td></tr>\n\t<tr><td>Ethan      </td><td> 44</td></tr>\n\t<tr><td>James      </td><td> 38</td></tr>\n\t<tr><td>James      </td><td> 41</td></tr>\n\t<tr><td>Wyatt      </td><td> 42</td></tr>\n\t<tr><td>James      </td><td> 36</td></tr>\n\t<tr><td>William    </td><td> 32</td></tr>\n\t<tr><td>Liam       </td><td> 41</td></tr>\n</tbody>\n</table>\n"
          },
          "metadata": {}
        }
      ]
    },
    {
      "metadata": {
        "trusted": true
      },
      "cell_type": "markdown",
      "source": "\n### Connecting and reading SQL Database"
    },
    {
      "metadata": {
        "trusted": true
      },
      "cell_type": "code",
      "source": "",
      "execution_count": null,
      "outputs": []
    },
    {
      "metadata": {
        "trusted": true
      },
      "cell_type": "code",
      "source": "",
      "execution_count": null,
      "outputs": []
    }
  ],
  "metadata": {
    "kernelspec": {
      "name": "r",
      "display_name": "R",
      "language": "R"
    },
    "language_info": {
      "mimetype": "text/x-r-source",
      "name": "R",
      "pygments_lexer": "r",
      "version": "3.5.3",
      "file_extension": ".r",
      "codemirror_mode": "r"
    }
  },
  "nbformat": 4,
  "nbformat_minor": 2
}