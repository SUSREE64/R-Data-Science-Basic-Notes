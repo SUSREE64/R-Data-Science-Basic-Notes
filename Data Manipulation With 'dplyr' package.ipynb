{
  "cells": [
    {
      "metadata": {
        "collapsed": true
      },
      "cell_type": "markdown",
      "source": "<center>\n     <h1> Data Manipulation with dplyr  on  mtcars data set</h1>\n</center>    "
    },
    {
      "metadata": {
        "trusted": true
      },
      "cell_type": "code",
      "source": "# load the library\nlibrary(dplyr) # Ignore the warning messaes below as this just indicates that the dplyr function are over taking the base functions ",
      "execution_count": 2,
      "outputs": []
    },
    {
      "metadata": {
        "trusted": true
      },
      "cell_type": "code",
      "source": "# get metcars data into data frame\ndf <- mtcars",
      "execution_count": 3,
      "outputs": []
    },
    {
      "metadata": {},
      "cell_type": "markdown",
      "source": "###  pipe operator    %>%\n\nThis allows us to avoid writing multiple variable and saves memory. \nactivities in tandem can be piped with this. "
    },
    {
      "metadata": {},
      "cell_type": "markdown",
      "source": "### Selecting few columns from the data set "
    },
    {
      "metadata": {},
      "cell_type": "markdown",
      "source": "### select()"
    },
    {
      "metadata": {
        "trusted": true
      },
      "cell_type": "code",
      "source": "head(select(df, mpg, hp, gear),3)",
      "execution_count": 4,
      "outputs": [
        {
          "output_type": "display_data",
          "data": {
            "text/plain": "              mpg  hp  gear\nMazda RX4     21.0 110 4   \nMazda RX4 Wag 21.0 110 4   \nDatsun 710    22.8  93 4   ",
            "text/latex": "A data.frame: 3 x 3\n\\begin{tabular}{r|lll}\n  & mpg & hp & gear\\\\\n  & <dbl> & <dbl> & <dbl>\\\\\n\\hline\n\tMazda RX4 & 21.0 & 110 & 4\\\\\n\tMazda RX4 Wag & 21.0 & 110 & 4\\\\\n\tDatsun 710 & 22.8 &  93 & 4\\\\\n\\end{tabular}\n",
            "text/markdown": "\nA data.frame: 3 x 3\n\n| <!--/--> | mpg &lt;dbl&gt; | hp &lt;dbl&gt; | gear &lt;dbl&gt; |\n|---|---|---|---|\n| Mazda RX4 | 21.0 | 110 | 4 |\n| Mazda RX4 Wag | 21.0 | 110 | 4 |\n| Datsun 710 | 22.8 |  93 | 4 |\n\n",
            "text/html": "<table>\n<caption>A data.frame: 3 x 3</caption>\n<thead>\n\t<tr><th></th><th scope=col>mpg</th><th scope=col>hp</th><th scope=col>gear</th></tr>\n\t<tr><th></th><th scope=col>&lt;dbl&gt;</th><th scope=col>&lt;dbl&gt;</th><th scope=col>&lt;dbl&gt;</th></tr>\n</thead>\n<tbody>\n\t<tr><th scope=row>Mazda RX4</th><td>21.0</td><td>110</td><td>4</td></tr>\n\t<tr><th scope=row>Mazda RX4 Wag</th><td>21.0</td><td>110</td><td>4</td></tr>\n\t<tr><th scope=row>Datsun 710</th><td>22.8</td><td> 93</td><td>4</td></tr>\n</tbody>\n</table>\n"
          },
          "metadata": {}
        }
      ]
    },
    {
      "metadata": {},
      "cell_type": "markdown",
      "source": "####  Removing some columns with  Select () "
    },
    {
      "metadata": {
        "trusted": true
      },
      "cell_type": "code",
      "source": "head(df %>% select(-c(mpg, wt)))",
      "execution_count": 7,
      "outputs": [
        {
          "output_type": "display_data",
          "data": {
            "text/plain": "                  cyl disp hp  drat qsec  vs am gear carb\nMazda RX4         6   160  110 3.90 16.46 0  1  4    4   \nMazda RX4 Wag     6   160  110 3.90 17.02 0  1  4    4   \nDatsun 710        4   108   93 3.85 18.61 1  1  4    1   \nHornet 4 Drive    6   258  110 3.08 19.44 1  0  3    1   \nHornet Sportabout 8   360  175 3.15 17.02 0  0  3    2   \nValiant           6   225  105 2.76 20.22 1  0  3    1   ",
            "text/latex": "A data.frame: 6 x 9\n\\begin{tabular}{r|lllllllll}\n  & cyl & disp & hp & drat & qsec & vs & am & gear & carb\\\\\n  & <dbl> & <dbl> & <dbl> & <dbl> & <dbl> & <dbl> & <dbl> & <dbl> & <dbl>\\\\\n\\hline\n\tMazda RX4 & 6 & 160 & 110 & 3.90 & 16.46 & 0 & 1 & 4 & 4\\\\\n\tMazda RX4 Wag & 6 & 160 & 110 & 3.90 & 17.02 & 0 & 1 & 4 & 4\\\\\n\tDatsun 710 & 4 & 108 &  93 & 3.85 & 18.61 & 1 & 1 & 4 & 1\\\\\n\tHornet 4 Drive & 6 & 258 & 110 & 3.08 & 19.44 & 1 & 0 & 3 & 1\\\\\n\tHornet Sportabout & 8 & 360 & 175 & 3.15 & 17.02 & 0 & 0 & 3 & 2\\\\\n\tValiant & 6 & 225 & 105 & 2.76 & 20.22 & 1 & 0 & 3 & 1\\\\\n\\end{tabular}\n",
            "text/markdown": "\nA data.frame: 6 x 9\n\n| <!--/--> | cyl &lt;dbl&gt; | disp &lt;dbl&gt; | hp &lt;dbl&gt; | drat &lt;dbl&gt; | qsec &lt;dbl&gt; | vs &lt;dbl&gt; | am &lt;dbl&gt; | gear &lt;dbl&gt; | carb &lt;dbl&gt; |\n|---|---|---|---|---|---|---|---|---|---|\n| Mazda RX4 | 6 | 160 | 110 | 3.90 | 16.46 | 0 | 1 | 4 | 4 |\n| Mazda RX4 Wag | 6 | 160 | 110 | 3.90 | 17.02 | 0 | 1 | 4 | 4 |\n| Datsun 710 | 4 | 108 |  93 | 3.85 | 18.61 | 1 | 1 | 4 | 1 |\n| Hornet 4 Drive | 6 | 258 | 110 | 3.08 | 19.44 | 1 | 0 | 3 | 1 |\n| Hornet Sportabout | 8 | 360 | 175 | 3.15 | 17.02 | 0 | 0 | 3 | 2 |\n| Valiant | 6 | 225 | 105 | 2.76 | 20.22 | 1 | 0 | 3 | 1 |\n\n",
            "text/html": "<table>\n<caption>A data.frame: 6 x 9</caption>\n<thead>\n\t<tr><th></th><th scope=col>cyl</th><th scope=col>disp</th><th scope=col>hp</th><th scope=col>drat</th><th scope=col>qsec</th><th scope=col>vs</th><th scope=col>am</th><th scope=col>gear</th><th scope=col>carb</th></tr>\n\t<tr><th></th><th scope=col>&lt;dbl&gt;</th><th scope=col>&lt;dbl&gt;</th><th scope=col>&lt;dbl&gt;</th><th scope=col>&lt;dbl&gt;</th><th scope=col>&lt;dbl&gt;</th><th scope=col>&lt;dbl&gt;</th><th scope=col>&lt;dbl&gt;</th><th scope=col>&lt;dbl&gt;</th><th scope=col>&lt;dbl&gt;</th></tr>\n</thead>\n<tbody>\n\t<tr><th scope=row>Mazda RX4</th><td>6</td><td>160</td><td>110</td><td>3.90</td><td>16.46</td><td>0</td><td>1</td><td>4</td><td>4</td></tr>\n\t<tr><th scope=row>Mazda RX4 Wag</th><td>6</td><td>160</td><td>110</td><td>3.90</td><td>17.02</td><td>0</td><td>1</td><td>4</td><td>4</td></tr>\n\t<tr><th scope=row>Datsun 710</th><td>4</td><td>108</td><td> 93</td><td>3.85</td><td>18.61</td><td>1</td><td>1</td><td>4</td><td>1</td></tr>\n\t<tr><th scope=row>Hornet 4 Drive</th><td>6</td><td>258</td><td>110</td><td>3.08</td><td>19.44</td><td>1</td><td>0</td><td>3</td><td>1</td></tr>\n\t<tr><th scope=row>Hornet Sportabout</th><td>8</td><td>360</td><td>175</td><td>3.15</td><td>17.02</td><td>0</td><td>0</td><td>3</td><td>2</td></tr>\n\t<tr><th scope=row>Valiant</th><td>6</td><td>225</td><td>105</td><td>2.76</td><td>20.22</td><td>1</td><td>0</td><td>3</td><td>1</td></tr>\n</tbody>\n</table>\n"
          },
          "metadata": {}
        }
      ]
    },
    {
      "metadata": {},
      "cell_type": "markdown",
      "source": "### Filtering the data set on conditions"
    },
    {
      "metadata": {},
      "cell_type": "markdown",
      "source": "### filter()"
    },
    {
      "metadata": {
        "trusted": true
      },
      "cell_type": "code",
      "source": "# From the above selected columns let us filter the data where gears are more than 3\n# observe here we are using the pipe operator\nhead(select(df, mpg, hp, gear) %>% filter(gear>3))",
      "execution_count": 81,
      "outputs": [
        {
          "output_type": "display_data",
          "data": {
            "text/plain": "  mpg  hp  gear\n1 21.0 110 4   \n2 21.0 110 4   \n3 22.8  93 4   \n4 24.4  62 4   \n5 22.8  95 4   \n6 19.2 123 4   ",
            "text/latex": "A data.frame: 6 x 3\n\\begin{tabular}{r|lll}\n mpg & hp & gear\\\\\n <dbl> & <dbl> & <dbl>\\\\\n\\hline\n\t 21.0 & 110 & 4\\\\\n\t 21.0 & 110 & 4\\\\\n\t 22.8 &  93 & 4\\\\\n\t 24.4 &  62 & 4\\\\\n\t 22.8 &  95 & 4\\\\\n\t 19.2 & 123 & 4\\\\\n\\end{tabular}\n",
            "text/markdown": "\nA data.frame: 6 x 3\n\n| mpg &lt;dbl&gt; | hp &lt;dbl&gt; | gear &lt;dbl&gt; |\n|---|---|---|\n| 21.0 | 110 | 4 |\n| 21.0 | 110 | 4 |\n| 22.8 |  93 | 4 |\n| 24.4 |  62 | 4 |\n| 22.8 |  95 | 4 |\n| 19.2 | 123 | 4 |\n\n",
            "text/html": "<table>\n<caption>A data.frame: 6 x 3</caption>\n<thead>\n\t<tr><th scope=col>mpg</th><th scope=col>hp</th><th scope=col>gear</th></tr>\n\t<tr><th scope=col>&lt;dbl&gt;</th><th scope=col>&lt;dbl&gt;</th><th scope=col>&lt;dbl&gt;</th></tr>\n</thead>\n<tbody>\n\t<tr><td>21.0</td><td>110</td><td>4</td></tr>\n\t<tr><td>21.0</td><td>110</td><td>4</td></tr>\n\t<tr><td>22.8</td><td> 93</td><td>4</td></tr>\n\t<tr><td>24.4</td><td> 62</td><td>4</td></tr>\n\t<tr><td>22.8</td><td> 95</td><td>4</td></tr>\n\t<tr><td>19.2</td><td>123</td><td>4</td></tr>\n</tbody>\n</table>\n"
          },
          "metadata": {}
        }
      ]
    },
    {
      "metadata": {
        "trusted": true
      },
      "cell_type": "code",
      "source": "# Another example \n# get a subset of data where gears > 3 with \n# note I am using head function to litmit the space of  cell\nhead(df %>% filter(gear >3))",
      "execution_count": 82,
      "outputs": [
        {
          "output_type": "display_data",
          "data": {
            "text/plain": "  mpg  cyl disp  hp  drat wt    qsec  vs am gear carb\n1 21.0 6   160.0 110 3.90 2.620 16.46 0  1  4    4   \n2 21.0 6   160.0 110 3.90 2.875 17.02 0  1  4    4   \n3 22.8 4   108.0  93 3.85 2.320 18.61 1  1  4    1   \n4 24.4 4   146.7  62 3.69 3.190 20.00 1  0  4    2   \n5 22.8 4   140.8  95 3.92 3.150 22.90 1  0  4    2   \n6 19.2 6   167.6 123 3.92 3.440 18.30 1  0  4    4   ",
            "text/latex": "A data.frame: 6 x 11\n\\begin{tabular}{r|lllllllllll}\n mpg & cyl & disp & hp & drat & wt & qsec & vs & am & gear & carb\\\\\n <dbl> & <dbl> & <dbl> & <dbl> & <dbl> & <dbl> & <dbl> & <dbl> & <dbl> & <dbl> & <dbl>\\\\\n\\hline\n\t 21.0 & 6 & 160.0 & 110 & 3.90 & 2.620 & 16.46 & 0 & 1 & 4 & 4\\\\\n\t 21.0 & 6 & 160.0 & 110 & 3.90 & 2.875 & 17.02 & 0 & 1 & 4 & 4\\\\\n\t 22.8 & 4 & 108.0 &  93 & 3.85 & 2.320 & 18.61 & 1 & 1 & 4 & 1\\\\\n\t 24.4 & 4 & 146.7 &  62 & 3.69 & 3.190 & 20.00 & 1 & 0 & 4 & 2\\\\\n\t 22.8 & 4 & 140.8 &  95 & 3.92 & 3.150 & 22.90 & 1 & 0 & 4 & 2\\\\\n\t 19.2 & 6 & 167.6 & 123 & 3.92 & 3.440 & 18.30 & 1 & 0 & 4 & 4\\\\\n\\end{tabular}\n",
            "text/markdown": "\nA data.frame: 6 x 11\n\n| mpg &lt;dbl&gt; | cyl &lt;dbl&gt; | disp &lt;dbl&gt; | hp &lt;dbl&gt; | drat &lt;dbl&gt; | wt &lt;dbl&gt; | qsec &lt;dbl&gt; | vs &lt;dbl&gt; | am &lt;dbl&gt; | gear &lt;dbl&gt; | carb &lt;dbl&gt; |\n|---|---|---|---|---|---|---|---|---|---|---|\n| 21.0 | 6 | 160.0 | 110 | 3.90 | 2.620 | 16.46 | 0 | 1 | 4 | 4 |\n| 21.0 | 6 | 160.0 | 110 | 3.90 | 2.875 | 17.02 | 0 | 1 | 4 | 4 |\n| 22.8 | 4 | 108.0 |  93 | 3.85 | 2.320 | 18.61 | 1 | 1 | 4 | 1 |\n| 24.4 | 4 | 146.7 |  62 | 3.69 | 3.190 | 20.00 | 1 | 0 | 4 | 2 |\n| 22.8 | 4 | 140.8 |  95 | 3.92 | 3.150 | 22.90 | 1 | 0 | 4 | 2 |\n| 19.2 | 6 | 167.6 | 123 | 3.92 | 3.440 | 18.30 | 1 | 0 | 4 | 4 |\n\n",
            "text/html": "<table>\n<caption>A data.frame: 6 x 11</caption>\n<thead>\n\t<tr><th scope=col>mpg</th><th scope=col>cyl</th><th scope=col>disp</th><th scope=col>hp</th><th scope=col>drat</th><th scope=col>wt</th><th scope=col>qsec</th><th scope=col>vs</th><th scope=col>am</th><th scope=col>gear</th><th scope=col>carb</th></tr>\n\t<tr><th scope=col>&lt;dbl&gt;</th><th scope=col>&lt;dbl&gt;</th><th scope=col>&lt;dbl&gt;</th><th scope=col>&lt;dbl&gt;</th><th scope=col>&lt;dbl&gt;</th><th scope=col>&lt;dbl&gt;</th><th scope=col>&lt;dbl&gt;</th><th scope=col>&lt;dbl&gt;</th><th scope=col>&lt;dbl&gt;</th><th scope=col>&lt;dbl&gt;</th><th scope=col>&lt;dbl&gt;</th></tr>\n</thead>\n<tbody>\n\t<tr><td>21.0</td><td>6</td><td>160.0</td><td>110</td><td>3.90</td><td>2.620</td><td>16.46</td><td>0</td><td>1</td><td>4</td><td>4</td></tr>\n\t<tr><td>21.0</td><td>6</td><td>160.0</td><td>110</td><td>3.90</td><td>2.875</td><td>17.02</td><td>0</td><td>1</td><td>4</td><td>4</td></tr>\n\t<tr><td>22.8</td><td>4</td><td>108.0</td><td> 93</td><td>3.85</td><td>2.320</td><td>18.61</td><td>1</td><td>1</td><td>4</td><td>1</td></tr>\n\t<tr><td>24.4</td><td>4</td><td>146.7</td><td> 62</td><td>3.69</td><td>3.190</td><td>20.00</td><td>1</td><td>0</td><td>4</td><td>2</td></tr>\n\t<tr><td>22.8</td><td>4</td><td>140.8</td><td> 95</td><td>3.92</td><td>3.150</td><td>22.90</td><td>1</td><td>0</td><td>4</td><td>2</td></tr>\n\t<tr><td>19.2</td><td>6</td><td>167.6</td><td>123</td><td>3.92</td><td>3.440</td><td>18.30</td><td>1</td><td>0</td><td>4</td><td>4</td></tr>\n</tbody>\n</table>\n"
          },
          "metadata": {}
        }
      ]
    },
    {
      "metadata": {},
      "cell_type": "markdown",
      "source": "#### rename()\n"
    },
    {
      "metadata": {
        "trusted": true
      },
      "cell_type": "code",
      "source": "# rename() allows us to rename the column names \n# example if we want to rename the column mpg to milage and hp to power\n# notice the new col names are to give in the beginning \n# the result is a dataframe unless it is re assigned to df, the df original col names remain same\nhead(df %>% rename(milage = mpg, power = hp))",
      "execution_count": 83,
      "outputs": [
        {
          "output_type": "display_data",
          "data": {
            "text/plain": "                  milage cyl disp power drat wt    qsec  vs am gear carb\nMazda RX4         21.0   6   160  110   3.90 2.620 16.46 0  1  4    4   \nMazda RX4 Wag     21.0   6   160  110   3.90 2.875 17.02 0  1  4    4   \nDatsun 710        22.8   4   108   93   3.85 2.320 18.61 1  1  4    1   \nHornet 4 Drive    21.4   6   258  110   3.08 3.215 19.44 1  0  3    1   \nHornet Sportabout 18.7   8   360  175   3.15 3.440 17.02 0  0  3    2   \nValiant           18.1   6   225  105   2.76 3.460 20.22 1  0  3    1   ",
            "text/latex": "A data.frame: 6 x 11\n\\begin{tabular}{r|lllllllllll}\n  & milage & cyl & disp & power & drat & wt & qsec & vs & am & gear & carb\\\\\n  & <dbl> & <dbl> & <dbl> & <dbl> & <dbl> & <dbl> & <dbl> & <dbl> & <dbl> & <dbl> & <dbl>\\\\\n\\hline\n\tMazda RX4 & 21.0 & 6 & 160 & 110 & 3.90 & 2.620 & 16.46 & 0 & 1 & 4 & 4\\\\\n\tMazda RX4 Wag & 21.0 & 6 & 160 & 110 & 3.90 & 2.875 & 17.02 & 0 & 1 & 4 & 4\\\\\n\tDatsun 710 & 22.8 & 4 & 108 &  93 & 3.85 & 2.320 & 18.61 & 1 & 1 & 4 & 1\\\\\n\tHornet 4 Drive & 21.4 & 6 & 258 & 110 & 3.08 & 3.215 & 19.44 & 1 & 0 & 3 & 1\\\\\n\tHornet Sportabout & 18.7 & 8 & 360 & 175 & 3.15 & 3.440 & 17.02 & 0 & 0 & 3 & 2\\\\\n\tValiant & 18.1 & 6 & 225 & 105 & 2.76 & 3.460 & 20.22 & 1 & 0 & 3 & 1\\\\\n\\end{tabular}\n",
            "text/markdown": "\nA data.frame: 6 x 11\n\n| <!--/--> | milage &lt;dbl&gt; | cyl &lt;dbl&gt; | disp &lt;dbl&gt; | power &lt;dbl&gt; | drat &lt;dbl&gt; | wt &lt;dbl&gt; | qsec &lt;dbl&gt; | vs &lt;dbl&gt; | am &lt;dbl&gt; | gear &lt;dbl&gt; | carb &lt;dbl&gt; |\n|---|---|---|---|---|---|---|---|---|---|---|---|\n| Mazda RX4 | 21.0 | 6 | 160 | 110 | 3.90 | 2.620 | 16.46 | 0 | 1 | 4 | 4 |\n| Mazda RX4 Wag | 21.0 | 6 | 160 | 110 | 3.90 | 2.875 | 17.02 | 0 | 1 | 4 | 4 |\n| Datsun 710 | 22.8 | 4 | 108 |  93 | 3.85 | 2.320 | 18.61 | 1 | 1 | 4 | 1 |\n| Hornet 4 Drive | 21.4 | 6 | 258 | 110 | 3.08 | 3.215 | 19.44 | 1 | 0 | 3 | 1 |\n| Hornet Sportabout | 18.7 | 8 | 360 | 175 | 3.15 | 3.440 | 17.02 | 0 | 0 | 3 | 2 |\n| Valiant | 18.1 | 6 | 225 | 105 | 2.76 | 3.460 | 20.22 | 1 | 0 | 3 | 1 |\n\n",
            "text/html": "<table>\n<caption>A data.frame: 6 x 11</caption>\n<thead>\n\t<tr><th></th><th scope=col>milage</th><th scope=col>cyl</th><th scope=col>disp</th><th scope=col>power</th><th scope=col>drat</th><th scope=col>wt</th><th scope=col>qsec</th><th scope=col>vs</th><th scope=col>am</th><th scope=col>gear</th><th scope=col>carb</th></tr>\n\t<tr><th></th><th scope=col>&lt;dbl&gt;</th><th scope=col>&lt;dbl&gt;</th><th scope=col>&lt;dbl&gt;</th><th scope=col>&lt;dbl&gt;</th><th scope=col>&lt;dbl&gt;</th><th scope=col>&lt;dbl&gt;</th><th scope=col>&lt;dbl&gt;</th><th scope=col>&lt;dbl&gt;</th><th scope=col>&lt;dbl&gt;</th><th scope=col>&lt;dbl&gt;</th><th scope=col>&lt;dbl&gt;</th></tr>\n</thead>\n<tbody>\n\t<tr><th scope=row>Mazda RX4</th><td>21.0</td><td>6</td><td>160</td><td>110</td><td>3.90</td><td>2.620</td><td>16.46</td><td>0</td><td>1</td><td>4</td><td>4</td></tr>\n\t<tr><th scope=row>Mazda RX4 Wag</th><td>21.0</td><td>6</td><td>160</td><td>110</td><td>3.90</td><td>2.875</td><td>17.02</td><td>0</td><td>1</td><td>4</td><td>4</td></tr>\n\t<tr><th scope=row>Datsun 710</th><td>22.8</td><td>4</td><td>108</td><td> 93</td><td>3.85</td><td>2.320</td><td>18.61</td><td>1</td><td>1</td><td>4</td><td>1</td></tr>\n\t<tr><th scope=row>Hornet 4 Drive</th><td>21.4</td><td>6</td><td>258</td><td>110</td><td>3.08</td><td>3.215</td><td>19.44</td><td>1</td><td>0</td><td>3</td><td>1</td></tr>\n\t<tr><th scope=row>Hornet Sportabout</th><td>18.7</td><td>8</td><td>360</td><td>175</td><td>3.15</td><td>3.440</td><td>17.02</td><td>0</td><td>0</td><td>3</td><td>2</td></tr>\n\t<tr><th scope=row>Valiant</th><td>18.1</td><td>6</td><td>225</td><td>105</td><td>2.76</td><td>3.460</td><td>20.22</td><td>1</td><td>0</td><td>3</td><td>1</td></tr>\n</tbody>\n</table>\n"
          },
          "metadata": {}
        }
      ]
    },
    {
      "metadata": {},
      "cell_type": "markdown",
      "source": "#### arrange()"
    },
    {
      "metadata": {
        "trusted": true
      },
      "cell_type": "code",
      "source": "# arrange allows to order the data ascending or descending order\nhead(df %>% arrange(mpg, desc(disp))) # here desc(disp) means descending order of disp",
      "execution_count": 84,
      "outputs": [
        {
          "output_type": "display_data",
          "data": {
            "text/plain": "  mpg  cyl disp hp  drat wt    qsec  vs am gear carb\n1 10.4 8   472  205 2.93 5.250 17.98 0  0  3    4   \n2 10.4 8   460  215 3.00 5.424 17.82 0  0  3    4   \n3 13.3 8   350  245 3.73 3.840 15.41 0  0  3    4   \n4 14.3 8   360  245 3.21 3.570 15.84 0  0  3    4   \n5 14.7 8   440  230 3.23 5.345 17.42 0  0  3    4   \n6 15.0 8   301  335 3.54 3.570 14.60 0  1  5    8   ",
            "text/latex": "A data.frame: 6 x 11\n\\begin{tabular}{r|lllllllllll}\n mpg & cyl & disp & hp & drat & wt & qsec & vs & am & gear & carb\\\\\n <dbl> & <dbl> & <dbl> & <dbl> & <dbl> & <dbl> & <dbl> & <dbl> & <dbl> & <dbl> & <dbl>\\\\\n\\hline\n\t 10.4 & 8 & 472 & 205 & 2.93 & 5.250 & 17.98 & 0 & 0 & 3 & 4\\\\\n\t 10.4 & 8 & 460 & 215 & 3.00 & 5.424 & 17.82 & 0 & 0 & 3 & 4\\\\\n\t 13.3 & 8 & 350 & 245 & 3.73 & 3.840 & 15.41 & 0 & 0 & 3 & 4\\\\\n\t 14.3 & 8 & 360 & 245 & 3.21 & 3.570 & 15.84 & 0 & 0 & 3 & 4\\\\\n\t 14.7 & 8 & 440 & 230 & 3.23 & 5.345 & 17.42 & 0 & 0 & 3 & 4\\\\\n\t 15.0 & 8 & 301 & 335 & 3.54 & 3.570 & 14.60 & 0 & 1 & 5 & 8\\\\\n\\end{tabular}\n",
            "text/markdown": "\nA data.frame: 6 x 11\n\n| mpg &lt;dbl&gt; | cyl &lt;dbl&gt; | disp &lt;dbl&gt; | hp &lt;dbl&gt; | drat &lt;dbl&gt; | wt &lt;dbl&gt; | qsec &lt;dbl&gt; | vs &lt;dbl&gt; | am &lt;dbl&gt; | gear &lt;dbl&gt; | carb &lt;dbl&gt; |\n|---|---|---|---|---|---|---|---|---|---|---|\n| 10.4 | 8 | 472 | 205 | 2.93 | 5.250 | 17.98 | 0 | 0 | 3 | 4 |\n| 10.4 | 8 | 460 | 215 | 3.00 | 5.424 | 17.82 | 0 | 0 | 3 | 4 |\n| 13.3 | 8 | 350 | 245 | 3.73 | 3.840 | 15.41 | 0 | 0 | 3 | 4 |\n| 14.3 | 8 | 360 | 245 | 3.21 | 3.570 | 15.84 | 0 | 0 | 3 | 4 |\n| 14.7 | 8 | 440 | 230 | 3.23 | 5.345 | 17.42 | 0 | 0 | 3 | 4 |\n| 15.0 | 8 | 301 | 335 | 3.54 | 3.570 | 14.60 | 0 | 1 | 5 | 8 |\n\n",
            "text/html": "<table>\n<caption>A data.frame: 6 x 11</caption>\n<thead>\n\t<tr><th scope=col>mpg</th><th scope=col>cyl</th><th scope=col>disp</th><th scope=col>hp</th><th scope=col>drat</th><th scope=col>wt</th><th scope=col>qsec</th><th scope=col>vs</th><th scope=col>am</th><th scope=col>gear</th><th scope=col>carb</th></tr>\n\t<tr><th scope=col>&lt;dbl&gt;</th><th scope=col>&lt;dbl&gt;</th><th scope=col>&lt;dbl&gt;</th><th scope=col>&lt;dbl&gt;</th><th scope=col>&lt;dbl&gt;</th><th scope=col>&lt;dbl&gt;</th><th scope=col>&lt;dbl&gt;</th><th scope=col>&lt;dbl&gt;</th><th scope=col>&lt;dbl&gt;</th><th scope=col>&lt;dbl&gt;</th><th scope=col>&lt;dbl&gt;</th></tr>\n</thead>\n<tbody>\n\t<tr><td>10.4</td><td>8</td><td>472</td><td>205</td><td>2.93</td><td>5.250</td><td>17.98</td><td>0</td><td>0</td><td>3</td><td>4</td></tr>\n\t<tr><td>10.4</td><td>8</td><td>460</td><td>215</td><td>3.00</td><td>5.424</td><td>17.82</td><td>0</td><td>0</td><td>3</td><td>4</td></tr>\n\t<tr><td>13.3</td><td>8</td><td>350</td><td>245</td><td>3.73</td><td>3.840</td><td>15.41</td><td>0</td><td>0</td><td>3</td><td>4</td></tr>\n\t<tr><td>14.3</td><td>8</td><td>360</td><td>245</td><td>3.21</td><td>3.570</td><td>15.84</td><td>0</td><td>0</td><td>3</td><td>4</td></tr>\n\t<tr><td>14.7</td><td>8</td><td>440</td><td>230</td><td>3.23</td><td>5.345</td><td>17.42</td><td>0</td><td>0</td><td>3</td><td>4</td></tr>\n\t<tr><td>15.0</td><td>8</td><td>301</td><td>335</td><td>3.54</td><td>3.570</td><td>14.60</td><td>0</td><td>1</td><td>5</td><td>8</td></tr>\n</tbody>\n</table>\n"
          },
          "metadata": {}
        }
      ]
    },
    {
      "metadata": {
        "trusted": true
      },
      "cell_type": "code",
      "source": "head(df %>% arrange(mpg, cyl)) ",
      "execution_count": 85,
      "outputs": [
        {
          "output_type": "display_data",
          "data": {
            "text/plain": "  mpg  cyl disp hp  drat wt    qsec  vs am gear carb\n1 10.4 8   472  205 2.93 5.250 17.98 0  0  3    4   \n2 10.4 8   460  215 3.00 5.424 17.82 0  0  3    4   \n3 13.3 8   350  245 3.73 3.840 15.41 0  0  3    4   \n4 14.3 8   360  245 3.21 3.570 15.84 0  0  3    4   \n5 14.7 8   440  230 3.23 5.345 17.42 0  0  3    4   \n6 15.0 8   301  335 3.54 3.570 14.60 0  1  5    8   ",
            "text/latex": "A data.frame: 6 x 11\n\\begin{tabular}{r|lllllllllll}\n mpg & cyl & disp & hp & drat & wt & qsec & vs & am & gear & carb\\\\\n <dbl> & <dbl> & <dbl> & <dbl> & <dbl> & <dbl> & <dbl> & <dbl> & <dbl> & <dbl> & <dbl>\\\\\n\\hline\n\t 10.4 & 8 & 472 & 205 & 2.93 & 5.250 & 17.98 & 0 & 0 & 3 & 4\\\\\n\t 10.4 & 8 & 460 & 215 & 3.00 & 5.424 & 17.82 & 0 & 0 & 3 & 4\\\\\n\t 13.3 & 8 & 350 & 245 & 3.73 & 3.840 & 15.41 & 0 & 0 & 3 & 4\\\\\n\t 14.3 & 8 & 360 & 245 & 3.21 & 3.570 & 15.84 & 0 & 0 & 3 & 4\\\\\n\t 14.7 & 8 & 440 & 230 & 3.23 & 5.345 & 17.42 & 0 & 0 & 3 & 4\\\\\n\t 15.0 & 8 & 301 & 335 & 3.54 & 3.570 & 14.60 & 0 & 1 & 5 & 8\\\\\n\\end{tabular}\n",
            "text/markdown": "\nA data.frame: 6 x 11\n\n| mpg &lt;dbl&gt; | cyl &lt;dbl&gt; | disp &lt;dbl&gt; | hp &lt;dbl&gt; | drat &lt;dbl&gt; | wt &lt;dbl&gt; | qsec &lt;dbl&gt; | vs &lt;dbl&gt; | am &lt;dbl&gt; | gear &lt;dbl&gt; | carb &lt;dbl&gt; |\n|---|---|---|---|---|---|---|---|---|---|---|\n| 10.4 | 8 | 472 | 205 | 2.93 | 5.250 | 17.98 | 0 | 0 | 3 | 4 |\n| 10.4 | 8 | 460 | 215 | 3.00 | 5.424 | 17.82 | 0 | 0 | 3 | 4 |\n| 13.3 | 8 | 350 | 245 | 3.73 | 3.840 | 15.41 | 0 | 0 | 3 | 4 |\n| 14.3 | 8 | 360 | 245 | 3.21 | 3.570 | 15.84 | 0 | 0 | 3 | 4 |\n| 14.7 | 8 | 440 | 230 | 3.23 | 5.345 | 17.42 | 0 | 0 | 3 | 4 |\n| 15.0 | 8 | 301 | 335 | 3.54 | 3.570 | 14.60 | 0 | 1 | 5 | 8 |\n\n",
            "text/html": "<table>\n<caption>A data.frame: 6 x 11</caption>\n<thead>\n\t<tr><th scope=col>mpg</th><th scope=col>cyl</th><th scope=col>disp</th><th scope=col>hp</th><th scope=col>drat</th><th scope=col>wt</th><th scope=col>qsec</th><th scope=col>vs</th><th scope=col>am</th><th scope=col>gear</th><th scope=col>carb</th></tr>\n\t<tr><th scope=col>&lt;dbl&gt;</th><th scope=col>&lt;dbl&gt;</th><th scope=col>&lt;dbl&gt;</th><th scope=col>&lt;dbl&gt;</th><th scope=col>&lt;dbl&gt;</th><th scope=col>&lt;dbl&gt;</th><th scope=col>&lt;dbl&gt;</th><th scope=col>&lt;dbl&gt;</th><th scope=col>&lt;dbl&gt;</th><th scope=col>&lt;dbl&gt;</th><th scope=col>&lt;dbl&gt;</th></tr>\n</thead>\n<tbody>\n\t<tr><td>10.4</td><td>8</td><td>472</td><td>205</td><td>2.93</td><td>5.250</td><td>17.98</td><td>0</td><td>0</td><td>3</td><td>4</td></tr>\n\t<tr><td>10.4</td><td>8</td><td>460</td><td>215</td><td>3.00</td><td>5.424</td><td>17.82</td><td>0</td><td>0</td><td>3</td><td>4</td></tr>\n\t<tr><td>13.3</td><td>8</td><td>350</td><td>245</td><td>3.73</td><td>3.840</td><td>15.41</td><td>0</td><td>0</td><td>3</td><td>4</td></tr>\n\t<tr><td>14.3</td><td>8</td><td>360</td><td>245</td><td>3.21</td><td>3.570</td><td>15.84</td><td>0</td><td>0</td><td>3</td><td>4</td></tr>\n\t<tr><td>14.7</td><td>8</td><td>440</td><td>230</td><td>3.23</td><td>5.345</td><td>17.42</td><td>0</td><td>0</td><td>3</td><td>4</td></tr>\n\t<tr><td>15.0</td><td>8</td><td>301</td><td>335</td><td>3.54</td><td>3.570</td><td>14.60</td><td>0</td><td>1</td><td>5</td><td>8</td></tr>\n</tbody>\n</table>\n"
          },
          "metadata": {}
        }
      ]
    },
    {
      "metadata": {},
      "cell_type": "markdown",
      "source": "#### distinct()"
    },
    {
      "metadata": {
        "trusted": true
      },
      "cell_type": "code",
      "source": "df %>% distinct(cyl) # distinct values of cylinder",
      "execution_count": 86,
      "outputs": [
        {
          "output_type": "display_data",
          "data": {
            "text/plain": "  cyl\n1 6  \n2 4  \n3 8  ",
            "text/latex": "A data.frame: 3 x 1\n\\begin{tabular}{r|l}\n cyl\\\\\n <dbl>\\\\\n\\hline\n\t 6\\\\\n\t 4\\\\\n\t 8\\\\\n\\end{tabular}\n",
            "text/markdown": "\nA data.frame: 3 x 1\n\n| cyl &lt;dbl&gt; |\n|---|\n| 6 |\n| 4 |\n| 8 |\n\n",
            "text/html": "<table>\n<caption>A data.frame: 3 x 1</caption>\n<thead>\n\t<tr><th scope=col>cyl</th></tr>\n\t<tr><th scope=col>&lt;dbl&gt;</th></tr>\n</thead>\n<tbody>\n\t<tr><td>6</td></tr>\n\t<tr><td>4</td></tr>\n\t<tr><td>8</td></tr>\n</tbody>\n</table>\n"
          },
          "metadata": {}
        }
      ]
    },
    {
      "metadata": {},
      "cell_type": "markdown",
      "source": "#### mutate()"
    },
    {
      "metadata": {
        "trusted": true
      },
      "cell_type": "code",
      "source": "# we can add a new column that is result of a function on the exisiting columns wiht mutate\n# suppose we want to add a column  galons for 1000 miles i.e 1000/mpg \n",
      "execution_count": 87,
      "outputs": []
    },
    {
      "metadata": {
        "trusted": true
      },
      "cell_type": "code",
      "source": "head(df %>% mutate(Galons = round(1000/mpg)) %>% arrange(desc(Galons)) , 10) # Galons new column added , arranged in descending order",
      "execution_count": 90,
      "outputs": [
        {
          "output_type": "display_data",
          "data": {
            "text/plain": "   mpg  cyl disp  hp  drat wt    qsec  vs am gear carb Galons\n1  10.4 8   472.0 205 2.93 5.250 17.98 0  0  3    4    96    \n2  10.4 8   460.0 215 3.00 5.424 17.82 0  0  3    4    96    \n3  13.3 8   350.0 245 3.73 3.840 15.41 0  0  3    4    75    \n4  14.3 8   360.0 245 3.21 3.570 15.84 0  0  3    4    70    \n5  14.7 8   440.0 230 3.23 5.345 17.42 0  0  3    4    68    \n6  15.0 8   301.0 335 3.54 3.570 14.60 0  1  5    8    67    \n7  15.2 8   275.8 180 3.07 3.780 18.00 0  0  3    3    66    \n8  15.2 8   304.0 150 3.15 3.435 17.30 0  0  3    2    66    \n9  15.5 8   318.0 150 2.76 3.520 16.87 0  0  3    2    65    \n10 15.8 8   351.0 264 4.22 3.170 14.50 0  1  5    4    63    ",
            "text/latex": "A data.frame: 10 x 12\n\\begin{tabular}{r|llllllllllll}\n mpg & cyl & disp & hp & drat & wt & qsec & vs & am & gear & carb & Galons\\\\\n <dbl> & <dbl> & <dbl> & <dbl> & <dbl> & <dbl> & <dbl> & <dbl> & <dbl> & <dbl> & <dbl> & <dbl>\\\\\n\\hline\n\t 10.4 & 8 & 472.0 & 205 & 2.93 & 5.250 & 17.98 & 0 & 0 & 3 & 4 & 96\\\\\n\t 10.4 & 8 & 460.0 & 215 & 3.00 & 5.424 & 17.82 & 0 & 0 & 3 & 4 & 96\\\\\n\t 13.3 & 8 & 350.0 & 245 & 3.73 & 3.840 & 15.41 & 0 & 0 & 3 & 4 & 75\\\\\n\t 14.3 & 8 & 360.0 & 245 & 3.21 & 3.570 & 15.84 & 0 & 0 & 3 & 4 & 70\\\\\n\t 14.7 & 8 & 440.0 & 230 & 3.23 & 5.345 & 17.42 & 0 & 0 & 3 & 4 & 68\\\\\n\t 15.0 & 8 & 301.0 & 335 & 3.54 & 3.570 & 14.60 & 0 & 1 & 5 & 8 & 67\\\\\n\t 15.2 & 8 & 275.8 & 180 & 3.07 & 3.780 & 18.00 & 0 & 0 & 3 & 3 & 66\\\\\n\t 15.2 & 8 & 304.0 & 150 & 3.15 & 3.435 & 17.30 & 0 & 0 & 3 & 2 & 66\\\\\n\t 15.5 & 8 & 318.0 & 150 & 2.76 & 3.520 & 16.87 & 0 & 0 & 3 & 2 & 65\\\\\n\t 15.8 & 8 & 351.0 & 264 & 4.22 & 3.170 & 14.50 & 0 & 1 & 5 & 4 & 63\\\\\n\\end{tabular}\n",
            "text/markdown": "\nA data.frame: 10 x 12\n\n| mpg &lt;dbl&gt; | cyl &lt;dbl&gt; | disp &lt;dbl&gt; | hp &lt;dbl&gt; | drat &lt;dbl&gt; | wt &lt;dbl&gt; | qsec &lt;dbl&gt; | vs &lt;dbl&gt; | am &lt;dbl&gt; | gear &lt;dbl&gt; | carb &lt;dbl&gt; | Galons &lt;dbl&gt; |\n|---|---|---|---|---|---|---|---|---|---|---|---|\n| 10.4 | 8 | 472.0 | 205 | 2.93 | 5.250 | 17.98 | 0 | 0 | 3 | 4 | 96 |\n| 10.4 | 8 | 460.0 | 215 | 3.00 | 5.424 | 17.82 | 0 | 0 | 3 | 4 | 96 |\n| 13.3 | 8 | 350.0 | 245 | 3.73 | 3.840 | 15.41 | 0 | 0 | 3 | 4 | 75 |\n| 14.3 | 8 | 360.0 | 245 | 3.21 | 3.570 | 15.84 | 0 | 0 | 3 | 4 | 70 |\n| 14.7 | 8 | 440.0 | 230 | 3.23 | 5.345 | 17.42 | 0 | 0 | 3 | 4 | 68 |\n| 15.0 | 8 | 301.0 | 335 | 3.54 | 3.570 | 14.60 | 0 | 1 | 5 | 8 | 67 |\n| 15.2 | 8 | 275.8 | 180 | 3.07 | 3.780 | 18.00 | 0 | 0 | 3 | 3 | 66 |\n| 15.2 | 8 | 304.0 | 150 | 3.15 | 3.435 | 17.30 | 0 | 0 | 3 | 2 | 66 |\n| 15.5 | 8 | 318.0 | 150 | 2.76 | 3.520 | 16.87 | 0 | 0 | 3 | 2 | 65 |\n| 15.8 | 8 | 351.0 | 264 | 4.22 | 3.170 | 14.50 | 0 | 1 | 5 | 4 | 63 |\n\n",
            "text/html": "<table>\n<caption>A data.frame: 10 x 12</caption>\n<thead>\n\t<tr><th scope=col>mpg</th><th scope=col>cyl</th><th scope=col>disp</th><th scope=col>hp</th><th scope=col>drat</th><th scope=col>wt</th><th scope=col>qsec</th><th scope=col>vs</th><th scope=col>am</th><th scope=col>gear</th><th scope=col>carb</th><th scope=col>Galons</th></tr>\n\t<tr><th scope=col>&lt;dbl&gt;</th><th scope=col>&lt;dbl&gt;</th><th scope=col>&lt;dbl&gt;</th><th scope=col>&lt;dbl&gt;</th><th scope=col>&lt;dbl&gt;</th><th scope=col>&lt;dbl&gt;</th><th scope=col>&lt;dbl&gt;</th><th scope=col>&lt;dbl&gt;</th><th scope=col>&lt;dbl&gt;</th><th scope=col>&lt;dbl&gt;</th><th scope=col>&lt;dbl&gt;</th><th scope=col>&lt;dbl&gt;</th></tr>\n</thead>\n<tbody>\n\t<tr><td>10.4</td><td>8</td><td>472.0</td><td>205</td><td>2.93</td><td>5.250</td><td>17.98</td><td>0</td><td>0</td><td>3</td><td>4</td><td>96</td></tr>\n\t<tr><td>10.4</td><td>8</td><td>460.0</td><td>215</td><td>3.00</td><td>5.424</td><td>17.82</td><td>0</td><td>0</td><td>3</td><td>4</td><td>96</td></tr>\n\t<tr><td>13.3</td><td>8</td><td>350.0</td><td>245</td><td>3.73</td><td>3.840</td><td>15.41</td><td>0</td><td>0</td><td>3</td><td>4</td><td>75</td></tr>\n\t<tr><td>14.3</td><td>8</td><td>360.0</td><td>245</td><td>3.21</td><td>3.570</td><td>15.84</td><td>0</td><td>0</td><td>3</td><td>4</td><td>70</td></tr>\n\t<tr><td>14.7</td><td>8</td><td>440.0</td><td>230</td><td>3.23</td><td>5.345</td><td>17.42</td><td>0</td><td>0</td><td>3</td><td>4</td><td>68</td></tr>\n\t<tr><td>15.0</td><td>8</td><td>301.0</td><td>335</td><td>3.54</td><td>3.570</td><td>14.60</td><td>0</td><td>1</td><td>5</td><td>8</td><td>67</td></tr>\n\t<tr><td>15.2</td><td>8</td><td>275.8</td><td>180</td><td>3.07</td><td>3.780</td><td>18.00</td><td>0</td><td>0</td><td>3</td><td>3</td><td>66</td></tr>\n\t<tr><td>15.2</td><td>8</td><td>304.0</td><td>150</td><td>3.15</td><td>3.435</td><td>17.30</td><td>0</td><td>0</td><td>3</td><td>2</td><td>66</td></tr>\n\t<tr><td>15.5</td><td>8</td><td>318.0</td><td>150</td><td>2.76</td><td>3.520</td><td>16.87</td><td>0</td><td>0</td><td>3</td><td>2</td><td>65</td></tr>\n\t<tr><td>15.8</td><td>8</td><td>351.0</td><td>264</td><td>4.22</td><td>3.170</td><td>14.50</td><td>0</td><td>1</td><td>5</td><td>4</td><td>63</td></tr>\n</tbody>\n</table>\n"
          },
          "metadata": {}
        }
      ]
    },
    {
      "metadata": {
        "trusted": true
      },
      "cell_type": "markdown",
      "source": "#### trnsmute()"
    },
    {
      "metadata": {
        "trusted": true
      },
      "cell_type": "code",
      "source": "# this is similar to mutate adds a new columns with changes but the result is just changed column\n# compare the same code with mutate to see the difference\nhead(df %>% transmute(Galons = round(1000/mpg)) %>% arrange(desc(Galons)) , 10)",
      "execution_count": 91,
      "outputs": [
        {
          "output_type": "display_data",
          "data": {
            "text/plain": "   Galons\n1  96    \n2  96    \n3  75    \n4  70    \n5  68    \n6  67    \n7  66    \n8  66    \n9  65    \n10 63    ",
            "text/latex": "A data.frame: 10 x 1\n\\begin{tabular}{r|l}\n Galons\\\\\n <dbl>\\\\\n\\hline\n\t 96\\\\\n\t 96\\\\\n\t 75\\\\\n\t 70\\\\\n\t 68\\\\\n\t 67\\\\\n\t 66\\\\\n\t 66\\\\\n\t 65\\\\\n\t 63\\\\\n\\end{tabular}\n",
            "text/markdown": "\nA data.frame: 10 x 1\n\n| Galons &lt;dbl&gt; |\n|---|\n| 96 |\n| 96 |\n| 75 |\n| 70 |\n| 68 |\n| 67 |\n| 66 |\n| 66 |\n| 65 |\n| 63 |\n\n",
            "text/html": "<table>\n<caption>A data.frame: 10 x 1</caption>\n<thead>\n\t<tr><th scope=col>Galons</th></tr>\n\t<tr><th scope=col>&lt;dbl&gt;</th></tr>\n</thead>\n<tbody>\n\t<tr><td>96</td></tr>\n\t<tr><td>96</td></tr>\n\t<tr><td>75</td></tr>\n\t<tr><td>70</td></tr>\n\t<tr><td>68</td></tr>\n\t<tr><td>67</td></tr>\n\t<tr><td>66</td></tr>\n\t<tr><td>66</td></tr>\n\t<tr><td>65</td></tr>\n\t<tr><td>63</td></tr>\n</tbody>\n</table>\n"
          },
          "metadata": {}
        }
      ]
    },
    {
      "metadata": {},
      "cell_type": "markdown",
      "source": "#### summarise()"
    },
    {
      "metadata": {
        "trusted": true
      },
      "cell_type": "code",
      "source": "# suppose we want to have a mean disp as a single result and total mpg as a single value\ndf %>% summarise(disp = mean(disp, na.rm = TRUE), mpg = sum(mpg)) ",
      "execution_count": 102,
      "outputs": [
        {
          "output_type": "display_data",
          "data": {
            "text/plain": "  disp     mpg  \n1 230.7219 642.9",
            "text/latex": "A data.frame: 1 x 2\n\\begin{tabular}{r|ll}\n disp & mpg\\\\\n <dbl> & <dbl>\\\\\n\\hline\n\t 230.7219 & 642.9\\\\\n\\end{tabular}\n",
            "text/markdown": "\nA data.frame: 1 x 2\n\n| disp &lt;dbl&gt; | mpg &lt;dbl&gt; |\n|---|---|\n| 230.7219 | 642.9 |\n\n",
            "text/html": "<table>\n<caption>A data.frame: 1 x 2</caption>\n<thead>\n\t<tr><th scope=col>disp</th><th scope=col>mpg</th></tr>\n\t<tr><th scope=col>&lt;dbl&gt;</th><th scope=col>&lt;dbl&gt;</th></tr>\n</thead>\n<tbody>\n\t<tr><td>230.7219</td><td>642.9</td></tr>\n</tbody>\n</table>\n"
          },
          "metadata": {}
        }
      ]
    },
    {
      "metadata": {
        "trusted": true
      },
      "cell_type": "code",
      "source": "mean(df$disp, na.rm = TRUE) # this is same first part",
      "execution_count": 103,
      "outputs": [
        {
          "output_type": "display_data",
          "data": {
            "text/plain": "[1] 230.7219",
            "text/latex": "230.721875",
            "text/markdown": "230.721875",
            "text/html": "230.721875"
          },
          "metadata": {}
        }
      ]
    },
    {
      "metadata": {
        "trusted": true
      },
      "cell_type": "code",
      "source": "sum(df$mpg) # this same as the second part of the summarise",
      "execution_count": 104,
      "outputs": [
        {
          "output_type": "display_data",
          "data": {
            "text/plain": "[1] 642.9",
            "text/latex": "642.9",
            "text/markdown": "642.9",
            "text/html": "642.9"
          },
          "metadata": {}
        }
      ]
    },
    {
      "metadata": {
        "trusted": true
      },
      "cell_type": "code",
      "source": "df %>% group_by(cyl) %>% summarise(avg = mean(mpg)) # we are using group by cylinder and the average of each category ",
      "execution_count": 105,
      "outputs": [
        {
          "output_type": "display_data",
          "data": {
            "text/plain": "  cyl avg     \n1 4   26.66364\n2 6   19.74286\n3 8   15.10000",
            "text/latex": "A tibble: 3 x 2\n\\begin{tabular}{r|ll}\n cyl & avg\\\\\n <dbl> & <dbl>\\\\\n\\hline\n\t 4 & 26.66364\\\\\n\t 6 & 19.74286\\\\\n\t 8 & 15.10000\\\\\n\\end{tabular}\n",
            "text/markdown": "\nA tibble: 3 x 2\n\n| cyl &lt;dbl&gt; | avg &lt;dbl&gt; |\n|---|---|\n| 4 | 26.66364 |\n| 6 | 19.74286 |\n| 8 | 15.10000 |\n\n",
            "text/html": "<table>\n<caption>A tibble: 3 x 2</caption>\n<thead>\n\t<tr><th scope=col>cyl</th><th scope=col>avg</th></tr>\n\t<tr><th scope=col>&lt;dbl&gt;</th><th scope=col>&lt;dbl&gt;</th></tr>\n</thead>\n<tbody>\n\t<tr><td>4</td><td>26.66364</td></tr>\n\t<tr><td>6</td><td>19.74286</td></tr>\n\t<tr><td>8</td><td>15.10000</td></tr>\n</tbody>\n</table>\n"
          },
          "metadata": {}
        }
      ]
    },
    {
      "metadata": {
        "trusted": true
      },
      "cell_type": "code",
      "source": "head(df)",
      "execution_count": 8,
      "outputs": [
        {
          "output_type": "display_data",
          "data": {
            "text/plain": "                  mpg  cyl disp hp  drat wt    qsec  vs am gear carb\nMazda RX4         21.0 6   160  110 3.90 2.620 16.46 0  1  4    4   \nMazda RX4 Wag     21.0 6   160  110 3.90 2.875 17.02 0  1  4    4   \nDatsun 710        22.8 4   108   93 3.85 2.320 18.61 1  1  4    1   \nHornet 4 Drive    21.4 6   258  110 3.08 3.215 19.44 1  0  3    1   \nHornet Sportabout 18.7 8   360  175 3.15 3.440 17.02 0  0  3    2   \nValiant           18.1 6   225  105 2.76 3.460 20.22 1  0  3    1   ",
            "text/latex": "A data.frame: 6 x 11\n\\begin{tabular}{r|lllllllllll}\n  & mpg & cyl & disp & hp & drat & wt & qsec & vs & am & gear & carb\\\\\n  & <dbl> & <dbl> & <dbl> & <dbl> & <dbl> & <dbl> & <dbl> & <dbl> & <dbl> & <dbl> & <dbl>\\\\\n\\hline\n\tMazda RX4 & 21.0 & 6 & 160 & 110 & 3.90 & 2.620 & 16.46 & 0 & 1 & 4 & 4\\\\\n\tMazda RX4 Wag & 21.0 & 6 & 160 & 110 & 3.90 & 2.875 & 17.02 & 0 & 1 & 4 & 4\\\\\n\tDatsun 710 & 22.8 & 4 & 108 &  93 & 3.85 & 2.320 & 18.61 & 1 & 1 & 4 & 1\\\\\n\tHornet 4 Drive & 21.4 & 6 & 258 & 110 & 3.08 & 3.215 & 19.44 & 1 & 0 & 3 & 1\\\\\n\tHornet Sportabout & 18.7 & 8 & 360 & 175 & 3.15 & 3.440 & 17.02 & 0 & 0 & 3 & 2\\\\\n\tValiant & 18.1 & 6 & 225 & 105 & 2.76 & 3.460 & 20.22 & 1 & 0 & 3 & 1\\\\\n\\end{tabular}\n",
            "text/markdown": "\nA data.frame: 6 x 11\n\n| <!--/--> | mpg &lt;dbl&gt; | cyl &lt;dbl&gt; | disp &lt;dbl&gt; | hp &lt;dbl&gt; | drat &lt;dbl&gt; | wt &lt;dbl&gt; | qsec &lt;dbl&gt; | vs &lt;dbl&gt; | am &lt;dbl&gt; | gear &lt;dbl&gt; | carb &lt;dbl&gt; |\n|---|---|---|---|---|---|---|---|---|---|---|---|\n| Mazda RX4 | 21.0 | 6 | 160 | 110 | 3.90 | 2.620 | 16.46 | 0 | 1 | 4 | 4 |\n| Mazda RX4 Wag | 21.0 | 6 | 160 | 110 | 3.90 | 2.875 | 17.02 | 0 | 1 | 4 | 4 |\n| Datsun 710 | 22.8 | 4 | 108 |  93 | 3.85 | 2.320 | 18.61 | 1 | 1 | 4 | 1 |\n| Hornet 4 Drive | 21.4 | 6 | 258 | 110 | 3.08 | 3.215 | 19.44 | 1 | 0 | 3 | 1 |\n| Hornet Sportabout | 18.7 | 8 | 360 | 175 | 3.15 | 3.440 | 17.02 | 0 | 0 | 3 | 2 |\n| Valiant | 18.1 | 6 | 225 | 105 | 2.76 | 3.460 | 20.22 | 1 | 0 | 3 | 1 |\n\n",
            "text/html": "<table>\n<caption>A data.frame: 6 x 11</caption>\n<thead>\n\t<tr><th></th><th scope=col>mpg</th><th scope=col>cyl</th><th scope=col>disp</th><th scope=col>hp</th><th scope=col>drat</th><th scope=col>wt</th><th scope=col>qsec</th><th scope=col>vs</th><th scope=col>am</th><th scope=col>gear</th><th scope=col>carb</th></tr>\n\t<tr><th></th><th scope=col>&lt;dbl&gt;</th><th scope=col>&lt;dbl&gt;</th><th scope=col>&lt;dbl&gt;</th><th scope=col>&lt;dbl&gt;</th><th scope=col>&lt;dbl&gt;</th><th scope=col>&lt;dbl&gt;</th><th scope=col>&lt;dbl&gt;</th><th scope=col>&lt;dbl&gt;</th><th scope=col>&lt;dbl&gt;</th><th scope=col>&lt;dbl&gt;</th><th scope=col>&lt;dbl&gt;</th></tr>\n</thead>\n<tbody>\n\t<tr><th scope=row>Mazda RX4</th><td>21.0</td><td>6</td><td>160</td><td>110</td><td>3.90</td><td>2.620</td><td>16.46</td><td>0</td><td>1</td><td>4</td><td>4</td></tr>\n\t<tr><th scope=row>Mazda RX4 Wag</th><td>21.0</td><td>6</td><td>160</td><td>110</td><td>3.90</td><td>2.875</td><td>17.02</td><td>0</td><td>1</td><td>4</td><td>4</td></tr>\n\t<tr><th scope=row>Datsun 710</th><td>22.8</td><td>4</td><td>108</td><td> 93</td><td>3.85</td><td>2.320</td><td>18.61</td><td>1</td><td>1</td><td>4</td><td>1</td></tr>\n\t<tr><th scope=row>Hornet 4 Drive</th><td>21.4</td><td>6</td><td>258</td><td>110</td><td>3.08</td><td>3.215</td><td>19.44</td><td>1</td><td>0</td><td>3</td><td>1</td></tr>\n\t<tr><th scope=row>Hornet Sportabout</th><td>18.7</td><td>8</td><td>360</td><td>175</td><td>3.15</td><td>3.440</td><td>17.02</td><td>0</td><td>0</td><td>3</td><td>2</td></tr>\n\t<tr><th scope=row>Valiant</th><td>18.1</td><td>6</td><td>225</td><td>105</td><td>2.76</td><td>3.460</td><td>20.22</td><td>1</td><td>0</td><td>3</td><td>1</td></tr>\n</tbody>\n</table>\n"
          },
          "metadata": {}
        }
      ]
    },
    {
      "metadata": {
        "trusted": true
      },
      "cell_type": "code",
      "source": "df %>% select(carb) %>% unique",
      "execution_count": 9,
      "outputs": [
        {
          "output_type": "display_data",
          "data": {
            "text/plain": "                  carb\nMazda RX4         4   \nDatsun 710        1   \nHornet Sportabout 2   \nMerc 450SE        3   \nFerrari Dino      6   \nMaserati Bora     8   ",
            "text/latex": "A data.frame: 6 x 1\n\\begin{tabular}{r|l}\n  & carb\\\\\n  & <dbl>\\\\\n\\hline\n\tMazda RX4 & 4\\\\\n\tDatsun 710 & 1\\\\\n\tHornet Sportabout & 2\\\\\n\tMerc 450SE & 3\\\\\n\tFerrari Dino & 6\\\\\n\tMaserati Bora & 8\\\\\n\\end{tabular}\n",
            "text/markdown": "\nA data.frame: 6 x 1\n\n| <!--/--> | carb &lt;dbl&gt; |\n|---|---|\n| Mazda RX4 | 4 |\n| Datsun 710 | 1 |\n| Hornet Sportabout | 2 |\n| Merc 450SE | 3 |\n| Ferrari Dino | 6 |\n| Maserati Bora | 8 |\n\n",
            "text/html": "<table>\n<caption>A data.frame: 6 x 1</caption>\n<thead>\n\t<tr><th></th><th scope=col>carb</th></tr>\n\t<tr><th></th><th scope=col>&lt;dbl&gt;</th></tr>\n</thead>\n<tbody>\n\t<tr><th scope=row>Mazda RX4</th><td>4</td></tr>\n\t<tr><th scope=row>Datsun 710</th><td>1</td></tr>\n\t<tr><th scope=row>Hornet Sportabout</th><td>2</td></tr>\n\t<tr><th scope=row>Merc 450SE</th><td>3</td></tr>\n\t<tr><th scope=row>Ferrari Dino</th><td>6</td></tr>\n\t<tr><th scope=row>Maserati Bora</th><td>8</td></tr>\n</tbody>\n</table>\n"
          },
          "metadata": {}
        }
      ]
    },
    {
      "metadata": {},
      "cell_type": "markdown",
      "source": "#### value counts of a column parameter"
    },
    {
      "metadata": {
        "trusted": true
      },
      "cell_type": "code",
      "source": "x <- c('sree','sree','sree','Radha','Radha','Ramana','Ramana','Ramana','Radha','sree')\nas.data.frame(table(x)) %>% transmute('Variable' = x, 'Count' = Freq) %>% arrange(desc(Count))\n",
      "execution_count": 45,
      "outputs": [
        {
          "output_type": "display_data",
          "data": {
            "text/plain": "  Variable Count\n1 sree     4    \n2 Radha    3    \n3 Ramana   3    ",
            "text/latex": "A data.frame: 3 x 2\n\\begin{tabular}{r|ll}\n Variable & Count\\\\\n <fct> & <int>\\\\\n\\hline\n\t sree   & 4\\\\\n\t Radha  & 3\\\\\n\t Ramana & 3\\\\\n\\end{tabular}\n",
            "text/markdown": "\nA data.frame: 3 x 2\n\n| Variable &lt;fct&gt; | Count &lt;int&gt; |\n|---|---|\n| sree   | 4 |\n| Radha  | 3 |\n| Ramana | 3 |\n\n",
            "text/html": "<table>\n<caption>A data.frame: 3 x 2</caption>\n<thead>\n\t<tr><th scope=col>Variable</th><th scope=col>Count</th></tr>\n\t<tr><th scope=col>&lt;fct&gt;</th><th scope=col>&lt;int&gt;</th></tr>\n</thead>\n<tbody>\n\t<tr><td>sree  </td><td>4</td></tr>\n\t<tr><td>Radha </td><td>3</td></tr>\n\t<tr><td>Ramana</td><td>3</td></tr>\n</tbody>\n</table>\n"
          },
          "metadata": {}
        }
      ]
    },
    {
      "metadata": {
        "trusted": true
      },
      "cell_type": "code",
      "source": "",
      "execution_count": null,
      "outputs": []
    }
  ],
  "metadata": {
    "kernelspec": {
      "name": "r",
      "display_name": "R",
      "language": "R"
    },
    "language_info": {
      "mimetype": "text/x-r-source",
      "name": "R",
      "pygments_lexer": "r",
      "version": "3.5.3",
      "file_extension": ".r",
      "codemirror_mode": "r"
    }
  },
  "nbformat": 4,
  "nbformat_minor": 2
}