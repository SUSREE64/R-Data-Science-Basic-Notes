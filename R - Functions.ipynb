{
  "cells": [
    {
      "metadata": {
        "collapsed": true
      },
      "cell_type": "markdown",
      "source": "### R Functions\n\n** Function components** <br>\nAll R functions have three parts: <br>\n\n1. the body(), the code inside the function.\n\n2. the formals(), the list of arguments which controls how you can call the function.\n\n3. the environment(), the “map” of the location of the function’s variables."
    },
    {
      "metadata": {
        "trusted": true
      },
      "cell_type": "code",
      "source": "# name <- function (){} the basic syntax of function",
      "execution_count": 1,
      "outputs": []
    },
    {
      "metadata": {
        "trusted": true
      },
      "cell_type": "code",
      "source": "Add <- function (a,b){\n    \n    return(a+b)\n    \n}",
      "execution_count": 2,
      "outputs": []
    },
    {
      "metadata": {
        "trusted": true
      },
      "cell_type": "code",
      "source": "Add(2,3)",
      "execution_count": 3,
      "outputs": [
        {
          "output_type": "display_data",
          "data": {
            "text/plain": "[1] 5",
            "text/latex": "5",
            "text/markdown": "5",
            "text/html": "5"
          },
          "metadata": {}
        }
      ]
    },
    {
      "metadata": {
        "trusted": true
      },
      "cell_type": "code",
      "source": "body(Add) # Function body witht the code inside",
      "execution_count": 4,
      "outputs": [
        {
          "output_type": "display_data",
          "data": {
            "text/plain": "{\n    return(a + b)\n}"
          },
          "metadata": {}
        }
      ]
    },
    {
      "metadata": {
        "trusted": true
      },
      "cell_type": "code",
      "source": "formals(Add) # These are arguments Note these should not be keywords",
      "execution_count": 5,
      "outputs": [
        {
          "output_type": "display_data",
          "data": {
            "text/plain": "$a\n\n\n$b\n\n"
          },
          "metadata": {}
        }
      ]
    },
    {
      "metadata": {
        "trusted": true
      },
      "cell_type": "code",
      "source": "environment(Add) # This is a global function and scope of this function is Global ",
      "execution_count": 6,
      "outputs": [
        {
          "output_type": "display_data",
          "data": {
            "text/plain": "<environment: R_GlobalEnv>"
          },
          "metadata": {}
        }
      ]
    },
    {
      "metadata": {
        "trusted": true
      },
      "cell_type": "code",
      "source": "class(Add) # This returns function",
      "execution_count": 7,
      "outputs": [
        {
          "output_type": "display_data",
          "data": {
            "text/plain": "[1] \"function\"",
            "text/latex": "'function'",
            "text/markdown": "'function'",
            "text/html": "'function'"
          },
          "metadata": {}
        }
      ]
    },
    {
      "metadata": {
        "trusted": true
      },
      "cell_type": "code",
      "source": "# giving a predefined arguments\n\ntotal <- function (a, b = 10, c = 4){\n    return(a+b+c)\n}",
      "execution_count": 8,
      "outputs": []
    },
    {
      "metadata": {
        "trusted": true
      },
      "cell_type": "code",
      "source": "print(total(1)) # Here the b, c are not given hence the default arguments are taken",
      "execution_count": 9,
      "outputs": [
        {
          "output_type": "stream",
          "text": "[1] 15\n",
          "name": "stdout"
        }
      ]
    },
    {
      "metadata": {
        "trusted": true
      },
      "cell_type": "code",
      "source": "print(total(20,30,50)) # here the arguments are given hence the default values are not taken",
      "execution_count": 10,
      "outputs": [
        {
          "output_type": "stream",
          "text": "[1] 100\n",
          "name": "stdout"
        }
      ]
    },
    {
      "metadata": {
        "trusted": true
      },
      "cell_type": "code",
      "source": "# Variable scopes inside the function body\n\nfunc<- function (a, b, c){\n    # local variable\n    x <- 10 \n    return(( a+b+c)*x)\n}\nprint(func(2,3,4))\nprint(x)   # this is not defined outside the function hence gives NULL  \n",
      "execution_count": 11,
      "outputs": [
        {
          "output_type": "stream",
          "text": "[1] 90\nNULL\n",
          "name": "stdout"
        }
      ]
    },
    {
      "metadata": {
        "trusted": true
      },
      "cell_type": "code",
      "source": "## Global variables even if used and re defined inside the funtion, they remain as they are in global scope\n v <- \"this is global string\"\nfun <- function(v){\n    \n    v <- 'Re assigned to a new value inside'\n    print(v)\n}\n# let us call the function now\nfun(v)\nprint(v) # even re assigned inside the function v is not changed in global scope",
      "execution_count": 12,
      "outputs": [
        {
          "output_type": "stream",
          "text": "[1] \"Re assigned to a new value inside\"\n[1] \"this is global string\"\n",
          "name": "stdout"
        }
      ]
    },
    {
      "metadata": {},
      "cell_type": "markdown",
      "source": "### Some built in functions "
    },
    {
      "metadata": {
        "trusted": true
      },
      "cell_type": "code",
      "source": "factorial(4)",
      "execution_count": 1,
      "outputs": [
        {
          "output_type": "display_data",
          "data": {
            "text/plain": "[1] 24",
            "text/latex": "24",
            "text/markdown": "24",
            "text/html": "24"
          },
          "metadata": {}
        }
      ]
    },
    {
      "metadata": {
        "trusted": true
      },
      "cell_type": "code",
      "source": "mean(1:6)",
      "execution_count": 2,
      "outputs": [
        {
          "output_type": "display_data",
          "data": {
            "text/plain": "[1] 3.5",
            "text/latex": "3.5",
            "text/markdown": "3.5",
            "text/html": "3.5"
          },
          "metadata": {}
        }
      ]
    },
    {
      "metadata": {
        "trusted": true
      },
      "cell_type": "code",
      "source": "sum(1:6)",
      "execution_count": 3,
      "outputs": [
        {
          "output_type": "display_data",
          "data": {
            "text/plain": "[1] 21",
            "text/latex": "21",
            "text/markdown": "21",
            "text/html": "21"
          },
          "metadata": {}
        }
      ]
    },
    {
      "metadata": {
        "trusted": true
      },
      "cell_type": "code",
      "source": "max(c(1,4,6,8,9,0.1,7))",
      "execution_count": 4,
      "outputs": [
        {
          "output_type": "display_data",
          "data": {
            "text/plain": "[1] 9",
            "text/latex": "9",
            "text/markdown": "9",
            "text/html": "9"
          },
          "metadata": {}
        }
      ]
    },
    {
      "metadata": {
        "trusted": true
      },
      "cell_type": "code",
      "source": "min(c(1,4,6,8,9,0.1,7))",
      "execution_count": 5,
      "outputs": [
        {
          "output_type": "display_data",
          "data": {
            "text/plain": "[1] 0.1",
            "text/latex": "0.1",
            "text/markdown": "0.1",
            "text/html": "0.1"
          },
          "metadata": {}
        }
      ]
    },
    {
      "metadata": {
        "trusted": true
      },
      "cell_type": "code",
      "source": "",
      "execution_count": 6,
      "outputs": [
        {
          "output_type": "error",
          "ename": "ERROR",
          "evalue": "Error in std(1, 2, 3, 4, 5): could not find function \"std\"\n",
          "traceback": [
            "Error in std(1, 2, 3, 4, 5): could not find function \"std\"\nTraceback:\n"
          ]
        }
      ]
    },
    {
      "metadata": {
        "trusted": true
      },
      "cell_type": "code",
      "source": "",
      "execution_count": null,
      "outputs": []
    },
    {
      "metadata": {
        "trusted": true
      },
      "cell_type": "code",
      "source": "",
      "execution_count": null,
      "outputs": []
    },
    {
      "metadata": {},
      "cell_type": "markdown",
      "source": "###  Some exercises on functions"
    },
    {
      "metadata": {},
      "cell_type": "markdown",
      "source": "#### Ex 1: Create a function that will return the product of two integers."
    },
    {
      "metadata": {
        "trusted": true
      },
      "cell_type": "code",
      "source": "prod <- function (num1, num2){\n    \n    return(num1*num2)\n}\nresult <- prod(3,4)\nprint(result)",
      "execution_count": 13,
      "outputs": [
        {
          "output_type": "stream",
          "text": "[1] 12\n",
          "name": "stdout"
        }
      ]
    },
    {
      "metadata": {},
      "cell_type": "markdown",
      "source": "#### Ex 2: Create a function that accepts two arguments, an integer and a vector of integers. It returns TRUE if the integer is present in the vector, otherwise it returns FALSE. Make sure you pay careful attention to your placement of the return(FALSE) line in your function!"
    },
    {
      "metadata": {},
      "cell_type": "markdown",
      "source": "#### Using %in%"
    },
    {
      "metadata": {
        "trusted": true
      },
      "cell_type": "code",
      "source": "num_check <- function(num, vec){\n    \n    num %in% vec\n}\n    \n num_check(2,c(1,2,3))   \n    \n",
      "execution_count": 14,
      "outputs": [
        {
          "output_type": "display_data",
          "data": {
            "text/plain": "[1] TRUE",
            "text/latex": "TRUE",
            "text/markdown": "TRUE",
            "text/html": "TRUE"
          },
          "metadata": {}
        }
      ]
    },
    {
      "metadata": {},
      "cell_type": "markdown",
      "source": "#### Using any( num == vec)"
    },
    {
      "metadata": {
        "trusted": true
      },
      "cell_type": "code",
      "source": "num_check1 <- function(num, vec){\n    \n    any(vec == num)\n    \n}\nnum_check1(2, c(4,5,6,7,2))",
      "execution_count": 15,
      "outputs": [
        {
          "output_type": "display_data",
          "data": {
            "text/plain": "[1] TRUE",
            "text/latex": "TRUE",
            "text/markdown": "TRUE",
            "text/html": "TRUE"
          },
          "metadata": {}
        }
      ]
    },
    {
      "metadata": {},
      "cell_type": "markdown",
      "source": "#### Using is.element(num, vec)"
    },
    {
      "metadata": {
        "trusted": true
      },
      "cell_type": "code",
      "source": "num_check2 <- function(num, vec){\n    \n    is.element(num, vec)\n    \n}\nnum_check2(2, c(2,3,4,5,6))",
      "execution_count": 16,
      "outputs": [
        {
          "output_type": "display_data",
          "data": {
            "text/plain": "[1] TRUE",
            "text/latex": "TRUE",
            "text/markdown": "TRUE",
            "text/html": "TRUE"
          },
          "metadata": {}
        }
      ]
    },
    {
      "metadata": {
        "trusted": true
      },
      "cell_type": "markdown",
      "source": "#### Ex 3: Create a function that accepts two arguments, an integer and a vector of integers. It returns the count of the number of occurences of the integer in the input vector."
    },
    {
      "metadata": {
        "trusted": true
      },
      "cell_type": "code",
      "source": "num_count <- function (x, vec){\n    count <- 0\n    for (y in vec){\n        \n        if (y == x)\n        {\n            count = count+1            \n        }    \n    }\n    return(count)\n}\n\nnum_count(2, c(2,2,2,1,1,2,2))",
      "execution_count": 17,
      "outputs": [
        {
          "output_type": "display_data",
          "data": {
            "text/plain": "[1] 5",
            "text/latex": "5",
            "text/markdown": "5",
            "text/html": "5"
          },
          "metadata": {}
        }
      ]
    },
    {
      "metadata": {
        "trusted": true
      },
      "cell_type": "code",
      "source": "# doing the same thing other way\nnum_count1 <- function (x, vec){\n    \n   return(sum(vec==x))\n    \n    \n}",
      "execution_count": 18,
      "outputs": []
    },
    {
      "metadata": {
        "trusted": true
      },
      "cell_type": "code",
      "source": "num_count1(2,c(1,1,2,2,3,3))",
      "execution_count": 19,
      "outputs": [
        {
          "output_type": "display_data",
          "data": {
            "text/plain": "[1] 2",
            "text/latex": "2",
            "text/markdown": "2",
            "text/html": "2"
          },
          "metadata": {}
        }
      ]
    },
    {
      "metadata": {
        "trusted": true
      },
      "cell_type": "code",
      "source": "# Another way of doing the same\nnum_count2<- function(x, vec){\n    \n    return(length(which(vec==x)))\n    \n}\nnum_count2(2, c(9,0,2,1,2,2,2))",
      "execution_count": 20,
      "outputs": [
        {
          "output_type": "display_data",
          "data": {
            "text/plain": "[1] 4",
            "text/latex": "4",
            "text/markdown": "4",
            "text/html": "4"
          },
          "metadata": {}
        }
      ]
    },
    {
      "metadata": {},
      "cell_type": "markdown",
      "source": "#### Ex 4: We want to ship bars of aluminum. We will create a function that accepts an integer representing the requested kilograms of aluminum for the package to be shipped. To fullfill these order, we have small bars (1 kilogram each) and big bars (5 kilograms each). Return the least number of bars needed.\n\n#### For example, a load of 6 kg requires a minimum of two bars (1 5kg bars and 1 1kg bars). A load of 17 kg requires a minimum of 5 bars (3 5kg bars and 2 1kg bars)."
    },
    {
      "metadata": {
        "trusted": true
      },
      "cell_type": "code",
      "source": "bar_count <- function(x){\n    \n    ones <- x %% 5\n    fives <- as.integer(x/5)\n    return(fives+ones)\n    \n}",
      "execution_count": 21,
      "outputs": []
    },
    {
      "metadata": {
        "trusted": true
      },
      "cell_type": "code",
      "source": "bar_count(17)",
      "execution_count": 22,
      "outputs": [
        {
          "output_type": "display_data",
          "data": {
            "text/plain": "[1] 5",
            "text/latex": "5",
            "text/markdown": "5",
            "text/html": "5"
          },
          "metadata": {}
        }
      ]
    },
    {
      "metadata": {},
      "cell_type": "markdown",
      "source": "#### Ex 5: Create a function that accepts 3 integer values and returns their sum. However, if an integer value is evenly divisible by 3, then it does not count towards the sum. Return zero if all numbers are evenly divisible by 3. Hint: You may want to use the append() function."
    },
    {
      "metadata": {
        "trusted": true
      },
      "cell_type": "code",
      "source": "summer <- function(a,b,c){\n    \n    if (a %% 3 == 0){a = 0}\n    if (b %% 3 == 0){b = 0}\n    if(c%%3 == 0){c = 0}\n    return(a+b+c)\n    \n}",
      "execution_count": 23,
      "outputs": []
    },
    {
      "metadata": {
        "trusted": true
      },
      "cell_type": "code",
      "source": "summer(7,2,3)",
      "execution_count": 24,
      "outputs": [
        {
          "output_type": "display_data",
          "data": {
            "text/plain": "[1] 9",
            "text/latex": "9",
            "text/markdown": "9",
            "text/html": "9"
          },
          "metadata": {}
        }
      ]
    },
    {
      "metadata": {
        "trusted": true
      },
      "cell_type": "code",
      "source": "summer(3,6,9)",
      "execution_count": 25,
      "outputs": [
        {
          "output_type": "display_data",
          "data": {
            "text/plain": "[1] 0",
            "text/latex": "0",
            "text/markdown": "0",
            "text/html": "0"
          },
          "metadata": {}
        }
      ]
    },
    {
      "metadata": {
        "trusted": true
      },
      "cell_type": "code",
      "source": "summer(9,11,12)",
      "execution_count": 26,
      "outputs": [
        {
          "output_type": "display_data",
          "data": {
            "text/plain": "[1] 11",
            "text/latex": "11",
            "text/markdown": "11",
            "text/html": "11"
          },
          "metadata": {}
        }
      ]
    },
    {
      "metadata": {},
      "cell_type": "markdown",
      "source": "#### Ex 6: Create a function that will return TRUE if an input integer is prime. Otherwise, return FALSE. You may want to look into the any() function. There are many possible solutions to this problem."
    },
    {
      "metadata": {
        "trusted": true
      },
      "cell_type": "code",
      "source": "prime_check <- function(n)\n    {\n      count = 0\n      for( i in (2:n))\n      {\n        if(n%%i == 0){count = count+1} # there is factor, hence count it \n      }\n      p = c(n)\n      if(count > 1)\n      {\n        return(FALSE)\n      }else{return(TRUE)}\n    }",
      "execution_count": 29,
      "outputs": []
    },
    {
      "metadata": {
        "trusted": true
      },
      "cell_type": "code",
      "source": "prime_check(2)",
      "execution_count": 30,
      "outputs": [
        {
          "output_type": "display_data",
          "data": {
            "text/plain": "[1] TRUE",
            "text/latex": "TRUE",
            "text/markdown": "TRUE",
            "text/html": "TRUE"
          },
          "metadata": {}
        }
      ]
    },
    {
      "metadata": {
        "trusted": true
      },
      "cell_type": "code",
      "source": "prime_check(19)",
      "execution_count": 31,
      "outputs": [
        {
          "output_type": "display_data",
          "data": {
            "text/plain": "[1] TRUE",
            "text/latex": "TRUE",
            "text/markdown": "TRUE",
            "text/html": "TRUE"
          },
          "metadata": {}
        }
      ]
    },
    {
      "metadata": {
        "trusted": true
      },
      "cell_type": "code",
      "source": "prime_check(17)",
      "execution_count": 32,
      "outputs": [
        {
          "output_type": "display_data",
          "data": {
            "text/plain": "[1] TRUE",
            "text/latex": "TRUE",
            "text/markdown": "TRUE",
            "text/html": "TRUE"
          },
          "metadata": {}
        }
      ]
    },
    {
      "metadata": {
        "trusted": true
      },
      "cell_type": "code",
      "source": "prime_check(131)",
      "execution_count": 33,
      "outputs": [
        {
          "output_type": "display_data",
          "data": {
            "text/plain": "[1] TRUE",
            "text/latex": "TRUE",
            "text/markdown": "TRUE",
            "text/html": "TRUE"
          },
          "metadata": {}
        }
      ]
    },
    {
      "metadata": {},
      "cell_type": "markdown",
      "source": "### Anonymous functions"
    },
    {
      "metadata": {
        "trusted": true
      },
      "cell_type": "markdown",
      "source": "In R, functions are objects in their own right. They aren’t automatically bound to a name. Unlike many languages (e.g., C, C++, Python, and Ruby), R doesn’t have a special syntax for creating a named function: when you create a function, you use the regular assignment operator to give it a name. If you choose not to give the function a name, you get an anonymous function.\n\nYou use an anonymous function when it’s not worth the effort to give it a name:"
    },
    {
      "metadata": {
        "trusted": true
      },
      "cell_type": "code",
      "source": "sapply(1:10,function(x){x*2})# for the elements of sequence 1:10 function which is doubling each element is applied with sapply()",
      "execution_count": 37,
      "outputs": [
        {
          "output_type": "display_data",
          "data": {
            "text/plain": " [1]  2  4  6  8 10 12 14 16 18 20",
            "text/latex": "\\begin{enumerate*}\n\\item 2\n\\item 4\n\\item 6\n\\item 8\n\\item 10\n\\item 12\n\\item 14\n\\item 16\n\\item 18\n\\item 20\n\\end{enumerate*}\n",
            "text/markdown": "1. 2\n2. 4\n3. 6\n4. 8\n5. 10\n6. 12\n7. 14\n8. 16\n9. 18\n10. 20\n\n\n",
            "text/html": "<ol class=list-inline>\n\t<li>2</li>\n\t<li>4</li>\n\t<li>6</li>\n\t<li>8</li>\n\t<li>10</li>\n\t<li>12</li>\n\t<li>14</li>\n\t<li>16</li>\n\t<li>18</li>\n\t<li>20</li>\n</ol>\n"
          },
          "metadata": {}
        }
      ]
    },
    {
      "metadata": {
        "trusted": true
      },
      "cell_type": "markdown",
      "source": "#### Apply () Functions"
    },
    {
      "metadata": {
        "trusted": true
      },
      "cell_type": "code",
      "source": "",
      "execution_count": null,
      "outputs": []
    }
  ],
  "metadata": {
    "kernelspec": {
      "name": "r",
      "display_name": "R",
      "language": "R"
    },
    "language_info": {
      "mimetype": "text/x-r-source",
      "name": "R",
      "pygments_lexer": "r",
      "version": "3.4.1",
      "file_extension": ".r",
      "codemirror_mode": "r"
    }
  },
  "nbformat": 4,
  "nbformat_minor": 2
}