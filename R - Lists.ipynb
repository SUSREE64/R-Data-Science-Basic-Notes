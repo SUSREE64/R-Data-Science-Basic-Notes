{
  "cells": [
    {
      "metadata": {
        "collapsed": true
      },
      "cell_type": "markdown",
      "source": "### R Lists \n\n**Lists** are the R objects which contain elements of different types like − numbers, strings, vectors and another list inside it.<br>\nA list can also contain a matrix or a function as its elements. <br>\nList is created using list() function. <br>\nLists act like just like a folder where we can organize the objects. "
    },
    {
      "metadata": {},
      "cell_type": "markdown",
      "source": "#### Creating a list from various data objects"
    },
    {
      "metadata": {
        "trusted": true
      },
      "cell_type": "code",
      "source": "vec <- c(1,2,3,4)\nvec1 <- c('sree', \"jani\", \"Rani\")\nmat <- matrix(1:15, nrow=5)\nstr <- \" Heloo How do you do\"\nnum <- 123\n",
      "execution_count": 73,
      "outputs": []
    },
    {
      "metadata": {
        "trusted": true
      },
      "cell_type": "code",
      "source": "# Now let us make list\nmy_list <- list(vec, vec1, mat, str, num)",
      "execution_count": 74,
      "outputs": []
    },
    {
      "metadata": {
        "trusted": true
      },
      "cell_type": "code",
      "source": "my_list",
      "execution_count": 75,
      "outputs": [
        {
          "output_type": "display_data",
          "data": {
            "text/plain": "[[1]]\n[1] 1 2 3 4\n\n[[2]]\n[1] \"sree\" \"jani\" \"Rani\"\n\n[[3]]\n     [,1] [,2] [,3]\n[1,]    1    6   11\n[2,]    2    7   12\n[3,]    3    8   13\n[4,]    4    9   14\n[5,]    5   10   15\n\n[[4]]\n[1] \" Heloo How do you do\"\n\n[[5]]\n[1] 123\n",
            "text/latex": "\\begin{enumerate}\n\\item \\begin{enumerate*}\n\\item 1\n\\item 2\n\\item 3\n\\item 4\n\\end{enumerate*}\n\n\\item \\begin{enumerate*}\n\\item 'sree'\n\\item 'jani'\n\\item 'Rani'\n\\end{enumerate*}\n\n\\item A matrix: 5 x 3 of type int\n\\begin{tabular}{lll}\n\t 1 &  6 & 11\\\\\n\t 2 &  7 & 12\\\\\n\t 3 &  8 & 13\\\\\n\t 4 &  9 & 14\\\\\n\t 5 & 10 & 15\\\\\n\\end{tabular}\n\n\\item ' Heloo How do you do'\n\\item 123\n\\end{enumerate}\n",
            "text/markdown": "1. 1. 1\n2. 2\n3. 3\n4. 4\n\n\n\n2. 1. 'sree'\n2. 'jani'\n3. 'Rani'\n\n\n\n3. \nA matrix: 5 x 3 of type int\n\n| 1 |  6 | 11 |\n| 2 |  7 | 12 |\n| 3 |  8 | 13 |\n| 4 |  9 | 14 |\n| 5 | 10 | 15 |\n\n\n4. ' Heloo How do you do'\n5. 123\n\n\n",
            "text/html": "<ol>\n\t<li><ol class=list-inline>\n\t<li>1</li>\n\t<li>2</li>\n\t<li>3</li>\n\t<li>4</li>\n</ol>\n</li>\n\t<li><ol class=list-inline>\n\t<li>'sree'</li>\n\t<li>'jani'</li>\n\t<li>'Rani'</li>\n</ol>\n</li>\n\t<li><table>\n<caption>A matrix: 5 x 3 of type int</caption>\n<tbody>\n\t<tr><td>1</td><td> 6</td><td>11</td></tr>\n\t<tr><td>2</td><td> 7</td><td>12</td></tr>\n\t<tr><td>3</td><td> 8</td><td>13</td></tr>\n\t<tr><td>4</td><td> 9</td><td>14</td></tr>\n\t<tr><td>5</td><td>10</td><td>15</td></tr>\n</tbody>\n</table>\n</li>\n\t<li>' Heloo How do you do'</li>\n\t<li>123</li>\n</ol>\n"
          },
          "metadata": {}
        }
      ]
    },
    {
      "metadata": {
        "trusted": true
      },
      "cell_type": "code",
      "source": "my_list[2]",
      "execution_count": 76,
      "outputs": [
        {
          "output_type": "display_data",
          "data": {
            "text/plain": "[[1]]\n[1] \"sree\" \"jani\" \"Rani\"\n",
            "text/latex": "\\begin{enumerate}\n\\item \\begin{enumerate*}\n\\item 'sree'\n\\item 'jani'\n\\item 'Rani'\n\\end{enumerate*}\n\n\\end{enumerate}\n",
            "text/markdown": "1. 1. 'sree'\n2. 'jani'\n3. 'Rani'\n\n\n\n\n\n",
            "text/html": "<ol>\n\t<li><ol class=list-inline>\n\t<li>'sree'</li>\n\t<li>'jani'</li>\n\t<li>'Rani'</li>\n</ol>\n</li>\n</ol>\n"
          },
          "metadata": {}
        }
      ]
    },
    {
      "metadata": {},
      "cell_type": "markdown",
      "source": "#### Naming the list element "
    },
    {
      "metadata": {
        "trusted": true
      },
      "cell_type": "code",
      "source": "names(my_list) <- c(\"1st\", \"2nd\", \"3rd\",'4th', '5th')\n",
      "execution_count": 77,
      "outputs": []
    },
    {
      "metadata": {
        "trusted": true
      },
      "cell_type": "code",
      "source": "my_list",
      "execution_count": 78,
      "outputs": [
        {
          "output_type": "display_data",
          "data": {
            "text/plain": "$`1st`\n[1] 1 2 3 4\n\n$`2nd`\n[1] \"sree\" \"jani\" \"Rani\"\n\n$`3rd`\n     [,1] [,2] [,3]\n[1,]    1    6   11\n[2,]    2    7   12\n[3,]    3    8   13\n[4,]    4    9   14\n[5,]    5   10   15\n\n$`4th`\n[1] \" Heloo How do you do\"\n\n$`5th`\n[1] 123\n",
            "text/latex": "\\begin{description}\n\\item[\\$`1st`] \\begin{enumerate*}\n\\item 1\n\\item 2\n\\item 3\n\\item 4\n\\end{enumerate*}\n\n\\item[\\$`2nd`] \\begin{enumerate*}\n\\item 'sree'\n\\item 'jani'\n\\item 'Rani'\n\\end{enumerate*}\n\n\\item[\\$`3rd`] A matrix: 5 x 3 of type int\n\\begin{tabular}{lll}\n\t 1 &  6 & 11\\\\\n\t 2 &  7 & 12\\\\\n\t 3 &  8 & 13\\\\\n\t 4 &  9 & 14\\\\\n\t 5 & 10 & 15\\\\\n\\end{tabular}\n\n\\item[\\$`4th`] ' Heloo How do you do'\n\\item[\\$`5th`] 123\n\\end{description}\n",
            "text/markdown": "$`1st`\n:   1. 1\n2. 2\n3. 3\n4. 4\n\n\n\n$`2nd`\n:   1. 'sree'\n2. 'jani'\n3. 'Rani'\n\n\n\n$`3rd`\n:   \nA matrix: 5 x 3 of type int\n\n| 1 |  6 | 11 |\n| 2 |  7 | 12 |\n| 3 |  8 | 13 |\n| 4 |  9 | 14 |\n| 5 | 10 | 15 |\n\n\n$`4th`\n:   ' Heloo How do you do'\n$`5th`\n:   123\n\n\n",
            "text/html": "<dl>\n\t<dt>$`1st`</dt>\n\t\t<dd><ol class=list-inline>\n\t<li>1</li>\n\t<li>2</li>\n\t<li>3</li>\n\t<li>4</li>\n</ol>\n</dd>\n\t<dt>$`2nd`</dt>\n\t\t<dd><ol class=list-inline>\n\t<li>'sree'</li>\n\t<li>'jani'</li>\n\t<li>'Rani'</li>\n</ol>\n</dd>\n\t<dt>$`3rd`</dt>\n\t\t<dd><table>\n<caption>A matrix: 5 x 3 of type int</caption>\n<tbody>\n\t<tr><td>1</td><td> 6</td><td>11</td></tr>\n\t<tr><td>2</td><td> 7</td><td>12</td></tr>\n\t<tr><td>3</td><td> 8</td><td>13</td></tr>\n\t<tr><td>4</td><td> 9</td><td>14</td></tr>\n\t<tr><td>5</td><td>10</td><td>15</td></tr>\n</tbody>\n</table>\n</dd>\n\t<dt>$`4th`</dt>\n\t\t<dd>' Heloo How do you do'</dd>\n\t<dt>$`5th`</dt>\n\t\t<dd>123</dd>\n</dl>\n"
          },
          "metadata": {}
        }
      ]
    },
    {
      "metadata": {},
      "cell_type": "markdown",
      "source": "#### Indexing the list elements"
    },
    {
      "metadata": {
        "trusted": true
      },
      "cell_type": "code",
      "source": "my_list[1]",
      "execution_count": 79,
      "outputs": [
        {
          "output_type": "display_data",
          "data": {
            "text/plain": "$`1st`\n[1] 1 2 3 4\n",
            "text/latex": "\\textbf{\\$`1st`} = \\begin{enumerate*}\n\\item 1\n\\item 2\n\\item 3\n\\item 4\n\\end{enumerate*}\n",
            "text/markdown": "**$`1st`** = 1. 1\n2. 2\n3. 3\n4. 4\n\n\n",
            "text/html": "<strong>$`1st`</strong> = <ol class=list-inline>\n\t<li>1</li>\n\t<li>2</li>\n\t<li>3</li>\n\t<li>4</li>\n</ol>\n"
          },
          "metadata": {}
        }
      ]
    },
    {
      "metadata": {
        "trusted": true
      },
      "cell_type": "code",
      "source": "my_list$'1st' # $ notation",
      "execution_count": 80,
      "outputs": [
        {
          "output_type": "display_data",
          "data": {
            "text/plain": "[1] 1 2 3 4",
            "text/latex": "\\begin{enumerate*}\n\\item 1\n\\item 2\n\\item 3\n\\item 4\n\\end{enumerate*}\n",
            "text/markdown": "1. 1\n2. 2\n3. 3\n4. 4\n\n\n",
            "text/html": "<ol class=list-inline>\n\t<li>1</li>\n\t<li>2</li>\n\t<li>3</li>\n\t<li>4</li>\n</ol>\n"
          },
          "metadata": {}
        }
      ]
    },
    {
      "metadata": {
        "trusted": true
      },
      "cell_type": "code",
      "source": "my_list['1st'] ",
      "execution_count": 81,
      "outputs": [
        {
          "output_type": "display_data",
          "data": {
            "text/plain": "$`1st`\n[1] 1 2 3 4\n",
            "text/latex": "\\textbf{\\$`1st`} = \\begin{enumerate*}\n\\item 1\n\\item 2\n\\item 3\n\\item 4\n\\end{enumerate*}\n",
            "text/markdown": "**$`1st`** = 1. 1\n2. 2\n3. 3\n4. 4\n\n\n",
            "text/html": "<strong>$`1st`</strong> = <ol class=list-inline>\n\t<li>1</li>\n\t<li>2</li>\n\t<li>3</li>\n\t<li>4</li>\n</ol>\n"
          },
          "metadata": {}
        }
      ]
    },
    {
      "metadata": {
        "trusted": true
      },
      "cell_type": "code",
      "source": "class(my_list['1st']) # Note that bracket notation results a list",
      "execution_count": 82,
      "outputs": [
        {
          "output_type": "display_data",
          "data": {
            "text/plain": "[1] \"list\"",
            "text/latex": "'list'",
            "text/markdown": "'list'",
            "text/html": "'list'"
          },
          "metadata": {}
        }
      ]
    },
    {
      "metadata": {
        "trusted": true
      },
      "cell_type": "code",
      "source": "class(my_list$'1st') # Note that this results a vector",
      "execution_count": 83,
      "outputs": [
        {
          "output_type": "display_data",
          "data": {
            "text/plain": "[1] \"numeric\"",
            "text/latex": "'numeric'",
            "text/markdown": "'numeric'",
            "text/html": "'numeric'"
          },
          "metadata": {}
        }
      ]
    },
    {
      "metadata": {
        "trusted": true
      },
      "cell_type": "code",
      "source": "my_list[['1st']] # Double bracket notation",
      "execution_count": 84,
      "outputs": [
        {
          "output_type": "display_data",
          "data": {
            "text/plain": "[1] 1 2 3 4",
            "text/latex": "\\begin{enumerate*}\n\\item 1\n\\item 2\n\\item 3\n\\item 4\n\\end{enumerate*}\n",
            "text/markdown": "1. 1\n2. 2\n3. 3\n4. 4\n\n\n",
            "text/html": "<ol class=list-inline>\n\t<li>1</li>\n\t<li>2</li>\n\t<li>3</li>\n\t<li>4</li>\n</ol>\n"
          },
          "metadata": {}
        }
      ]
    },
    {
      "metadata": {},
      "cell_type": "markdown",
      "source": "#### Merging lists into a single list"
    },
    {
      "metadata": {
        "trusted": true
      },
      "cell_type": "code",
      "source": "list1 <- list(c(1,2,3,5), matrix(1:10,nrow=5))\nlist2 <- list(c(1,2,8,10), 'sree', 234)\nmerged.list = list(list1,list2)\nmerged.list",
      "execution_count": 85,
      "outputs": [
        {
          "output_type": "display_data",
          "data": {
            "text/plain": "[[1]]\n[[1]][[1]]\n[1] 1 2 3 5\n\n[[1]][[2]]\n     [,1] [,2]\n[1,]    1    6\n[2,]    2    7\n[3,]    3    8\n[4,]    4    9\n[5,]    5   10\n\n\n[[2]]\n[[2]][[1]]\n[1]  1  2  8 10\n\n[[2]][[2]]\n[1] \"sree\"\n\n[[2]][[3]]\n[1] 234\n\n",
            "text/latex": "\\begin{enumerate}\n\\item \\begin{enumerate}\n\\item \\begin{enumerate*}\n\\item 1\n\\item 2\n\\item 3\n\\item 5\n\\end{enumerate*}\n\n\\item A matrix: 5 x 2 of type int\n\\begin{tabular}{ll}\n\t 1 &  6\\\\\n\t 2 &  7\\\\\n\t 3 &  8\\\\\n\t 4 &  9\\\\\n\t 5 & 10\\\\\n\\end{tabular}\n\n\\end{enumerate}\n\n\\item \\begin{enumerate}\n\\item \\begin{enumerate*}\n\\item 1\n\\item 2\n\\item 8\n\\item 10\n\\end{enumerate*}\n\n\\item 'sree'\n\\item 234\n\\end{enumerate}\n\n\\end{enumerate}\n",
            "text/markdown": "1. 1. 1. 1\n2. 2\n3. 3\n4. 5\n\n\n\n2. \nA matrix: 5 x 2 of type int\n\n| 1 |  6 |\n| 2 |  7 |\n| 3 |  8 |\n| 4 |  9 |\n| 5 | 10 |\n\n\n\n\n\n2. 1. 1. 1\n2. 2\n3. 8\n4. 10\n\n\n\n2. 'sree'\n3. 234\n\n\n\n\n\n",
            "text/html": "<ol>\n\t<li><ol>\n\t<li><ol class=list-inline>\n\t<li>1</li>\n\t<li>2</li>\n\t<li>3</li>\n\t<li>5</li>\n</ol>\n</li>\n\t<li><table>\n<caption>A matrix: 5 x 2 of type int</caption>\n<tbody>\n\t<tr><td>1</td><td> 6</td></tr>\n\t<tr><td>2</td><td> 7</td></tr>\n\t<tr><td>3</td><td> 8</td></tr>\n\t<tr><td>4</td><td> 9</td></tr>\n\t<tr><td>5</td><td>10</td></tr>\n</tbody>\n</table>\n</li>\n</ol>\n</li>\n\t<li><ol>\n\t<li><ol class=list-inline>\n\t<li>1</li>\n\t<li>2</li>\n\t<li>8</li>\n\t<li>10</li>\n</ol>\n</li>\n\t<li>'sree'</li>\n\t<li>234</li>\n</ol>\n</li>\n</ol>\n"
          },
          "metadata": {}
        }
      ]
    },
    {
      "metadata": {},
      "cell_type": "markdown",
      "source": "#### R Predefined Lists"
    },
    {
      "metadata": {
        "trusted": true
      },
      "cell_type": "code",
      "source": "letters",
      "execution_count": 86,
      "outputs": [
        {
          "output_type": "display_data",
          "data": {
            "text/plain": " [1] \"a\" \"b\" \"c\" \"d\" \"e\" \"f\" \"g\" \"h\" \"i\" \"j\" \"k\" \"l\" \"m\" \"n\" \"o\" \"p\" \"q\" \"r\" \"s\"\n[20] \"t\" \"u\" \"v\" \"w\" \"x\" \"y\" \"z\"",
            "text/latex": "\\begin{enumerate*}\n\\item 'a'\n\\item 'b'\n\\item 'c'\n\\item 'd'\n\\item 'e'\n\\item 'f'\n\\item 'g'\n\\item 'h'\n\\item 'i'\n\\item 'j'\n\\item 'k'\n\\item 'l'\n\\item 'm'\n\\item 'n'\n\\item 'o'\n\\item 'p'\n\\item 'q'\n\\item 'r'\n\\item 's'\n\\item 't'\n\\item 'u'\n\\item 'v'\n\\item 'w'\n\\item 'x'\n\\item 'y'\n\\item 'z'\n\\end{enumerate*}\n",
            "text/markdown": "1. 'a'\n2. 'b'\n3. 'c'\n4. 'd'\n5. 'e'\n6. 'f'\n7. 'g'\n8. 'h'\n9. 'i'\n10. 'j'\n11. 'k'\n12. 'l'\n13. 'm'\n14. 'n'\n15. 'o'\n16. 'p'\n17. 'q'\n18. 'r'\n19. 's'\n20. 't'\n21. 'u'\n22. 'v'\n23. 'w'\n24. 'x'\n25. 'y'\n26. 'z'\n\n\n",
            "text/html": "<ol class=list-inline>\n\t<li>'a'</li>\n\t<li>'b'</li>\n\t<li>'c'</li>\n\t<li>'d'</li>\n\t<li>'e'</li>\n\t<li>'f'</li>\n\t<li>'g'</li>\n\t<li>'h'</li>\n\t<li>'i'</li>\n\t<li>'j'</li>\n\t<li>'k'</li>\n\t<li>'l'</li>\n\t<li>'m'</li>\n\t<li>'n'</li>\n\t<li>'o'</li>\n\t<li>'p'</li>\n\t<li>'q'</li>\n\t<li>'r'</li>\n\t<li>'s'</li>\n\t<li>'t'</li>\n\t<li>'u'</li>\n\t<li>'v'</li>\n\t<li>'w'</li>\n\t<li>'x'</li>\n\t<li>'y'</li>\n\t<li>'z'</li>\n</ol>\n"
          },
          "metadata": {}
        }
      ]
    },
    {
      "metadata": {
        "trusted": true
      },
      "cell_type": "code",
      "source": "LETTERS\n",
      "execution_count": 87,
      "outputs": [
        {
          "output_type": "display_data",
          "data": {
            "text/plain": " [1] \"A\" \"B\" \"C\" \"D\" \"E\" \"F\" \"G\" \"H\" \"I\" \"J\" \"K\" \"L\" \"M\" \"N\" \"O\" \"P\" \"Q\" \"R\" \"S\"\n[20] \"T\" \"U\" \"V\" \"W\" \"X\" \"Y\" \"Z\"",
            "text/latex": "\\begin{enumerate*}\n\\item 'A'\n\\item 'B'\n\\item 'C'\n\\item 'D'\n\\item 'E'\n\\item 'F'\n\\item 'G'\n\\item 'H'\n\\item 'I'\n\\item 'J'\n\\item 'K'\n\\item 'L'\n\\item 'M'\n\\item 'N'\n\\item 'O'\n\\item 'P'\n\\item 'Q'\n\\item 'R'\n\\item 'S'\n\\item 'T'\n\\item 'U'\n\\item 'V'\n\\item 'W'\n\\item 'X'\n\\item 'Y'\n\\item 'Z'\n\\end{enumerate*}\n",
            "text/markdown": "1. 'A'\n2. 'B'\n3. 'C'\n4. 'D'\n5. 'E'\n6. 'F'\n7. 'G'\n8. 'H'\n9. 'I'\n10. 'J'\n11. 'K'\n12. 'L'\n13. 'M'\n14. 'N'\n15. 'O'\n16. 'P'\n17. 'Q'\n18. 'R'\n19. 'S'\n20. 'T'\n21. 'U'\n22. 'V'\n23. 'W'\n24. 'X'\n25. 'Y'\n26. 'Z'\n\n\n",
            "text/html": "<ol class=list-inline>\n\t<li>'A'</li>\n\t<li>'B'</li>\n\t<li>'C'</li>\n\t<li>'D'</li>\n\t<li>'E'</li>\n\t<li>'F'</li>\n\t<li>'G'</li>\n\t<li>'H'</li>\n\t<li>'I'</li>\n\t<li>'J'</li>\n\t<li>'K'</li>\n\t<li>'L'</li>\n\t<li>'M'</li>\n\t<li>'N'</li>\n\t<li>'O'</li>\n\t<li>'P'</li>\n\t<li>'Q'</li>\n\t<li>'R'</li>\n\t<li>'S'</li>\n\t<li>'T'</li>\n\t<li>'U'</li>\n\t<li>'V'</li>\n\t<li>'W'</li>\n\t<li>'X'</li>\n\t<li>'Y'</li>\n\t<li>'Z'</li>\n</ol>\n"
          },
          "metadata": {}
        }
      ]
    },
    {
      "metadata": {
        "trusted": true
      },
      "cell_type": "code",
      "source": "month.abb",
      "execution_count": 88,
      "outputs": [
        {
          "output_type": "display_data",
          "data": {
            "text/plain": " [1] \"Jan\" \"Feb\" \"Mar\" \"Apr\" \"May\" \"Jun\" \"Jul\" \"Aug\" \"Sep\" \"Oct\" \"Nov\" \"Dec\"",
            "text/latex": "\\begin{enumerate*}\n\\item 'Jan'\n\\item 'Feb'\n\\item 'Mar'\n\\item 'Apr'\n\\item 'May'\n\\item 'Jun'\n\\item 'Jul'\n\\item 'Aug'\n\\item 'Sep'\n\\item 'Oct'\n\\item 'Nov'\n\\item 'Dec'\n\\end{enumerate*}\n",
            "text/markdown": "1. 'Jan'\n2. 'Feb'\n3. 'Mar'\n4. 'Apr'\n5. 'May'\n6. 'Jun'\n7. 'Jul'\n8. 'Aug'\n9. 'Sep'\n10. 'Oct'\n11. 'Nov'\n12. 'Dec'\n\n\n",
            "text/html": "<ol class=list-inline>\n\t<li>'Jan'</li>\n\t<li>'Feb'</li>\n\t<li>'Mar'</li>\n\t<li>'Apr'</li>\n\t<li>'May'</li>\n\t<li>'Jun'</li>\n\t<li>'Jul'</li>\n\t<li>'Aug'</li>\n\t<li>'Sep'</li>\n\t<li>'Oct'</li>\n\t<li>'Nov'</li>\n\t<li>'Dec'</li>\n</ol>\n"
          },
          "metadata": {}
        }
      ]
    },
    {
      "metadata": {
        "trusted": true
      },
      "cell_type": "code",
      "source": "month.name",
      "execution_count": 89,
      "outputs": [
        {
          "output_type": "display_data",
          "data": {
            "text/plain": " [1] \"January\"   \"February\"  \"March\"     \"April\"     \"May\"       \"June\"     \n [7] \"July\"      \"August\"    \"September\" \"October\"   \"November\"  \"December\" ",
            "text/latex": "\\begin{enumerate*}\n\\item 'January'\n\\item 'February'\n\\item 'March'\n\\item 'April'\n\\item 'May'\n\\item 'June'\n\\item 'July'\n\\item 'August'\n\\item 'September'\n\\item 'October'\n\\item 'November'\n\\item 'December'\n\\end{enumerate*}\n",
            "text/markdown": "1. 'January'\n2. 'February'\n3. 'March'\n4. 'April'\n5. 'May'\n6. 'June'\n7. 'July'\n8. 'August'\n9. 'September'\n10. 'October'\n11. 'November'\n12. 'December'\n\n\n",
            "text/html": "<ol class=list-inline>\n\t<li>'January'</li>\n\t<li>'February'</li>\n\t<li>'March'</li>\n\t<li>'April'</li>\n\t<li>'May'</li>\n\t<li>'June'</li>\n\t<li>'July'</li>\n\t<li>'August'</li>\n\t<li>'September'</li>\n\t<li>'October'</li>\n\t<li>'November'</li>\n\t<li>'December'</li>\n</ol>\n"
          },
          "metadata": {}
        }
      ]
    },
    {
      "metadata": {
        "trusted": true
      },
      "cell_type": "code",
      "source": "# Structure of a list \nstr(my_list)",
      "execution_count": 90,
      "outputs": [
        {
          "output_type": "stream",
          "text": "List of 5\n $ 1st: num [1:4] 1 2 3 4\n $ 2nd: chr [1:3] \"sree\" \"jani\" \"Rani\"\n $ 3rd: int [1:5, 1:3] 1 2 3 4 5 6 7 8 9 10 ...\n $ 4th: chr \" Heloo How do you do\"\n $ 5th: num 123\n",
          "name": "stdout"
        }
      ]
    },
    {
      "metadata": {},
      "cell_type": "markdown",
      "source": "#### Adding and Removing elements from a list"
    },
    {
      "metadata": {
        "trusted": true
      },
      "cell_type": "code",
      "source": "# Adding\nmy_list[['6th']] <- c(23,45,67)",
      "execution_count": 91,
      "outputs": []
    },
    {
      "metadata": {
        "trusted": true
      },
      "cell_type": "code",
      "source": "my_list",
      "execution_count": 92,
      "outputs": [
        {
          "output_type": "display_data",
          "data": {
            "text/plain": "$`1st`\n[1] 1 2 3 4\n\n$`2nd`\n[1] \"sree\" \"jani\" \"Rani\"\n\n$`3rd`\n     [,1] [,2] [,3]\n[1,]    1    6   11\n[2,]    2    7   12\n[3,]    3    8   13\n[4,]    4    9   14\n[5,]    5   10   15\n\n$`4th`\n[1] \" Heloo How do you do\"\n\n$`5th`\n[1] 123\n\n$`6th`\n[1] 23 45 67\n",
            "text/latex": "\\begin{description}\n\\item[\\$`1st`] \\begin{enumerate*}\n\\item 1\n\\item 2\n\\item 3\n\\item 4\n\\end{enumerate*}\n\n\\item[\\$`2nd`] \\begin{enumerate*}\n\\item 'sree'\n\\item 'jani'\n\\item 'Rani'\n\\end{enumerate*}\n\n\\item[\\$`3rd`] A matrix: 5 x 3 of type int\n\\begin{tabular}{lll}\n\t 1 &  6 & 11\\\\\n\t 2 &  7 & 12\\\\\n\t 3 &  8 & 13\\\\\n\t 4 &  9 & 14\\\\\n\t 5 & 10 & 15\\\\\n\\end{tabular}\n\n\\item[\\$`4th`] ' Heloo How do you do'\n\\item[\\$`5th`] 123\n\\item[\\$`6th`] \\begin{enumerate*}\n\\item 23\n\\item 45\n\\item 67\n\\end{enumerate*}\n\n\\end{description}\n",
            "text/markdown": "$`1st`\n:   1. 1\n2. 2\n3. 3\n4. 4\n\n\n\n$`2nd`\n:   1. 'sree'\n2. 'jani'\n3. 'Rani'\n\n\n\n$`3rd`\n:   \nA matrix: 5 x 3 of type int\n\n| 1 |  6 | 11 |\n| 2 |  7 | 12 |\n| 3 |  8 | 13 |\n| 4 |  9 | 14 |\n| 5 | 10 | 15 |\n\n\n$`4th`\n:   ' Heloo How do you do'\n$`5th`\n:   123\n$`6th`\n:   1. 23\n2. 45\n3. 67\n\n\n\n\n\n",
            "text/html": "<dl>\n\t<dt>$`1st`</dt>\n\t\t<dd><ol class=list-inline>\n\t<li>1</li>\n\t<li>2</li>\n\t<li>3</li>\n\t<li>4</li>\n</ol>\n</dd>\n\t<dt>$`2nd`</dt>\n\t\t<dd><ol class=list-inline>\n\t<li>'sree'</li>\n\t<li>'jani'</li>\n\t<li>'Rani'</li>\n</ol>\n</dd>\n\t<dt>$`3rd`</dt>\n\t\t<dd><table>\n<caption>A matrix: 5 x 3 of type int</caption>\n<tbody>\n\t<tr><td>1</td><td> 6</td><td>11</td></tr>\n\t<tr><td>2</td><td> 7</td><td>12</td></tr>\n\t<tr><td>3</td><td> 8</td><td>13</td></tr>\n\t<tr><td>4</td><td> 9</td><td>14</td></tr>\n\t<tr><td>5</td><td>10</td><td>15</td></tr>\n</tbody>\n</table>\n</dd>\n\t<dt>$`4th`</dt>\n\t\t<dd>' Heloo How do you do'</dd>\n\t<dt>$`5th`</dt>\n\t\t<dd>123</dd>\n\t<dt>$`6th`</dt>\n\t\t<dd><ol class=list-inline>\n\t<li>23</li>\n\t<li>45</li>\n\t<li>67</li>\n</ol>\n</dd>\n</dl>\n"
          },
          "metadata": {}
        }
      ]
    },
    {
      "metadata": {
        "trusted": true
      },
      "cell_type": "code",
      "source": "# Removing 6th object\nmy_list[6] <- NULL",
      "execution_count": 93,
      "outputs": []
    },
    {
      "metadata": {
        "trusted": true
      },
      "cell_type": "code",
      "source": "my_list",
      "execution_count": 94,
      "outputs": [
        {
          "output_type": "display_data",
          "data": {
            "text/plain": "$`1st`\n[1] 1 2 3 4\n\n$`2nd`\n[1] \"sree\" \"jani\" \"Rani\"\n\n$`3rd`\n     [,1] [,2] [,3]\n[1,]    1    6   11\n[2,]    2    7   12\n[3,]    3    8   13\n[4,]    4    9   14\n[5,]    5   10   15\n\n$`4th`\n[1] \" Heloo How do you do\"\n\n$`5th`\n[1] 123\n",
            "text/latex": "\\begin{description}\n\\item[\\$`1st`] \\begin{enumerate*}\n\\item 1\n\\item 2\n\\item 3\n\\item 4\n\\end{enumerate*}\n\n\\item[\\$`2nd`] \\begin{enumerate*}\n\\item 'sree'\n\\item 'jani'\n\\item 'Rani'\n\\end{enumerate*}\n\n\\item[\\$`3rd`] A matrix: 5 x 3 of type int\n\\begin{tabular}{lll}\n\t 1 &  6 & 11\\\\\n\t 2 &  7 & 12\\\\\n\t 3 &  8 & 13\\\\\n\t 4 &  9 & 14\\\\\n\t 5 & 10 & 15\\\\\n\\end{tabular}\n\n\\item[\\$`4th`] ' Heloo How do you do'\n\\item[\\$`5th`] 123\n\\end{description}\n",
            "text/markdown": "$`1st`\n:   1. 1\n2. 2\n3. 3\n4. 4\n\n\n\n$`2nd`\n:   1. 'sree'\n2. 'jani'\n3. 'Rani'\n\n\n\n$`3rd`\n:   \nA matrix: 5 x 3 of type int\n\n| 1 |  6 | 11 |\n| 2 |  7 | 12 |\n| 3 |  8 | 13 |\n| 4 |  9 | 14 |\n| 5 | 10 | 15 |\n\n\n$`4th`\n:   ' Heloo How do you do'\n$`5th`\n:   123\n\n\n",
            "text/html": "<dl>\n\t<dt>$`1st`</dt>\n\t\t<dd><ol class=list-inline>\n\t<li>1</li>\n\t<li>2</li>\n\t<li>3</li>\n\t<li>4</li>\n</ol>\n</dd>\n\t<dt>$`2nd`</dt>\n\t\t<dd><ol class=list-inline>\n\t<li>'sree'</li>\n\t<li>'jani'</li>\n\t<li>'Rani'</li>\n</ol>\n</dd>\n\t<dt>$`3rd`</dt>\n\t\t<dd><table>\n<caption>A matrix: 5 x 3 of type int</caption>\n<tbody>\n\t<tr><td>1</td><td> 6</td><td>11</td></tr>\n\t<tr><td>2</td><td> 7</td><td>12</td></tr>\n\t<tr><td>3</td><td> 8</td><td>13</td></tr>\n\t<tr><td>4</td><td> 9</td><td>14</td></tr>\n\t<tr><td>5</td><td>10</td><td>15</td></tr>\n</tbody>\n</table>\n</dd>\n\t<dt>$`4th`</dt>\n\t\t<dd>' Heloo How do you do'</dd>\n\t<dt>$`5th`</dt>\n\t\t<dd>123</dd>\n</dl>\n"
          },
          "metadata": {}
        }
      ]
    },
    {
      "metadata": {
        "trusted": true
      },
      "cell_type": "code",
      "source": "",
      "execution_count": null,
      "outputs": []
    }
  ],
  "metadata": {
    "kernelspec": {
      "name": "r",
      "display_name": "R",
      "language": "R"
    },
    "language_info": {
      "mimetype": "text/x-r-source",
      "name": "R",
      "pygments_lexer": "r",
      "version": "3.4.1",
      "file_extension": ".r",
      "codemirror_mode": "r"
    }
  },
  "nbformat": 4,
  "nbformat_minor": 2
}