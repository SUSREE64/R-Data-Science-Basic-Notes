{
  "cells": [
    {
      "metadata": {
        "collapsed": true
      },
      "cell_type": "markdown",
      "source": "##  R - Vectors and Some built in methods\n\nVectors allow us to perform arithmetic, and logical operations element by element at one go on equal length similar class vectors. <br>\nVectors can be comparable to Pandas Series object of Python\n"
    },
    {
      "metadata": {
        "trusted": true
      },
      "cell_type": "code",
      "source": "# Some basic math operations on vectors\na<-c(1,2,3,4,5)\nb<-c(10,20,30,40,50)\n# add \nprint(a+b)\n#multiply\nprint(a*b)\n#divide\nprint(b/a)\n#subtract\nprint(a-b)\n#modulo\nprint(a%%b) # Reminder with %%\nprint(c(a,b)) # two vectors side by side as a single vector",
      "execution_count": 1,
      "outputs": [
        {
          "output_type": "stream",
          "text": "[1] 11 22 33 44 55\n[1]  10  40  90 160 250\n[1] 10 10 10 10 10\n[1]  -9 -18 -27 -36 -45\n[1] 1 2 3 4 5\n [1]  1  2  3  4  5 10 20 30 40 50\n",
          "name": "stdout"
        }
      ]
    },
    {
      "metadata": {},
      "cell_type": "markdown",
      "source": "### Recycling Rule\nIf two vectors are of unequal length, the shorter one will be recycled in order to match the longer vector. For example, the following vectors u and v have different lengths, and their sum is computed by recycling values of the shorter vector u."
    },
    {
      "metadata": {
        "trusted": true
      },
      "cell_type": "code",
      "source": " a <- c(1,2,3)\n b<- c(10,20,30, 40, 50,60)\nprint(a+b) # observe shorter vector get repeted to add ",
      "execution_count": 2,
      "outputs": [
        {
          "output_type": "stream",
          "text": "[1] 11 22 33 41 52 63\n",
          "name": "stdout"
        }
      ]
    },
    {
      "metadata": {
        "trusted": true
      },
      "cell_type": "markdown",
      "source": "### Some builtin Methods "
    },
    {
      "metadata": {
        "trusted": true
      },
      "cell_type": "code",
      "source": "vec1 <- c(1,2,3,4,5,6)\n# sum\nsum(vec1)",
      "execution_count": 3,
      "outputs": [
        {
          "output_type": "display_data",
          "data": {
            "text/plain": "[1] 21",
            "text/latex": "21",
            "text/markdown": "21",
            "text/html": "21"
          },
          "metadata": {}
        }
      ]
    },
    {
      "metadata": {
        "trusted": true
      },
      "cell_type": "code",
      "source": "prod(vec1) # product of all elements",
      "execution_count": 4,
      "outputs": [
        {
          "output_type": "display_data",
          "data": {
            "text/plain": "[1] 720",
            "text/latex": "720",
            "text/markdown": "720",
            "text/html": "720"
          },
          "metadata": {}
        }
      ]
    },
    {
      "metadata": {
        "trusted": true
      },
      "cell_type": "code",
      "source": "max(vec1) # Maximum value of the elements",
      "execution_count": 5,
      "outputs": [
        {
          "output_type": "display_data",
          "data": {
            "text/plain": "[1] 6",
            "text/latex": "6",
            "text/markdown": "6",
            "text/html": "6"
          },
          "metadata": {}
        }
      ]
    },
    {
      "metadata": {
        "trusted": true
      },
      "cell_type": "code",
      "source": "min(vec1)",
      "execution_count": 6,
      "outputs": [
        {
          "output_type": "display_data",
          "data": {
            "text/plain": "[1] 1",
            "text/latex": "1",
            "text/markdown": "1",
            "text/html": "1"
          },
          "metadata": {}
        }
      ]
    },
    {
      "metadata": {
        "trusted": true
      },
      "cell_type": "code",
      "source": "length(vec1)",
      "execution_count": 7,
      "outputs": [
        {
          "output_type": "display_data",
          "data": {
            "text/plain": "[1] 6",
            "text/latex": "6",
            "text/markdown": "6",
            "text/html": "6"
          },
          "metadata": {}
        }
      ]
    },
    {
      "metadata": {
        "trusted": true
      },
      "cell_type": "code",
      "source": "mean(vec1) # Mean",
      "execution_count": 8,
      "outputs": [
        {
          "output_type": "display_data",
          "data": {
            "text/plain": "[1] 3.5",
            "text/latex": "3.5",
            "text/markdown": "3.5",
            "text/html": "3.5"
          },
          "metadata": {}
        }
      ]
    },
    {
      "metadata": {
        "trusted": true
      },
      "cell_type": "code",
      "source": "sd(vec1)# Standard deviation ",
      "execution_count": 9,
      "outputs": [
        {
          "output_type": "display_data",
          "data": {
            "text/plain": "[1] 1.870829",
            "text/latex": "1.87082869338697",
            "text/markdown": "1.87082869338697",
            "text/html": "1.87082869338697"
          },
          "metadata": {}
        }
      ]
    },
    {
      "metadata": {
        "trusted": true
      },
      "cell_type": "code",
      "source": "vec <- c(5,6,0,18)\norder(vec) # This returs the index of sorted vector\nvec[order(vec)] # This returns the sorted vector",
      "execution_count": 10,
      "outputs": [
        {
          "output_type": "display_data",
          "data": {
            "text/plain": "[1] 3 1 2 4",
            "text/latex": "\\begin{enumerate*}\n\\item 3\n\\item 1\n\\item 2\n\\item 4\n\\end{enumerate*}\n",
            "text/markdown": "1. 3\n2. 1\n3. 2\n4. 4\n\n\n",
            "text/html": "<ol class=list-inline>\n\t<li>3</li>\n\t<li>1</li>\n\t<li>2</li>\n\t<li>4</li>\n</ol>\n"
          },
          "metadata": {}
        },
        {
          "output_type": "display_data",
          "data": {
            "text/plain": "[1]  0  5  6 18",
            "text/latex": "\\begin{enumerate*}\n\\item 0\n\\item 5\n\\item 6\n\\item 18\n\\end{enumerate*}\n",
            "text/markdown": "1. 0\n2. 5\n3. 6\n4. 18\n\n\n",
            "text/html": "<ol class=list-inline>\n\t<li>0</li>\n\t<li>5</li>\n\t<li>6</li>\n\t<li>18</li>\n</ol>\n"
          },
          "metadata": {}
        }
      ]
    },
    {
      "metadata": {
        "trusted": true
      },
      "cell_type": "code",
      "source": "# Comparision of vector with something",
      "execution_count": 11,
      "outputs": []
    },
    {
      "metadata": {
        "trusted": true
      },
      "cell_type": "code",
      "source": "vec1 < 2 # The result is a vector with true or false",
      "execution_count": 12,
      "outputs": [
        {
          "output_type": "display_data",
          "data": {
            "text/plain": "[1]  TRUE FALSE FALSE FALSE FALSE FALSE",
            "text/latex": "\\begin{enumerate*}\n\\item TRUE\n\\item FALSE\n\\item FALSE\n\\item FALSE\n\\item FALSE\n\\item FALSE\n\\end{enumerate*}\n",
            "text/markdown": "1. TRUE\n2. FALSE\n3. FALSE\n4. FALSE\n5. FALSE\n6. FALSE\n\n\n",
            "text/html": "<ol class=list-inline>\n\t<li>TRUE</li>\n\t<li>FALSE</li>\n\t<li>FALSE</li>\n\t<li>FALSE</li>\n\t<li>FALSE</li>\n\t<li>FALSE</li>\n</ol>\n"
          },
          "metadata": {}
        }
      ]
    },
    {
      "metadata": {
        "trusted": true
      },
      "cell_type": "code",
      "source": "vec1 == 3",
      "execution_count": 13,
      "outputs": [
        {
          "output_type": "display_data",
          "data": {
            "text/plain": "[1] FALSE FALSE  TRUE FALSE FALSE FALSE",
            "text/latex": "\\begin{enumerate*}\n\\item FALSE\n\\item FALSE\n\\item TRUE\n\\item FALSE\n\\item FALSE\n\\item FALSE\n\\end{enumerate*}\n",
            "text/markdown": "1. FALSE\n2. FALSE\n3. TRUE\n4. FALSE\n5. FALSE\n6. FALSE\n\n\n",
            "text/html": "<ol class=list-inline>\n\t<li>FALSE</li>\n\t<li>FALSE</li>\n\t<li>TRUE</li>\n\t<li>FALSE</li>\n\t<li>FALSE</li>\n\t<li>FALSE</li>\n</ol>\n"
          },
          "metadata": {}
        }
      ]
    },
    {
      "metadata": {
        "trusted": true
      },
      "cell_type": "code",
      "source": "# sorting a vector\nvec1 <- c(2,8,0,12,7,6,0,15,9)\nsort(vec1) # this results into another vecor",
      "execution_count": 14,
      "outputs": [
        {
          "output_type": "display_data",
          "data": {
            "text/plain": "[1]  0  0  2  6  7  8  9 12 15",
            "text/latex": "\\begin{enumerate*}\n\\item 0\n\\item 0\n\\item 2\n\\item 6\n\\item 7\n\\item 8\n\\item 9\n\\item 12\n\\item 15\n\\end{enumerate*}\n",
            "text/markdown": "1. 0\n2. 0\n3. 2\n4. 6\n5. 7\n6. 8\n7. 9\n8. 12\n9. 15\n\n\n",
            "text/html": "<ol class=list-inline>\n\t<li>0</li>\n\t<li>0</li>\n\t<li>2</li>\n\t<li>6</li>\n\t<li>7</li>\n\t<li>8</li>\n\t<li>9</li>\n\t<li>12</li>\n\t<li>15</li>\n</ol>\n"
          },
          "metadata": {}
        }
      ]
    },
    {
      "metadata": {},
      "cell_type": "markdown",
      "source": "#### reversing a vector "
    },
    {
      "metadata": {
        "trusted": true
      },
      "cell_type": "code",
      "source": "vec1 <- c(1,4,7,9,0,2,5)\nrev(vec1)",
      "execution_count": 36,
      "outputs": [
        {
          "output_type": "display_data",
          "data": {
            "text/plain": "[1] 5 2 0 9 7 4 1",
            "text/latex": "\\begin{enumerate*}\n\\item 5\n\\item 2\n\\item 0\n\\item 9\n\\item 7\n\\item 4\n\\item 1\n\\end{enumerate*}\n",
            "text/markdown": "1. 5\n2. 2\n3. 0\n4. 9\n5. 7\n6. 4\n7. 1\n\n\n",
            "text/html": "<ol class=list-inline>\n\t<li>5</li>\n\t<li>2</li>\n\t<li>0</li>\n\t<li>9</li>\n\t<li>7</li>\n\t<li>4</li>\n\t<li>1</li>\n</ol>\n"
          },
          "metadata": {}
        }
      ]
    },
    {
      "metadata": {
        "trusted": true
      },
      "cell_type": "markdown",
      "source": "### Vector Indexing and Slicing"
    },
    {
      "metadata": {
        "trusted": true
      },
      "cell_type": "code",
      "source": "# Indexing is selecting the elements of  vector \nvec1 <- c(1,2,3,4,5,6,7,8.9,10)\n# finding the 5th element\nvec1[5]",
      "execution_count": 15,
      "outputs": [
        {
          "output_type": "display_data",
          "data": {
            "text/plain": "[1] 5",
            "text/latex": "5",
            "text/markdown": "5",
            "text/html": "5"
          },
          "metadata": {}
        }
      ]
    },
    {
      "metadata": {
        "trusted": true
      },
      "cell_type": "code",
      "source": "# finding multiple elements\n# grab 2, 5, 7th elements\nvec1[c(2,5,7)]",
      "execution_count": 16,
      "outputs": [
        {
          "output_type": "display_data",
          "data": {
            "text/plain": "[1] 2 5 7",
            "text/latex": "\\begin{enumerate*}\n\\item 2\n\\item 5\n\\item 7\n\\end{enumerate*}\n",
            "text/markdown": "1. 2\n2. 5\n3. 7\n\n\n",
            "text/html": "<ol class=list-inline>\n\t<li>2</li>\n\t<li>5</li>\n\t<li>7</li>\n</ol>\n"
          },
          "metadata": {}
        }
      ]
    },
    {
      "metadata": {
        "trusted": true
      },
      "cell_type": "code",
      "source": "# Slicing is getting a chunk \n# grab 2nd element to 8th element\nvec1[2:9] # vec(start:end)",
      "execution_count": 17,
      "outputs": [
        {
          "output_type": "display_data",
          "data": {
            "text/plain": "[1]  2.0  3.0  4.0  5.0  6.0  7.0  8.9 10.0",
            "text/latex": "\\begin{enumerate*}\n\\item 2\n\\item 3\n\\item 4\n\\item 5\n\\item 6\n\\item 7\n\\item 8.9\n\\item 10\n\\end{enumerate*}\n",
            "text/markdown": "1. 2\n2. 3\n3. 4\n4. 5\n5. 6\n6. 7\n7. 8.9\n8. 10\n\n\n",
            "text/html": "<ol class=list-inline>\n\t<li>2</li>\n\t<li>3</li>\n\t<li>4</li>\n\t<li>5</li>\n\t<li>6</li>\n\t<li>7</li>\n\t<li>8.9</li>\n\t<li>10</li>\n</ol>\n"
          },
          "metadata": {}
        }
      ]
    },
    {
      "metadata": {
        "trusted": true
      },
      "cell_type": "code",
      "source": "# Named indexing\nvec1 <- c(10, 20, 33,45, 6, 78, 100, 23)\ntitles <-c('a', 'b', 'c', 'd', \"e\",'f','g','h')\nnames(vec1)<- titles\nvec1",
      "execution_count": 18,
      "outputs": [
        {
          "output_type": "display_data",
          "data": {
            "text/plain": "  a   b   c   d   e   f   g   h \n 10  20  33  45   6  78 100  23 ",
            "text/latex": "\\begin{description*}\n\\item[a] 10\n\\item[b] 20\n\\item[c] 33\n\\item[d] 45\n\\item[e] 6\n\\item[f] 78\n\\item[g] 100\n\\item[h] 23\n\\end{description*}\n",
            "text/markdown": "a\n:   10b\n:   20c\n:   33d\n:   45e\n:   6f\n:   78g\n:   100h\n:   23\n\n",
            "text/html": "<dl class=dl-horizontal>\n\t<dt>a</dt>\n\t\t<dd>10</dd>\n\t<dt>b</dt>\n\t\t<dd>20</dd>\n\t<dt>c</dt>\n\t\t<dd>33</dd>\n\t<dt>d</dt>\n\t\t<dd>45</dd>\n\t<dt>e</dt>\n\t\t<dd>6</dd>\n\t<dt>f</dt>\n\t\t<dd>78</dd>\n\t<dt>g</dt>\n\t\t<dd>100</dd>\n\t<dt>h</dt>\n\t\t<dd>23</dd>\n</dl>\n"
          },
          "metadata": {}
        }
      ]
    },
    {
      "metadata": {
        "trusted": true
      },
      "cell_type": "code",
      "source": "vec1[c('d','f','g')] # named indexing",
      "execution_count": 19,
      "outputs": [
        {
          "output_type": "display_data",
          "data": {
            "text/plain": "  d   f   g \n 45  78 100 ",
            "text/latex": "\\begin{description*}\n\\item[d] 45\n\\item[f] 78\n\\item[g] 100\n\\end{description*}\n",
            "text/markdown": "d\n:   45f\n:   78g\n:   100\n\n",
            "text/html": "<dl class=dl-horizontal>\n\t<dt>d</dt>\n\t\t<dd>45</dd>\n\t<dt>f</dt>\n\t\t<dd>78</dd>\n\t<dt>g</dt>\n\t\t<dd>100</dd>\n</dl>\n"
          },
          "metadata": {}
        }
      ]
    },
    {
      "metadata": {},
      "cell_type": "markdown",
      "source": "### Logical filtering or Boolean masking"
    },
    {
      "metadata": {
        "trusted": true
      },
      "cell_type": "code",
      "source": "vec1 [vec1 >5]",
      "execution_count": 20,
      "outputs": [
        {
          "output_type": "display_data",
          "data": {
            "text/plain": "  a   b   c   d   e   f   g   h \n 10  20  33  45   6  78 100  23 ",
            "text/latex": "\\begin{description*}\n\\item[a] 10\n\\item[b] 20\n\\item[c] 33\n\\item[d] 45\n\\item[e] 6\n\\item[f] 78\n\\item[g] 100\n\\item[h] 23\n\\end{description*}\n",
            "text/markdown": "a\n:   10b\n:   20c\n:   33d\n:   45e\n:   6f\n:   78g\n:   100h\n:   23\n\n",
            "text/html": "<dl class=dl-horizontal>\n\t<dt>a</dt>\n\t\t<dd>10</dd>\n\t<dt>b</dt>\n\t\t<dd>20</dd>\n\t<dt>c</dt>\n\t\t<dd>33</dd>\n\t<dt>d</dt>\n\t\t<dd>45</dd>\n\t<dt>e</dt>\n\t\t<dd>6</dd>\n\t<dt>f</dt>\n\t\t<dd>78</dd>\n\t<dt>g</dt>\n\t\t<dd>100</dd>\n\t<dt>h</dt>\n\t\t<dd>23</dd>\n</dl>\n"
          },
          "metadata": {}
        }
      ]
    },
    {
      "metadata": {
        "trusted": true
      },
      "cell_type": "code",
      "source": "vec1[vec1 == 10] #This feature is very useful in filtering the data",
      "execution_count": 21,
      "outputs": [
        {
          "output_type": "display_data",
          "data": {
            "text/plain": " a \n10 ",
            "text/latex": "\\textbf{a:} 10",
            "text/markdown": "**a:** 10",
            "text/html": "<strong>a:</strong> 10"
          },
          "metadata": {}
        }
      ]
    },
    {
      "metadata": {
        "trusted": true
      },
      "cell_type": "markdown",
      "source": "#### Adding elements to vector"
    },
    {
      "metadata": {
        "trusted": true
      },
      "cell_type": "code",
      "source": "append(vec1 ,10) # Note at 9th elenment 10 is added\n",
      "execution_count": 23,
      "outputs": [
        {
          "output_type": "display_data",
          "data": {
            "text/plain": "  a   b   c   d   e   f   g   h     \n 10  20  33  45   6  78 100  23  10 ",
            "text/latex": "\\begin{description*}\n\\item[a] 10\n\\item[b] 20\n\\item[c] 33\n\\item[d] 45\n\\item[e] 6\n\\item[f] 78\n\\item[g] 100\n\\item[h] 23\n\\item[9] 10\n\\end{description*}\n",
            "text/markdown": "a\n:   10b\n:   20c\n:   33d\n:   45e\n:   6f\n:   78g\n:   100h\n:   239\n:   10\n\n",
            "text/html": "<dl class=dl-horizontal>\n\t<dt>a</dt>\n\t\t<dd>10</dd>\n\t<dt>b</dt>\n\t\t<dd>20</dd>\n\t<dt>c</dt>\n\t\t<dd>33</dd>\n\t<dt>d</dt>\n\t\t<dd>45</dd>\n\t<dt>e</dt>\n\t\t<dd>6</dd>\n\t<dt>f</dt>\n\t\t<dd>78</dd>\n\t<dt>g</dt>\n\t\t<dd>100</dd>\n\t<dt>h</dt>\n\t\t<dd>23</dd>\n\t<dt>9</dt>\n\t\t<dd>10</dd>\n</dl>\n"
          },
          "metadata": {}
        }
      ]
    },
    {
      "metadata": {
        "trusted": true
      },
      "cell_type": "code",
      "source": "# Another way of adding\nvec1<- c(vec1, 23) # note 23 added as 10th element\nvec1",
      "execution_count": 25,
      "outputs": [
        {
          "output_type": "display_data",
          "data": {
            "text/plain": "  a   b   c   d   e   f   g   h         \n 10  20  33  45   6  78 100  23  23  23 ",
            "text/latex": "\\begin{description*}\n\\item[a] 10\n\\item[b] 20\n\\item[c] 33\n\\item[d] 45\n\\item[e] 6\n\\item[f] 78\n\\item[g] 100\n\\item[h] 23\n\\item[9] 23\n\\item[10] 23\n\\end{description*}\n",
            "text/markdown": "a\n:   10b\n:   20c\n:   33d\n:   45e\n:   6f\n:   78g\n:   100h\n:   239\n:   2310\n:   23\n\n",
            "text/html": "<dl class=dl-horizontal>\n\t<dt>a</dt>\n\t\t<dd>10</dd>\n\t<dt>b</dt>\n\t\t<dd>20</dd>\n\t<dt>c</dt>\n\t\t<dd>33</dd>\n\t<dt>d</dt>\n\t\t<dd>45</dd>\n\t<dt>e</dt>\n\t\t<dd>6</dd>\n\t<dt>f</dt>\n\t\t<dd>78</dd>\n\t<dt>g</dt>\n\t\t<dd>100</dd>\n\t<dt>h</dt>\n\t\t<dd>23</dd>\n\t<dt>9</dt>\n\t\t<dd>23</dd>\n\t<dt>10</dt>\n\t\t<dd>23</dd>\n</dl>\n"
          },
          "metadata": {}
        }
      ]
    },
    {
      "metadata": {},
      "cell_type": "markdown",
      "source": "#### Removing the last element of vector "
    },
    {
      "metadata": {
        "trusted": true
      },
      "cell_type": "code",
      "source": "head(vec1,-2) # Last two elements are removed we can reassign this to original vector to permanently remeove",
      "execution_count": 32,
      "outputs": [
        {
          "output_type": "display_data",
          "data": {
            "text/plain": "  a   b   c   d   e   f   g   h \n 10  20  33  45   6  78 100  23 ",
            "text/latex": "\\begin{description*}\n\\item[a] 10\n\\item[b] 20\n\\item[c] 33\n\\item[d] 45\n\\item[e] 6\n\\item[f] 78\n\\item[g] 100\n\\item[h] 23\n\\end{description*}\n",
            "text/markdown": "a\n:   10b\n:   20c\n:   33d\n:   45e\n:   6f\n:   78g\n:   100h\n:   23\n\n",
            "text/html": "<dl class=dl-horizontal>\n\t<dt>a</dt>\n\t\t<dd>10</dd>\n\t<dt>b</dt>\n\t\t<dd>20</dd>\n\t<dt>c</dt>\n\t\t<dd>33</dd>\n\t<dt>d</dt>\n\t\t<dd>45</dd>\n\t<dt>e</dt>\n\t\t<dd>6</dd>\n\t<dt>f</dt>\n\t\t<dd>78</dd>\n\t<dt>g</dt>\n\t\t<dd>100</dd>\n\t<dt>h</dt>\n\t\t<dd>23</dd>\n</dl>\n"
          },
          "metadata": {}
        }
      ]
    },
    {
      "metadata": {
        "trusted": true
      },
      "cell_type": "code",
      "source": "vec1 <- head(vec1, -1)\nvec1",
      "execution_count": 34,
      "outputs": [
        {
          "output_type": "display_data",
          "data": {
            "text/plain": "  a   b   c   d   e   f   g   h \n 10  20  33  45   6  78 100  23 ",
            "text/latex": "\\begin{description*}\n\\item[a] 10\n\\item[b] 20\n\\item[c] 33\n\\item[d] 45\n\\item[e] 6\n\\item[f] 78\n\\item[g] 100\n\\item[h] 23\n\\end{description*}\n",
            "text/markdown": "a\n:   10b\n:   20c\n:   33d\n:   45e\n:   6f\n:   78g\n:   100h\n:   23\n\n",
            "text/html": "<dl class=dl-horizontal>\n\t<dt>a</dt>\n\t\t<dd>10</dd>\n\t<dt>b</dt>\n\t\t<dd>20</dd>\n\t<dt>c</dt>\n\t\t<dd>33</dd>\n\t<dt>d</dt>\n\t\t<dd>45</dd>\n\t<dt>e</dt>\n\t\t<dd>6</dd>\n\t<dt>f</dt>\n\t\t<dd>78</dd>\n\t<dt>g</dt>\n\t\t<dd>100</dd>\n\t<dt>h</dt>\n\t\t<dd>23</dd>\n</dl>\n"
          },
          "metadata": {}
        }
      ]
    },
    {
      "metadata": {
        "trusted": true
      },
      "cell_type": "code",
      "source": "",
      "execution_count": null,
      "outputs": []
    }
  ],
  "metadata": {
    "kernelspec": {
      "name": "r",
      "display_name": "R",
      "language": "R"
    },
    "language_info": {
      "mimetype": "text/x-r-source",
      "name": "R",
      "pygments_lexer": "r",
      "version": "3.4.1",
      "file_extension": ".r",
      "codemirror_mode": "r"
    }
  },
  "nbformat": 4,
  "nbformat_minor": 2
}