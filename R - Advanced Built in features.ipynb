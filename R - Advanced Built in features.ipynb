{
  "cells": [
    {
      "metadata": {
        "collapsed": true
      },
      "cell_type": "markdown",
      "source": "### R- Advanced Built in Features"
    },
    {
      "metadata": {},
      "cell_type": "markdown",
      "source": "#### seq() - Create Sequences"
    },
    {
      "metadata": {
        "trusted": true
      },
      "cell_type": "code",
      "source": "# syntax\n# seq(start, end, by=stepsize)\nseq(0, 100, by=2)",
      "execution_count": 13,
      "outputs": [
        {
          "output_type": "display_data",
          "data": {
            "text/plain": " [1]   0   2   4   6   8  10  12  14  16  18  20  22  24  26  28  30  32  34  36\n[20]  38  40  42  44  46  48  50  52  54  56  58  60  62  64  66  68  70  72  74\n[39]  76  78  80  82  84  86  88  90  92  94  96  98 100",
            "text/latex": "\\begin{enumerate*}\n\\item 0\n\\item 2\n\\item 4\n\\item 6\n\\item 8\n\\item 10\n\\item 12\n\\item 14\n\\item 16\n\\item 18\n\\item 20\n\\item 22\n\\item 24\n\\item 26\n\\item 28\n\\item 30\n\\item 32\n\\item 34\n\\item 36\n\\item 38\n\\item 40\n\\item 42\n\\item 44\n\\item 46\n\\item 48\n\\item 50\n\\item 52\n\\item 54\n\\item 56\n\\item 58\n\\item 60\n\\item 62\n\\item 64\n\\item 66\n\\item 68\n\\item 70\n\\item 72\n\\item 74\n\\item 76\n\\item 78\n\\item 80\n\\item 82\n\\item 84\n\\item 86\n\\item 88\n\\item 90\n\\item 92\n\\item 94\n\\item 96\n\\item 98\n\\item 100\n\\end{enumerate*}\n",
            "text/markdown": "1. 0\n2. 2\n3. 4\n4. 6\n5. 8\n6. 10\n7. 12\n8. 14\n9. 16\n10. 18\n11. 20\n12. 22\n13. 24\n14. 26\n15. 28\n16. 30\n17. 32\n18. 34\n19. 36\n20. 38\n21. 40\n22. 42\n23. 44\n24. 46\n25. 48\n26. 50\n27. 52\n28. 54\n29. 56\n30. 58\n31. 60\n32. 62\n33. 64\n34. 66\n35. 68\n36. 70\n37. 72\n38. 74\n39. 76\n40. 78\n41. 80\n42. 82\n43. 84\n44. 86\n45. 88\n46. 90\n47. 92\n48. 94\n49. 96\n50. 98\n51. 100\n\n\n",
            "text/html": "<ol class=list-inline>\n\t<li>0</li>\n\t<li>2</li>\n\t<li>4</li>\n\t<li>6</li>\n\t<li>8</li>\n\t<li>10</li>\n\t<li>12</li>\n\t<li>14</li>\n\t<li>16</li>\n\t<li>18</li>\n\t<li>20</li>\n\t<li>22</li>\n\t<li>24</li>\n\t<li>26</li>\n\t<li>28</li>\n\t<li>30</li>\n\t<li>32</li>\n\t<li>34</li>\n\t<li>36</li>\n\t<li>38</li>\n\t<li>40</li>\n\t<li>42</li>\n\t<li>44</li>\n\t<li>46</li>\n\t<li>48</li>\n\t<li>50</li>\n\t<li>52</li>\n\t<li>54</li>\n\t<li>56</li>\n\t<li>58</li>\n\t<li>60</li>\n\t<li>62</li>\n\t<li>64</li>\n\t<li>66</li>\n\t<li>68</li>\n\t<li>70</li>\n\t<li>72</li>\n\t<li>74</li>\n\t<li>76</li>\n\t<li>78</li>\n\t<li>80</li>\n\t<li>82</li>\n\t<li>84</li>\n\t<li>86</li>\n\t<li>88</li>\n\t<li>90</li>\n\t<li>92</li>\n\t<li>94</li>\n\t<li>96</li>\n\t<li>98</li>\n\t<li>100</li>\n</ol>\n"
          },
          "metadata": {}
        }
      ]
    },
    {
      "metadata": {
        "trusted": true
      },
      "cell_type": "code",
      "source": "seq(100, 0, by = -2) #reverse the same as above",
      "execution_count": 14,
      "outputs": [
        {
          "output_type": "display_data",
          "data": {
            "text/plain": " [1] 100  98  96  94  92  90  88  86  84  82  80  78  76  74  72  70  68  66  64\n[20]  62  60  58  56  54  52  50  48  46  44  42  40  38  36  34  32  30  28  26\n[39]  24  22  20  18  16  14  12  10   8   6   4   2   0",
            "text/latex": "\\begin{enumerate*}\n\\item 100\n\\item 98\n\\item 96\n\\item 94\n\\item 92\n\\item 90\n\\item 88\n\\item 86\n\\item 84\n\\item 82\n\\item 80\n\\item 78\n\\item 76\n\\item 74\n\\item 72\n\\item 70\n\\item 68\n\\item 66\n\\item 64\n\\item 62\n\\item 60\n\\item 58\n\\item 56\n\\item 54\n\\item 52\n\\item 50\n\\item 48\n\\item 46\n\\item 44\n\\item 42\n\\item 40\n\\item 38\n\\item 36\n\\item 34\n\\item 32\n\\item 30\n\\item 28\n\\item 26\n\\item 24\n\\item 22\n\\item 20\n\\item 18\n\\item 16\n\\item 14\n\\item 12\n\\item 10\n\\item 8\n\\item 6\n\\item 4\n\\item 2\n\\item 0\n\\end{enumerate*}\n",
            "text/markdown": "1. 100\n2. 98\n3. 96\n4. 94\n5. 92\n6. 90\n7. 88\n8. 86\n9. 84\n10. 82\n11. 80\n12. 78\n13. 76\n14. 74\n15. 72\n16. 70\n17. 68\n18. 66\n19. 64\n20. 62\n21. 60\n22. 58\n23. 56\n24. 54\n25. 52\n26. 50\n27. 48\n28. 46\n29. 44\n30. 42\n31. 40\n32. 38\n33. 36\n34. 34\n35. 32\n36. 30\n37. 28\n38. 26\n39. 24\n40. 22\n41. 20\n42. 18\n43. 16\n44. 14\n45. 12\n46. 10\n47. 8\n48. 6\n49. 4\n50. 2\n51. 0\n\n\n",
            "text/html": "<ol class=list-inline>\n\t<li>100</li>\n\t<li>98</li>\n\t<li>96</li>\n\t<li>94</li>\n\t<li>92</li>\n\t<li>90</li>\n\t<li>88</li>\n\t<li>86</li>\n\t<li>84</li>\n\t<li>82</li>\n\t<li>80</li>\n\t<li>78</li>\n\t<li>76</li>\n\t<li>74</li>\n\t<li>72</li>\n\t<li>70</li>\n\t<li>68</li>\n\t<li>66</li>\n\t<li>64</li>\n\t<li>62</li>\n\t<li>60</li>\n\t<li>58</li>\n\t<li>56</li>\n\t<li>54</li>\n\t<li>52</li>\n\t<li>50</li>\n\t<li>48</li>\n\t<li>46</li>\n\t<li>44</li>\n\t<li>42</li>\n\t<li>40</li>\n\t<li>38</li>\n\t<li>36</li>\n\t<li>34</li>\n\t<li>32</li>\n\t<li>30</li>\n\t<li>28</li>\n\t<li>26</li>\n\t<li>24</li>\n\t<li>22</li>\n\t<li>20</li>\n\t<li>18</li>\n\t<li>16</li>\n\t<li>14</li>\n\t<li>12</li>\n\t<li>10</li>\n\t<li>8</li>\n\t<li>6</li>\n\t<li>4</li>\n\t<li>2</li>\n\t<li>0</li>\n</ol>\n"
          },
          "metadata": {}
        }
      ]
    },
    {
      "metadata": {},
      "cell_type": "markdown",
      "source": "#### sort() - sort an object"
    },
    {
      "metadata": {
        "trusted": true
      },
      "cell_type": "code",
      "source": "vec1 <- c(1,3,6,0, 23, 1,55,2)\nsort(vec1)",
      "execution_count": 15,
      "outputs": [
        {
          "output_type": "display_data",
          "data": {
            "text/plain": "[1]  0  1  1  2  3  6 23 55",
            "text/latex": "\\begin{enumerate*}\n\\item 0\n\\item 1\n\\item 1\n\\item 2\n\\item 3\n\\item 6\n\\item 23\n\\item 55\n\\end{enumerate*}\n",
            "text/markdown": "1. 0\n2. 1\n3. 1\n4. 2\n5. 3\n6. 6\n7. 23\n8. 55\n\n\n",
            "text/html": "<ol class=list-inline>\n\t<li>0</li>\n\t<li>1</li>\n\t<li>1</li>\n\t<li>2</li>\n\t<li>3</li>\n\t<li>6</li>\n\t<li>23</li>\n\t<li>55</li>\n</ol>\n"
          },
          "metadata": {}
        }
      ]
    },
    {
      "metadata": {
        "trusted": true
      },
      "cell_type": "code",
      "source": "sort(vec1, decreasing = TRUE)",
      "execution_count": 16,
      "outputs": [
        {
          "output_type": "display_data",
          "data": {
            "text/plain": "[1] 55 23  6  3  2  1  1  0",
            "text/latex": "\\begin{enumerate*}\n\\item 55\n\\item 23\n\\item 6\n\\item 3\n\\item 2\n\\item 1\n\\item 1\n\\item 0\n\\end{enumerate*}\n",
            "text/markdown": "1. 55\n2. 23\n3. 6\n4. 3\n5. 2\n6. 1\n7. 1\n8. 0\n\n\n",
            "text/html": "<ol class=list-inline>\n\t<li>55</li>\n\t<li>23</li>\n\t<li>6</li>\n\t<li>3</li>\n\t<li>2</li>\n\t<li>1</li>\n\t<li>1</li>\n\t<li>0</li>\n</ol>\n"
          },
          "metadata": {}
        }
      ]
    },
    {
      "metadata": {
        "trusted": true
      },
      "cell_type": "code",
      "source": "chr_vec <- c('a','m','b','f', 'x')\nsort(chr_vec)",
      "execution_count": 17,
      "outputs": [
        {
          "output_type": "display_data",
          "data": {
            "text/plain": "[1] \"a\" \"b\" \"f\" \"m\" \"x\"",
            "text/latex": "\\begin{enumerate*}\n\\item 'a'\n\\item 'b'\n\\item 'f'\n\\item 'm'\n\\item 'x'\n\\end{enumerate*}\n",
            "text/markdown": "1. 'a'\n2. 'b'\n3. 'f'\n4. 'm'\n5. 'x'\n\n\n",
            "text/html": "<ol class=list-inline>\n\t<li>'a'</li>\n\t<li>'b'</li>\n\t<li>'f'</li>\n\t<li>'m'</li>\n\t<li>'x'</li>\n</ol>\n"
          },
          "metadata": {}
        }
      ]
    },
    {
      "metadata": {
        "trusted": true
      },
      "cell_type": "code",
      "source": "sort(chr_vec, decreasing = TRUE)",
      "execution_count": 18,
      "outputs": [
        {
          "output_type": "display_data",
          "data": {
            "text/plain": "[1] \"x\" \"m\" \"f\" \"b\" \"a\"",
            "text/latex": "\\begin{enumerate*}\n\\item 'x'\n\\item 'm'\n\\item 'f'\n\\item 'b'\n\\item 'a'\n\\end{enumerate*}\n",
            "text/markdown": "1. 'x'\n2. 'm'\n3. 'f'\n4. 'b'\n5. 'a'\n\n\n",
            "text/html": "<ol class=list-inline>\n\t<li>'x'</li>\n\t<li>'m'</li>\n\t<li>'f'</li>\n\t<li>'b'</li>\n\t<li>'a'</li>\n</ol>\n"
          },
          "metadata": {}
        }
      ]
    },
    {
      "metadata": {},
      "cell_type": "markdown",
      "source": "#### rev() - Reverse an object"
    },
    {
      "metadata": {
        "trusted": true
      },
      "cell_type": "code",
      "source": "rev(chr_vec)",
      "execution_count": 20,
      "outputs": [
        {
          "output_type": "display_data",
          "data": {
            "text/plain": "[1] \"x\" \"f\" \"b\" \"m\" \"a\"",
            "text/latex": "\\begin{enumerate*}\n\\item 'x'\n\\item 'f'\n\\item 'b'\n\\item 'm'\n\\item 'a'\n\\end{enumerate*}\n",
            "text/markdown": "1. 'x'\n2. 'f'\n3. 'b'\n4. 'm'\n5. 'a'\n\n\n",
            "text/html": "<ol class=list-inline>\n\t<li>'x'</li>\n\t<li>'f'</li>\n\t<li>'b'</li>\n\t<li>'m'</li>\n\t<li>'a'</li>\n</ol>\n"
          },
          "metadata": {}
        }
      ]
    },
    {
      "metadata": {
        "trusted": true
      },
      "cell_type": "code",
      "source": "vec1 <- c(10,340,56,7, 0)\nrev(vec1)",
      "execution_count": 22,
      "outputs": [
        {
          "output_type": "display_data",
          "data": {
            "text/plain": "[1]   0   7  56 340  10",
            "text/latex": "\\begin{enumerate*}\n\\item 0\n\\item 7\n\\item 56\n\\item 340\n\\item 10\n\\end{enumerate*}\n",
            "text/markdown": "1. 0\n2. 7\n3. 56\n4. 340\n5. 10\n\n\n",
            "text/html": "<ol class=list-inline>\n\t<li>0</li>\n\t<li>7</li>\n\t<li>56</li>\n\t<li>340</li>\n\t<li>10</li>\n</ol>\n"
          },
          "metadata": {}
        }
      ]
    },
    {
      "metadata": {},
      "cell_type": "markdown",
      "source": "#### sample() function "
    },
    {
      "metadata": {
        "trusted": true
      },
      "cell_type": "code",
      "source": "# this function grabs sample items from an object randomly.\nsample(1:100, 5) # from a sequence of 1 to 10, pick sample of 5 ( random ) elements",
      "execution_count": 23,
      "outputs": [
        {
          "output_type": "display_data",
          "data": {
            "text/plain": "[1] 68 52 82 44 59",
            "text/latex": "\\begin{enumerate*}\n\\item 68\n\\item 52\n\\item 82\n\\item 44\n\\item 59\n\\end{enumerate*}\n",
            "text/markdown": "1. 68\n2. 52\n3. 82\n4. 44\n5. 59\n\n\n",
            "text/html": "<ol class=list-inline>\n\t<li>68</li>\n\t<li>52</li>\n\t<li>82</li>\n\t<li>44</li>\n\t<li>59</li>\n</ol>\n"
          },
          "metadata": {}
        }
      ]
    },
    {
      "metadata": {
        "trusted": true
      },
      "cell_type": "code",
      "source": "sample(1:100, 5)",
      "execution_count": 24,
      "outputs": [
        {
          "output_type": "display_data",
          "data": {
            "text/plain": "[1] 33 28 29 50 48",
            "text/latex": "\\begin{enumerate*}\n\\item 33\n\\item 28\n\\item 29\n\\item 50\n\\item 48\n\\end{enumerate*}\n",
            "text/markdown": "1. 33\n2. 28\n3. 29\n4. 50\n5. 48\n\n\n",
            "text/html": "<ol class=list-inline>\n\t<li>33</li>\n\t<li>28</li>\n\t<li>29</li>\n\t<li>50</li>\n\t<li>48</li>\n</ol>\n"
          },
          "metadata": {}
        }
      ]
    },
    {
      "metadata": {
        "trusted": true
      },
      "cell_type": "markdown",
      "source": "#### siginif()"
    },
    {
      "metadata": {
        "trusted": true
      },
      "cell_type": "code",
      "source": "# Significant number of digits\nsignif(1236789,3) # signification 3 digits (rounded )",
      "execution_count": 2,
      "outputs": [
        {
          "output_type": "display_data",
          "data": {
            "text/plain": "[1] 1240000",
            "text/latex": "1240000",
            "text/markdown": "1240000",
            "text/html": "1240000"
          },
          "metadata": {}
        }
      ]
    },
    {
      "metadata": {
        "trusted": true
      },
      "cell_type": "code",
      "source": "signif(1289000,4)",
      "execution_count": 5,
      "outputs": [
        {
          "output_type": "display_data",
          "data": {
            "text/plain": "[1] 1289000",
            "text/latex": "1289000",
            "text/markdown": "1289000",
            "text/html": "1289000"
          },
          "metadata": {}
        }
      ]
    },
    {
      "metadata": {
        "trusted": true
      },
      "cell_type": "code",
      "source": "",
      "execution_count": null,
      "outputs": []
    }
  ],
  "metadata": {
    "kernelspec": {
      "name": "r",
      "display_name": "R",
      "language": "R"
    },
    "language_info": {
      "mimetype": "text/x-r-source",
      "name": "R",
      "pygments_lexer": "r",
      "version": "3.5.3",
      "file_extension": ".r",
      "codemirror_mode": "r"
    }
  },
  "nbformat": 4,
  "nbformat_minor": 2
}