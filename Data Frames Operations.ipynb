{
  "cells": [
    {
      "metadata": {
        "collapsed": true
      },
      "cell_type": "markdown",
      "source": "### Selection and Indexing the Dataframes"
    },
    {
      "metadata": {
        "trusted": true
      },
      "cell_type": "code",
      "source": "# For practice purpose let us make a dataframe from vectors\n# Making a data frame from scratch\nDays <- c(\"Mon\", \"Tue\", \"Wed\", \"Thu\", \"Fri\", \"Sat\", \"Sun\")\nTemps <- c(32,34,33.5,31,33,33.8,35)\nRain <- c(T,T,F,F,T,F,T)\ndf1<- data.frame(Days,Temps,Rain)\ndf1",
      "execution_count": 1,
      "outputs": [
        {
          "output_type": "display_data",
          "data": {
            "text/plain": "  Days Temps Rain \n1 Mon  32.0   TRUE\n2 Tue  34.0   TRUE\n3 Wed  33.5  FALSE\n4 Thu  31.0  FALSE\n5 Fri  33.0   TRUE\n6 Sat  33.8  FALSE\n7 Sun  35.0   TRUE",
            "text/latex": "A data.frame: 7 x 3\n\\begin{tabular}{r|lll}\n Days & Temps & Rain\\\\\n <fct> & <dbl> & <lgl>\\\\\n\\hline\n\t Mon & 32.0 &  TRUE\\\\\n\t Tue & 34.0 &  TRUE\\\\\n\t Wed & 33.5 & FALSE\\\\\n\t Thu & 31.0 & FALSE\\\\\n\t Fri & 33.0 &  TRUE\\\\\n\t Sat & 33.8 & FALSE\\\\\n\t Sun & 35.0 &  TRUE\\\\\n\\end{tabular}\n",
            "text/markdown": "\nA data.frame: 7 x 3\n\n| Days &lt;fct&gt; | Temps &lt;dbl&gt; | Rain &lt;lgl&gt; |\n|---|---|---|\n| Mon | 32.0 |  TRUE |\n| Tue | 34.0 |  TRUE |\n| Wed | 33.5 | FALSE |\n| Thu | 31.0 | FALSE |\n| Fri | 33.0 |  TRUE |\n| Sat | 33.8 | FALSE |\n| Sun | 35.0 |  TRUE |\n\n",
            "text/html": "<table>\n<caption>A data.frame: 7 x 3</caption>\n<thead>\n\t<tr><th scope=col>Days</th><th scope=col>Temps</th><th scope=col>Rain</th></tr>\n\t<tr><th scope=col>&lt;fct&gt;</th><th scope=col>&lt;dbl&gt;</th><th scope=col>&lt;lgl&gt;</th></tr>\n</thead>\n<tbody>\n\t<tr><td>Mon</td><td>32.0</td><td> TRUE</td></tr>\n\t<tr><td>Tue</td><td>34.0</td><td> TRUE</td></tr>\n\t<tr><td>Wed</td><td>33.5</td><td>FALSE</td></tr>\n\t<tr><td>Thu</td><td>31.0</td><td>FALSE</td></tr>\n\t<tr><td>Fri</td><td>33.0</td><td> TRUE</td></tr>\n\t<tr><td>Sat</td><td>33.8</td><td>FALSE</td></tr>\n\t<tr><td>Sun</td><td>35.0</td><td> TRUE</td></tr>\n</tbody>\n</table>\n"
          },
          "metadata": {}
        }
      ]
    },
    {
      "metadata": {
        "trusted": true
      },
      "cell_type": "code",
      "source": "# Grabbing a column from df\ndf1['Days'] #With bracket notation. Notice this returns a df object",
      "execution_count": 2,
      "outputs": [
        {
          "output_type": "display_data",
          "data": {
            "text/plain": "  Days\n1 Mon \n2 Tue \n3 Wed \n4 Thu \n5 Fri \n6 Sat \n7 Sun ",
            "text/latex": "A data.frame: 7 x 1\n\\begin{tabular}{r|l}\n Days\\\\\n <fct>\\\\\n\\hline\n\t Mon\\\\\n\t Tue\\\\\n\t Wed\\\\\n\t Thu\\\\\n\t Fri\\\\\n\t Sat\\\\\n\t Sun\\\\\n\\end{tabular}\n",
            "text/markdown": "\nA data.frame: 7 x 1\n\n| Days &lt;fct&gt; |\n|---|\n| Mon |\n| Tue |\n| Wed |\n| Thu |\n| Fri |\n| Sat |\n| Sun |\n\n",
            "text/html": "<table>\n<caption>A data.frame: 7 x 1</caption>\n<thead>\n\t<tr><th scope=col>Days</th></tr>\n\t<tr><th scope=col>&lt;fct&gt;</th></tr>\n</thead>\n<tbody>\n\t<tr><td>Mon</td></tr>\n\t<tr><td>Tue</td></tr>\n\t<tr><td>Wed</td></tr>\n\t<tr><td>Thu</td></tr>\n\t<tr><td>Fri</td></tr>\n\t<tr><td>Sat</td></tr>\n\t<tr><td>Sun</td></tr>\n</tbody>\n</table>\n"
          },
          "metadata": {}
        }
      ]
    },
    {
      "metadata": {
        "trusted": true
      },
      "cell_type": "code",
      "source": "df1$Days # with $ notation, notice, this returns a vector object",
      "execution_count": 3,
      "outputs": [
        {
          "output_type": "display_data",
          "data": {
            "text/plain": "[1] Mon Tue Wed Thu Fri Sat Sun\nLevels: Fri Mon Sat Sun Thu Tue Wed",
            "text/latex": "\\begin{enumerate*}\n\\item Mon\n\\item Tue\n\\item Wed\n\\item Thu\n\\item Fri\n\\item Sat\n\\item Sun\n\\end{enumerate*}\n\n\\emph{Levels}: \\begin{enumerate*}\n\\item 'Fri'\n\\item 'Mon'\n\\item 'Sat'\n\\item 'Sun'\n\\item 'Thu'\n\\item 'Tue'\n\\item 'Wed'\n\\end{enumerate*}\n",
            "text/markdown": "1. Mon\n2. Tue\n3. Wed\n4. Thu\n5. Fri\n6. Sat\n7. Sun\n\n\n\n**Levels**: 1. 'Fri'\n2. 'Mon'\n3. 'Sat'\n4. 'Sun'\n5. 'Thu'\n6. 'Tue'\n7. 'Wed'\n\n\n",
            "text/html": "<ol class=list-inline>\n\t<li>Mon</li>\n\t<li>Tue</li>\n\t<li>Wed</li>\n\t<li>Thu</li>\n\t<li>Fri</li>\n\t<li>Sat</li>\n\t<li>Sun</li>\n</ol>\n\n<details>\n\t<summary style=display:list-item;cursor:pointer>\n\t\t<strong>Levels</strong>:\n\t</summary>\n\t<ol class=list-inline>\n\t\t<li>'Fri'</li>\n\t\t<li>'Mon'</li>\n\t\t<li>'Sat'</li>\n\t\t<li>'Sun'</li>\n\t\t<li>'Thu'</li>\n\t\t<li>'Tue'</li>\n\t\t<li>'Wed'</li>\n\t</ol>\n</details>"
          },
          "metadata": {}
        }
      ]
    },
    {
      "metadata": {
        "trusted": true
      },
      "cell_type": "code",
      "source": "df1[,1] # This is conventional df[row_start:row_end,col_start:col_end]",
      "execution_count": 4,
      "outputs": [
        {
          "output_type": "display_data",
          "data": {
            "text/plain": "[1] Mon Tue Wed Thu Fri Sat Sun\nLevels: Fri Mon Sat Sun Thu Tue Wed",
            "text/latex": "\\begin{enumerate*}\n\\item Mon\n\\item Tue\n\\item Wed\n\\item Thu\n\\item Fri\n\\item Sat\n\\item Sun\n\\end{enumerate*}\n\n\\emph{Levels}: \\begin{enumerate*}\n\\item 'Fri'\n\\item 'Mon'\n\\item 'Sat'\n\\item 'Sun'\n\\item 'Thu'\n\\item 'Tue'\n\\item 'Wed'\n\\end{enumerate*}\n",
            "text/markdown": "1. Mon\n2. Tue\n3. Wed\n4. Thu\n5. Fri\n6. Sat\n7. Sun\n\n\n\n**Levels**: 1. 'Fri'\n2. 'Mon'\n3. 'Sat'\n4. 'Sun'\n5. 'Thu'\n6. 'Tue'\n7. 'Wed'\n\n\n",
            "text/html": "<ol class=list-inline>\n\t<li>Mon</li>\n\t<li>Tue</li>\n\t<li>Wed</li>\n\t<li>Thu</li>\n\t<li>Fri</li>\n\t<li>Sat</li>\n\t<li>Sun</li>\n</ol>\n\n<details>\n\t<summary style=display:list-item;cursor:pointer>\n\t\t<strong>Levels</strong>:\n\t</summary>\n\t<ol class=list-inline>\n\t\t<li>'Fri'</li>\n\t\t<li>'Mon'</li>\n\t\t<li>'Sat'</li>\n\t\t<li>'Sun'</li>\n\t\t<li>'Thu'</li>\n\t\t<li>'Tue'</li>\n\t\t<li>'Wed'</li>\n\t</ol>\n</details>"
          },
          "metadata": {}
        }
      ]
    },
    {
      "metadata": {},
      "cell_type": "markdown",
      "source": "#### Subset for filtering the data"
    },
    {
      "metadata": {
        "trusted": true
      },
      "cell_type": "code",
      "source": "# syntax subset (df, subset = (logical condition))\nsubset(df1, subset= (Rain == TRUE))\n",
      "execution_count": 5,
      "outputs": [
        {
          "output_type": "display_data",
          "data": {
            "text/plain": "  Days Temps Rain\n1 Mon  32    TRUE\n2 Tue  34    TRUE\n5 Fri  33    TRUE\n7 Sun  35    TRUE",
            "text/latex": "A data.frame: 4 x 3\n\\begin{tabular}{r|lll}\n  & Days & Temps & Rain\\\\\n  & <fct> & <dbl> & <lgl>\\\\\n\\hline\n\t1 & Mon & 32 & TRUE\\\\\n\t2 & Tue & 34 & TRUE\\\\\n\t5 & Fri & 33 & TRUE\\\\\n\t7 & Sun & 35 & TRUE\\\\\n\\end{tabular}\n",
            "text/markdown": "\nA data.frame: 4 x 3\n\n| <!--/--> | Days &lt;fct&gt; | Temps &lt;dbl&gt; | Rain &lt;lgl&gt; |\n|---|---|---|---|\n| 1 | Mon | 32 | TRUE |\n| 2 | Tue | 34 | TRUE |\n| 5 | Fri | 33 | TRUE |\n| 7 | Sun | 35 | TRUE |\n\n",
            "text/html": "<table>\n<caption>A data.frame: 4 x 3</caption>\n<thead>\n\t<tr><th></th><th scope=col>Days</th><th scope=col>Temps</th><th scope=col>Rain</th></tr>\n\t<tr><th></th><th scope=col>&lt;fct&gt;</th><th scope=col>&lt;dbl&gt;</th><th scope=col>&lt;lgl&gt;</th></tr>\n</thead>\n<tbody>\n\t<tr><th scope=row>1</th><td>Mon</td><td>32</td><td>TRUE</td></tr>\n\t<tr><th scope=row>2</th><td>Tue</td><td>34</td><td>TRUE</td></tr>\n\t<tr><th scope=row>5</th><td>Fri</td><td>33</td><td>TRUE</td></tr>\n\t<tr><th scope=row>7</th><td>Sun</td><td>35</td><td>TRUE</td></tr>\n</tbody>\n</table>\n"
          },
          "metadata": {}
        }
      ]
    },
    {
      "metadata": {},
      "cell_type": "markdown",
      "source": "#### Order function\n"
    },
    {
      "metadata": {
        "trusted": true
      },
      "cell_type": "code",
      "source": "sorted.temp <- order(df1['Temps'])",
      "execution_count": 6,
      "outputs": []
    },
    {
      "metadata": {
        "trusted": true
      },
      "cell_type": "code",
      "source": "sorted.temp",
      "execution_count": 7,
      "outputs": [
        {
          "output_type": "display_data",
          "data": {
            "text/plain": "[1] 4 1 5 3 6 2 7",
            "text/latex": "\\begin{enumerate*}\n\\item 4\n\\item 1\n\\item 5\n\\item 3\n\\item 6\n\\item 2\n\\item 7\n\\end{enumerate*}\n",
            "text/markdown": "1. 4\n2. 1\n3. 5\n4. 3\n5. 6\n6. 2\n7. 7\n\n\n",
            "text/html": "<ol class=list-inline>\n\t<li>4</li>\n\t<li>1</li>\n\t<li>5</li>\n\t<li>3</li>\n\t<li>6</li>\n\t<li>2</li>\n\t<li>7</li>\n</ol>\n"
          },
          "metadata": {}
        }
      ]
    },
    {
      "metadata": {
        "trusted": true
      },
      "cell_type": "code",
      "source": "df1[sorted.temp,] # using this as rows index we can get a sorted low to high ",
      "execution_count": 8,
      "outputs": [
        {
          "output_type": "display_data",
          "data": {
            "text/plain": "  Days Temps Rain \n4 Thu  31.0  FALSE\n1 Mon  32.0   TRUE\n5 Fri  33.0   TRUE\n3 Wed  33.5  FALSE\n6 Sat  33.8  FALSE\n2 Tue  34.0   TRUE\n7 Sun  35.0   TRUE",
            "text/latex": "A data.frame: 7 x 3\n\\begin{tabular}{r|lll}\n  & Days & Temps & Rain\\\\\n  & <fct> & <dbl> & <lgl>\\\\\n\\hline\n\t4 & Thu & 31.0 & FALSE\\\\\n\t1 & Mon & 32.0 &  TRUE\\\\\n\t5 & Fri & 33.0 &  TRUE\\\\\n\t3 & Wed & 33.5 & FALSE\\\\\n\t6 & Sat & 33.8 & FALSE\\\\\n\t2 & Tue & 34.0 &  TRUE\\\\\n\t7 & Sun & 35.0 &  TRUE\\\\\n\\end{tabular}\n",
            "text/markdown": "\nA data.frame: 7 x 3\n\n| <!--/--> | Days &lt;fct&gt; | Temps &lt;dbl&gt; | Rain &lt;lgl&gt; |\n|---|---|---|---|\n| 4 | Thu | 31.0 | FALSE |\n| 1 | Mon | 32.0 |  TRUE |\n| 5 | Fri | 33.0 |  TRUE |\n| 3 | Wed | 33.5 | FALSE |\n| 6 | Sat | 33.8 | FALSE |\n| 2 | Tue | 34.0 |  TRUE |\n| 7 | Sun | 35.0 |  TRUE |\n\n",
            "text/html": "<table>\n<caption>A data.frame: 7 x 3</caption>\n<thead>\n\t<tr><th></th><th scope=col>Days</th><th scope=col>Temps</th><th scope=col>Rain</th></tr>\n\t<tr><th></th><th scope=col>&lt;fct&gt;</th><th scope=col>&lt;dbl&gt;</th><th scope=col>&lt;lgl&gt;</th></tr>\n</thead>\n<tbody>\n\t<tr><th scope=row>4</th><td>Thu</td><td>31.0</td><td>FALSE</td></tr>\n\t<tr><th scope=row>1</th><td>Mon</td><td>32.0</td><td> TRUE</td></tr>\n\t<tr><th scope=row>5</th><td>Fri</td><td>33.0</td><td> TRUE</td></tr>\n\t<tr><th scope=row>3</th><td>Wed</td><td>33.5</td><td>FALSE</td></tr>\n\t<tr><th scope=row>6</th><td>Sat</td><td>33.8</td><td>FALSE</td></tr>\n\t<tr><th scope=row>2</th><td>Tue</td><td>34.0</td><td> TRUE</td></tr>\n\t<tr><th scope=row>7</th><td>Sun</td><td>35.0</td><td> TRUE</td></tr>\n</tbody>\n</table>\n"
          },
          "metadata": {}
        }
      ]
    },
    {
      "metadata": {
        "trusted": true
      },
      "cell_type": "markdown",
      "source": "#### 4 Ways of getting a column data into a vector"
    },
    {
      "metadata": {
        "trusted": true
      },
      "cell_type": "code",
      "source": "# Let us use builtin data for this\nhead(mtcars)",
      "execution_count": 9,
      "outputs": [
        {
          "output_type": "display_data",
          "data": {
            "text/plain": "                  mpg  cyl disp hp  drat wt    qsec  vs am gear carb\nMazda RX4         21.0 6   160  110 3.90 2.620 16.46 0  1  4    4   \nMazda RX4 Wag     21.0 6   160  110 3.90 2.875 17.02 0  1  4    4   \nDatsun 710        22.8 4   108   93 3.85 2.320 18.61 1  1  4    1   \nHornet 4 Drive    21.4 6   258  110 3.08 3.215 19.44 1  0  3    1   \nHornet Sportabout 18.7 8   360  175 3.15 3.440 17.02 0  0  3    2   \nValiant           18.1 6   225  105 2.76 3.460 20.22 1  0  3    1   ",
            "text/latex": "A data.frame: 6 x 11\n\\begin{tabular}{r|lllllllllll}\n  & mpg & cyl & disp & hp & drat & wt & qsec & vs & am & gear & carb\\\\\n  & <dbl> & <dbl> & <dbl> & <dbl> & <dbl> & <dbl> & <dbl> & <dbl> & <dbl> & <dbl> & <dbl>\\\\\n\\hline\n\tMazda RX4 & 21.0 & 6 & 160 & 110 & 3.90 & 2.620 & 16.46 & 0 & 1 & 4 & 4\\\\\n\tMazda RX4 Wag & 21.0 & 6 & 160 & 110 & 3.90 & 2.875 & 17.02 & 0 & 1 & 4 & 4\\\\\n\tDatsun 710 & 22.8 & 4 & 108 &  93 & 3.85 & 2.320 & 18.61 & 1 & 1 & 4 & 1\\\\\n\tHornet 4 Drive & 21.4 & 6 & 258 & 110 & 3.08 & 3.215 & 19.44 & 1 & 0 & 3 & 1\\\\\n\tHornet Sportabout & 18.7 & 8 & 360 & 175 & 3.15 & 3.440 & 17.02 & 0 & 0 & 3 & 2\\\\\n\tValiant & 18.1 & 6 & 225 & 105 & 2.76 & 3.460 & 20.22 & 1 & 0 & 3 & 1\\\\\n\\end{tabular}\n",
            "text/markdown": "\nA data.frame: 6 x 11\n\n| <!--/--> | mpg &lt;dbl&gt; | cyl &lt;dbl&gt; | disp &lt;dbl&gt; | hp &lt;dbl&gt; | drat &lt;dbl&gt; | wt &lt;dbl&gt; | qsec &lt;dbl&gt; | vs &lt;dbl&gt; | am &lt;dbl&gt; | gear &lt;dbl&gt; | carb &lt;dbl&gt; |\n|---|---|---|---|---|---|---|---|---|---|---|---|\n| Mazda RX4 | 21.0 | 6 | 160 | 110 | 3.90 | 2.620 | 16.46 | 0 | 1 | 4 | 4 |\n| Mazda RX4 Wag | 21.0 | 6 | 160 | 110 | 3.90 | 2.875 | 17.02 | 0 | 1 | 4 | 4 |\n| Datsun 710 | 22.8 | 4 | 108 |  93 | 3.85 | 2.320 | 18.61 | 1 | 1 | 4 | 1 |\n| Hornet 4 Drive | 21.4 | 6 | 258 | 110 | 3.08 | 3.215 | 19.44 | 1 | 0 | 3 | 1 |\n| Hornet Sportabout | 18.7 | 8 | 360 | 175 | 3.15 | 3.440 | 17.02 | 0 | 0 | 3 | 2 |\n| Valiant | 18.1 | 6 | 225 | 105 | 2.76 | 3.460 | 20.22 | 1 | 0 | 3 | 1 |\n\n",
            "text/html": "<table>\n<caption>A data.frame: 6 x 11</caption>\n<thead>\n\t<tr><th></th><th scope=col>mpg</th><th scope=col>cyl</th><th scope=col>disp</th><th scope=col>hp</th><th scope=col>drat</th><th scope=col>wt</th><th scope=col>qsec</th><th scope=col>vs</th><th scope=col>am</th><th scope=col>gear</th><th scope=col>carb</th></tr>\n\t<tr><th></th><th scope=col>&lt;dbl&gt;</th><th scope=col>&lt;dbl&gt;</th><th scope=col>&lt;dbl&gt;</th><th scope=col>&lt;dbl&gt;</th><th scope=col>&lt;dbl&gt;</th><th scope=col>&lt;dbl&gt;</th><th scope=col>&lt;dbl&gt;</th><th scope=col>&lt;dbl&gt;</th><th scope=col>&lt;dbl&gt;</th><th scope=col>&lt;dbl&gt;</th><th scope=col>&lt;dbl&gt;</th></tr>\n</thead>\n<tbody>\n\t<tr><th scope=row>Mazda RX4</th><td>21.0</td><td>6</td><td>160</td><td>110</td><td>3.90</td><td>2.620</td><td>16.46</td><td>0</td><td>1</td><td>4</td><td>4</td></tr>\n\t<tr><th scope=row>Mazda RX4 Wag</th><td>21.0</td><td>6</td><td>160</td><td>110</td><td>3.90</td><td>2.875</td><td>17.02</td><td>0</td><td>1</td><td>4</td><td>4</td></tr>\n\t<tr><th scope=row>Datsun 710</th><td>22.8</td><td>4</td><td>108</td><td> 93</td><td>3.85</td><td>2.320</td><td>18.61</td><td>1</td><td>1</td><td>4</td><td>1</td></tr>\n\t<tr><th scope=row>Hornet 4 Drive</th><td>21.4</td><td>6</td><td>258</td><td>110</td><td>3.08</td><td>3.215</td><td>19.44</td><td>1</td><td>0</td><td>3</td><td>1</td></tr>\n\t<tr><th scope=row>Hornet Sportabout</th><td>18.7</td><td>8</td><td>360</td><td>175</td><td>3.15</td><td>3.440</td><td>17.02</td><td>0</td><td>0</td><td>3</td><td>2</td></tr>\n\t<tr><th scope=row>Valiant</th><td>18.1</td><td>6</td><td>225</td><td>105</td><td>2.76</td><td>3.460</td><td>20.22</td><td>1</td><td>0</td><td>3</td><td>1</td></tr>\n</tbody>\n</table>\n"
          },
          "metadata": {}
        }
      ]
    },
    {
      "metadata": {
        "trusted": true
      },
      "cell_type": "code",
      "source": "# Using $ notation\nmtcars$mpg",
      "execution_count": 10,
      "outputs": [
        {
          "output_type": "display_data",
          "data": {
            "text/plain": " [1] 21.0 21.0 22.8 21.4 18.7 18.1 14.3 24.4 22.8 19.2 17.8 16.4 17.3 15.2 10.4\n[16] 10.4 14.7 32.4 30.4 33.9 21.5 15.5 15.2 13.3 19.2 27.3 26.0 30.4 15.8 19.7\n[31] 15.0 21.4",
            "text/latex": "\\begin{enumerate*}\n\\item 21\n\\item 21\n\\item 22.8\n\\item 21.4\n\\item 18.7\n\\item 18.1\n\\item 14.3\n\\item 24.4\n\\item 22.8\n\\item 19.2\n\\item 17.8\n\\item 16.4\n\\item 17.3\n\\item 15.2\n\\item 10.4\n\\item 10.4\n\\item 14.7\n\\item 32.4\n\\item 30.4\n\\item 33.9\n\\item 21.5\n\\item 15.5\n\\item 15.2\n\\item 13.3\n\\item 19.2\n\\item 27.3\n\\item 26\n\\item 30.4\n\\item 15.8\n\\item 19.7\n\\item 15\n\\item 21.4\n\\end{enumerate*}\n",
            "text/markdown": "1. 21\n2. 21\n3. 22.8\n4. 21.4\n5. 18.7\n6. 18.1\n7. 14.3\n8. 24.4\n9. 22.8\n10. 19.2\n11. 17.8\n12. 16.4\n13. 17.3\n14. 15.2\n15. 10.4\n16. 10.4\n17. 14.7\n18. 32.4\n19. 30.4\n20. 33.9\n21. 21.5\n22. 15.5\n23. 15.2\n24. 13.3\n25. 19.2\n26. 27.3\n27. 26\n28. 30.4\n29. 15.8\n30. 19.7\n31. 15\n32. 21.4\n\n\n",
            "text/html": "<ol class=list-inline>\n\t<li>21</li>\n\t<li>21</li>\n\t<li>22.8</li>\n\t<li>21.4</li>\n\t<li>18.7</li>\n\t<li>18.1</li>\n\t<li>14.3</li>\n\t<li>24.4</li>\n\t<li>22.8</li>\n\t<li>19.2</li>\n\t<li>17.8</li>\n\t<li>16.4</li>\n\t<li>17.3</li>\n\t<li>15.2</li>\n\t<li>10.4</li>\n\t<li>10.4</li>\n\t<li>14.7</li>\n\t<li>32.4</li>\n\t<li>30.4</li>\n\t<li>33.9</li>\n\t<li>21.5</li>\n\t<li>15.5</li>\n\t<li>15.2</li>\n\t<li>13.3</li>\n\t<li>19.2</li>\n\t<li>27.3</li>\n\t<li>26</li>\n\t<li>30.4</li>\n\t<li>15.8</li>\n\t<li>19.7</li>\n\t<li>15</li>\n\t<li>21.4</li>\n</ol>\n"
          },
          "metadata": {}
        }
      ]
    },
    {
      "metadata": {
        "trusted": true
      },
      "cell_type": "code",
      "source": "# Index notation for column 1\nmtcars[,1]",
      "execution_count": 11,
      "outputs": [
        {
          "output_type": "display_data",
          "data": {
            "text/plain": " [1] 21.0 21.0 22.8 21.4 18.7 18.1 14.3 24.4 22.8 19.2 17.8 16.4 17.3 15.2 10.4\n[16] 10.4 14.7 32.4 30.4 33.9 21.5 15.5 15.2 13.3 19.2 27.3 26.0 30.4 15.8 19.7\n[31] 15.0 21.4",
            "text/latex": "\\begin{enumerate*}\n\\item 21\n\\item 21\n\\item 22.8\n\\item 21.4\n\\item 18.7\n\\item 18.1\n\\item 14.3\n\\item 24.4\n\\item 22.8\n\\item 19.2\n\\item 17.8\n\\item 16.4\n\\item 17.3\n\\item 15.2\n\\item 10.4\n\\item 10.4\n\\item 14.7\n\\item 32.4\n\\item 30.4\n\\item 33.9\n\\item 21.5\n\\item 15.5\n\\item 15.2\n\\item 13.3\n\\item 19.2\n\\item 27.3\n\\item 26\n\\item 30.4\n\\item 15.8\n\\item 19.7\n\\item 15\n\\item 21.4\n\\end{enumerate*}\n",
            "text/markdown": "1. 21\n2. 21\n3. 22.8\n4. 21.4\n5. 18.7\n6. 18.1\n7. 14.3\n8. 24.4\n9. 22.8\n10. 19.2\n11. 17.8\n12. 16.4\n13. 17.3\n14. 15.2\n15. 10.4\n16. 10.4\n17. 14.7\n18. 32.4\n19. 30.4\n20. 33.9\n21. 21.5\n22. 15.5\n23. 15.2\n24. 13.3\n25. 19.2\n26. 27.3\n27. 26\n28. 30.4\n29. 15.8\n30. 19.7\n31. 15\n32. 21.4\n\n\n",
            "text/html": "<ol class=list-inline>\n\t<li>21</li>\n\t<li>21</li>\n\t<li>22.8</li>\n\t<li>21.4</li>\n\t<li>18.7</li>\n\t<li>18.1</li>\n\t<li>14.3</li>\n\t<li>24.4</li>\n\t<li>22.8</li>\n\t<li>19.2</li>\n\t<li>17.8</li>\n\t<li>16.4</li>\n\t<li>17.3</li>\n\t<li>15.2</li>\n\t<li>10.4</li>\n\t<li>10.4</li>\n\t<li>14.7</li>\n\t<li>32.4</li>\n\t<li>30.4</li>\n\t<li>33.9</li>\n\t<li>21.5</li>\n\t<li>15.5</li>\n\t<li>15.2</li>\n\t<li>13.3</li>\n\t<li>19.2</li>\n\t<li>27.3</li>\n\t<li>26</li>\n\t<li>30.4</li>\n\t<li>15.8</li>\n\t<li>19.7</li>\n\t<li>15</li>\n\t<li>21.4</li>\n</ol>\n"
          },
          "metadata": {}
        }
      ]
    },
    {
      "metadata": {
        "trusted": true
      },
      "cell_type": "code",
      "source": "# Index notation with column name\nmtcars[,'mpg']",
      "execution_count": 13,
      "outputs": [
        {
          "output_type": "display_data",
          "data": {
            "text/plain": " [1] 21.0 21.0 22.8 21.4 18.7 18.1 14.3 24.4 22.8 19.2 17.8 16.4 17.3 15.2 10.4\n[16] 10.4 14.7 32.4 30.4 33.9 21.5 15.5 15.2 13.3 19.2 27.3 26.0 30.4 15.8 19.7\n[31] 15.0 21.4",
            "text/latex": "\\begin{enumerate*}\n\\item 21\n\\item 21\n\\item 22.8\n\\item 21.4\n\\item 18.7\n\\item 18.1\n\\item 14.3\n\\item 24.4\n\\item 22.8\n\\item 19.2\n\\item 17.8\n\\item 16.4\n\\item 17.3\n\\item 15.2\n\\item 10.4\n\\item 10.4\n\\item 14.7\n\\item 32.4\n\\item 30.4\n\\item 33.9\n\\item 21.5\n\\item 15.5\n\\item 15.2\n\\item 13.3\n\\item 19.2\n\\item 27.3\n\\item 26\n\\item 30.4\n\\item 15.8\n\\item 19.7\n\\item 15\n\\item 21.4\n\\end{enumerate*}\n",
            "text/markdown": "1. 21\n2. 21\n3. 22.8\n4. 21.4\n5. 18.7\n6. 18.1\n7. 14.3\n8. 24.4\n9. 22.8\n10. 19.2\n11. 17.8\n12. 16.4\n13. 17.3\n14. 15.2\n15. 10.4\n16. 10.4\n17. 14.7\n18. 32.4\n19. 30.4\n20. 33.9\n21. 21.5\n22. 15.5\n23. 15.2\n24. 13.3\n25. 19.2\n26. 27.3\n27. 26\n28. 30.4\n29. 15.8\n30. 19.7\n31. 15\n32. 21.4\n\n\n",
            "text/html": "<ol class=list-inline>\n\t<li>21</li>\n\t<li>21</li>\n\t<li>22.8</li>\n\t<li>21.4</li>\n\t<li>18.7</li>\n\t<li>18.1</li>\n\t<li>14.3</li>\n\t<li>24.4</li>\n\t<li>22.8</li>\n\t<li>19.2</li>\n\t<li>17.8</li>\n\t<li>16.4</li>\n\t<li>17.3</li>\n\t<li>15.2</li>\n\t<li>10.4</li>\n\t<li>10.4</li>\n\t<li>14.7</li>\n\t<li>32.4</li>\n\t<li>30.4</li>\n\t<li>33.9</li>\n\t<li>21.5</li>\n\t<li>15.5</li>\n\t<li>15.2</li>\n\t<li>13.3</li>\n\t<li>19.2</li>\n\t<li>27.3</li>\n\t<li>26</li>\n\t<li>30.4</li>\n\t<li>15.8</li>\n\t<li>19.7</li>\n\t<li>15</li>\n\t<li>21.4</li>\n</ol>\n"
          },
          "metadata": {}
        }
      ]
    },
    {
      "metadata": {
        "trusted": true
      },
      "cell_type": "code",
      "source": "# double bracket notation \nmtcars[['mpg']]",
      "execution_count": 14,
      "outputs": [
        {
          "output_type": "display_data",
          "data": {
            "text/plain": " [1] 21.0 21.0 22.8 21.4 18.7 18.1 14.3 24.4 22.8 19.2 17.8 16.4 17.3 15.2 10.4\n[16] 10.4 14.7 32.4 30.4 33.9 21.5 15.5 15.2 13.3 19.2 27.3 26.0 30.4 15.8 19.7\n[31] 15.0 21.4",
            "text/latex": "\\begin{enumerate*}\n\\item 21\n\\item 21\n\\item 22.8\n\\item 21.4\n\\item 18.7\n\\item 18.1\n\\item 14.3\n\\item 24.4\n\\item 22.8\n\\item 19.2\n\\item 17.8\n\\item 16.4\n\\item 17.3\n\\item 15.2\n\\item 10.4\n\\item 10.4\n\\item 14.7\n\\item 32.4\n\\item 30.4\n\\item 33.9\n\\item 21.5\n\\item 15.5\n\\item 15.2\n\\item 13.3\n\\item 19.2\n\\item 27.3\n\\item 26\n\\item 30.4\n\\item 15.8\n\\item 19.7\n\\item 15\n\\item 21.4\n\\end{enumerate*}\n",
            "text/markdown": "1. 21\n2. 21\n3. 22.8\n4. 21.4\n5. 18.7\n6. 18.1\n7. 14.3\n8. 24.4\n9. 22.8\n10. 19.2\n11. 17.8\n12. 16.4\n13. 17.3\n14. 15.2\n15. 10.4\n16. 10.4\n17. 14.7\n18. 32.4\n19. 30.4\n20. 33.9\n21. 21.5\n22. 15.5\n23. 15.2\n24. 13.3\n25. 19.2\n26. 27.3\n27. 26\n28. 30.4\n29. 15.8\n30. 19.7\n31. 15\n32. 21.4\n\n\n",
            "text/html": "<ol class=list-inline>\n\t<li>21</li>\n\t<li>21</li>\n\t<li>22.8</li>\n\t<li>21.4</li>\n\t<li>18.7</li>\n\t<li>18.1</li>\n\t<li>14.3</li>\n\t<li>24.4</li>\n\t<li>22.8</li>\n\t<li>19.2</li>\n\t<li>17.8</li>\n\t<li>16.4</li>\n\t<li>17.3</li>\n\t<li>15.2</li>\n\t<li>10.4</li>\n\t<li>10.4</li>\n\t<li>14.7</li>\n\t<li>32.4</li>\n\t<li>30.4</li>\n\t<li>33.9</li>\n\t<li>21.5</li>\n\t<li>15.5</li>\n\t<li>15.2</li>\n\t<li>13.3</li>\n\t<li>19.2</li>\n\t<li>27.3</li>\n\t<li>26</li>\n\t<li>30.4</li>\n\t<li>15.8</li>\n\t<li>19.7</li>\n\t<li>15</li>\n\t<li>21.4</li>\n</ol>\n"
          },
          "metadata": {}
        }
      ]
    },
    {
      "metadata": {},
      "cell_type": "markdown",
      "source": "### 2 ways of accessing the column data as a dataframe\n"
    },
    {
      "metadata": {
        "trusted": true
      },
      "cell_type": "code",
      "source": "mtcars['mpg']",
      "execution_count": 15,
      "outputs": [
        {
          "output_type": "display_data",
          "data": {
            "text/plain": "                    mpg \nMazda RX4           21.0\nMazda RX4 Wag       21.0\nDatsun 710          22.8\nHornet 4 Drive      21.4\nHornet Sportabout   18.7\nValiant             18.1\nDuster 360          14.3\nMerc 240D           24.4\nMerc 230            22.8\nMerc 280            19.2\nMerc 280C           17.8\nMerc 450SE          16.4\nMerc 450SL          17.3\nMerc 450SLC         15.2\nCadillac Fleetwood  10.4\nLincoln Continental 10.4\nChrysler Imperial   14.7\nFiat 128            32.4\nHonda Civic         30.4\nToyota Corolla      33.9\nToyota Corona       21.5\nDodge Challenger    15.5\nAMC Javelin         15.2\nCamaro Z28          13.3\nPontiac Firebird    19.2\nFiat X1-9           27.3\nPorsche 914-2       26.0\nLotus Europa        30.4\nFord Pantera L      15.8\nFerrari Dino        19.7\nMaserati Bora       15.0\nVolvo 142E          21.4",
            "text/latex": "A data.frame: 32 x 1\n\\begin{tabular}{r|l}\n  & mpg\\\\\n  & <dbl>\\\\\n\\hline\n\tMazda RX4 & 21.0\\\\\n\tMazda RX4 Wag & 21.0\\\\\n\tDatsun 710 & 22.8\\\\\n\tHornet 4 Drive & 21.4\\\\\n\tHornet Sportabout & 18.7\\\\\n\tValiant & 18.1\\\\\n\tDuster 360 & 14.3\\\\\n\tMerc 240D & 24.4\\\\\n\tMerc 230 & 22.8\\\\\n\tMerc 280 & 19.2\\\\\n\tMerc 280C & 17.8\\\\\n\tMerc 450SE & 16.4\\\\\n\tMerc 450SL & 17.3\\\\\n\tMerc 450SLC & 15.2\\\\\n\tCadillac Fleetwood & 10.4\\\\\n\tLincoln Continental & 10.4\\\\\n\tChrysler Imperial & 14.7\\\\\n\tFiat 128 & 32.4\\\\\n\tHonda Civic & 30.4\\\\\n\tToyota Corolla & 33.9\\\\\n\tToyota Corona & 21.5\\\\\n\tDodge Challenger & 15.5\\\\\n\tAMC Javelin & 15.2\\\\\n\tCamaro Z28 & 13.3\\\\\n\tPontiac Firebird & 19.2\\\\\n\tFiat X1-9 & 27.3\\\\\n\tPorsche 914-2 & 26.0\\\\\n\tLotus Europa & 30.4\\\\\n\tFord Pantera L & 15.8\\\\\n\tFerrari Dino & 19.7\\\\\n\tMaserati Bora & 15.0\\\\\n\tVolvo 142E & 21.4\\\\\n\\end{tabular}\n",
            "text/markdown": "\nA data.frame: 32 x 1\n\n| <!--/--> | mpg &lt;dbl&gt; |\n|---|---|\n| Mazda RX4 | 21.0 |\n| Mazda RX4 Wag | 21.0 |\n| Datsun 710 | 22.8 |\n| Hornet 4 Drive | 21.4 |\n| Hornet Sportabout | 18.7 |\n| Valiant | 18.1 |\n| Duster 360 | 14.3 |\n| Merc 240D | 24.4 |\n| Merc 230 | 22.8 |\n| Merc 280 | 19.2 |\n| Merc 280C | 17.8 |\n| Merc 450SE | 16.4 |\n| Merc 450SL | 17.3 |\n| Merc 450SLC | 15.2 |\n| Cadillac Fleetwood | 10.4 |\n| Lincoln Continental | 10.4 |\n| Chrysler Imperial | 14.7 |\n| Fiat 128 | 32.4 |\n| Honda Civic | 30.4 |\n| Toyota Corolla | 33.9 |\n| Toyota Corona | 21.5 |\n| Dodge Challenger | 15.5 |\n| AMC Javelin | 15.2 |\n| Camaro Z28 | 13.3 |\n| Pontiac Firebird | 19.2 |\n| Fiat X1-9 | 27.3 |\n| Porsche 914-2 | 26.0 |\n| Lotus Europa | 30.4 |\n| Ford Pantera L | 15.8 |\n| Ferrari Dino | 19.7 |\n| Maserati Bora | 15.0 |\n| Volvo 142E | 21.4 |\n\n",
            "text/html": "<table>\n<caption>A data.frame: 32 x 1</caption>\n<thead>\n\t<tr><th></th><th scope=col>mpg</th></tr>\n\t<tr><th></th><th scope=col>&lt;dbl&gt;</th></tr>\n</thead>\n<tbody>\n\t<tr><th scope=row>Mazda RX4</th><td>21.0</td></tr>\n\t<tr><th scope=row>Mazda RX4 Wag</th><td>21.0</td></tr>\n\t<tr><th scope=row>Datsun 710</th><td>22.8</td></tr>\n\t<tr><th scope=row>Hornet 4 Drive</th><td>21.4</td></tr>\n\t<tr><th scope=row>Hornet Sportabout</th><td>18.7</td></tr>\n\t<tr><th scope=row>Valiant</th><td>18.1</td></tr>\n\t<tr><th scope=row>Duster 360</th><td>14.3</td></tr>\n\t<tr><th scope=row>Merc 240D</th><td>24.4</td></tr>\n\t<tr><th scope=row>Merc 230</th><td>22.8</td></tr>\n\t<tr><th scope=row>Merc 280</th><td>19.2</td></tr>\n\t<tr><th scope=row>Merc 280C</th><td>17.8</td></tr>\n\t<tr><th scope=row>Merc 450SE</th><td>16.4</td></tr>\n\t<tr><th scope=row>Merc 450SL</th><td>17.3</td></tr>\n\t<tr><th scope=row>Merc 450SLC</th><td>15.2</td></tr>\n\t<tr><th scope=row>Cadillac Fleetwood</th><td>10.4</td></tr>\n\t<tr><th scope=row>Lincoln Continental</th><td>10.4</td></tr>\n\t<tr><th scope=row>Chrysler Imperial</th><td>14.7</td></tr>\n\t<tr><th scope=row>Fiat 128</th><td>32.4</td></tr>\n\t<tr><th scope=row>Honda Civic</th><td>30.4</td></tr>\n\t<tr><th scope=row>Toyota Corolla</th><td>33.9</td></tr>\n\t<tr><th scope=row>Toyota Corona</th><td>21.5</td></tr>\n\t<tr><th scope=row>Dodge Challenger</th><td>15.5</td></tr>\n\t<tr><th scope=row>AMC Javelin</th><td>15.2</td></tr>\n\t<tr><th scope=row>Camaro Z28</th><td>13.3</td></tr>\n\t<tr><th scope=row>Pontiac Firebird</th><td>19.2</td></tr>\n\t<tr><th scope=row>Fiat X1-9</th><td>27.3</td></tr>\n\t<tr><th scope=row>Porsche 914-2</th><td>26.0</td></tr>\n\t<tr><th scope=row>Lotus Europa</th><td>30.4</td></tr>\n\t<tr><th scope=row>Ford Pantera L</th><td>15.8</td></tr>\n\t<tr><th scope=row>Ferrari Dino</th><td>19.7</td></tr>\n\t<tr><th scope=row>Maserati Bora</th><td>15.0</td></tr>\n\t<tr><th scope=row>Volvo 142E</th><td>21.4</td></tr>\n</tbody>\n</table>\n"
          },
          "metadata": {}
        }
      ]
    },
    {
      "metadata": {
        "trusted": true
      },
      "cell_type": "code",
      "source": "mtcars[1]",
      "execution_count": 16,
      "outputs": [
        {
          "output_type": "display_data",
          "data": {
            "text/plain": "                    mpg \nMazda RX4           21.0\nMazda RX4 Wag       21.0\nDatsun 710          22.8\nHornet 4 Drive      21.4\nHornet Sportabout   18.7\nValiant             18.1\nDuster 360          14.3\nMerc 240D           24.4\nMerc 230            22.8\nMerc 280            19.2\nMerc 280C           17.8\nMerc 450SE          16.4\nMerc 450SL          17.3\nMerc 450SLC         15.2\nCadillac Fleetwood  10.4\nLincoln Continental 10.4\nChrysler Imperial   14.7\nFiat 128            32.4\nHonda Civic         30.4\nToyota Corolla      33.9\nToyota Corona       21.5\nDodge Challenger    15.5\nAMC Javelin         15.2\nCamaro Z28          13.3\nPontiac Firebird    19.2\nFiat X1-9           27.3\nPorsche 914-2       26.0\nLotus Europa        30.4\nFord Pantera L      15.8\nFerrari Dino        19.7\nMaserati Bora       15.0\nVolvo 142E          21.4",
            "text/latex": "A data.frame: 32 x 1\n\\begin{tabular}{r|l}\n  & mpg\\\\\n  & <dbl>\\\\\n\\hline\n\tMazda RX4 & 21.0\\\\\n\tMazda RX4 Wag & 21.0\\\\\n\tDatsun 710 & 22.8\\\\\n\tHornet 4 Drive & 21.4\\\\\n\tHornet Sportabout & 18.7\\\\\n\tValiant & 18.1\\\\\n\tDuster 360 & 14.3\\\\\n\tMerc 240D & 24.4\\\\\n\tMerc 230 & 22.8\\\\\n\tMerc 280 & 19.2\\\\\n\tMerc 280C & 17.8\\\\\n\tMerc 450SE & 16.4\\\\\n\tMerc 450SL & 17.3\\\\\n\tMerc 450SLC & 15.2\\\\\n\tCadillac Fleetwood & 10.4\\\\\n\tLincoln Continental & 10.4\\\\\n\tChrysler Imperial & 14.7\\\\\n\tFiat 128 & 32.4\\\\\n\tHonda Civic & 30.4\\\\\n\tToyota Corolla & 33.9\\\\\n\tToyota Corona & 21.5\\\\\n\tDodge Challenger & 15.5\\\\\n\tAMC Javelin & 15.2\\\\\n\tCamaro Z28 & 13.3\\\\\n\tPontiac Firebird & 19.2\\\\\n\tFiat X1-9 & 27.3\\\\\n\tPorsche 914-2 & 26.0\\\\\n\tLotus Europa & 30.4\\\\\n\tFord Pantera L & 15.8\\\\\n\tFerrari Dino & 19.7\\\\\n\tMaserati Bora & 15.0\\\\\n\tVolvo 142E & 21.4\\\\\n\\end{tabular}\n",
            "text/markdown": "\nA data.frame: 32 x 1\n\n| <!--/--> | mpg &lt;dbl&gt; |\n|---|---|\n| Mazda RX4 | 21.0 |\n| Mazda RX4 Wag | 21.0 |\n| Datsun 710 | 22.8 |\n| Hornet 4 Drive | 21.4 |\n| Hornet Sportabout | 18.7 |\n| Valiant | 18.1 |\n| Duster 360 | 14.3 |\n| Merc 240D | 24.4 |\n| Merc 230 | 22.8 |\n| Merc 280 | 19.2 |\n| Merc 280C | 17.8 |\n| Merc 450SE | 16.4 |\n| Merc 450SL | 17.3 |\n| Merc 450SLC | 15.2 |\n| Cadillac Fleetwood | 10.4 |\n| Lincoln Continental | 10.4 |\n| Chrysler Imperial | 14.7 |\n| Fiat 128 | 32.4 |\n| Honda Civic | 30.4 |\n| Toyota Corolla | 33.9 |\n| Toyota Corona | 21.5 |\n| Dodge Challenger | 15.5 |\n| AMC Javelin | 15.2 |\n| Camaro Z28 | 13.3 |\n| Pontiac Firebird | 19.2 |\n| Fiat X1-9 | 27.3 |\n| Porsche 914-2 | 26.0 |\n| Lotus Europa | 30.4 |\n| Ford Pantera L | 15.8 |\n| Ferrari Dino | 19.7 |\n| Maserati Bora | 15.0 |\n| Volvo 142E | 21.4 |\n\n",
            "text/html": "<table>\n<caption>A data.frame: 32 x 1</caption>\n<thead>\n\t<tr><th></th><th scope=col>mpg</th></tr>\n\t<tr><th></th><th scope=col>&lt;dbl&gt;</th></tr>\n</thead>\n<tbody>\n\t<tr><th scope=row>Mazda RX4</th><td>21.0</td></tr>\n\t<tr><th scope=row>Mazda RX4 Wag</th><td>21.0</td></tr>\n\t<tr><th scope=row>Datsun 710</th><td>22.8</td></tr>\n\t<tr><th scope=row>Hornet 4 Drive</th><td>21.4</td></tr>\n\t<tr><th scope=row>Hornet Sportabout</th><td>18.7</td></tr>\n\t<tr><th scope=row>Valiant</th><td>18.1</td></tr>\n\t<tr><th scope=row>Duster 360</th><td>14.3</td></tr>\n\t<tr><th scope=row>Merc 240D</th><td>24.4</td></tr>\n\t<tr><th scope=row>Merc 230</th><td>22.8</td></tr>\n\t<tr><th scope=row>Merc 280</th><td>19.2</td></tr>\n\t<tr><th scope=row>Merc 280C</th><td>17.8</td></tr>\n\t<tr><th scope=row>Merc 450SE</th><td>16.4</td></tr>\n\t<tr><th scope=row>Merc 450SL</th><td>17.3</td></tr>\n\t<tr><th scope=row>Merc 450SLC</th><td>15.2</td></tr>\n\t<tr><th scope=row>Cadillac Fleetwood</th><td>10.4</td></tr>\n\t<tr><th scope=row>Lincoln Continental</th><td>10.4</td></tr>\n\t<tr><th scope=row>Chrysler Imperial</th><td>14.7</td></tr>\n\t<tr><th scope=row>Fiat 128</th><td>32.4</td></tr>\n\t<tr><th scope=row>Honda Civic</th><td>30.4</td></tr>\n\t<tr><th scope=row>Toyota Corolla</th><td>33.9</td></tr>\n\t<tr><th scope=row>Toyota Corona</th><td>21.5</td></tr>\n\t<tr><th scope=row>Dodge Challenger</th><td>15.5</td></tr>\n\t<tr><th scope=row>AMC Javelin</th><td>15.2</td></tr>\n\t<tr><th scope=row>Camaro Z28</th><td>13.3</td></tr>\n\t<tr><th scope=row>Pontiac Firebird</th><td>19.2</td></tr>\n\t<tr><th scope=row>Fiat X1-9</th><td>27.3</td></tr>\n\t<tr><th scope=row>Porsche 914-2</th><td>26.0</td></tr>\n\t<tr><th scope=row>Lotus Europa</th><td>30.4</td></tr>\n\t<tr><th scope=row>Ford Pantera L</th><td>15.8</td></tr>\n\t<tr><th scope=row>Ferrari Dino</th><td>19.7</td></tr>\n\t<tr><th scope=row>Maserati Bora</th><td>15.0</td></tr>\n\t<tr><th scope=row>Volvo 142E</th><td>21.4</td></tr>\n</tbody>\n</table>\n"
          },
          "metadata": {}
        }
      ]
    },
    {
      "metadata": {
        "trusted": true
      },
      "cell_type": "code",
      "source": "head(mtcars[c('mpg','cyl')]) # getting multiple columns as a dataframe",
      "execution_count": 20,
      "outputs": [
        {
          "output_type": "display_data",
          "data": {
            "text/plain": "                  mpg  cyl\nMazda RX4         21.0 6  \nMazda RX4 Wag     21.0 6  \nDatsun 710        22.8 4  \nHornet 4 Drive    21.4 6  \nHornet Sportabout 18.7 8  \nValiant           18.1 6  ",
            "text/latex": "A data.frame: 6 x 2\n\\begin{tabular}{r|ll}\n  & mpg & cyl\\\\\n  & <dbl> & <dbl>\\\\\n\\hline\n\tMazda RX4 & 21.0 & 6\\\\\n\tMazda RX4 Wag & 21.0 & 6\\\\\n\tDatsun 710 & 22.8 & 4\\\\\n\tHornet 4 Drive & 21.4 & 6\\\\\n\tHornet Sportabout & 18.7 & 8\\\\\n\tValiant & 18.1 & 6\\\\\n\\end{tabular}\n",
            "text/markdown": "\nA data.frame: 6 x 2\n\n| <!--/--> | mpg &lt;dbl&gt; | cyl &lt;dbl&gt; |\n|---|---|---|\n| Mazda RX4 | 21.0 | 6 |\n| Mazda RX4 Wag | 21.0 | 6 |\n| Datsun 710 | 22.8 | 4 |\n| Hornet 4 Drive | 21.4 | 6 |\n| Hornet Sportabout | 18.7 | 8 |\n| Valiant | 18.1 | 6 |\n\n",
            "text/html": "<table>\n<caption>A data.frame: 6 x 2</caption>\n<thead>\n\t<tr><th></th><th scope=col>mpg</th><th scope=col>cyl</th></tr>\n\t<tr><th></th><th scope=col>&lt;dbl&gt;</th><th scope=col>&lt;dbl&gt;</th></tr>\n</thead>\n<tbody>\n\t<tr><th scope=row>Mazda RX4</th><td>21.0</td><td>6</td></tr>\n\t<tr><th scope=row>Mazda RX4 Wag</th><td>21.0</td><td>6</td></tr>\n\t<tr><th scope=row>Datsun 710</th><td>22.8</td><td>4</td></tr>\n\t<tr><th scope=row>Hornet 4 Drive</th><td>21.4</td><td>6</td></tr>\n\t<tr><th scope=row>Hornet Sportabout</th><td>18.7</td><td>8</td></tr>\n\t<tr><th scope=row>Valiant</th><td>18.1</td><td>6</td></tr>\n</tbody>\n</table>\n"
          },
          "metadata": {}
        }
      ]
    },
    {
      "metadata": {},
      "cell_type": "markdown",
      "source": "### Adding new rows to a dataframe"
    },
    {
      "metadata": {
        "trusted": true
      },
      "cell_type": "code",
      "source": "#let us work on a newly created dataframe\n# Creating a dataframe from vectors\nAGE <- c(21,23,28,27,30)\nNAME <- c('Raj',\"Rani\",\"Laila\",'John',\"Julia\")\nGENDER <- c('Male','Female','Female','Male','Female')\nstudentdf <- data.frame(NAME,AGE,GENDER)\nstudentdf",
      "execution_count": 31,
      "outputs": [
        {
          "output_type": "display_data",
          "data": {
            "text/plain": "  NAME  AGE GENDER\n1 Raj   21  Male  \n2 Rani  23  Female\n3 Laila 28  Female\n4 John  27  Male  \n5 Julia 30  Female",
            "text/latex": "A data.frame: 5 x 3\n\\begin{tabular}{r|lll}\n NAME & AGE & GENDER\\\\\n <fct> & <dbl> & <fct>\\\\\n\\hline\n\t Raj   & 21 & Male  \\\\\n\t Rani  & 23 & Female\\\\\n\t Laila & 28 & Female\\\\\n\t John  & 27 & Male  \\\\\n\t Julia & 30 & Female\\\\\n\\end{tabular}\n",
            "text/markdown": "\nA data.frame: 5 x 3\n\n| NAME &lt;fct&gt; | AGE &lt;dbl&gt; | GENDER &lt;fct&gt; |\n|---|---|---|\n| Raj   | 21 | Male   |\n| Rani  | 23 | Female |\n| Laila | 28 | Female |\n| John  | 27 | Male   |\n| Julia | 30 | Female |\n\n",
            "text/html": "<table>\n<caption>A data.frame: 5 x 3</caption>\n<thead>\n\t<tr><th scope=col>NAME</th><th scope=col>AGE</th><th scope=col>GENDER</th></tr>\n\t<tr><th scope=col>&lt;fct&gt;</th><th scope=col>&lt;dbl&gt;</th><th scope=col>&lt;fct&gt;</th></tr>\n</thead>\n<tbody>\n\t<tr><td>Raj  </td><td>21</td><td>Male  </td></tr>\n\t<tr><td>Rani </td><td>23</td><td>Female</td></tr>\n\t<tr><td>Laila</td><td>28</td><td>Female</td></tr>\n\t<tr><td>John </td><td>27</td><td>Male  </td></tr>\n\t<tr><td>Julia</td><td>30</td><td>Female</td></tr>\n</tbody>\n</table>\n"
          },
          "metadata": {}
        }
      ]
    },
    {
      "metadata": {
        "trusted": true
      },
      "cell_type": "code",
      "source": "df_new <- data.frame(NAME = 'Latha', AGE = 31, GENDER = 'Female')",
      "execution_count": 32,
      "outputs": []
    },
    {
      "metadata": {
        "trusted": true
      },
      "cell_type": "code",
      "source": "df_new",
      "execution_count": 33,
      "outputs": [
        {
          "output_type": "display_data",
          "data": {
            "text/plain": "  NAME  AGE GENDER\n1 Latha 31  Female",
            "text/latex": "A data.frame: 1 x 3\n\\begin{tabular}{r|lll}\n NAME & AGE & GENDER\\\\\n <fct> & <dbl> & <fct>\\\\\n\\hline\n\t Latha & 31 & Female\\\\\n\\end{tabular}\n",
            "text/markdown": "\nA data.frame: 1 x 3\n\n| NAME &lt;fct&gt; | AGE &lt;dbl&gt; | GENDER &lt;fct&gt; |\n|---|---|---|\n| Latha | 31 | Female |\n\n",
            "text/html": "<table>\n<caption>A data.frame: 1 x 3</caption>\n<thead>\n\t<tr><th scope=col>NAME</th><th scope=col>AGE</th><th scope=col>GENDER</th></tr>\n\t<tr><th scope=col>&lt;fct&gt;</th><th scope=col>&lt;dbl&gt;</th><th scope=col>&lt;fct&gt;</th></tr>\n</thead>\n<tbody>\n\t<tr><td>Latha</td><td>31</td><td>Female</td></tr>\n</tbody>\n</table>\n"
          },
          "metadata": {}
        }
      ]
    },
    {
      "metadata": {
        "trusted": true
      },
      "cell_type": "code",
      "source": "studentdf <- rbind(studentdf,df_new) # Using R bind add the rows together",
      "execution_count": 34,
      "outputs": []
    },
    {
      "metadata": {
        "trusted": true
      },
      "cell_type": "code",
      "source": "studentdf",
      "execution_count": 35,
      "outputs": [
        {
          "output_type": "display_data",
          "data": {
            "text/plain": "  NAME  AGE GENDER\n1 Raj   21  Male  \n2 Rani  23  Female\n3 Laila 28  Female\n4 John  27  Male  \n5 Julia 30  Female\n6 Latha 31  Female",
            "text/latex": "A data.frame: 6 x 3\n\\begin{tabular}{r|lll}\n NAME & AGE & GENDER\\\\\n <fct> & <dbl> & <fct>\\\\\n\\hline\n\t Raj   & 21 & Male  \\\\\n\t Rani  & 23 & Female\\\\\n\t Laila & 28 & Female\\\\\n\t John  & 27 & Male  \\\\\n\t Julia & 30 & Female\\\\\n\t Latha & 31 & Female\\\\\n\\end{tabular}\n",
            "text/markdown": "\nA data.frame: 6 x 3\n\n| NAME &lt;fct&gt; | AGE &lt;dbl&gt; | GENDER &lt;fct&gt; |\n|---|---|---|\n| Raj   | 21 | Male   |\n| Rani  | 23 | Female |\n| Laila | 28 | Female |\n| John  | 27 | Male   |\n| Julia | 30 | Female |\n| Latha | 31 | Female |\n\n",
            "text/html": "<table>\n<caption>A data.frame: 6 x 3</caption>\n<thead>\n\t<tr><th scope=col>NAME</th><th scope=col>AGE</th><th scope=col>GENDER</th></tr>\n\t<tr><th scope=col>&lt;fct&gt;</th><th scope=col>&lt;dbl&gt;</th><th scope=col>&lt;fct&gt;</th></tr>\n</thead>\n<tbody>\n\t<tr><td>Raj  </td><td>21</td><td>Male  </td></tr>\n\t<tr><td>Rani </td><td>23</td><td>Female</td></tr>\n\t<tr><td>Laila</td><td>28</td><td>Female</td></tr>\n\t<tr><td>John </td><td>27</td><td>Male  </td></tr>\n\t<tr><td>Julia</td><td>30</td><td>Female</td></tr>\n\t<tr><td>Latha</td><td>31</td><td>Female</td></tr>\n</tbody>\n</table>\n"
          },
          "metadata": {}
        }
      ]
    },
    {
      "metadata": {
        "trusted": true
      },
      "cell_type": "markdown",
      "source": "#### Aggregrate operations"
    },
    {
      "metadata": {
        "trusted": true
      },
      "cell_type": "code",
      "source": "head(mtcars)",
      "execution_count": 1,
      "outputs": [
        {
          "output_type": "display_data",
          "data": {
            "text/plain": "                  mpg  cyl disp hp  drat wt    qsec  vs am gear carb\nMazda RX4         21.0 6   160  110 3.90 2.620 16.46 0  1  4    4   \nMazda RX4 Wag     21.0 6   160  110 3.90 2.875 17.02 0  1  4    4   \nDatsun 710        22.8 4   108   93 3.85 2.320 18.61 1  1  4    1   \nHornet 4 Drive    21.4 6   258  110 3.08 3.215 19.44 1  0  3    1   \nHornet Sportabout 18.7 8   360  175 3.15 3.440 17.02 0  0  3    2   \nValiant           18.1 6   225  105 2.76 3.460 20.22 1  0  3    1   ",
            "text/latex": "A data.frame: 6 x 11\n\\begin{tabular}{r|lllllllllll}\n  & mpg & cyl & disp & hp & drat & wt & qsec & vs & am & gear & carb\\\\\n  & <dbl> & <dbl> & <dbl> & <dbl> & <dbl> & <dbl> & <dbl> & <dbl> & <dbl> & <dbl> & <dbl>\\\\\n\\hline\n\tMazda RX4 & 21.0 & 6 & 160 & 110 & 3.90 & 2.620 & 16.46 & 0 & 1 & 4 & 4\\\\\n\tMazda RX4 Wag & 21.0 & 6 & 160 & 110 & 3.90 & 2.875 & 17.02 & 0 & 1 & 4 & 4\\\\\n\tDatsun 710 & 22.8 & 4 & 108 &  93 & 3.85 & 2.320 & 18.61 & 1 & 1 & 4 & 1\\\\\n\tHornet 4 Drive & 21.4 & 6 & 258 & 110 & 3.08 & 3.215 & 19.44 & 1 & 0 & 3 & 1\\\\\n\tHornet Sportabout & 18.7 & 8 & 360 & 175 & 3.15 & 3.440 & 17.02 & 0 & 0 & 3 & 2\\\\\n\tValiant & 18.1 & 6 & 225 & 105 & 2.76 & 3.460 & 20.22 & 1 & 0 & 3 & 1\\\\\n\\end{tabular}\n",
            "text/markdown": "\nA data.frame: 6 x 11\n\n| <!--/--> | mpg &lt;dbl&gt; | cyl &lt;dbl&gt; | disp &lt;dbl&gt; | hp &lt;dbl&gt; | drat &lt;dbl&gt; | wt &lt;dbl&gt; | qsec &lt;dbl&gt; | vs &lt;dbl&gt; | am &lt;dbl&gt; | gear &lt;dbl&gt; | carb &lt;dbl&gt; |\n|---|---|---|---|---|---|---|---|---|---|---|---|\n| Mazda RX4 | 21.0 | 6 | 160 | 110 | 3.90 | 2.620 | 16.46 | 0 | 1 | 4 | 4 |\n| Mazda RX4 Wag | 21.0 | 6 | 160 | 110 | 3.90 | 2.875 | 17.02 | 0 | 1 | 4 | 4 |\n| Datsun 710 | 22.8 | 4 | 108 |  93 | 3.85 | 2.320 | 18.61 | 1 | 1 | 4 | 1 |\n| Hornet 4 Drive | 21.4 | 6 | 258 | 110 | 3.08 | 3.215 | 19.44 | 1 | 0 | 3 | 1 |\n| Hornet Sportabout | 18.7 | 8 | 360 | 175 | 3.15 | 3.440 | 17.02 | 0 | 0 | 3 | 2 |\n| Valiant | 18.1 | 6 | 225 | 105 | 2.76 | 3.460 | 20.22 | 1 | 0 | 3 | 1 |\n\n",
            "text/html": "<table>\n<caption>A data.frame: 6 x 11</caption>\n<thead>\n\t<tr><th></th><th scope=col>mpg</th><th scope=col>cyl</th><th scope=col>disp</th><th scope=col>hp</th><th scope=col>drat</th><th scope=col>wt</th><th scope=col>qsec</th><th scope=col>vs</th><th scope=col>am</th><th scope=col>gear</th><th scope=col>carb</th></tr>\n\t<tr><th></th><th scope=col>&lt;dbl&gt;</th><th scope=col>&lt;dbl&gt;</th><th scope=col>&lt;dbl&gt;</th><th scope=col>&lt;dbl&gt;</th><th scope=col>&lt;dbl&gt;</th><th scope=col>&lt;dbl&gt;</th><th scope=col>&lt;dbl&gt;</th><th scope=col>&lt;dbl&gt;</th><th scope=col>&lt;dbl&gt;</th><th scope=col>&lt;dbl&gt;</th><th scope=col>&lt;dbl&gt;</th></tr>\n</thead>\n<tbody>\n\t<tr><th scope=row>Mazda RX4</th><td>21.0</td><td>6</td><td>160</td><td>110</td><td>3.90</td><td>2.620</td><td>16.46</td><td>0</td><td>1</td><td>4</td><td>4</td></tr>\n\t<tr><th scope=row>Mazda RX4 Wag</th><td>21.0</td><td>6</td><td>160</td><td>110</td><td>3.90</td><td>2.875</td><td>17.02</td><td>0</td><td>1</td><td>4</td><td>4</td></tr>\n\t<tr><th scope=row>Datsun 710</th><td>22.8</td><td>4</td><td>108</td><td> 93</td><td>3.85</td><td>2.320</td><td>18.61</td><td>1</td><td>1</td><td>4</td><td>1</td></tr>\n\t<tr><th scope=row>Hornet 4 Drive</th><td>21.4</td><td>6</td><td>258</td><td>110</td><td>3.08</td><td>3.215</td><td>19.44</td><td>1</td><td>0</td><td>3</td><td>1</td></tr>\n\t<tr><th scope=row>Hornet Sportabout</th><td>18.7</td><td>8</td><td>360</td><td>175</td><td>3.15</td><td>3.440</td><td>17.02</td><td>0</td><td>0</td><td>3</td><td>2</td></tr>\n\t<tr><th scope=row>Valiant</th><td>18.1</td><td>6</td><td>225</td><td>105</td><td>2.76</td><td>3.460</td><td>20.22</td><td>1</td><td>0</td><td>3</td><td>1</td></tr>\n</tbody>\n</table>\n"
          },
          "metadata": {}
        }
      ]
    },
    {
      "metadata": {
        "trusted": true
      },
      "cell_type": "code",
      "source": "aggregate(x = mtcars$mpg, by = list(cylinders = mtcars$cyl), FUN = mean)\n# x = column on which the aggregation to be performed\n# FUN = function to be performed on the x\n# by = list(variable for which the grouping is needed)",
      "execution_count": 4,
      "outputs": [
        {
          "output_type": "display_data",
          "data": {
            "text/plain": "  cylinders x       \n1 4         26.66364\n2 6         19.74286\n3 8         15.10000",
            "text/latex": "A data.frame: 3 x 2\n\\begin{tabular}{r|ll}\n cylinders & x\\\\\n <dbl> & <dbl>\\\\\n\\hline\n\t 4 & 26.66364\\\\\n\t 6 & 19.74286\\\\\n\t 8 & 15.10000\\\\\n\\end{tabular}\n",
            "text/markdown": "\nA data.frame: 3 x 2\n\n| cylinders &lt;dbl&gt; | x &lt;dbl&gt; |\n|---|---|\n| 4 | 26.66364 |\n| 6 | 19.74286 |\n| 8 | 15.10000 |\n\n",
            "text/html": "<table>\n<caption>A data.frame: 3 x 2</caption>\n<thead>\n\t<tr><th scope=col>cylinders</th><th scope=col>x</th></tr>\n\t<tr><th scope=col>&lt;dbl&gt;</th><th scope=col>&lt;dbl&gt;</th></tr>\n</thead>\n<tbody>\n\t<tr><td>4</td><td>26.66364</td></tr>\n\t<tr><td>6</td><td>19.74286</td></tr>\n\t<tr><td>8</td><td>15.10000</td></tr>\n</tbody>\n</table>\n"
          },
          "metadata": {}
        }
      ]
    },
    {
      "metadata": {
        "trusted": true
      },
      "cell_type": "code",
      "source": "",
      "execution_count": null,
      "outputs": []
    }
  ],
  "metadata": {
    "kernelspec": {
      "name": "r",
      "display_name": "R",
      "language": "R"
    },
    "language_info": {
      "mimetype": "text/x-r-source",
      "name": "R",
      "pygments_lexer": "r",
      "version": "3.4.1",
      "file_extension": ".r",
      "codemirror_mode": "r"
    }
  },
  "nbformat": 4,
  "nbformat_minor": 2
}