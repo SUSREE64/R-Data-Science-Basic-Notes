{
  "cells": [
    {
      "metadata": {
        "collapsed": true
      },
      "cell_type": "markdown",
      "source": "### Exercise Problems\n#### Ex 1: Write a script that will print \"Even Number\" if the variable x is an even number, otherwise print \"Not Even\":"
    },
    {
      "metadata": {
        "trusted": true
      },
      "cell_type": "code",
      "source": "x <- 10\nif (x%%2 == 0){\n    \n    print('Even Number')\n}else{\n    \n    print(\"Not Even\")\n}",
      "execution_count": 3,
      "outputs": [
        {
          "output_type": "stream",
          "text": "[1] \"Even Number\"\n",
          "name": "stdout"
        }
      ]
    },
    {
      "metadata": {},
      "cell_type": "markdown",
      "source": "### Ex 2: Write a script that will print 'Is a Matrix' if the variable x is a matrix, otherwise print \"Not a Matrix\". \n#### Hint: You may want to check out help(is.matrix)"
    },
    {
      "metadata": {
        "trusted": true
      },
      "cell_type": "code",
      "source": "mat <- matrix(1:10, nrow = 2)\nis.matrix(mat)",
      "execution_count": 6,
      "outputs": [
        {
          "output_type": "display_data",
          "data": {
            "text/plain": "[1] TRUE",
            "text/latex": "TRUE",
            "text/markdown": "TRUE",
            "text/html": "TRUE"
          },
          "metadata": {}
        }
      ]
    },
    {
      "metadata": {},
      "cell_type": "markdown",
      "source": "### Ex 3: Create a script that given a numeric vector x with a length 3, will print out the elements in order from high to low. \n#### You must use if,else if, and else statements for your logic. (This code will be relatively long)"
    },
    {
      "metadata": {
        "trusted": true
      },
      "cell_type": "code",
      "source": "x <- c( 8, 1,2)\nhigh <- 0; mid<- 0; low<-0\nif ((x[1] > x[2]) & (x[1]>x[3])){\n    high <- x[1]\n}else if ((x[2] > x[1]) & (x[2]>x[3])){\n    high <- x[2]\n}else if ((x[3] > x[1]) & (x[3]>x[2])){\n    high <- x[3]\n}\nif ((x[1] < x[2]) & (x[1]<x[3])){\n    low <- x[1]\n}else if ((x[2] < x[1]) & (x[2]<x[3])){\n    low <- x[2]\n}else if ((x[3] < x[1]) & (x[3]<x[2])){\n    low <- x[3]\n}\nif ((x[1] < x[2]) & (x[1] > x[3])){\n    mid <- x[1]\n}else if ((x[2] < x[1]) & (x[2]>x[3])){\n    mid <- x[2]\n}else if ((x[3] < x[1]) & (x[3]>x[2])){\n    mid <- x[3]\n}\n\nprint(c(high, mid, low))\n\n",
      "execution_count": 38,
      "outputs": [
        {
          "output_type": "stream",
          "text": "[1] 8 2 1\n",
          "name": "stdout"
        }
      ]
    },
    {
      "metadata": {},
      "cell_type": "markdown",
      "source": "### Ex 4: Write a script that uses if,else if, and else statements to print the max element in a numeric vector with 3 elements.\n\n"
    },
    {
      "metadata": {
        "trusted": true
      },
      "cell_type": "code",
      "source": "x <- c(20, 7, 1)\nhifgr <-0\nif ((x[1] > x[2]) & (x[1]>x[3])){\n    high <- x[1]\n}else if ((x[2] > x[1]) & (x[2]>x[3])){\n    high <- x[2]\n}else if ((x[3] > x[1]) & (x[3]>x[2])){\n    high <- x[3]\n}\nprint(high)",
      "execution_count": 40,
      "outputs": [
        {
          "output_type": "stream",
          "text": "[1] 20\n",
          "name": "stdout"
        }
      ]
    },
    {
      "metadata": {
        "trusted": true
      },
      "cell_type": "code",
      "source": "",
      "execution_count": null,
      "outputs": []
    }
  ],
  "metadata": {
    "kernelspec": {
      "name": "r",
      "display_name": "R",
      "language": "R"
    },
    "language_info": {
      "mimetype": "text/x-r-source",
      "name": "R",
      "pygments_lexer": "r",
      "version": "3.4.1",
      "file_extension": ".r",
      "codemirror_mode": "r"
    }
  },
  "nbformat": 4,
  "nbformat_minor": 2
}