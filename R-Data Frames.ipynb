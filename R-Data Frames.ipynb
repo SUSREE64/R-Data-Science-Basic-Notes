{
  "cells": [
    {
      "metadata": {
        "collapsed": true
      },
      "cell_type": "markdown",
      "source": "## Data Frames "
    },
    {
      "metadata": {
        "trusted": true
      },
      "cell_type": "code",
      "source": "# There are built in Data sets in R for practice purpose\ndf <- state.x77 # This is a built in data set ",
      "execution_count": 1,
      "outputs": []
    },
    {
      "metadata": {
        "trusted": true
      },
      "cell_type": "code",
      "source": "# to see the data set\nhead(df) #first 6 rows",
      "execution_count": 15,
      "outputs": [
        {
          "output_type": "display_data",
          "data": {
            "text/plain": "           Population Income Illiteracy Life Exp Murder HS Grad Frost Area  \nAlabama     3615      3624   2.1        69.05    15.1   41.3     20    50708\nAlaska       365      6315   1.5        69.31    11.3   66.7    152   566432\nArizona     2212      4530   1.8        70.55     7.8   58.1     15   113417\nArkansas    2110      3378   1.9        70.66    10.1   39.9     65    51945\nCalifornia 21198      5114   1.1        71.71    10.3   62.6     20   156361\nColorado    2541      4884   0.7        72.06     6.8   63.9    166   103766",
            "text/latex": "A matrix: 6 x 8 of type dbl\n\\begin{tabular}{r|llllllll}\n  & Population & Income & Illiteracy & Life Exp & Murder & HS Grad & Frost & Area\\\\\n\\hline\n\tAlabama &  3615 & 3624 & 2.1 & 69.05 & 15.1 & 41.3 &  20 &  50708\\\\\n\tAlaska &   365 & 6315 & 1.5 & 69.31 & 11.3 & 66.7 & 152 & 566432\\\\\n\tArizona &  2212 & 4530 & 1.8 & 70.55 &  7.8 & 58.1 &  15 & 113417\\\\\n\tArkansas &  2110 & 3378 & 1.9 & 70.66 & 10.1 & 39.9 &  65 &  51945\\\\\n\tCalifornia & 21198 & 5114 & 1.1 & 71.71 & 10.3 & 62.6 &  20 & 156361\\\\\n\tColorado &  2541 & 4884 & 0.7 & 72.06 &  6.8 & 63.9 & 166 & 103766\\\\\n\\end{tabular}\n",
            "text/markdown": "\nA matrix: 6 x 8 of type dbl\n\n| <!--/--> | Population | Income | Illiteracy | Life Exp | Murder | HS Grad | Frost | Area |\n|---|---|---|---|---|---|---|---|---|\n| Alabama |  3615 | 3624 | 2.1 | 69.05 | 15.1 | 41.3 |  20 |  50708 |\n| Alaska |   365 | 6315 | 1.5 | 69.31 | 11.3 | 66.7 | 152 | 566432 |\n| Arizona |  2212 | 4530 | 1.8 | 70.55 |  7.8 | 58.1 |  15 | 113417 |\n| Arkansas |  2110 | 3378 | 1.9 | 70.66 | 10.1 | 39.9 |  65 |  51945 |\n| California | 21198 | 5114 | 1.1 | 71.71 | 10.3 | 62.6 |  20 | 156361 |\n| Colorado |  2541 | 4884 | 0.7 | 72.06 |  6.8 | 63.9 | 166 | 103766 |\n\n",
            "text/html": "<table>\n<caption>A matrix: 6 x 8 of type dbl</caption>\n<thead>\n\t<tr><th></th><th scope=col>Population</th><th scope=col>Income</th><th scope=col>Illiteracy</th><th scope=col>Life Exp</th><th scope=col>Murder</th><th scope=col>HS Grad</th><th scope=col>Frost</th><th scope=col>Area</th></tr>\n</thead>\n<tbody>\n\t<tr><th scope=row>Alabama</th><td> 3615</td><td>3624</td><td>2.1</td><td>69.05</td><td>15.1</td><td>41.3</td><td> 20</td><td> 50708</td></tr>\n\t<tr><th scope=row>Alaska</th><td>  365</td><td>6315</td><td>1.5</td><td>69.31</td><td>11.3</td><td>66.7</td><td>152</td><td>566432</td></tr>\n\t<tr><th scope=row>Arizona</th><td> 2212</td><td>4530</td><td>1.8</td><td>70.55</td><td> 7.8</td><td>58.1</td><td> 15</td><td>113417</td></tr>\n\t<tr><th scope=row>Arkansas</th><td> 2110</td><td>3378</td><td>1.9</td><td>70.66</td><td>10.1</td><td>39.9</td><td> 65</td><td> 51945</td></tr>\n\t<tr><th scope=row>California</th><td>21198</td><td>5114</td><td>1.1</td><td>71.71</td><td>10.3</td><td>62.6</td><td> 20</td><td>156361</td></tr>\n\t<tr><th scope=row>Colorado</th><td> 2541</td><td>4884</td><td>0.7</td><td>72.06</td><td> 6.8</td><td>63.9</td><td>166</td><td>103766</td></tr>\n</tbody>\n</table>\n"
          },
          "metadata": {}
        }
      ]
    },
    {
      "metadata": {
        "trusted": true
      },
      "cell_type": "code",
      "source": "# to see/select number of rows with head function\nhead(df,10)",
      "execution_count": 2,
      "outputs": [
        {
          "output_type": "display_data",
          "data": {
            "text/plain": "            Population Income Illiteracy Life Exp Murder HS Grad Frost Area  \nAlabama      3615      3624   2.1        69.05    15.1   41.3     20    50708\nAlaska        365      6315   1.5        69.31    11.3   66.7    152   566432\nArizona      2212      4530   1.8        70.55     7.8   58.1     15   113417\nArkansas     2110      3378   1.9        70.66    10.1   39.9     65    51945\nCalifornia  21198      5114   1.1        71.71    10.3   62.6     20   156361\nColorado     2541      4884   0.7        72.06     6.8   63.9    166   103766\nConnecticut  3100      5348   1.1        72.48     3.1   56.0    139     4862\nDelaware      579      4809   0.9        70.06     6.2   54.6    103     1982\nFlorida      8277      4815   1.3        70.66    10.7   52.6     11    54090\nGeorgia      4931      4091   2.0        68.54    13.9   40.6     60    58073",
            "text/latex": "A matrix: 10 x 8 of type dbl\n\\begin{tabular}{r|llllllll}\n  & Population & Income & Illiteracy & Life Exp & Murder & HS Grad & Frost & Area\\\\\n\\hline\n\tAlabama &  3615 & 3624 & 2.1 & 69.05 & 15.1 & 41.3 &  20 &  50708\\\\\n\tAlaska &   365 & 6315 & 1.5 & 69.31 & 11.3 & 66.7 & 152 & 566432\\\\\n\tArizona &  2212 & 4530 & 1.8 & 70.55 &  7.8 & 58.1 &  15 & 113417\\\\\n\tArkansas &  2110 & 3378 & 1.9 & 70.66 & 10.1 & 39.9 &  65 &  51945\\\\\n\tCalifornia & 21198 & 5114 & 1.1 & 71.71 & 10.3 & 62.6 &  20 & 156361\\\\\n\tColorado &  2541 & 4884 & 0.7 & 72.06 &  6.8 & 63.9 & 166 & 103766\\\\\n\tConnecticut &  3100 & 5348 & 1.1 & 72.48 &  3.1 & 56.0 & 139 &   4862\\\\\n\tDelaware &   579 & 4809 & 0.9 & 70.06 &  6.2 & 54.6 & 103 &   1982\\\\\n\tFlorida &  8277 & 4815 & 1.3 & 70.66 & 10.7 & 52.6 &  11 &  54090\\\\\n\tGeorgia &  4931 & 4091 & 2.0 & 68.54 & 13.9 & 40.6 &  60 &  58073\\\\\n\\end{tabular}\n",
            "text/markdown": "\nA matrix: 10 x 8 of type dbl\n\n| <!--/--> | Population | Income | Illiteracy | Life Exp | Murder | HS Grad | Frost | Area |\n|---|---|---|---|---|---|---|---|---|\n| Alabama |  3615 | 3624 | 2.1 | 69.05 | 15.1 | 41.3 |  20 |  50708 |\n| Alaska |   365 | 6315 | 1.5 | 69.31 | 11.3 | 66.7 | 152 | 566432 |\n| Arizona |  2212 | 4530 | 1.8 | 70.55 |  7.8 | 58.1 |  15 | 113417 |\n| Arkansas |  2110 | 3378 | 1.9 | 70.66 | 10.1 | 39.9 |  65 |  51945 |\n| California | 21198 | 5114 | 1.1 | 71.71 | 10.3 | 62.6 |  20 | 156361 |\n| Colorado |  2541 | 4884 | 0.7 | 72.06 |  6.8 | 63.9 | 166 | 103766 |\n| Connecticut |  3100 | 5348 | 1.1 | 72.48 |  3.1 | 56.0 | 139 |   4862 |\n| Delaware |   579 | 4809 | 0.9 | 70.06 |  6.2 | 54.6 | 103 |   1982 |\n| Florida |  8277 | 4815 | 1.3 | 70.66 | 10.7 | 52.6 |  11 |  54090 |\n| Georgia |  4931 | 4091 | 2.0 | 68.54 | 13.9 | 40.6 |  60 |  58073 |\n\n",
            "text/html": "<table>\n<caption>A matrix: 10 x 8 of type dbl</caption>\n<thead>\n\t<tr><th></th><th scope=col>Population</th><th scope=col>Income</th><th scope=col>Illiteracy</th><th scope=col>Life Exp</th><th scope=col>Murder</th><th scope=col>HS Grad</th><th scope=col>Frost</th><th scope=col>Area</th></tr>\n</thead>\n<tbody>\n\t<tr><th scope=row>Alabama</th><td> 3615</td><td>3624</td><td>2.1</td><td>69.05</td><td>15.1</td><td>41.3</td><td> 20</td><td> 50708</td></tr>\n\t<tr><th scope=row>Alaska</th><td>  365</td><td>6315</td><td>1.5</td><td>69.31</td><td>11.3</td><td>66.7</td><td>152</td><td>566432</td></tr>\n\t<tr><th scope=row>Arizona</th><td> 2212</td><td>4530</td><td>1.8</td><td>70.55</td><td> 7.8</td><td>58.1</td><td> 15</td><td>113417</td></tr>\n\t<tr><th scope=row>Arkansas</th><td> 2110</td><td>3378</td><td>1.9</td><td>70.66</td><td>10.1</td><td>39.9</td><td> 65</td><td> 51945</td></tr>\n\t<tr><th scope=row>California</th><td>21198</td><td>5114</td><td>1.1</td><td>71.71</td><td>10.3</td><td>62.6</td><td> 20</td><td>156361</td></tr>\n\t<tr><th scope=row>Colorado</th><td> 2541</td><td>4884</td><td>0.7</td><td>72.06</td><td> 6.8</td><td>63.9</td><td>166</td><td>103766</td></tr>\n\t<tr><th scope=row>Connecticut</th><td> 3100</td><td>5348</td><td>1.1</td><td>72.48</td><td> 3.1</td><td>56.0</td><td>139</td><td>  4862</td></tr>\n\t<tr><th scope=row>Delaware</th><td>  579</td><td>4809</td><td>0.9</td><td>70.06</td><td> 6.2</td><td>54.6</td><td>103</td><td>  1982</td></tr>\n\t<tr><th scope=row>Florida</th><td> 8277</td><td>4815</td><td>1.3</td><td>70.66</td><td>10.7</td><td>52.6</td><td> 11</td><td> 54090</td></tr>\n\t<tr><th scope=row>Georgia</th><td> 4931</td><td>4091</td><td>2.0</td><td>68.54</td><td>13.9</td><td>40.6</td><td> 60</td><td> 58073</td></tr>\n</tbody>\n</table>\n"
          },
          "metadata": {}
        }
      ]
    },
    {
      "metadata": {
        "trusted": true
      },
      "cell_type": "code",
      "source": "# data() this gives the list of various inbuilt datasets",
      "execution_count": 16,
      "outputs": []
    },
    {
      "metadata": {
        "trusted": true
      },
      "cell_type": "code",
      "source": "tail(df) # Last 6 rows",
      "execution_count": 17,
      "outputs": [
        {
          "output_type": "display_data",
          "data": {
            "text/plain": "              Population Income Illiteracy Life Exp Murder HS Grad Frost Area \nVermont        472       3907   0.6        71.64    5.5    57.1    168    9267\nVirginia      4981       4701   1.4        70.08    9.5    47.8     85   39780\nWashington    3559       4864   0.6        71.72    4.3    63.5     32   66570\nWest Virginia 1799       3617   1.4        69.48    6.7    41.6    100   24070\nWisconsin     4589       4468   0.7        72.48    3.0    54.5    149   54464\nWyoming        376       4566   0.6        70.29    6.9    62.9    173   97203",
            "text/latex": "A matrix: 6 x 8 of type dbl\n\\begin{tabular}{r|llllllll}\n  & Population & Income & Illiteracy & Life Exp & Murder & HS Grad & Frost & Area\\\\\n\\hline\n\tVermont &  472 & 3907 & 0.6 & 71.64 & 5.5 & 57.1 & 168 &  9267\\\\\n\tVirginia & 4981 & 4701 & 1.4 & 70.08 & 9.5 & 47.8 &  85 & 39780\\\\\n\tWashington & 3559 & 4864 & 0.6 & 71.72 & 4.3 & 63.5 &  32 & 66570\\\\\n\tWest Virginia & 1799 & 3617 & 1.4 & 69.48 & 6.7 & 41.6 & 100 & 24070\\\\\n\tWisconsin & 4589 & 4468 & 0.7 & 72.48 & 3.0 & 54.5 & 149 & 54464\\\\\n\tWyoming &  376 & 4566 & 0.6 & 70.29 & 6.9 & 62.9 & 173 & 97203\\\\\n\\end{tabular}\n",
            "text/markdown": "\nA matrix: 6 x 8 of type dbl\n\n| <!--/--> | Population | Income | Illiteracy | Life Exp | Murder | HS Grad | Frost | Area |\n|---|---|---|---|---|---|---|---|---|\n| Vermont |  472 | 3907 | 0.6 | 71.64 | 5.5 | 57.1 | 168 |  9267 |\n| Virginia | 4981 | 4701 | 1.4 | 70.08 | 9.5 | 47.8 |  85 | 39780 |\n| Washington | 3559 | 4864 | 0.6 | 71.72 | 4.3 | 63.5 |  32 | 66570 |\n| West Virginia | 1799 | 3617 | 1.4 | 69.48 | 6.7 | 41.6 | 100 | 24070 |\n| Wisconsin | 4589 | 4468 | 0.7 | 72.48 | 3.0 | 54.5 | 149 | 54464 |\n| Wyoming |  376 | 4566 | 0.6 | 70.29 | 6.9 | 62.9 | 173 | 97203 |\n\n",
            "text/html": "<table>\n<caption>A matrix: 6 x 8 of type dbl</caption>\n<thead>\n\t<tr><th></th><th scope=col>Population</th><th scope=col>Income</th><th scope=col>Illiteracy</th><th scope=col>Life Exp</th><th scope=col>Murder</th><th scope=col>HS Grad</th><th scope=col>Frost</th><th scope=col>Area</th></tr>\n</thead>\n<tbody>\n\t<tr><th scope=row>Vermont</th><td> 472</td><td>3907</td><td>0.6</td><td>71.64</td><td>5.5</td><td>57.1</td><td>168</td><td> 9267</td></tr>\n\t<tr><th scope=row>Virginia</th><td>4981</td><td>4701</td><td>1.4</td><td>70.08</td><td>9.5</td><td>47.8</td><td> 85</td><td>39780</td></tr>\n\t<tr><th scope=row>Washington</th><td>3559</td><td>4864</td><td>0.6</td><td>71.72</td><td>4.3</td><td>63.5</td><td> 32</td><td>66570</td></tr>\n\t<tr><th scope=row>West Virginia</th><td>1799</td><td>3617</td><td>1.4</td><td>69.48</td><td>6.7</td><td>41.6</td><td>100</td><td>24070</td></tr>\n\t<tr><th scope=row>Wisconsin</th><td>4589</td><td>4468</td><td>0.7</td><td>72.48</td><td>3.0</td><td>54.5</td><td>149</td><td>54464</td></tr>\n\t<tr><th scope=row>Wyoming</th><td> 376</td><td>4566</td><td>0.6</td><td>70.29</td><td>6.9</td><td>62.9</td><td>173</td><td>97203</td></tr>\n</tbody>\n</table>\n"
          },
          "metadata": {}
        }
      ]
    },
    {
      "metadata": {
        "trusted": true
      },
      "cell_type": "code",
      "source": "# to select/view last number of rows of a dataframe with tail function\ntail(df,2)",
      "execution_count": 4,
      "outputs": [
        {
          "output_type": "display_data",
          "data": {
            "text/plain": "          Population Income Illiteracy Life Exp Murder HS Grad Frost Area \nWisconsin 4589       4468   0.7        72.48    3.0    54.5    149   54464\nWyoming    376       4566   0.6        70.29    6.9    62.9    173   97203",
            "text/latex": "A matrix: 2 x 8 of type dbl\n\\begin{tabular}{r|llllllll}\n  & Population & Income & Illiteracy & Life Exp & Murder & HS Grad & Frost & Area\\\\\n\\hline\n\tWisconsin & 4589 & 4468 & 0.7 & 72.48 & 3.0 & 54.5 & 149 & 54464\\\\\n\tWyoming &  376 & 4566 & 0.6 & 70.29 & 6.9 & 62.9 & 173 & 97203\\\\\n\\end{tabular}\n",
            "text/markdown": "\nA matrix: 2 x 8 of type dbl\n\n| <!--/--> | Population | Income | Illiteracy | Life Exp | Murder | HS Grad | Frost | Area |\n|---|---|---|---|---|---|---|---|---|\n| Wisconsin | 4589 | 4468 | 0.7 | 72.48 | 3.0 | 54.5 | 149 | 54464 |\n| Wyoming |  376 | 4566 | 0.6 | 70.29 | 6.9 | 62.9 | 173 | 97203 |\n\n",
            "text/html": "<table>\n<caption>A matrix: 2 x 8 of type dbl</caption>\n<thead>\n\t<tr><th></th><th scope=col>Population</th><th scope=col>Income</th><th scope=col>Illiteracy</th><th scope=col>Life Exp</th><th scope=col>Murder</th><th scope=col>HS Grad</th><th scope=col>Frost</th><th scope=col>Area</th></tr>\n</thead>\n<tbody>\n\t<tr><th scope=row>Wisconsin</th><td>4589</td><td>4468</td><td>0.7</td><td>72.48</td><td>3.0</td><td>54.5</td><td>149</td><td>54464</td></tr>\n\t<tr><th scope=row>Wyoming</th><td> 376</td><td>4566</td><td>0.6</td><td>70.29</td><td>6.9</td><td>62.9</td><td>173</td><td>97203</td></tr>\n</tbody>\n</table>\n"
          },
          "metadata": {}
        }
      ]
    },
    {
      "metadata": {
        "trusted": true
      },
      "cell_type": "code",
      "source": "summary(df) # Some exploratory information",
      "execution_count": 18,
      "outputs": [
        {
          "output_type": "display_data",
          "data": {
            "text/plain": "   Population        Income       Illiteracy       Life Exp    \n Min.   :  365   Min.   :3098   Min.   :0.500   Min.   :67.96  \n 1st Qu.: 1080   1st Qu.:3993   1st Qu.:0.625   1st Qu.:70.12  \n Median : 2838   Median :4519   Median :0.950   Median :70.67  \n Mean   : 4246   Mean   :4436   Mean   :1.170   Mean   :70.88  \n 3rd Qu.: 4968   3rd Qu.:4814   3rd Qu.:1.575   3rd Qu.:71.89  \n Max.   :21198   Max.   :6315   Max.   :2.800   Max.   :73.60  \n     Murder          HS Grad          Frost             Area       \n Min.   : 1.400   Min.   :37.80   Min.   :  0.00   Min.   :  1049  \n 1st Qu.: 4.350   1st Qu.:48.05   1st Qu.: 66.25   1st Qu.: 36985  \n Median : 6.850   Median :53.25   Median :114.50   Median : 54277  \n Mean   : 7.378   Mean   :53.11   Mean   :104.46   Mean   : 70736  \n 3rd Qu.:10.675   3rd Qu.:59.15   3rd Qu.:139.75   3rd Qu.: 81162  \n Max.   :15.100   Max.   :67.30   Max.   :188.00   Max.   :566432  "
          },
          "metadata": {}
        }
      ]
    },
    {
      "metadata": {
        "trusted": true
      },
      "cell_type": "code",
      "source": "str(df)",
      "execution_count": 19,
      "outputs": [
        {
          "output_type": "stream",
          "text": " num [1:50, 1:8] 3615 365 2212 2110 21198 ...\n - attr(*, \"dimnames\")=List of 2\n  ..$ : chr [1:50] \"Alabama\" \"Alaska\" \"Arizona\" \"Arkansas\" ...\n  ..$ : chr [1:8] \"Population\" \"Income\" \"Illiteracy\" \"Life Exp\" ...\n",
          "name": "stdout"
        }
      ]
    },
    {
      "metadata": {
        "trusted": true
      },
      "cell_type": "code",
      "source": "is.data.frame(df)",
      "execution_count": 21,
      "outputs": [
        {
          "output_type": "display_data",
          "data": {
            "text/plain": "[1] FALSE",
            "text/latex": "FALSE",
            "text/markdown": "FALSE",
            "text/html": "FALSE"
          },
          "metadata": {}
        }
      ]
    },
    {
      "metadata": {
        "trusted": true
      },
      "cell_type": "code",
      "source": "# Making a data frame from scratch\nDays <- c(\"Mon\", \"Tue\", \"Wed\", \"Thu\", \"Fri\", \"Sat\", \"Sun\")\nTemps <- c(32,34,33.5,31,33,33.8,35)\nRain <- c(T,T,F,F,T,F,T)\ndf1<- data.frame(Days,Temps,Rain)",
      "execution_count": 22,
      "outputs": []
    },
    {
      "metadata": {
        "trusted": true
      },
      "cell_type": "code",
      "source": "df1",
      "execution_count": 23,
      "outputs": [
        {
          "output_type": "display_data",
          "data": {
            "text/plain": "  Days Temps Rain \n1 Mon  32.0   TRUE\n2 Tue  34.0   TRUE\n3 Wed  33.5  FALSE\n4 Thu  31.0  FALSE\n5 Fri  33.0   TRUE\n6 Sat  33.8  FALSE\n7 Sun  35.0   TRUE",
            "text/latex": "A data.frame: 7 x 3\n\\begin{tabular}{r|lll}\n Days & Temps & Rain\\\\\n <fct> & <dbl> & <lgl>\\\\\n\\hline\n\t Mon & 32.0 &  TRUE\\\\\n\t Tue & 34.0 &  TRUE\\\\\n\t Wed & 33.5 & FALSE\\\\\n\t Thu & 31.0 & FALSE\\\\\n\t Fri & 33.0 &  TRUE\\\\\n\t Sat & 33.8 & FALSE\\\\\n\t Sun & 35.0 &  TRUE\\\\\n\\end{tabular}\n",
            "text/markdown": "\nA data.frame: 7 x 3\n\n| Days &lt;fct&gt; | Temps &lt;dbl&gt; | Rain &lt;lgl&gt; |\n|---|---|---|\n| Mon | 32.0 |  TRUE |\n| Tue | 34.0 |  TRUE |\n| Wed | 33.5 | FALSE |\n| Thu | 31.0 | FALSE |\n| Fri | 33.0 |  TRUE |\n| Sat | 33.8 | FALSE |\n| Sun | 35.0 |  TRUE |\n\n",
            "text/html": "<table>\n<caption>A data.frame: 7 x 3</caption>\n<thead>\n\t<tr><th scope=col>Days</th><th scope=col>Temps</th><th scope=col>Rain</th></tr>\n\t<tr><th scope=col>&lt;fct&gt;</th><th scope=col>&lt;dbl&gt;</th><th scope=col>&lt;lgl&gt;</th></tr>\n</thead>\n<tbody>\n\t<tr><td>Mon</td><td>32.0</td><td> TRUE</td></tr>\n\t<tr><td>Tue</td><td>34.0</td><td> TRUE</td></tr>\n\t<tr><td>Wed</td><td>33.5</td><td>FALSE</td></tr>\n\t<tr><td>Thu</td><td>31.0</td><td>FALSE</td></tr>\n\t<tr><td>Fri</td><td>33.0</td><td> TRUE</td></tr>\n\t<tr><td>Sat</td><td>33.8</td><td>FALSE</td></tr>\n\t<tr><td>Sun</td><td>35.0</td><td> TRUE</td></tr>\n</tbody>\n</table>\n"
          },
          "metadata": {}
        }
      ]
    },
    {
      "metadata": {
        "trusted": true
      },
      "cell_type": "code",
      "source": "is.data.frame(df1)",
      "execution_count": 25,
      "outputs": [
        {
          "output_type": "display_data",
          "data": {
            "text/plain": "[1] TRUE",
            "text/latex": "TRUE",
            "text/markdown": "TRUE",
            "text/html": "TRUE"
          },
          "metadata": {}
        }
      ]
    },
    {
      "metadata": {
        "trusted": true
      },
      "cell_type": "code",
      "source": "class(df1)",
      "execution_count": 28,
      "outputs": [
        {
          "output_type": "display_data",
          "data": {
            "text/plain": "[1] \"data.frame\"",
            "text/latex": "'data.frame'",
            "text/markdown": "'data.frame'",
            "text/html": "'data.frame'"
          },
          "metadata": {}
        }
      ]
    },
    {
      "metadata": {
        "trusted": true
      },
      "cell_type": "code",
      "source": "str(df1)",
      "execution_count": 29,
      "outputs": [
        {
          "output_type": "stream",
          "text": "'data.frame':\t7 obs. of  3 variables:\n $ Days : Factor w/ 7 levels \"Fri\",\"Mon\",\"Sat\",..: 2 6 7 5 1 3 4\n $ Temps: num  32 34 33.5 31 33 33.8 35\n $ Rain : logi  TRUE TRUE FALSE FALSE TRUE FALSE ...\n",
          "name": "stdout"
        }
      ]
    },
    {
      "metadata": {
        "trusted": true
      },
      "cell_type": "code",
      "source": "# Column names of dataframe\ncolnames(df1)",
      "execution_count": 30,
      "outputs": [
        {
          "output_type": "display_data",
          "data": {
            "text/plain": "[1] \"Days\"  \"Temps\" \"Rain\" ",
            "text/latex": "\\begin{enumerate*}\n\\item 'Days'\n\\item 'Temps'\n\\item 'Rain'\n\\end{enumerate*}\n",
            "text/markdown": "1. 'Days'\n2. 'Temps'\n3. 'Rain'\n\n\n",
            "text/html": "<ol class=list-inline>\n\t<li>'Days'</li>\n\t<li>'Temps'</li>\n\t<li>'Rain'</li>\n</ol>\n"
          },
          "metadata": {}
        }
      ]
    },
    {
      "metadata": {
        "trusted": true
      },
      "cell_type": "code",
      "source": "# Index or row names\nrownames(df1)",
      "execution_count": 32,
      "outputs": [
        {
          "output_type": "display_data",
          "data": {
            "text/plain": "[1] \"1\" \"2\" \"3\" \"4\" \"5\" \"6\" \"7\"",
            "text/latex": "\\begin{enumerate*}\n\\item '1'\n\\item '2'\n\\item '3'\n\\item '4'\n\\item '5'\n\\item '6'\n\\item '7'\n\\end{enumerate*}\n",
            "text/markdown": "1. '1'\n2. '2'\n3. '3'\n4. '4'\n5. '5'\n6. '6'\n7. '7'\n\n\n",
            "text/html": "<ol class=list-inline>\n\t<li>'1'</li>\n\t<li>'2'</li>\n\t<li>'3'</li>\n\t<li>'4'</li>\n\t<li>'5'</li>\n\t<li>'6'</li>\n\t<li>'7'</li>\n</ol>\n"
          },
          "metadata": {}
        }
      ]
    },
    {
      "metadata": {
        "trusted": true
      },
      "cell_type": "markdown",
      "source": "#### Creating Data Frames \n"
    },
    {
      "metadata": {
        "trusted": true
      },
      "cell_type": "code",
      "source": "empty <- data.frame() # data.frame is the key word to create the dataframes\nclass(empty)",
      "execution_count": 70,
      "outputs": [
        {
          "output_type": "display_data",
          "data": {
            "text/plain": "[1] \"data.frame\"",
            "text/latex": "'data.frame'",
            "text/markdown": "'data.frame'",
            "text/html": "'data.frame'"
          },
          "metadata": {}
        }
      ]
    },
    {
      "metadata": {
        "trusted": true
      },
      "cell_type": "code",
      "source": "# Creating a dataframe from vectors\nAGE <- c(21,23,28,27,30)\nNAME <- c('Raj',\"Rani\",\"Laila\",'John',\"Julia\")\nGENDER <- c('Male','Female','Female','Male','Female')\nstudentdf <- data.frame(NAME,AGE,GENDER)\nstudentdf",
      "execution_count": 71,
      "outputs": [
        {
          "output_type": "display_data",
          "data": {
            "text/plain": "  NAME  AGE GENDER\n1 Raj   21  Male  \n2 Rani  23  Female\n3 Laila 28  Female\n4 John  27  Male  \n5 Julia 30  Female",
            "text/latex": "A data.frame: 5 x 3\n\\begin{tabular}{r|lll}\n NAME & AGE & GENDER\\\\\n <fct> & <dbl> & <fct>\\\\\n\\hline\n\t Raj   & 21 & Male  \\\\\n\t Rani  & 23 & Female\\\\\n\t Laila & 28 & Female\\\\\n\t John  & 27 & Male  \\\\\n\t Julia & 30 & Female\\\\\n\\end{tabular}\n",
            "text/markdown": "\nA data.frame: 5 x 3\n\n| NAME &lt;fct&gt; | AGE &lt;dbl&gt; | GENDER &lt;fct&gt; |\n|---|---|---|\n| Raj   | 21 | Male   |\n| Rani  | 23 | Female |\n| Laila | 28 | Female |\n| John  | 27 | Male   |\n| Julia | 30 | Female |\n\n",
            "text/html": "<table>\n<caption>A data.frame: 5 x 3</caption>\n<thead>\n\t<tr><th scope=col>NAME</th><th scope=col>AGE</th><th scope=col>GENDER</th></tr>\n\t<tr><th scope=col>&lt;fct&gt;</th><th scope=col>&lt;dbl&gt;</th><th scope=col>&lt;fct&gt;</th></tr>\n</thead>\n<tbody>\n\t<tr><td>Raj  </td><td>21</td><td>Male  </td></tr>\n\t<tr><td>Rani </td><td>23</td><td>Female</td></tr>\n\t<tr><td>Laila</td><td>28</td><td>Female</td></tr>\n\t<tr><td>John </td><td>27</td><td>Male  </td></tr>\n\t<tr><td>Julia</td><td>30</td><td>Female</td></tr>\n</tbody>\n</table>\n"
          },
          "metadata": {}
        }
      ]
    },
    {
      "metadata": {
        "trusted": true
      },
      "cell_type": "code",
      "source": "class(studentdf)",
      "execution_count": 72,
      "outputs": [
        {
          "output_type": "display_data",
          "data": {
            "text/plain": "[1] \"data.frame\"",
            "text/latex": "'data.frame'",
            "text/markdown": "'data.frame'",
            "text/html": "'data.frame'"
          },
          "metadata": {}
        }
      ]
    },
    {
      "metadata": {
        "trusted": true
      },
      "cell_type": "code",
      "source": "studentdf[studentdf['GENDER'] == 'Female',] # Filtering the data from the df\n# This is like asking all the rows that match this criteria\n#df[matching criteria,] notice the , ",
      "execution_count": 73,
      "outputs": [
        {
          "output_type": "display_data",
          "data": {
            "text/plain": "  NAME  AGE GENDER\n2 Rani  23  Female\n3 Laila 28  Female\n5 Julia 30  Female",
            "text/latex": "A data.frame: 3 x 3\n\\begin{tabular}{r|lll}\n  & NAME & AGE & GENDER\\\\\n  & <fct> & <dbl> & <fct>\\\\\n\\hline\n\t2 & Rani  & 23 & Female\\\\\n\t3 & Laila & 28 & Female\\\\\n\t5 & Julia & 30 & Female\\\\\n\\end{tabular}\n",
            "text/markdown": "\nA data.frame: 3 x 3\n\n| <!--/--> | NAME &lt;fct&gt; | AGE &lt;dbl&gt; | GENDER &lt;fct&gt; |\n|---|---|---|---|\n| 2 | Rani  | 23 | Female |\n| 3 | Laila | 28 | Female |\n| 5 | Julia | 30 | Female |\n\n",
            "text/html": "<table>\n<caption>A data.frame: 3 x 3</caption>\n<thead>\n\t<tr><th></th><th scope=col>NAME</th><th scope=col>AGE</th><th scope=col>GENDER</th></tr>\n\t<tr><th></th><th scope=col>&lt;fct&gt;</th><th scope=col>&lt;dbl&gt;</th><th scope=col>&lt;fct&gt;</th></tr>\n</thead>\n<tbody>\n\t<tr><th scope=row>2</th><td>Rani </td><td>23</td><td>Female</td></tr>\n\t<tr><th scope=row>3</th><td>Laila</td><td>28</td><td>Female</td></tr>\n\t<tr><th scope=row>5</th><td>Julia</td><td>30</td><td>Female</td></tr>\n</tbody>\n</table>\n"
          },
          "metadata": {}
        }
      ]
    },
    {
      "metadata": {},
      "cell_type": "markdown",
      "source": "### Information about the dataframe"
    },
    {
      "metadata": {
        "trusted": true
      },
      "cell_type": "code",
      "source": "# Number of columns\nncol(studentdf)",
      "execution_count": 74,
      "outputs": [
        {
          "output_type": "display_data",
          "data": {
            "text/plain": "[1] 3",
            "text/latex": "3",
            "text/markdown": "3",
            "text/html": "3"
          },
          "metadata": {}
        }
      ]
    },
    {
      "metadata": {
        "trusted": true
      },
      "cell_type": "code",
      "source": "# number of rows\nnrow(studentdf)",
      "execution_count": 75,
      "outputs": [
        {
          "output_type": "display_data",
          "data": {
            "text/plain": "[1] 5",
            "text/latex": "5",
            "text/markdown": "5",
            "text/html": "5"
          },
          "metadata": {}
        }
      ]
    },
    {
      "metadata": {
        "trusted": true
      },
      "cell_type": "code",
      "source": "summary(studentdf)",
      "execution_count": 76,
      "outputs": [
        {
          "output_type": "display_data",
          "data": {
            "text/plain": "    NAME        AGE          GENDER \n John :1   Min.   :21.0   Female:3  \n Julia:1   1st Qu.:23.0   Male  :2  \n Laila:1   Median :27.0             \n Raj  :1   Mean   :25.8             \n Rani :1   3rd Qu.:28.0             \n           Max.   :30.0             "
          },
          "metadata": {}
        }
      ]
    },
    {
      "metadata": {
        "trusted": true
      },
      "cell_type": "code",
      "source": "#column names\ncolnames(studentdf)",
      "execution_count": 77,
      "outputs": [
        {
          "output_type": "display_data",
          "data": {
            "text/plain": "[1] \"NAME\"   \"AGE\"    \"GENDER\"",
            "text/latex": "\\begin{enumerate*}\n\\item 'NAME'\n\\item 'AGE'\n\\item 'GENDER'\n\\end{enumerate*}\n",
            "text/markdown": "1. 'NAME'\n2. 'AGE'\n3. 'GENDER'\n\n\n",
            "text/html": "<ol class=list-inline>\n\t<li>'NAME'</li>\n\t<li>'AGE'</li>\n\t<li>'GENDER'</li>\n</ol>\n"
          },
          "metadata": {}
        }
      ]
    },
    {
      "metadata": {
        "trusted": true
      },
      "cell_type": "code",
      "source": "# Structure of the dataframe\nstr(studentdf)",
      "execution_count": 78,
      "outputs": [
        {
          "output_type": "stream",
          "text": "'data.frame':\t5 obs. of  3 variables:\n $ NAME  : Factor w/ 5 levels \"John\",\"Julia\",..: 4 5 3 1 2\n $ AGE   : num  21 23 28 27 30\n $ GENDER: Factor w/ 2 levels \"Female\",\"Male\": 2 1 1 2 1\n",
          "name": "stdout"
        }
      ]
    },
    {
      "metadata": {},
      "cell_type": "markdown",
      "source": "#### Referencing Single cells and assigning a new value to it"
    },
    {
      "metadata": {
        "trusted": true
      },
      "cell_type": "code",
      "source": "studentdf",
      "execution_count": 79,
      "outputs": [
        {
          "output_type": "display_data",
          "data": {
            "text/plain": "  NAME  AGE GENDER\n1 Raj   21  Male  \n2 Rani  23  Female\n3 Laila 28  Female\n4 John  27  Male  \n5 Julia 30  Female",
            "text/latex": "A data.frame: 5 x 3\n\\begin{tabular}{r|lll}\n NAME & AGE & GENDER\\\\\n <fct> & <dbl> & <fct>\\\\\n\\hline\n\t Raj   & 21 & Male  \\\\\n\t Rani  & 23 & Female\\\\\n\t Laila & 28 & Female\\\\\n\t John  & 27 & Male  \\\\\n\t Julia & 30 & Female\\\\\n\\end{tabular}\n",
            "text/markdown": "\nA data.frame: 5 x 3\n\n| NAME &lt;fct&gt; | AGE &lt;dbl&gt; | GENDER &lt;fct&gt; |\n|---|---|---|\n| Raj   | 21 | Male   |\n| Rani  | 23 | Female |\n| Laila | 28 | Female |\n| John  | 27 | Male   |\n| Julia | 30 | Female |\n\n",
            "text/html": "<table>\n<caption>A data.frame: 5 x 3</caption>\n<thead>\n\t<tr><th scope=col>NAME</th><th scope=col>AGE</th><th scope=col>GENDER</th></tr>\n\t<tr><th scope=col>&lt;fct&gt;</th><th scope=col>&lt;dbl&gt;</th><th scope=col>&lt;fct&gt;</th></tr>\n</thead>\n<tbody>\n\t<tr><td>Raj  </td><td>21</td><td>Male  </td></tr>\n\t<tr><td>Rani </td><td>23</td><td>Female</td></tr>\n\t<tr><td>Laila</td><td>28</td><td>Female</td></tr>\n\t<tr><td>John </td><td>27</td><td>Male  </td></tr>\n\t<tr><td>Julia</td><td>30</td><td>Female</td></tr>\n</tbody>\n</table>\n"
          },
          "metadata": {}
        }
      ]
    },
    {
      "metadata": {
        "trusted": true
      },
      "cell_type": "code",
      "source": "# For example if we have to change 'Rani''s age to 999\n# reference this cell  and assign a new value\n#syntax df[[row,col]]\nstudentdf[[2,2]]",
      "execution_count": 80,
      "outputs": [
        {
          "output_type": "display_data",
          "data": {
            "text/plain": "[1] 23",
            "text/latex": "23",
            "text/markdown": "23",
            "text/html": "23"
          },
          "metadata": {}
        }
      ]
    },
    {
      "metadata": {
        "trusted": true
      },
      "cell_type": "code",
      "source": "# Another way to reference\nstudentdf[[2, 'AGE']]",
      "execution_count": 81,
      "outputs": [
        {
          "output_type": "display_data",
          "data": {
            "text/plain": "[1] 23",
            "text/latex": "23",
            "text/markdown": "23",
            "text/html": "23"
          },
          "metadata": {}
        }
      ]
    },
    {
      "metadata": {
        "trusted": true
      },
      "cell_type": "code",
      "source": "# This can be assigned with a new value\nstudentdf[[2, 'AGE']] <- 999",
      "execution_count": 82,
      "outputs": []
    },
    {
      "metadata": {
        "trusted": true
      },
      "cell_type": "code",
      "source": "studentdf",
      "execution_count": 83,
      "outputs": [
        {
          "output_type": "display_data",
          "data": {
            "text/plain": "  NAME  AGE GENDER\n1 Raj    21 Male  \n2 Rani  999 Female\n3 Laila  28 Female\n4 John   27 Male  \n5 Julia  30 Female",
            "text/latex": "A data.frame: 5 x 3\n\\begin{tabular}{r|lll}\n NAME & AGE & GENDER\\\\\n <fct> & <dbl> & <fct>\\\\\n\\hline\n\t Raj   &  21 & Male  \\\\\n\t Rani  & 999 & Female\\\\\n\t Laila &  28 & Female\\\\\n\t John  &  27 & Male  \\\\\n\t Julia &  30 & Female\\\\\n\\end{tabular}\n",
            "text/markdown": "\nA data.frame: 5 x 3\n\n| NAME &lt;fct&gt; | AGE &lt;dbl&gt; | GENDER &lt;fct&gt; |\n|---|---|---|\n| Raj   |  21 | Male   |\n| Rani  | 999 | Female |\n| Laila |  28 | Female |\n| John  |  27 | Male   |\n| Julia |  30 | Female |\n\n",
            "text/html": "<table>\n<caption>A data.frame: 5 x 3</caption>\n<thead>\n\t<tr><th scope=col>NAME</th><th scope=col>AGE</th><th scope=col>GENDER</th></tr>\n\t<tr><th scope=col>&lt;fct&gt;</th><th scope=col>&lt;dbl&gt;</th><th scope=col>&lt;fct&gt;</th></tr>\n</thead>\n<tbody>\n\t<tr><td>Raj  </td><td> 21</td><td>Male  </td></tr>\n\t<tr><td>Rani </td><td>999</td><td>Female</td></tr>\n\t<tr><td>Laila</td><td> 28</td><td>Female</td></tr>\n\t<tr><td>John </td><td> 27</td><td>Male  </td></tr>\n\t<tr><td>Julia</td><td> 30</td><td>Female</td></tr>\n</tbody>\n</table>\n"
          },
          "metadata": {}
        }
      ]
    },
    {
      "metadata": {
        "trusted": true
      },
      "cell_type": "code",
      "source": "",
      "execution_count": null,
      "outputs": []
    }
  ],
  "metadata": {
    "kernelspec": {
      "name": "r",
      "display_name": "R",
      "language": "R"
    },
    "language_info": {
      "mimetype": "text/x-r-source",
      "name": "R",
      "pygments_lexer": "r",
      "version": "3.4.1",
      "file_extension": ".r",
      "codemirror_mode": "r"
    }
  },
  "nbformat": 4,
  "nbformat_minor": 2
}