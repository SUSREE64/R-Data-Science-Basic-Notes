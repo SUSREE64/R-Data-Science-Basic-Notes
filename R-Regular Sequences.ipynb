{
  "cells": [
    {
      "metadata": {
        "collapsed": true
      },
      "cell_type": "markdown",
      "source": "### R- Regular Sequences \n#### Generating Regular Sequences of Numbers\nFor regularly spaced sequences, often involving integers, it is simplest to use the colon operator. <br>\nThis can produce ascending or descending sequences:"
    },
    {
      "metadata": {
        "trusted": true
      },
      "cell_type": "code",
      "source": "10:30 # Ascending sequence",
      "execution_count": 7,
      "outputs": [
        {
          "output_type": "display_data",
          "data": {
            "text/plain": " [1] 10 11 12 13 14 15 16 17 18 19 20 21 22 23 24 25 26 27 28 29 30",
            "text/latex": "\\begin{enumerate*}\n\\item 10\n\\item 11\n\\item 12\n\\item 13\n\\item 14\n\\item 15\n\\item 16\n\\item 17\n\\item 18\n\\item 19\n\\item 20\n\\item 21\n\\item 22\n\\item 23\n\\item 24\n\\item 25\n\\item 26\n\\item 27\n\\item 28\n\\item 29\n\\item 30\n\\end{enumerate*}\n",
            "text/markdown": "1. 10\n2. 11\n3. 12\n4. 13\n5. 14\n6. 15\n7. 16\n8. 17\n9. 18\n10. 19\n11. 20\n12. 21\n13. 22\n14. 23\n15. 24\n16. 25\n17. 26\n18. 27\n19. 28\n20. 29\n21. 30\n\n\n",
            "text/html": "<ol class=list-inline>\n\t<li>10</li>\n\t<li>11</li>\n\t<li>12</li>\n\t<li>13</li>\n\t<li>14</li>\n\t<li>15</li>\n\t<li>16</li>\n\t<li>17</li>\n\t<li>18</li>\n\t<li>19</li>\n\t<li>20</li>\n\t<li>21</li>\n\t<li>22</li>\n\t<li>23</li>\n\t<li>24</li>\n\t<li>25</li>\n\t<li>26</li>\n\t<li>27</li>\n\t<li>28</li>\n\t<li>29</li>\n\t<li>30</li>\n</ol>\n"
          },
          "metadata": {}
        }
      ]
    },
    {
      "metadata": {
        "trusted": true
      },
      "cell_type": "code",
      "source": "18:11 # descending sequence",
      "execution_count": 8,
      "outputs": [
        {
          "output_type": "display_data",
          "data": {
            "text/plain": "[1] 18 17 16 15 14 13 12 11",
            "text/latex": "\\begin{enumerate*}\n\\item 18\n\\item 17\n\\item 16\n\\item 15\n\\item 14\n\\item 13\n\\item 12\n\\item 11\n\\end{enumerate*}\n",
            "text/markdown": "1. 18\n2. 17\n3. 16\n4. 15\n5. 14\n6. 13\n7. 12\n8. 11\n\n\n",
            "text/html": "<ol class=list-inline>\n\t<li>18</li>\n\t<li>17</li>\n\t<li>16</li>\n\t<li>15</li>\n\t<li>14</li>\n\t<li>13</li>\n\t<li>12</li>\n\t<li>11</li>\n</ol>\n"
          },
          "metadata": {}
        }
      ]
    },
    {
      "metadata": {
        "trusted": true
      },
      "cell_type": "code",
      "source": "1:10 -> vec1",
      "execution_count": 9,
      "outputs": []
    },
    {
      "metadata": {
        "trusted": true
      },
      "cell_type": "code",
      "source": "vec1",
      "execution_count": 10,
      "outputs": [
        {
          "output_type": "display_data",
          "data": {
            "text/plain": " [1]  1  2  3  4  5  6  7  8  9 10",
            "text/latex": "\\begin{enumerate*}\n\\item 1\n\\item 2\n\\item 3\n\\item 4\n\\item 5\n\\item 6\n\\item 7\n\\item 8\n\\item 9\n\\item 10\n\\end{enumerate*}\n",
            "text/markdown": "1. 1\n2. 2\n3. 3\n4. 4\n5. 5\n6. 6\n7. 7\n8. 8\n9. 9\n10. 10\n\n\n",
            "text/html": "<ol class=list-inline>\n\t<li>1</li>\n\t<li>2</li>\n\t<li>3</li>\n\t<li>4</li>\n\t<li>5</li>\n\t<li>6</li>\n\t<li>7</li>\n\t<li>8</li>\n\t<li>9</li>\n\t<li>10</li>\n</ol>\n"
          },
          "metadata": {}
        }
      ]
    },
    {
      "metadata": {},
      "cell_type": "markdown",
      "source": "When the interval is not 1.0 you need to use the **seq** function.<br>\nIn general, the three arguments to seq are: initial value, final value, and increment (or decrement for a declining sequence).<br>\nHere we want to go from 0 up to 1.5 in steps of 0.2:<br>\n"
    },
    {
      "metadata": {
        "trusted": true
      },
      "cell_type": "code",
      "source": "#seq(from, to)\nseq(1:10)\n\n",
      "execution_count": 13,
      "outputs": [
        {
          "output_type": "display_data",
          "data": {
            "text/plain": " [1]  1  2  3  4  5  6  7  8  9 10",
            "text/latex": "\\begin{enumerate*}\n\\item 1\n\\item 2\n\\item 3\n\\item 4\n\\item 5\n\\item 6\n\\item 7\n\\item 8\n\\item 9\n\\item 10\n\\end{enumerate*}\n",
            "text/markdown": "1. 1\n2. 2\n3. 3\n4. 4\n5. 5\n6. 6\n7. 7\n8. 8\n9. 9\n10. 10\n\n\n",
            "text/html": "<ol class=list-inline>\n\t<li>1</li>\n\t<li>2</li>\n\t<li>3</li>\n\t<li>4</li>\n\t<li>5</li>\n\t<li>6</li>\n\t<li>7</li>\n\t<li>8</li>\n\t<li>9</li>\n\t<li>10</li>\n</ol>\n"
          },
          "metadata": {}
        }
      ]
    },
    {
      "metadata": {
        "trusted": true
      },
      "cell_type": "code",
      "source": "#seq(from, to, by= )\nseq(from = 0.1,to = 0.8,by=0.2)",
      "execution_count": 15,
      "outputs": [
        {
          "output_type": "display_data",
          "data": {
            "text/plain": "[1] 0.1 0.3 0.5 0.7",
            "text/latex": "\\begin{enumerate*}\n\\item 0.1\n\\item 0.3\n\\item 0.5\n\\item 0.7\n\\end{enumerate*}\n",
            "text/markdown": "1. 0.1\n2. 0.3\n3. 0.5\n4. 0.7\n\n\n",
            "text/html": "<ol class=list-inline>\n\t<li>0.1</li>\n\t<li>0.3</li>\n\t<li>0.5</li>\n\t<li>0.7</li>\n</ol>\n"
          },
          "metadata": {}
        }
      ]
    },
    {
      "metadata": {
        "trusted": true
      },
      "cell_type": "code",
      "source": "#seq(from, to, length.out= )\nseq(from =0.1 , to =0.5 , length.out = 11) # from to values are equally spaced such a way the length would be 11",
      "execution_count": 16,
      "outputs": [
        {
          "output_type": "display_data",
          "data": {
            "text/plain": " [1] 0.10 0.14 0.18 0.22 0.26 0.30 0.34 0.38 0.42 0.46 0.50",
            "text/latex": "\\begin{enumerate*}\n\\item 0.1\n\\item 0.14\n\\item 0.18\n\\item 0.22\n\\item 0.26\n\\item 0.3\n\\item 0.34\n\\item 0.38\n\\item 0.42\n\\item 0.46\n\\item 0.5\n\\end{enumerate*}\n",
            "text/markdown": "1. 0.1\n2. 0.14\n3. 0.18\n4. 0.22\n5. 0.26\n6. 0.3\n7. 0.34\n8. 0.38\n9. 0.42\n10. 0.46\n11. 0.5\n\n\n",
            "text/html": "<ol class=list-inline>\n\t<li>0.1</li>\n\t<li>0.14</li>\n\t<li>0.18</li>\n\t<li>0.22</li>\n\t<li>0.26</li>\n\t<li>0.3</li>\n\t<li>0.34</li>\n\t<li>0.38</li>\n\t<li>0.42</li>\n\t<li>0.46</li>\n\t<li>0.5</li>\n</ol>\n"
          },
          "metadata": {}
        }
      ]
    },
    {
      "metadata": {
        "trusted": true
      },
      "cell_type": "code",
      "source": "mat <- matrix(1:9, nrow = 3, ncol = 3)",
      "execution_count": 19,
      "outputs": []
    },
    {
      "metadata": {
        "trusted": true
      },
      "cell_type": "code",
      "source": "mat",
      "execution_count": 20,
      "outputs": [
        {
          "output_type": "display_data",
          "data": {
            "text/plain": "     [,1] [,2] [,3]\n[1,] 1    4    7   \n[2,] 2    5    8   \n[3,] 3    6    9   ",
            "text/latex": "A matrix: 3 x 3 of type int\n\\begin{tabular}{lll}\n\t 1 & 4 & 7\\\\\n\t 2 & 5 & 8\\\\\n\t 3 & 6 & 9\\\\\n\\end{tabular}\n",
            "text/markdown": "\nA matrix: 3 x 3 of type int\n\n| 1 | 4 | 7 |\n| 2 | 5 | 8 |\n| 3 | 6 | 9 |\n\n",
            "text/html": "<table>\n<caption>A matrix: 3 x 3 of type int</caption>\n<tbody>\n\t<tr><td>1</td><td>4</td><td>7</td></tr>\n\t<tr><td>2</td><td>5</td><td>8</td></tr>\n\t<tr><td>3</td><td>6</td><td>9</td></tr>\n</tbody>\n</table>\n"
          },
          "metadata": {}
        }
      ]
    },
    {
      "metadata": {},
      "cell_type": "markdown",
      "source": ""
    }
  ],
  "metadata": {
    "kernelspec": {
      "name": "r",
      "display_name": "R",
      "language": "R"
    },
    "language_info": {
      "mimetype": "text/x-r-source",
      "name": "R",
      "pygments_lexer": "r",
      "version": "3.4.1",
      "file_extension": ".r",
      "codemirror_mode": "r"
    }
  },
  "nbformat": 4,
  "nbformat_minor": 2
}