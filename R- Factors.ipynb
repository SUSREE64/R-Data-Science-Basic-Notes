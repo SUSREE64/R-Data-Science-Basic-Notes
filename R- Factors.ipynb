{
  "cells": [
    {
      "metadata": {
        "collapsed": true
      },
      "cell_type": "markdown",
      "source": "### Factors\n\nA factor is a vector that can contain only predefined values, and is used to store categorical data. <br>\nFactors are built on top of integer vectors using two attributes: the *class*, *“factor”*, which makes them<br>\nbehave differently from regular integer vectors, and the *levels*, which defines the set of allowed values.\n"
    },
    {
      "metadata": {
        "trusted": true
      },
      "cell_type": "code",
      "source": "# Defining a Factor\n# Acategorical vector can be converted to a factor\nfac <- factor(c(\"a\", \"a\", \"b\", \"b\", \"a\", \"c\",\"d\", \"d\", 'c'))\n",
      "execution_count": 1,
      "outputs": []
    },
    {
      "metadata": {
        "trusted": true
      },
      "cell_type": "code",
      "source": "fac\n# There are totally 9 elements but of 4 types/Levels (a,b,c,d)\n#This feature allows us to convert any column of repeaded categorical data elements to level\n# filterning , pivoting would be possible with this.",
      "execution_count": 2,
      "outputs": [
        {
          "output_type": "display_data",
          "data": {
            "text/plain": "[1] a a b b a c d d c\nLevels: a b c d",
            "text/latex": "\\begin{enumerate*}\n\\item a\n\\item a\n\\item b\n\\item b\n\\item a\n\\item c\n\\item d\n\\item d\n\\item c\n\\end{enumerate*}\n\n\\emph{Levels}: \\begin{enumerate*}\n\\item 'a'\n\\item 'b'\n\\item 'c'\n\\item 'd'\n\\end{enumerate*}\n",
            "text/markdown": "1. a\n2. a\n3. b\n4. b\n5. a\n6. c\n7. d\n8. d\n9. c\n\n\n\n**Levels**: 1. 'a'\n2. 'b'\n3. 'c'\n4. 'd'\n\n\n",
            "text/html": "<ol class=list-inline>\n\t<li>a</li>\n\t<li>a</li>\n\t<li>b</li>\n\t<li>b</li>\n\t<li>a</li>\n\t<li>c</li>\n\t<li>d</li>\n\t<li>d</li>\n\t<li>c</li>\n</ol>\n\n<details>\n\t<summary style=display:list-item;cursor:pointer>\n\t\t<strong>Levels</strong>:\n\t</summary>\n\t<ol class=list-inline>\n\t\t<li>'a'</li>\n\t\t<li>'b'</li>\n\t\t<li>'c'</li>\n\t\t<li>'d'</li>\n\t</ol>\n</details>"
          },
          "metadata": {}
        }
      ]
    },
    {
      "metadata": {
        "trusted": true
      },
      "cell_type": "code",
      "source": "typeof(fac)",
      "execution_count": 3,
      "outputs": [
        {
          "output_type": "display_data",
          "data": {
            "text/plain": "[1] \"integer\"",
            "text/latex": "'integer'",
            "text/markdown": "'integer'",
            "text/html": "'integer'"
          },
          "metadata": {}
        }
      ]
    },
    {
      "metadata": {
        "trusted": true
      },
      "cell_type": "code",
      "source": "class(fac)",
      "execution_count": 4,
      "outputs": [
        {
          "output_type": "display_data",
          "data": {
            "text/plain": "[1] \"factor\"",
            "text/latex": "'factor'",
            "text/markdown": "'factor'",
            "text/html": "'factor'"
          },
          "metadata": {}
        }
      ]
    },
    {
      "metadata": {
        "trusted": true
      },
      "cell_type": "code",
      "source": "length(fac)",
      "execution_count": 5,
      "outputs": [
        {
          "output_type": "display_data",
          "data": {
            "text/plain": "[1] 9",
            "text/latex": "9",
            "text/markdown": "9",
            "text/html": "9"
          },
          "metadata": {}
        }
      ]
    },
    {
      "metadata": {
        "trusted": true
      },
      "cell_type": "code",
      "source": "print(is.factor(fac)) # Check to see if the object is a factor.",
      "execution_count": 15,
      "outputs": [
        {
          "output_type": "stream",
          "text": "[1] TRUE\n",
          "name": "stdout"
        }
      ]
    },
    {
      "metadata": {
        "trusted": true
      },
      "cell_type": "code",
      "source": "nlevels(fac) # Number of levels or  unique values ",
      "execution_count": 20,
      "outputs": [
        {
          "output_type": "display_data",
          "data": {
            "text/plain": "[1] 4",
            "text/latex": "4",
            "text/markdown": "4",
            "text/html": "4"
          },
          "metadata": {}
        }
      ]
    },
    {
      "metadata": {},
      "cell_type": "markdown",
      "source": "###  Generating Factor Levels with gl() function"
    },
    {
      "metadata": {
        "trusted": true
      },
      "cell_type": "code",
      "source": "",
      "execution_count": null,
      "outputs": []
    },
    {
      "metadata": {
        "trusted": true
      },
      "cell_type": "code",
      "source": "# Syntax\n#gl(n, k, labels)\n# n -- Number of levels\n# k -- Number of replications\n# labels - vector of categorical lables\n\ngl(2,3, labels = c('Sree', 'Devi')) # two lables repeated 3 time each\n",
      "execution_count": 18,
      "outputs": [
        {
          "output_type": "display_data",
          "data": {
            "text/plain": "[1] Sree Sree Sree Devi Devi Devi\nLevels: Sree Devi",
            "text/latex": "\\begin{enumerate*}\n\\item Sree\n\\item Sree\n\\item Sree\n\\item Devi\n\\item Devi\n\\item Devi\n\\end{enumerate*}\n\n\\emph{Levels}: \\begin{enumerate*}\n\\item 'Sree'\n\\item 'Devi'\n\\end{enumerate*}\n",
            "text/markdown": "1. Sree\n2. Sree\n3. Sree\n4. Devi\n5. Devi\n6. Devi\n\n\n\n**Levels**: 1. 'Sree'\n2. 'Devi'\n\n\n",
            "text/html": "<ol class=list-inline>\n\t<li>Sree</li>\n\t<li>Sree</li>\n\t<li>Sree</li>\n\t<li>Devi</li>\n\t<li>Devi</li>\n\t<li>Devi</li>\n</ol>\n\n<details>\n\t<summary style=display:list-item;cursor:pointer>\n\t\t<strong>Levels</strong>:\n\t</summary>\n\t<ol class=list-inline>\n\t\t<li>'Sree'</li>\n\t\t<li>'Devi'</li>\n\t</ol>\n</details>"
          },
          "metadata": {}
        }
      ]
    },
    {
      "metadata": {},
      "cell_type": "markdown",
      "source": "### Ordered and Un ordered factors"
    },
    {
      "metadata": {
        "trusted": true
      },
      "cell_type": "code",
      "source": "food <- factor(c(\"low\", \"high\", \"medium\", \"high\", \"low\", \"medium\", \"high\"))\nlevels(food)",
      "execution_count": 21,
      "outputs": [
        {
          "output_type": "display_data",
          "data": {
            "text/plain": "[1] \"high\"   \"low\"    \"medium\"",
            "text/latex": "\\begin{enumerate*}\n\\item 'high'\n\\item 'low'\n\\item 'medium'\n\\end{enumerate*}\n",
            "text/markdown": "1. 'high'\n2. 'low'\n3. 'medium'\n\n\n",
            "text/html": "<ol class=list-inline>\n\t<li>'high'</li>\n\t<li>'low'</li>\n\t<li>'medium'</li>\n</ol>\n"
          },
          "metadata": {}
        }
      ]
    },
    {
      "metadata": {
        "trusted": true
      },
      "cell_type": "code",
      "source": "min(food) # This does not work as this is not ordered ",
      "execution_count": 22,
      "outputs": [
        {
          "output_type": "error",
          "ename": "ERROR",
          "evalue": "Error in Summary.factor(structure(c(2L, 1L, 3L, 1L, 2L, 3L, 1L), .Label = c(\"high\", : ‘min’ not meaningful for factors\n",
          "traceback": [
            "Error in Summary.factor(structure(c(2L, 1L, 3L, 1L, 2L, 3L, 1L), .Label = c(\"high\", : ‘min’ not meaningful for factors\nTraceback:\n",
            "1. Summary.factor(structure(c(2L, 1L, 3L, 1L, 2L, 3L, 1L), .Label = c(\"high\", \n . \"low\", \"medium\"), class = \"factor\"), na.rm = FALSE)",
            "2. stop(gettextf(\"%s not meaningful for factors\", sQuote(.Generic)))"
          ]
        }
      ]
    },
    {
      "metadata": {
        "trusted": true
      },
      "cell_type": "code",
      "source": "food <- factor(c(\"low\", \"high\", \"medium\", \"high\", \"low\", \"medium\", \"high\"), order = TRUE)\nlevels(food)",
      "execution_count": 23,
      "outputs": [
        {
          "output_type": "display_data",
          "data": {
            "text/plain": "[1] \"high\"   \"low\"    \"medium\"",
            "text/latex": "\\begin{enumerate*}\n\\item 'high'\n\\item 'low'\n\\item 'medium'\n\\end{enumerate*}\n",
            "text/markdown": "1. 'high'\n2. 'low'\n3. 'medium'\n\n\n",
            "text/html": "<ol class=list-inline>\n\t<li>'high'</li>\n\t<li>'low'</li>\n\t<li>'medium'</li>\n</ol>\n"
          },
          "metadata": {}
        }
      ]
    },
    {
      "metadata": {
        "trusted": true
      },
      "cell_type": "code",
      "source": "food",
      "execution_count": 24,
      "outputs": [
        {
          "output_type": "display_data",
          "data": {
            "text/plain": "[1] low    high   medium high   low    medium high  \nLevels: high < low < medium",
            "text/latex": "\\begin{enumerate*}\n\\item low\n\\item high\n\\item medium\n\\item high\n\\item low\n\\item medium\n\\item high\n\\end{enumerate*}\n\n\\emph{Levels}: \\begin{enumerate*}\n\\item 'high'\n\\item 'low'\n\\item 'medium'\n\\end{enumerate*}\n",
            "text/markdown": "1. low\n2. high\n3. medium\n4. high\n5. low\n6. medium\n7. high\n\n\n\n**Levels**: 1. 'high'\n2. 'low'\n3. 'medium'\n\n\n",
            "text/html": "<ol class=list-inline>\n\t<li>low</li>\n\t<li>high</li>\n\t<li>medium</li>\n\t<li>high</li>\n\t<li>low</li>\n\t<li>medium</li>\n\t<li>high</li>\n</ol>\n\n<details>\n\t<summary style=display:list-item;cursor:pointer>\n\t\t<strong>Levels</strong>:\n\t</summary>\n\t<ol class=list-inline>\n\t\t<li>'high'</li>\n\t\t<li>'low'</li>\n\t\t<li>'medium'</li>\n\t</ol>\n</details>"
          },
          "metadata": {}
        }
      ]
    },
    {
      "metadata": {
        "trusted": true
      },
      "cell_type": "code",
      "source": "min(food)  # as we have not specified any level explicity,  h - high comes first as it is first in the alphabet",
      "execution_count": 25,
      "outputs": [
        {
          "output_type": "display_data",
          "data": {
            "text/plain": "[1] high\nLevels: high < low < medium",
            "text/latex": "high\n\\emph{Levels}: \\begin{enumerate*}\n\\item 'high'\n\\item 'low'\n\\item 'medium'\n\\end{enumerate*}\n",
            "text/markdown": "high\n**Levels**: 1. 'high'\n2. 'low'\n3. 'medium'\n\n\n",
            "text/html": "high\n<details>\n\t<summary style=display:list-item;cursor:pointer>\n\t\t<strong>Levels</strong>:\n\t</summary>\n\t<ol class=list-inline>\n\t\t<li>'high'</li>\n\t\t<li>'low'</li>\n\t\t<li>'medium'</li>\n\t</ol>\n</details>"
          },
          "metadata": {}
        }
      ]
    },
    {
      "metadata": {
        "trusted": true
      },
      "cell_type": "code",
      "source": "food <- factor(c(\"low\", \"high\", \"medium\", \"high\", \"low\", \"medium\", \"high\"), levels = c('low','medium','high'), order = TRUE)\nlevels(food)",
      "execution_count": 26,
      "outputs": [
        {
          "output_type": "display_data",
          "data": {
            "text/plain": "[1] \"low\"    \"medium\" \"high\"  ",
            "text/latex": "\\begin{enumerate*}\n\\item 'low'\n\\item 'medium'\n\\item 'high'\n\\end{enumerate*}\n",
            "text/markdown": "1. 'low'\n2. 'medium'\n3. 'high'\n\n\n",
            "text/html": "<ol class=list-inline>\n\t<li>'low'</li>\n\t<li>'medium'</li>\n\t<li>'high'</li>\n</ol>\n"
          },
          "metadata": {}
        }
      ]
    },
    {
      "metadata": {
        "trusted": true
      },
      "cell_type": "code",
      "source": "min(food)",
      "execution_count": 27,
      "outputs": [
        {
          "output_type": "display_data",
          "data": {
            "text/plain": "[1] low\nLevels: low < medium < high",
            "text/latex": "low\n\\emph{Levels}: \\begin{enumerate*}\n\\item 'low'\n\\item 'medium'\n\\item 'high'\n\\end{enumerate*}\n",
            "text/markdown": "low\n**Levels**: 1. 'low'\n2. 'medium'\n3. 'high'\n\n\n",
            "text/html": "low\n<details>\n\t<summary style=display:list-item;cursor:pointer>\n\t\t<strong>Levels</strong>:\n\t</summary>\n\t<ol class=list-inline>\n\t\t<li>'low'</li>\n\t\t<li>'medium'</li>\n\t\t<li>'high'</li>\n\t</ol>\n</details>"
          },
          "metadata": {}
        }
      ]
    },
    {
      "metadata": {
        "trusted": true
      },
      "cell_type": "code",
      "source": "max(food)",
      "execution_count": 28,
      "outputs": [
        {
          "output_type": "display_data",
          "data": {
            "text/plain": "[1] high\nLevels: low < medium < high",
            "text/latex": "high\n\\emph{Levels}: \\begin{enumerate*}\n\\item 'low'\n\\item 'medium'\n\\item 'high'\n\\end{enumerate*}\n",
            "text/markdown": "high\n**Levels**: 1. 'low'\n2. 'medium'\n3. 'high'\n\n\n",
            "text/html": "high\n<details>\n\t<summary style=display:list-item;cursor:pointer>\n\t\t<strong>Levels</strong>:\n\t</summary>\n\t<ol class=list-inline>\n\t\t<li>'low'</li>\n\t\t<li>'medium'</li>\n\t\t<li>'high'</li>\n\t</ol>\n</details>"
          },
          "metadata": {}
        }
      ]
    },
    {
      "metadata": {
        "trusted": true
      },
      "cell_type": "code",
      "source": "",
      "execution_count": null,
      "outputs": []
    }
  ],
  "metadata": {
    "kernelspec": {
      "name": "r",
      "display_name": "R",
      "language": "R"
    },
    "language_info": {
      "mimetype": "text/x-r-source",
      "name": "R",
      "pygments_lexer": "r",
      "version": "3.4.1",
      "file_extension": ".r",
      "codemirror_mode": "r"
    }
  },
  "nbformat": 4,
  "nbformat_minor": 2
}