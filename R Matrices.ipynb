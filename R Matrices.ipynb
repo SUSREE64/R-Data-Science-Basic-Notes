{
  "cells": [
    {
      "metadata": {
        "collapsed": true
      },
      "cell_type": "markdown",
      "source": "## R - Matrices \n\n**Matrices** are the R objects in which the elements are arranged in a two-dimensional rectangular layout. <br>\nThey contain elements of the same atomic types. Though we can create a matrix containing only characters or only logical values, they are not of much use. <br>\nWe use matrices containing numeric elements to be used in mathematical calculations.\n\nA Matrix is created using the matrix() function.<br>\nBasic Syntax:<br>\n\nmatrix(data, nrow, ncol, byrow, dimnames)\n"
    },
    {
      "metadata": {
        "trusted": true
      },
      "cell_type": "code",
      "source": "# Creating a matrix adding colnames, rownames \nstudents<- c('Raj','Ravi','Sita','Ram',\"Hanuma\")\nattributes <- c('Age', 'Salary')\nstudent.matrix <- c(23,25,26,32,30, 20000, 25000,26000,32000,38000)\nstudent.matrix <- matrix(student.matrix, byrow = FALSE, ncol = 2) # Making a two column matrix.\nstudent.matrix",
      "execution_count": 1,
      "outputs": [
        {
          "output_type": "display_data",
          "data": {
            "text/plain": "     [,1] [,2] \n[1,] 23   20000\n[2,] 25   25000\n[3,] 26   26000\n[4,] 32   32000\n[5,] 30   38000",
            "text/latex": "A matrix: 5 x 2 of type dbl\n\\begin{tabular}{ll}\n\t 23 & 20000\\\\\n\t 25 & 25000\\\\\n\t 26 & 26000\\\\\n\t 32 & 32000\\\\\n\t 30 & 38000\\\\\n\\end{tabular}\n",
            "text/markdown": "\nA matrix: 5 x 2 of type dbl\n\n| 23 | 20000 |\n| 25 | 25000 |\n| 26 | 26000 |\n| 32 | 32000 |\n| 30 | 38000 |\n\n",
            "text/html": "<table>\n<caption>A matrix: 5 x 2 of type dbl</caption>\n<tbody>\n\t<tr><td>23</td><td>20000</td></tr>\n\t<tr><td>25</td><td>25000</td></tr>\n\t<tr><td>26</td><td>26000</td></tr>\n\t<tr><td>32</td><td>32000</td></tr>\n\t<tr><td>30</td><td>38000</td></tr>\n</tbody>\n</table>\n"
          },
          "metadata": {}
        }
      ]
    },
    {
      "metadata": {
        "trusted": true
      },
      "cell_type": "code",
      "source": "# Now adding column and row names\ncolnames(student.matrix) <- attributes # Adding column names \nrownames(student.matrix) <- students # Adding row names",
      "execution_count": 2,
      "outputs": []
    },
    {
      "metadata": {
        "trusted": true
      },
      "cell_type": "code",
      "source": "student.matrix # This now represents a table structure ",
      "execution_count": 3,
      "outputs": [
        {
          "output_type": "display_data",
          "data": {
            "text/plain": "       Age Salary\nRaj    23  20000 \nRavi   25  25000 \nSita   26  26000 \nRam    32  32000 \nHanuma 30  38000 ",
            "text/latex": "A matrix: 5 x 2 of type dbl\n\\begin{tabular}{r|ll}\n  & Age & Salary\\\\\n\\hline\n\tRaj & 23 & 20000\\\\\n\tRavi & 25 & 25000\\\\\n\tSita & 26 & 26000\\\\\n\tRam & 32 & 32000\\\\\n\tHanuma & 30 & 38000\\\\\n\\end{tabular}\n",
            "text/markdown": "\nA matrix: 5 x 2 of type dbl\n\n| <!--/--> | Age | Salary |\n|---|---|---|\n| Raj | 23 | 20000 |\n| Ravi | 25 | 25000 |\n| Sita | 26 | 26000 |\n| Ram | 32 | 32000 |\n| Hanuma | 30 | 38000 |\n\n",
            "text/html": "<table>\n<caption>A matrix: 5 x 2 of type dbl</caption>\n<thead>\n\t<tr><th></th><th scope=col>Age</th><th scope=col>Salary</th></tr>\n</thead>\n<tbody>\n\t<tr><th scope=row>Raj</th><td>23</td><td>20000</td></tr>\n\t<tr><th scope=row>Ravi</th><td>25</td><td>25000</td></tr>\n\t<tr><th scope=row>Sita</th><td>26</td><td>26000</td></tr>\n\t<tr><th scope=row>Ram</th><td>32</td><td>32000</td></tr>\n\t<tr><th scope=row>Hanuma</th><td>30</td><td>38000</td></tr>\n</tbody>\n</table>\n"
          },
          "metadata": {}
        }
      ]
    },
    {
      "metadata": {},
      "cell_type": "markdown",
      "source": "### Matrices arithmetic"
    },
    {
      "metadata": {
        "trusted": true
      },
      "cell_type": "code",
      "source": "# similar to vector artithmetic, element to element matrix arithmetic can be done on matrices\nmat1 <- matrix(c(1:25) , byrow = TRUE, nrow = 5) # c(1:25) is creating a sequence ",
      "execution_count": 4,
      "outputs": []
    },
    {
      "metadata": {
        "trusted": true
      },
      "cell_type": "code",
      "source": "mat1",
      "execution_count": 5,
      "outputs": [
        {
          "output_type": "display_data",
          "data": {
            "text/plain": "     [,1] [,2] [,3] [,4] [,5]\n[1,]  1    2    3    4    5  \n[2,]  6    7    8    9   10  \n[3,] 11   12   13   14   15  \n[4,] 16   17   18   19   20  \n[5,] 21   22   23   24   25  ",
            "text/latex": "A matrix: 5 x 5 of type int\n\\begin{tabular}{lllll}\n\t  1 &  2 &  3 &  4 &  5\\\\\n\t  6 &  7 &  8 &  9 & 10\\\\\n\t 11 & 12 & 13 & 14 & 15\\\\\n\t 16 & 17 & 18 & 19 & 20\\\\\n\t 21 & 22 & 23 & 24 & 25\\\\\n\\end{tabular}\n",
            "text/markdown": "\nA matrix: 5 x 5 of type int\n\n|  1 |  2 |  3 |  4 |  5 |\n|  6 |  7 |  8 |  9 | 10 |\n| 11 | 12 | 13 | 14 | 15 |\n| 16 | 17 | 18 | 19 | 20 |\n| 21 | 22 | 23 | 24 | 25 |\n\n",
            "text/html": "<table>\n<caption>A matrix: 5 x 5 of type int</caption>\n<tbody>\n\t<tr><td> 1</td><td> 2</td><td> 3</td><td> 4</td><td> 5</td></tr>\n\t<tr><td> 6</td><td> 7</td><td> 8</td><td> 9</td><td>10</td></tr>\n\t<tr><td>11</td><td>12</td><td>13</td><td>14</td><td>15</td></tr>\n\t<tr><td>16</td><td>17</td><td>18</td><td>19</td><td>20</td></tr>\n\t<tr><td>21</td><td>22</td><td>23</td><td>24</td><td>25</td></tr>\n</tbody>\n</table>\n"
          },
          "metadata": {}
        }
      ]
    },
    {
      "metadata": {
        "trusted": true
      },
      "cell_type": "code",
      "source": "mat1+mat1 # addition",
      "execution_count": 6,
      "outputs": [
        {
          "output_type": "display_data",
          "data": {
            "text/plain": "     [,1] [,2] [,3] [,4] [,5]\n[1,]  2    4    6    8   10  \n[2,] 12   14   16   18   20  \n[3,] 22   24   26   28   30  \n[4,] 32   34   36   38   40  \n[5,] 42   44   46   48   50  ",
            "text/latex": "A matrix: 5 x 5 of type int\n\\begin{tabular}{lllll}\n\t  2 &  4 &  6 &  8 & 10\\\\\n\t 12 & 14 & 16 & 18 & 20\\\\\n\t 22 & 24 & 26 & 28 & 30\\\\\n\t 32 & 34 & 36 & 38 & 40\\\\\n\t 42 & 44 & 46 & 48 & 50\\\\\n\\end{tabular}\n",
            "text/markdown": "\nA matrix: 5 x 5 of type int\n\n|  2 |  4 |  6 |  8 | 10 |\n| 12 | 14 | 16 | 18 | 20 |\n| 22 | 24 | 26 | 28 | 30 |\n| 32 | 34 | 36 | 38 | 40 |\n| 42 | 44 | 46 | 48 | 50 |\n\n",
            "text/html": "<table>\n<caption>A matrix: 5 x 5 of type int</caption>\n<tbody>\n\t<tr><td> 2</td><td> 4</td><td> 6</td><td> 8</td><td>10</td></tr>\n\t<tr><td>12</td><td>14</td><td>16</td><td>18</td><td>20</td></tr>\n\t<tr><td>22</td><td>24</td><td>26</td><td>28</td><td>30</td></tr>\n\t<tr><td>32</td><td>34</td><td>36</td><td>38</td><td>40</td></tr>\n\t<tr><td>42</td><td>44</td><td>46</td><td>48</td><td>50</td></tr>\n</tbody>\n</table>\n"
          },
          "metadata": {}
        }
      ]
    },
    {
      "metadata": {
        "trusted": true
      },
      "cell_type": "code",
      "source": "mat1-mat1 #subtract",
      "execution_count": 7,
      "outputs": [
        {
          "output_type": "display_data",
          "data": {
            "text/plain": "     [,1] [,2] [,3] [,4] [,5]\n[1,] 0    0    0    0    0   \n[2,] 0    0    0    0    0   \n[3,] 0    0    0    0    0   \n[4,] 0    0    0    0    0   \n[5,] 0    0    0    0    0   ",
            "text/latex": "A matrix: 5 x 5 of type int\n\\begin{tabular}{lllll}\n\t 0 & 0 & 0 & 0 & 0\\\\\n\t 0 & 0 & 0 & 0 & 0\\\\\n\t 0 & 0 & 0 & 0 & 0\\\\\n\t 0 & 0 & 0 & 0 & 0\\\\\n\t 0 & 0 & 0 & 0 & 0\\\\\n\\end{tabular}\n",
            "text/markdown": "\nA matrix: 5 x 5 of type int\n\n| 0 | 0 | 0 | 0 | 0 |\n| 0 | 0 | 0 | 0 | 0 |\n| 0 | 0 | 0 | 0 | 0 |\n| 0 | 0 | 0 | 0 | 0 |\n| 0 | 0 | 0 | 0 | 0 |\n\n",
            "text/html": "<table>\n<caption>A matrix: 5 x 5 of type int</caption>\n<tbody>\n\t<tr><td>0</td><td>0</td><td>0</td><td>0</td><td>0</td></tr>\n\t<tr><td>0</td><td>0</td><td>0</td><td>0</td><td>0</td></tr>\n\t<tr><td>0</td><td>0</td><td>0</td><td>0</td><td>0</td></tr>\n\t<tr><td>0</td><td>0</td><td>0</td><td>0</td><td>0</td></tr>\n\t<tr><td>0</td><td>0</td><td>0</td><td>0</td><td>0</td></tr>\n</tbody>\n</table>\n"
          },
          "metadata": {}
        }
      ]
    },
    {
      "metadata": {
        "trusted": true
      },
      "cell_type": "code",
      "source": "mat1*2 #multiply",
      "execution_count": 8,
      "outputs": [
        {
          "output_type": "display_data",
          "data": {
            "text/plain": "     [,1] [,2] [,3] [,4] [,5]\n[1,]  2    4    6    8   10  \n[2,] 12   14   16   18   20  \n[3,] 22   24   26   28   30  \n[4,] 32   34   36   38   40  \n[5,] 42   44   46   48   50  ",
            "text/latex": "A matrix: 5 x 5 of type dbl\n\\begin{tabular}{lllll}\n\t  2 &  4 &  6 &  8 & 10\\\\\n\t 12 & 14 & 16 & 18 & 20\\\\\n\t 22 & 24 & 26 & 28 & 30\\\\\n\t 32 & 34 & 36 & 38 & 40\\\\\n\t 42 & 44 & 46 & 48 & 50\\\\\n\\end{tabular}\n",
            "text/markdown": "\nA matrix: 5 x 5 of type dbl\n\n|  2 |  4 |  6 |  8 | 10 |\n| 12 | 14 | 16 | 18 | 20 |\n| 22 | 24 | 26 | 28 | 30 |\n| 32 | 34 | 36 | 38 | 40 |\n| 42 | 44 | 46 | 48 | 50 |\n\n",
            "text/html": "<table>\n<caption>A matrix: 5 x 5 of type dbl</caption>\n<tbody>\n\t<tr><td> 2</td><td> 4</td><td> 6</td><td> 8</td><td>10</td></tr>\n\t<tr><td>12</td><td>14</td><td>16</td><td>18</td><td>20</td></tr>\n\t<tr><td>22</td><td>24</td><td>26</td><td>28</td><td>30</td></tr>\n\t<tr><td>32</td><td>34</td><td>36</td><td>38</td><td>40</td></tr>\n\t<tr><td>42</td><td>44</td><td>46</td><td>48</td><td>50</td></tr>\n</tbody>\n</table>\n"
          },
          "metadata": {}
        }
      ]
    },
    {
      "metadata": {
        "trusted": true
      },
      "cell_type": "code",
      "source": "mat1/mat1 #division",
      "execution_count": 9,
      "outputs": [
        {
          "output_type": "display_data",
          "data": {
            "text/plain": "     [,1] [,2] [,3] [,4] [,5]\n[1,] 1    1    1    1    1   \n[2,] 1    1    1    1    1   \n[3,] 1    1    1    1    1   \n[4,] 1    1    1    1    1   \n[5,] 1    1    1    1    1   ",
            "text/latex": "A matrix: 5 x 5 of type dbl\n\\begin{tabular}{lllll}\n\t 1 & 1 & 1 & 1 & 1\\\\\n\t 1 & 1 & 1 & 1 & 1\\\\\n\t 1 & 1 & 1 & 1 & 1\\\\\n\t 1 & 1 & 1 & 1 & 1\\\\\n\t 1 & 1 & 1 & 1 & 1\\\\\n\\end{tabular}\n",
            "text/markdown": "\nA matrix: 5 x 5 of type dbl\n\n| 1 | 1 | 1 | 1 | 1 |\n| 1 | 1 | 1 | 1 | 1 |\n| 1 | 1 | 1 | 1 | 1 |\n| 1 | 1 | 1 | 1 | 1 |\n| 1 | 1 | 1 | 1 | 1 |\n\n",
            "text/html": "<table>\n<caption>A matrix: 5 x 5 of type dbl</caption>\n<tbody>\n\t<tr><td>1</td><td>1</td><td>1</td><td>1</td><td>1</td></tr>\n\t<tr><td>1</td><td>1</td><td>1</td><td>1</td><td>1</td></tr>\n\t<tr><td>1</td><td>1</td><td>1</td><td>1</td><td>1</td></tr>\n\t<tr><td>1</td><td>1</td><td>1</td><td>1</td><td>1</td></tr>\n\t<tr><td>1</td><td>1</td><td>1</td><td>1</td><td>1</td></tr>\n</tbody>\n</table>\n"
          },
          "metadata": {}
        }
      ]
    },
    {
      "metadata": {
        "trusted": true
      },
      "cell_type": "code",
      "source": "sqrt(mat1) # Square root",
      "execution_count": 10,
      "outputs": [
        {
          "output_type": "display_data",
          "data": {
            "text/plain": "     [,1]     [,2]     [,3]     [,4]     [,5]    \n[1,] 1.000000 1.414214 1.732051 2.000000 2.236068\n[2,] 2.449490 2.645751 2.828427 3.000000 3.162278\n[3,] 3.316625 3.464102 3.605551 3.741657 3.872983\n[4,] 4.000000 4.123106 4.242641 4.358899 4.472136\n[5,] 4.582576 4.690416 4.795832 4.898979 5.000000",
            "text/latex": "A matrix: 5 x 5 of type dbl\n\\begin{tabular}{lllll}\n\t 1.000000 & 1.414214 & 1.732051 & 2.000000 & 2.236068\\\\\n\t 2.449490 & 2.645751 & 2.828427 & 3.000000 & 3.162278\\\\\n\t 3.316625 & 3.464102 & 3.605551 & 3.741657 & 3.872983\\\\\n\t 4.000000 & 4.123106 & 4.242641 & 4.358899 & 4.472136\\\\\n\t 4.582576 & 4.690416 & 4.795832 & 4.898979 & 5.000000\\\\\n\\end{tabular}\n",
            "text/markdown": "\nA matrix: 5 x 5 of type dbl\n\n| 1.000000 | 1.414214 | 1.732051 | 2.000000 | 2.236068 |\n| 2.449490 | 2.645751 | 2.828427 | 3.000000 | 3.162278 |\n| 3.316625 | 3.464102 | 3.605551 | 3.741657 | 3.872983 |\n| 4.000000 | 4.123106 | 4.242641 | 4.358899 | 4.472136 |\n| 4.582576 | 4.690416 | 4.795832 | 4.898979 | 5.000000 |\n\n",
            "text/html": "<table>\n<caption>A matrix: 5 x 5 of type dbl</caption>\n<tbody>\n\t<tr><td>1.000000</td><td>1.414214</td><td>1.732051</td><td>2.000000</td><td>2.236068</td></tr>\n\t<tr><td>2.449490</td><td>2.645751</td><td>2.828427</td><td>3.000000</td><td>3.162278</td></tr>\n\t<tr><td>3.316625</td><td>3.464102</td><td>3.605551</td><td>3.741657</td><td>3.872983</td></tr>\n\t<tr><td>4.000000</td><td>4.123106</td><td>4.242641</td><td>4.358899</td><td>4.472136</td></tr>\n\t<tr><td>4.582576</td><td>4.690416</td><td>4.795832</td><td>4.898979</td><td>5.000000</td></tr>\n</tbody>\n</table>\n"
          },
          "metadata": {}
        }
      ]
    },
    {
      "metadata": {
        "trusted": true
      },
      "cell_type": "code",
      "source": "max(mat1) # max of all elements",
      "execution_count": 11,
      "outputs": [
        {
          "output_type": "display_data",
          "data": {
            "text/plain": "[1] 25",
            "text/latex": "25",
            "text/markdown": "25",
            "text/html": "25"
          },
          "metadata": {}
        }
      ]
    },
    {
      "metadata": {
        "trusted": true
      },
      "cell_type": "code",
      "source": "min(mat1) # min of all elements",
      "execution_count": 12,
      "outputs": [
        {
          "output_type": "display_data",
          "data": {
            "text/plain": "[1] 1",
            "text/latex": "1",
            "text/markdown": "1",
            "text/html": "1"
          },
          "metadata": {}
        }
      ]
    },
    {
      "metadata": {
        "trusted": true
      },
      "cell_type": "code",
      "source": "mean(mat1) # mean of all elements",
      "execution_count": 13,
      "outputs": [
        {
          "output_type": "display_data",
          "data": {
            "text/plain": "[1] 13",
            "text/latex": "13",
            "text/markdown": "13",
            "text/html": "13"
          },
          "metadata": {}
        }
      ]
    },
    {
      "metadata": {
        "trusted": true
      },
      "cell_type": "code",
      "source": "sum(mat1) # sum of all elements",
      "execution_count": 14,
      "outputs": [
        {
          "output_type": "display_data",
          "data": {
            "text/plain": "[1] 325",
            "text/latex": "325",
            "text/markdown": "325",
            "text/html": "325"
          },
          "metadata": {}
        }
      ]
    },
    {
      "metadata": {},
      "cell_type": "markdown",
      "source": "### Accessing the cols, rows and individual elements of a matrix"
    },
    {
      "metadata": {
        "trusted": true
      },
      "cell_type": "code",
      "source": "# Syntax format\n#matrix[rows_start:rows_end,cols_start:cols_end]",
      "execution_count": 23,
      "outputs": []
    },
    {
      "metadata": {
        "trusted": true
      },
      "cell_type": "code",
      "source": "# grabbing 1st column\nmat1[,1] ",
      "execution_count": 15,
      "outputs": [
        {
          "output_type": "display_data",
          "data": {
            "text/plain": "[1]  1  6 11 16 21",
            "text/latex": "\\begin{enumerate*}\n\\item 1\n\\item 6\n\\item 11\n\\item 16\n\\item 21\n\\end{enumerate*}\n",
            "text/markdown": "1. 1\n2. 6\n3. 11\n4. 16\n5. 21\n\n\n",
            "text/html": "<ol class=list-inline>\n\t<li>1</li>\n\t<li>6</li>\n\t<li>11</li>\n\t<li>16</li>\n\t<li>21</li>\n</ol>\n"
          },
          "metadata": {}
        }
      ]
    },
    {
      "metadata": {
        "trusted": true
      },
      "cell_type": "code",
      "source": "# grabbing the 2nd row\nmat1[2,]",
      "execution_count": 16,
      "outputs": [
        {
          "output_type": "display_data",
          "data": {
            "text/plain": "[1]  6  7  8  9 10",
            "text/latex": "\\begin{enumerate*}\n\\item 6\n\\item 7\n\\item 8\n\\item 9\n\\item 10\n\\end{enumerate*}\n",
            "text/markdown": "1. 6\n2. 7\n3. 8\n4. 9\n5. 10\n\n\n",
            "text/html": "<ol class=list-inline>\n\t<li>6</li>\n\t<li>7</li>\n\t<li>8</li>\n\t<li>9</li>\n\t<li>10</li>\n</ol>\n"
          },
          "metadata": {}
        }
      ]
    },
    {
      "metadata": {
        "trusted": true
      },
      "cell_type": "code",
      "source": "# grabbing 3rd row, 2nd column element\nmat1[3,2]\n",
      "execution_count": 17,
      "outputs": [
        {
          "output_type": "display_data",
          "data": {
            "text/plain": "[1] 12",
            "text/latex": "12",
            "text/markdown": "12",
            "text/html": "12"
          },
          "metadata": {}
        }
      ]
    },
    {
      "metadata": {
        "trusted": true
      },
      "cell_type": "code",
      "source": "mat1[2:4,] #This grabs rows 2 to 4",
      "execution_count": 19,
      "outputs": [
        {
          "output_type": "display_data",
          "data": {
            "text/plain": "     [,1] [,2] [,3] [,4] [,5]\n[1,]  6    7    8    9   10  \n[2,] 11   12   13   14   15  \n[3,] 16   17   18   19   20  ",
            "text/latex": "A matrix: 3 x 5 of type int\n\\begin{tabular}{lllll}\n\t  6 &  7 &  8 &  9 & 10\\\\\n\t 11 & 12 & 13 & 14 & 15\\\\\n\t 16 & 17 & 18 & 19 & 20\\\\\n\\end{tabular}\n",
            "text/markdown": "\nA matrix: 3 x 5 of type int\n\n|  6 |  7 |  8 |  9 | 10 |\n| 11 | 12 | 13 | 14 | 15 |\n| 16 | 17 | 18 | 19 | 20 |\n\n",
            "text/html": "<table>\n<caption>A matrix: 3 x 5 of type int</caption>\n<tbody>\n\t<tr><td> 6</td><td> 7</td><td> 8</td><td> 9</td><td>10</td></tr>\n\t<tr><td>11</td><td>12</td><td>13</td><td>14</td><td>15</td></tr>\n\t<tr><td>16</td><td>17</td><td>18</td><td>19</td><td>20</td></tr>\n</tbody>\n</table>\n"
          },
          "metadata": {}
        }
      ]
    },
    {
      "metadata": {
        "trusted": true
      },
      "cell_type": "code",
      "source": "mat1[,3:5] #This grabs column 3 to 5 ",
      "execution_count": 22,
      "outputs": [
        {
          "output_type": "display_data",
          "data": {
            "text/plain": "     [,1] [,2] [,3]\n[1,]  3    4    5  \n[2,]  8    9   10  \n[3,] 13   14   15  \n[4,] 18   19   20  \n[5,] 23   24   25  ",
            "text/latex": "A matrix: 5 x 3 of type int\n\\begin{tabular}{lll}\n\t  3 &  4 &  5\\\\\n\t  8 &  9 & 10\\\\\n\t 13 & 14 & 15\\\\\n\t 18 & 19 & 20\\\\\n\t 23 & 24 & 25\\\\\n\\end{tabular}\n",
            "text/markdown": "\nA matrix: 5 x 3 of type int\n\n|  3 |  4 |  5 |\n|  8 |  9 | 10 |\n| 13 | 14 | 15 |\n| 18 | 19 | 20 |\n| 23 | 24 | 25 |\n\n",
            "text/html": "<table>\n<caption>A matrix: 5 x 3 of type int</caption>\n<tbody>\n\t<tr><td> 3</td><td> 4</td><td> 5</td></tr>\n\t<tr><td> 8</td><td> 9</td><td>10</td></tr>\n\t<tr><td>13</td><td>14</td><td>15</td></tr>\n\t<tr><td>18</td><td>19</td><td>20</td></tr>\n\t<tr><td>23</td><td>24</td><td>25</td></tr>\n</tbody>\n</table>\n"
          },
          "metadata": {}
        }
      ]
    },
    {
      "metadata": {},
      "cell_type": "markdown",
      "source": "### Some Builtin Functions on Matrices"
    },
    {
      "metadata": {
        "trusted": true
      },
      "cell_type": "code",
      "source": "# Getting column sums\nmat1",
      "execution_count": 19,
      "outputs": [
        {
          "output_type": "display_data",
          "data": {
            "text/plain": "     [,1] [,2] [,3] [,4] [,5]\n[1,]  1    2    3    4    5  \n[2,]  6    7    8    9   10  \n[3,] 11   12   13   14   15  \n[4,] 16   17   18   19   20  \n[5,] 21   22   23   24   25  ",
            "text/latex": "A matrix: 5 x 5 of type int\n\\begin{tabular}{lllll}\n\t  1 &  2 &  3 &  4 &  5\\\\\n\t  6 &  7 &  8 &  9 & 10\\\\\n\t 11 & 12 & 13 & 14 & 15\\\\\n\t 16 & 17 & 18 & 19 & 20\\\\\n\t 21 & 22 & 23 & 24 & 25\\\\\n\\end{tabular}\n",
            "text/markdown": "\nA matrix: 5 x 5 of type int\n\n|  1 |  2 |  3 |  4 |  5 |\n|  6 |  7 |  8 |  9 | 10 |\n| 11 | 12 | 13 | 14 | 15 |\n| 16 | 17 | 18 | 19 | 20 |\n| 21 | 22 | 23 | 24 | 25 |\n\n",
            "text/html": "<table>\n<caption>A matrix: 5 x 5 of type int</caption>\n<tbody>\n\t<tr><td> 1</td><td> 2</td><td> 3</td><td> 4</td><td> 5</td></tr>\n\t<tr><td> 6</td><td> 7</td><td> 8</td><td> 9</td><td>10</td></tr>\n\t<tr><td>11</td><td>12</td><td>13</td><td>14</td><td>15</td></tr>\n\t<tr><td>16</td><td>17</td><td>18</td><td>19</td><td>20</td></tr>\n\t<tr><td>21</td><td>22</td><td>23</td><td>24</td><td>25</td></tr>\n</tbody>\n</table>\n"
          },
          "metadata": {}
        }
      ]
    },
    {
      "metadata": {
        "trusted": true
      },
      "cell_type": "code",
      "source": "colSums(mat1) # Notice the S capital",
      "execution_count": 20,
      "outputs": [
        {
          "output_type": "display_data",
          "data": {
            "text/plain": "[1] 55 60 65 70 75",
            "text/latex": "\\begin{enumerate*}\n\\item 55\n\\item 60\n\\item 65\n\\item 70\n\\item 75\n\\end{enumerate*}\n",
            "text/markdown": "1. 55\n2. 60\n3. 65\n4. 70\n5. 75\n\n\n",
            "text/html": "<ol class=list-inline>\n\t<li>55</li>\n\t<li>60</li>\n\t<li>65</li>\n\t<li>70</li>\n\t<li>75</li>\n</ol>\n"
          },
          "metadata": {}
        }
      ]
    },
    {
      "metadata": {
        "trusted": true
      },
      "cell_type": "code",
      "source": "rowSums(mat1) # Row sums",
      "execution_count": 21,
      "outputs": [
        {
          "output_type": "display_data",
          "data": {
            "text/plain": "[1]  15  40  65  90 115",
            "text/latex": "\\begin{enumerate*}\n\\item 15\n\\item 40\n\\item 65\n\\item 90\n\\item 115\n\\end{enumerate*}\n",
            "text/markdown": "1. 15\n2. 40\n3. 65\n4. 90\n5. 115\n\n\n",
            "text/html": "<ol class=list-inline>\n\t<li>15</li>\n\t<li>40</li>\n\t<li>65</li>\n\t<li>90</li>\n\t<li>115</li>\n</ol>\n"
          },
          "metadata": {}
        }
      ]
    },
    {
      "metadata": {
        "trusted": true
      },
      "cell_type": "code",
      "source": "rowMeans(mat1) #Row mean",
      "execution_count": 23,
      "outputs": [
        {
          "output_type": "display_data",
          "data": {
            "text/plain": "[1]  3  8 13 18 23",
            "text/latex": "\\begin{enumerate*}\n\\item 3\n\\item 8\n\\item 13\n\\item 18\n\\item 23\n\\end{enumerate*}\n",
            "text/markdown": "1. 3\n2. 8\n3. 13\n4. 18\n5. 23\n\n\n",
            "text/html": "<ol class=list-inline>\n\t<li>3</li>\n\t<li>8</li>\n\t<li>13</li>\n\t<li>18</li>\n\t<li>23</li>\n</ol>\n"
          },
          "metadata": {}
        }
      ]
    },
    {
      "metadata": {
        "trusted": true
      },
      "cell_type": "code",
      "source": "colMeans(mat1) #col Mean",
      "execution_count": 25,
      "outputs": [
        {
          "output_type": "display_data",
          "data": {
            "text/plain": "[1] 11 12 13 14 15",
            "text/latex": "\\begin{enumerate*}\n\\item 11\n\\item 12\n\\item 13\n\\item 14\n\\item 15\n\\end{enumerate*}\n",
            "text/markdown": "1. 11\n2. 12\n3. 13\n4. 14\n5. 15\n\n\n",
            "text/html": "<ol class=list-inline>\n\t<li>11</li>\n\t<li>12</li>\n\t<li>13</li>\n\t<li>14</li>\n\t<li>15</li>\n</ol>\n"
          },
          "metadata": {}
        }
      ]
    },
    {
      "metadata": {
        "trusted": true
      },
      "cell_type": "code",
      "source": "#Getting a column max\nmax(mat1[,2])",
      "execution_count": 26,
      "outputs": [
        {
          "output_type": "display_data",
          "data": {
            "text/plain": "[1] 22",
            "text/latex": "22",
            "text/markdown": "22",
            "text/html": "22"
          },
          "metadata": {}
        }
      ]
    },
    {
      "metadata": {
        "trusted": true
      },
      "cell_type": "code",
      "source": "# getting a row max \nmax(mat1[2,])",
      "execution_count": 27,
      "outputs": [
        {
          "output_type": "display_data",
          "data": {
            "text/plain": "[1] 10",
            "text/latex": "10",
            "text/markdown": "10",
            "text/html": "10"
          },
          "metadata": {}
        }
      ]
    },
    {
      "metadata": {
        "trusted": true
      },
      "cell_type": "code",
      "source": "student.matrix",
      "execution_count": 29,
      "outputs": [
        {
          "output_type": "display_data",
          "data": {
            "text/plain": "       Age Salary\nRaj    23  20000 \nRavi   25  25000 \nSita   26  26000 \nRam    32  32000 \nHanuma 30  38000 ",
            "text/latex": "A matrix: 5 x 2 of type dbl\n\\begin{tabular}{r|ll}\n  & Age & Salary\\\\\n\\hline\n\tRaj & 23 & 20000\\\\\n\tRavi & 25 & 25000\\\\\n\tSita & 26 & 26000\\\\\n\tRam & 32 & 32000\\\\\n\tHanuma & 30 & 38000\\\\\n\\end{tabular}\n",
            "text/markdown": "\nA matrix: 5 x 2 of type dbl\n\n| <!--/--> | Age | Salary |\n|---|---|---|\n| Raj | 23 | 20000 |\n| Ravi | 25 | 25000 |\n| Sita | 26 | 26000 |\n| Ram | 32 | 32000 |\n| Hanuma | 30 | 38000 |\n\n",
            "text/html": "<table>\n<caption>A matrix: 5 x 2 of type dbl</caption>\n<thead>\n\t<tr><th></th><th scope=col>Age</th><th scope=col>Salary</th></tr>\n</thead>\n<tbody>\n\t<tr><th scope=row>Raj</th><td>23</td><td>20000</td></tr>\n\t<tr><th scope=row>Ravi</th><td>25</td><td>25000</td></tr>\n\t<tr><th scope=row>Sita</th><td>26</td><td>26000</td></tr>\n\t<tr><th scope=row>Ram</th><td>32</td><td>32000</td></tr>\n\t<tr><th scope=row>Hanuma</th><td>30</td><td>38000</td></tr>\n</tbody>\n</table>\n"
          },
          "metadata": {}
        }
      ]
    },
    {
      "metadata": {},
      "cell_type": "markdown",
      "source": "### rbind , cbind "
    },
    {
      "metadata": {
        "trusted": true
      },
      "cell_type": "code",
      "source": "#Adding a row to the matrix with rbind\nstudent.matrix",
      "execution_count": 30,
      "outputs": [
        {
          "output_type": "display_data",
          "data": {
            "text/plain": "       Age Salary\nRaj    23  20000 \nRavi   25  25000 \nSita   26  26000 \nRam    32  32000 \nHanuma 30  38000 ",
            "text/latex": "A matrix: 5 x 2 of type dbl\n\\begin{tabular}{r|ll}\n  & Age & Salary\\\\\n\\hline\n\tRaj & 23 & 20000\\\\\n\tRavi & 25 & 25000\\\\\n\tSita & 26 & 26000\\\\\n\tRam & 32 & 32000\\\\\n\tHanuma & 30 & 38000\\\\\n\\end{tabular}\n",
            "text/markdown": "\nA matrix: 5 x 2 of type dbl\n\n| <!--/--> | Age | Salary |\n|---|---|---|\n| Raj | 23 | 20000 |\n| Ravi | 25 | 25000 |\n| Sita | 26 | 26000 |\n| Ram | 32 | 32000 |\n| Hanuma | 30 | 38000 |\n\n",
            "text/html": "<table>\n<caption>A matrix: 5 x 2 of type dbl</caption>\n<thead>\n\t<tr><th></th><th scope=col>Age</th><th scope=col>Salary</th></tr>\n</thead>\n<tbody>\n\t<tr><th scope=row>Raj</th><td>23</td><td>20000</td></tr>\n\t<tr><th scope=row>Ravi</th><td>25</td><td>25000</td></tr>\n\t<tr><th scope=row>Sita</th><td>26</td><td>26000</td></tr>\n\t<tr><th scope=row>Ram</th><td>32</td><td>32000</td></tr>\n\t<tr><th scope=row>Hanuma</th><td>30</td><td>38000</td></tr>\n</tbody>\n</table>\n"
          },
          "metadata": {}
        }
      ]
    },
    {
      "metadata": {
        "trusted": true
      },
      "cell_type": "code",
      "source": "Hema <- c(32, 25000)\nstudent.matrix <- rbind(student.matrix, Hema)",
      "execution_count": 38,
      "outputs": []
    },
    {
      "metadata": {
        "trusted": true
      },
      "cell_type": "code",
      "source": "Tax <- student.matrix[,2]*0.1",
      "execution_count": 42,
      "outputs": []
    },
    {
      "metadata": {
        "trusted": true
      },
      "cell_type": "code",
      "source": "Tax",
      "execution_count": 43,
      "outputs": [
        {
          "output_type": "display_data",
          "data": {
            "text/plain": "   Raj   Ravi   Sita    Ram Hanuma   Hema \n  2000   2500   2600   3200   3800   2500 ",
            "text/latex": "\\begin{description*}\n\\item[Raj] 2000\n\\item[Ravi] 2500\n\\item[Sita] 2600\n\\item[Ram] 3200\n\\item[Hanuma] 3800\n\\item[Hema] 2500\n\\end{description*}\n",
            "text/markdown": "Raj\n:   2000Ravi\n:   2500Sita\n:   2600Ram\n:   3200Hanuma\n:   3800Hema\n:   2500\n\n",
            "text/html": "<dl class=dl-horizontal>\n\t<dt>Raj</dt>\n\t\t<dd>2000</dd>\n\t<dt>Ravi</dt>\n\t\t<dd>2500</dd>\n\t<dt>Sita</dt>\n\t\t<dd>2600</dd>\n\t<dt>Ram</dt>\n\t\t<dd>3200</dd>\n\t<dt>Hanuma</dt>\n\t\t<dd>3800</dd>\n\t<dt>Hema</dt>\n\t\t<dd>2500</dd>\n</dl>\n"
          },
          "metadata": {}
        }
      ]
    },
    {
      "metadata": {
        "trusted": true
      },
      "cell_type": "code",
      "source": "student.matrix <- cbind(student.matrix,Tax) # Adding t\nstudent.matrix",
      "execution_count": 46,
      "outputs": [
        {
          "output_type": "display_data",
          "data": {
            "text/plain": "       Age Salary Tax  Tax \nRaj    23  20000  2000 2000\nRavi   25  25000  2500 2500\nSita   26  26000  2600 2600\nRam    32  32000  3200 3200\nHanuma 30  38000  3800 3800\nHema   32  25000  2500 2500",
            "text/latex": "A matrix: 6 x 4 of type dbl\n\\begin{tabular}{r|llll}\n  & Age & Salary & Tax & Tax\\\\\n\\hline\n\tRaj & 23 & 20000 & 2000 & 2000\\\\\n\tRavi & 25 & 25000 & 2500 & 2500\\\\\n\tSita & 26 & 26000 & 2600 & 2600\\\\\n\tRam & 32 & 32000 & 3200 & 3200\\\\\n\tHanuma & 30 & 38000 & 3800 & 3800\\\\\n\tHema & 32 & 25000 & 2500 & 2500\\\\\n\\end{tabular}\n",
            "text/markdown": "\nA matrix: 6 x 4 of type dbl\n\n| <!--/--> | Age | Salary | Tax | Tax |\n|---|---|---|---|---|\n| Raj | 23 | 20000 | 2000 | 2000 |\n| Ravi | 25 | 25000 | 2500 | 2500 |\n| Sita | 26 | 26000 | 2600 | 2600 |\n| Ram | 32 | 32000 | 3200 | 3200 |\n| Hanuma | 30 | 38000 | 3800 | 3800 |\n| Hema | 32 | 25000 | 2500 | 2500 |\n\n",
            "text/html": "<table>\n<caption>A matrix: 6 x 4 of type dbl</caption>\n<thead>\n\t<tr><th></th><th scope=col>Age</th><th scope=col>Salary</th><th scope=col>Tax</th><th scope=col>Tax</th></tr>\n</thead>\n<tbody>\n\t<tr><th scope=row>Raj</th><td>23</td><td>20000</td><td>2000</td><td>2000</td></tr>\n\t<tr><th scope=row>Ravi</th><td>25</td><td>25000</td><td>2500</td><td>2500</td></tr>\n\t<tr><th scope=row>Sita</th><td>26</td><td>26000</td><td>2600</td><td>2600</td></tr>\n\t<tr><th scope=row>Ram</th><td>32</td><td>32000</td><td>3200</td><td>3200</td></tr>\n\t<tr><th scope=row>Hanuma</th><td>30</td><td>38000</td><td>3800</td><td>3800</td></tr>\n\t<tr><th scope=row>Hema</th><td>32</td><td>25000</td><td>2500</td><td>2500</td></tr>\n</tbody>\n</table>\n"
          },
          "metadata": {}
        }
      ]
    },
    {
      "metadata": {
        "trusted": true
      },
      "cell_type": "code",
      "source": "",
      "execution_count": null,
      "outputs": []
    }
  ],
  "metadata": {
    "kernelspec": {
      "name": "r",
      "display_name": "R",
      "language": "R"
    },
    "language_info": {
      "mimetype": "text/x-r-source",
      "name": "R",
      "pygments_lexer": "r",
      "version": "3.4.1",
      "file_extension": ".r",
      "codemirror_mode": "r"
    }
  },
  "nbformat": 4,
  "nbformat_minor": 2
}