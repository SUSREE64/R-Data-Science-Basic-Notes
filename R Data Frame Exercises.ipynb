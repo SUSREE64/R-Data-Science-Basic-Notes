{
  "cells": [
    {
      "metadata": {
        "collapsed": true
      },
      "cell_type": "markdown",
      "source": "####  Recreate the following dataframe by creating vectors and using the data.frame function:"
    },
    {
      "metadata": {
        "trusted": true
      },
      "cell_type": "code",
      "source": "#let us work on a newly created dataframe\n# Creating a dataframe from vectors\nAge <- c(22,25,26)\nWeight <- c(150,165,120)\nSex <- c('M','M','F')\ndf <- data.frame(Age, Weight, Sex)\nrownames <- c('Sam', 'Frank','Amy')\nrow.names(df) <- rownames\ndf",
      "execution_count": 7,
      "outputs": [
        {
          "output_type": "display_data",
          "data": {
            "text/plain": "      Age Weight Sex\nSam   22  150    M  \nFrank 25  165    M  \nAmy   26  120    F  ",
            "text/latex": "A data.frame: 3 x 3\n\\begin{tabular}{r|lll}\n  & Age & Weight & Sex\\\\\n  & <dbl> & <dbl> & <fct>\\\\\n\\hline\n\tSam & 22 & 150 & M\\\\\n\tFrank & 25 & 165 & M\\\\\n\tAmy & 26 & 120 & F\\\\\n\\end{tabular}\n",
            "text/markdown": "\nA data.frame: 3 x 3\n\n| <!--/--> | Age &lt;dbl&gt; | Weight &lt;dbl&gt; | Sex &lt;fct&gt; |\n|---|---|---|---|\n| Sam | 22 | 150 | M |\n| Frank | 25 | 165 | M |\n| Amy | 26 | 120 | F |\n\n",
            "text/html": "<table>\n<caption>A data.frame: 3 x 3</caption>\n<thead>\n\t<tr><th></th><th scope=col>Age</th><th scope=col>Weight</th><th scope=col>Sex</th></tr>\n\t<tr><th></th><th scope=col>&lt;dbl&gt;</th><th scope=col>&lt;dbl&gt;</th><th scope=col>&lt;fct&gt;</th></tr>\n</thead>\n<tbody>\n\t<tr><th scope=row>Sam</th><td>22</td><td>150</td><td>M</td></tr>\n\t<tr><th scope=row>Frank</th><td>25</td><td>165</td><td>M</td></tr>\n\t<tr><th scope=row>Amy</th><td>26</td><td>120</td><td>F</td></tr>\n</tbody>\n</table>\n"
          },
          "metadata": {}
        }
      ]
    },
    {
      "metadata": {},
      "cell_type": "markdown",
      "source": "#### Ex 2: Check if mtcars is a dataframe using is.data.frame()"
    },
    {
      "metadata": {
        "trusted": true
      },
      "cell_type": "code",
      "source": "is.data.frame(mtcars)",
      "execution_count": 9,
      "outputs": [
        {
          "output_type": "display_data",
          "data": {
            "text/plain": "[1] TRUE",
            "text/latex": "TRUE",
            "text/markdown": "TRUE",
            "text/html": "TRUE"
          },
          "metadata": {}
        }
      ]
    },
    {
      "metadata": {},
      "cell_type": "markdown",
      "source": "#### Ex 3: Use as.data.frame() to convert a matrix into a dataframe:"
    },
    {
      "metadata": {
        "trusted": true
      },
      "cell_type": "code",
      "source": "mat <- matrix(1:25,nrow = 5)",
      "execution_count": 10,
      "outputs": []
    },
    {
      "metadata": {
        "trusted": true
      },
      "cell_type": "code",
      "source": "mat <- as.data.frame(mat)\nmat",
      "execution_count": 14,
      "outputs": [
        {
          "output_type": "display_data",
          "data": {
            "text/plain": "  V1 V2 V3 V4 V5\n1 1   6 11 16 21\n2 2   7 12 17 22\n3 3   8 13 18 23\n4 4   9 14 19 24\n5 5  10 15 20 25",
            "text/latex": "A data.frame: 5 x 5\n\\begin{tabular}{r|lllll}\n V1 & V2 & V3 & V4 & V5\\\\\n <int> & <int> & <int> & <int> & <int>\\\\\n\\hline\n\t 1 &  6 & 11 & 16 & 21\\\\\n\t 2 &  7 & 12 & 17 & 22\\\\\n\t 3 &  8 & 13 & 18 & 23\\\\\n\t 4 &  9 & 14 & 19 & 24\\\\\n\t 5 & 10 & 15 & 20 & 25\\\\\n\\end{tabular}\n",
            "text/markdown": "\nA data.frame: 5 x 5\n\n| V1 &lt;int&gt; | V2 &lt;int&gt; | V3 &lt;int&gt; | V4 &lt;int&gt; | V5 &lt;int&gt; |\n|---|---|---|---|---|\n| 1 |  6 | 11 | 16 | 21 |\n| 2 |  7 | 12 | 17 | 22 |\n| 3 |  8 | 13 | 18 | 23 |\n| 4 |  9 | 14 | 19 | 24 |\n| 5 | 10 | 15 | 20 | 25 |\n\n",
            "text/html": "<table>\n<caption>A data.frame: 5 x 5</caption>\n<thead>\n\t<tr><th scope=col>V1</th><th scope=col>V2</th><th scope=col>V3</th><th scope=col>V4</th><th scope=col>V5</th></tr>\n\t<tr><th scope=col>&lt;int&gt;</th><th scope=col>&lt;int&gt;</th><th scope=col>&lt;int&gt;</th><th scope=col>&lt;int&gt;</th><th scope=col>&lt;int&gt;</th></tr>\n</thead>\n<tbody>\n\t<tr><td>1</td><td> 6</td><td>11</td><td>16</td><td>21</td></tr>\n\t<tr><td>2</td><td> 7</td><td>12</td><td>17</td><td>22</td></tr>\n\t<tr><td>3</td><td> 8</td><td>13</td><td>18</td><td>23</td></tr>\n\t<tr><td>4</td><td> 9</td><td>14</td><td>19</td><td>24</td></tr>\n\t<tr><td>5</td><td>10</td><td>15</td><td>20</td><td>25</td></tr>\n</tbody>\n</table>\n"
          },
          "metadata": {}
        }
      ]
    },
    {
      "metadata": {},
      "cell_type": "markdown",
      "source": "#### Ex 4: Set the built-in data frame mtcars as a variable df. We'll use this df variable for the rest of the exercises."
    },
    {
      "metadata": {
        "trusted": true
      },
      "cell_type": "code",
      "source": "df <- mtcars\n",
      "execution_count": 20,
      "outputs": []
    },
    {
      "metadata": {},
      "cell_type": "markdown",
      "source": "#### Ex 5: Display the first 6 rows of df"
    },
    {
      "metadata": {
        "trusted": true
      },
      "cell_type": "code",
      "source": "head(df)",
      "execution_count": 21,
      "outputs": [
        {
          "output_type": "display_data",
          "data": {
            "text/plain": "                  mpg  cyl disp hp  drat wt    qsec  vs am gear carb\nMazda RX4         21.0 6   160  110 3.90 2.620 16.46 0  1  4    4   \nMazda RX4 Wag     21.0 6   160  110 3.90 2.875 17.02 0  1  4    4   \nDatsun 710        22.8 4   108   93 3.85 2.320 18.61 1  1  4    1   \nHornet 4 Drive    21.4 6   258  110 3.08 3.215 19.44 1  0  3    1   \nHornet Sportabout 18.7 8   360  175 3.15 3.440 17.02 0  0  3    2   \nValiant           18.1 6   225  105 2.76 3.460 20.22 1  0  3    1   ",
            "text/latex": "A data.frame: 6 x 11\n\\begin{tabular}{r|lllllllllll}\n  & mpg & cyl & disp & hp & drat & wt & qsec & vs & am & gear & carb\\\\\n  & <dbl> & <dbl> & <dbl> & <dbl> & <dbl> & <dbl> & <dbl> & <dbl> & <dbl> & <dbl> & <dbl>\\\\\n\\hline\n\tMazda RX4 & 21.0 & 6 & 160 & 110 & 3.90 & 2.620 & 16.46 & 0 & 1 & 4 & 4\\\\\n\tMazda RX4 Wag & 21.0 & 6 & 160 & 110 & 3.90 & 2.875 & 17.02 & 0 & 1 & 4 & 4\\\\\n\tDatsun 710 & 22.8 & 4 & 108 &  93 & 3.85 & 2.320 & 18.61 & 1 & 1 & 4 & 1\\\\\n\tHornet 4 Drive & 21.4 & 6 & 258 & 110 & 3.08 & 3.215 & 19.44 & 1 & 0 & 3 & 1\\\\\n\tHornet Sportabout & 18.7 & 8 & 360 & 175 & 3.15 & 3.440 & 17.02 & 0 & 0 & 3 & 2\\\\\n\tValiant & 18.1 & 6 & 225 & 105 & 2.76 & 3.460 & 20.22 & 1 & 0 & 3 & 1\\\\\n\\end{tabular}\n",
            "text/markdown": "\nA data.frame: 6 x 11\n\n| <!--/--> | mpg &lt;dbl&gt; | cyl &lt;dbl&gt; | disp &lt;dbl&gt; | hp &lt;dbl&gt; | drat &lt;dbl&gt; | wt &lt;dbl&gt; | qsec &lt;dbl&gt; | vs &lt;dbl&gt; | am &lt;dbl&gt; | gear &lt;dbl&gt; | carb &lt;dbl&gt; |\n|---|---|---|---|---|---|---|---|---|---|---|---|\n| Mazda RX4 | 21.0 | 6 | 160 | 110 | 3.90 | 2.620 | 16.46 | 0 | 1 | 4 | 4 |\n| Mazda RX4 Wag | 21.0 | 6 | 160 | 110 | 3.90 | 2.875 | 17.02 | 0 | 1 | 4 | 4 |\n| Datsun 710 | 22.8 | 4 | 108 |  93 | 3.85 | 2.320 | 18.61 | 1 | 1 | 4 | 1 |\n| Hornet 4 Drive | 21.4 | 6 | 258 | 110 | 3.08 | 3.215 | 19.44 | 1 | 0 | 3 | 1 |\n| Hornet Sportabout | 18.7 | 8 | 360 | 175 | 3.15 | 3.440 | 17.02 | 0 | 0 | 3 | 2 |\n| Valiant | 18.1 | 6 | 225 | 105 | 2.76 | 3.460 | 20.22 | 1 | 0 | 3 | 1 |\n\n",
            "text/html": "<table>\n<caption>A data.frame: 6 x 11</caption>\n<thead>\n\t<tr><th></th><th scope=col>mpg</th><th scope=col>cyl</th><th scope=col>disp</th><th scope=col>hp</th><th scope=col>drat</th><th scope=col>wt</th><th scope=col>qsec</th><th scope=col>vs</th><th scope=col>am</th><th scope=col>gear</th><th scope=col>carb</th></tr>\n\t<tr><th></th><th scope=col>&lt;dbl&gt;</th><th scope=col>&lt;dbl&gt;</th><th scope=col>&lt;dbl&gt;</th><th scope=col>&lt;dbl&gt;</th><th scope=col>&lt;dbl&gt;</th><th scope=col>&lt;dbl&gt;</th><th scope=col>&lt;dbl&gt;</th><th scope=col>&lt;dbl&gt;</th><th scope=col>&lt;dbl&gt;</th><th scope=col>&lt;dbl&gt;</th><th scope=col>&lt;dbl&gt;</th></tr>\n</thead>\n<tbody>\n\t<tr><th scope=row>Mazda RX4</th><td>21.0</td><td>6</td><td>160</td><td>110</td><td>3.90</td><td>2.620</td><td>16.46</td><td>0</td><td>1</td><td>4</td><td>4</td></tr>\n\t<tr><th scope=row>Mazda RX4 Wag</th><td>21.0</td><td>6</td><td>160</td><td>110</td><td>3.90</td><td>2.875</td><td>17.02</td><td>0</td><td>1</td><td>4</td><td>4</td></tr>\n\t<tr><th scope=row>Datsun 710</th><td>22.8</td><td>4</td><td>108</td><td> 93</td><td>3.85</td><td>2.320</td><td>18.61</td><td>1</td><td>1</td><td>4</td><td>1</td></tr>\n\t<tr><th scope=row>Hornet 4 Drive</th><td>21.4</td><td>6</td><td>258</td><td>110</td><td>3.08</td><td>3.215</td><td>19.44</td><td>1</td><td>0</td><td>3</td><td>1</td></tr>\n\t<tr><th scope=row>Hornet Sportabout</th><td>18.7</td><td>8</td><td>360</td><td>175</td><td>3.15</td><td>3.440</td><td>17.02</td><td>0</td><td>0</td><td>3</td><td>2</td></tr>\n\t<tr><th scope=row>Valiant</th><td>18.1</td><td>6</td><td>225</td><td>105</td><td>2.76</td><td>3.460</td><td>20.22</td><td>1</td><td>0</td><td>3</td><td>1</td></tr>\n</tbody>\n</table>\n"
          },
          "metadata": {}
        }
      ]
    },
    {
      "metadata": {},
      "cell_type": "markdown",
      "source": "#### Ex 6: What is the average mpg value for all the cars?"
    },
    {
      "metadata": {
        "trusted": true
      },
      "cell_type": "code",
      "source": "mean(mtcars$mpg)",
      "execution_count": 23,
      "outputs": [
        {
          "output_type": "display_data",
          "data": {
            "text/plain": "[1] 20.09062",
            "text/latex": "20.090625",
            "text/markdown": "20.090625",
            "text/html": "20.090625"
          },
          "metadata": {}
        }
      ]
    },
    {
      "metadata": {},
      "cell_type": "markdown",
      "source": "#### Ex 7: Select the rows where all cars have 6 cylinders (cyl column)"
    },
    {
      "metadata": {
        "trusted": true
      },
      "cell_type": "code",
      "source": "subset(df, cyl==6)",
      "execution_count": 24,
      "outputs": [
        {
          "output_type": "display_data",
          "data": {
            "text/plain": "               mpg  cyl disp  hp  drat wt    qsec  vs am gear carb\nMazda RX4      21.0 6   160.0 110 3.90 2.620 16.46 0  1  4    4   \nMazda RX4 Wag  21.0 6   160.0 110 3.90 2.875 17.02 0  1  4    4   \nHornet 4 Drive 21.4 6   258.0 110 3.08 3.215 19.44 1  0  3    1   \nValiant        18.1 6   225.0 105 2.76 3.460 20.22 1  0  3    1   \nMerc 280       19.2 6   167.6 123 3.92 3.440 18.30 1  0  4    4   \nMerc 280C      17.8 6   167.6 123 3.92 3.440 18.90 1  0  4    4   \nFerrari Dino   19.7 6   145.0 175 3.62 2.770 15.50 0  1  5    6   ",
            "text/latex": "A data.frame: 7 x 11\n\\begin{tabular}{r|lllllllllll}\n  & mpg & cyl & disp & hp & drat & wt & qsec & vs & am & gear & carb\\\\\n  & <dbl> & <dbl> & <dbl> & <dbl> & <dbl> & <dbl> & <dbl> & <dbl> & <dbl> & <dbl> & <dbl>\\\\\n\\hline\n\tMazda RX4 & 21.0 & 6 & 160.0 & 110 & 3.90 & 2.620 & 16.46 & 0 & 1 & 4 & 4\\\\\n\tMazda RX4 Wag & 21.0 & 6 & 160.0 & 110 & 3.90 & 2.875 & 17.02 & 0 & 1 & 4 & 4\\\\\n\tHornet 4 Drive & 21.4 & 6 & 258.0 & 110 & 3.08 & 3.215 & 19.44 & 1 & 0 & 3 & 1\\\\\n\tValiant & 18.1 & 6 & 225.0 & 105 & 2.76 & 3.460 & 20.22 & 1 & 0 & 3 & 1\\\\\n\tMerc 280 & 19.2 & 6 & 167.6 & 123 & 3.92 & 3.440 & 18.30 & 1 & 0 & 4 & 4\\\\\n\tMerc 280C & 17.8 & 6 & 167.6 & 123 & 3.92 & 3.440 & 18.90 & 1 & 0 & 4 & 4\\\\\n\tFerrari Dino & 19.7 & 6 & 145.0 & 175 & 3.62 & 2.770 & 15.50 & 0 & 1 & 5 & 6\\\\\n\\end{tabular}\n",
            "text/markdown": "\nA data.frame: 7 x 11\n\n| <!--/--> | mpg &lt;dbl&gt; | cyl &lt;dbl&gt; | disp &lt;dbl&gt; | hp &lt;dbl&gt; | drat &lt;dbl&gt; | wt &lt;dbl&gt; | qsec &lt;dbl&gt; | vs &lt;dbl&gt; | am &lt;dbl&gt; | gear &lt;dbl&gt; | carb &lt;dbl&gt; |\n|---|---|---|---|---|---|---|---|---|---|---|---|\n| Mazda RX4 | 21.0 | 6 | 160.0 | 110 | 3.90 | 2.620 | 16.46 | 0 | 1 | 4 | 4 |\n| Mazda RX4 Wag | 21.0 | 6 | 160.0 | 110 | 3.90 | 2.875 | 17.02 | 0 | 1 | 4 | 4 |\n| Hornet 4 Drive | 21.4 | 6 | 258.0 | 110 | 3.08 | 3.215 | 19.44 | 1 | 0 | 3 | 1 |\n| Valiant | 18.1 | 6 | 225.0 | 105 | 2.76 | 3.460 | 20.22 | 1 | 0 | 3 | 1 |\n| Merc 280 | 19.2 | 6 | 167.6 | 123 | 3.92 | 3.440 | 18.30 | 1 | 0 | 4 | 4 |\n| Merc 280C | 17.8 | 6 | 167.6 | 123 | 3.92 | 3.440 | 18.90 | 1 | 0 | 4 | 4 |\n| Ferrari Dino | 19.7 | 6 | 145.0 | 175 | 3.62 | 2.770 | 15.50 | 0 | 1 | 5 | 6 |\n\n",
            "text/html": "<table>\n<caption>A data.frame: 7 x 11</caption>\n<thead>\n\t<tr><th></th><th scope=col>mpg</th><th scope=col>cyl</th><th scope=col>disp</th><th scope=col>hp</th><th scope=col>drat</th><th scope=col>wt</th><th scope=col>qsec</th><th scope=col>vs</th><th scope=col>am</th><th scope=col>gear</th><th scope=col>carb</th></tr>\n\t<tr><th></th><th scope=col>&lt;dbl&gt;</th><th scope=col>&lt;dbl&gt;</th><th scope=col>&lt;dbl&gt;</th><th scope=col>&lt;dbl&gt;</th><th scope=col>&lt;dbl&gt;</th><th scope=col>&lt;dbl&gt;</th><th scope=col>&lt;dbl&gt;</th><th scope=col>&lt;dbl&gt;</th><th scope=col>&lt;dbl&gt;</th><th scope=col>&lt;dbl&gt;</th><th scope=col>&lt;dbl&gt;</th></tr>\n</thead>\n<tbody>\n\t<tr><th scope=row>Mazda RX4</th><td>21.0</td><td>6</td><td>160.0</td><td>110</td><td>3.90</td><td>2.620</td><td>16.46</td><td>0</td><td>1</td><td>4</td><td>4</td></tr>\n\t<tr><th scope=row>Mazda RX4 Wag</th><td>21.0</td><td>6</td><td>160.0</td><td>110</td><td>3.90</td><td>2.875</td><td>17.02</td><td>0</td><td>1</td><td>4</td><td>4</td></tr>\n\t<tr><th scope=row>Hornet 4 Drive</th><td>21.4</td><td>6</td><td>258.0</td><td>110</td><td>3.08</td><td>3.215</td><td>19.44</td><td>1</td><td>0</td><td>3</td><td>1</td></tr>\n\t<tr><th scope=row>Valiant</th><td>18.1</td><td>6</td><td>225.0</td><td>105</td><td>2.76</td><td>3.460</td><td>20.22</td><td>1</td><td>0</td><td>3</td><td>1</td></tr>\n\t<tr><th scope=row>Merc 280</th><td>19.2</td><td>6</td><td>167.6</td><td>123</td><td>3.92</td><td>3.440</td><td>18.30</td><td>1</td><td>0</td><td>4</td><td>4</td></tr>\n\t<tr><th scope=row>Merc 280C</th><td>17.8</td><td>6</td><td>167.6</td><td>123</td><td>3.92</td><td>3.440</td><td>18.90</td><td>1</td><td>0</td><td>4</td><td>4</td></tr>\n\t<tr><th scope=row>Ferrari Dino</th><td>19.7</td><td>6</td><td>145.0</td><td>175</td><td>3.62</td><td>2.770</td><td>15.50</td><td>0</td><td>1</td><td>5</td><td>6</td></tr>\n</tbody>\n</table>\n"
          },
          "metadata": {}
        }
      ]
    },
    {
      "metadata": {
        "trusted": true
      },
      "cell_type": "code",
      "source": "# another way\ndf[(df$cyl == 6),] # All the rows that meet the criteia and all column un conditionally",
      "execution_count": 40,
      "outputs": [
        {
          "output_type": "display_data",
          "data": {
            "text/plain": "               mpg  cyl disp  hp  drat wt    qsec  vs am gear carb\nMazda RX4      21.0 6   160.0 110 3.90 2.620 16.46 0  1  4    4   \nMazda RX4 Wag  21.0 6   160.0 110 3.90 2.875 17.02 0  1  4    4   \nHornet 4 Drive 21.4 6   258.0 110 3.08 3.215 19.44 1  0  3    1   \nValiant        18.1 6   225.0 105 2.76 3.460 20.22 1  0  3    1   \nMerc 280       19.2 6   167.6 123 3.92 3.440 18.30 1  0  4    4   \nMerc 280C      17.8 6   167.6 123 3.92 3.440 18.90 1  0  4    4   \nFerrari Dino   19.7 6   145.0 175 3.62 2.770 15.50 0  1  5    6   ",
            "text/latex": "A data.frame: 7 x 11\n\\begin{tabular}{r|lllllllllll}\n  & mpg & cyl & disp & hp & drat & wt & qsec & vs & am & gear & carb\\\\\n  & <dbl> & <dbl> & <dbl> & <dbl> & <dbl> & <dbl> & <dbl> & <dbl> & <dbl> & <dbl> & <dbl>\\\\\n\\hline\n\tMazda RX4 & 21.0 & 6 & 160.0 & 110 & 3.90 & 2.620 & 16.46 & 0 & 1 & 4 & 4\\\\\n\tMazda RX4 Wag & 21.0 & 6 & 160.0 & 110 & 3.90 & 2.875 & 17.02 & 0 & 1 & 4 & 4\\\\\n\tHornet 4 Drive & 21.4 & 6 & 258.0 & 110 & 3.08 & 3.215 & 19.44 & 1 & 0 & 3 & 1\\\\\n\tValiant & 18.1 & 6 & 225.0 & 105 & 2.76 & 3.460 & 20.22 & 1 & 0 & 3 & 1\\\\\n\tMerc 280 & 19.2 & 6 & 167.6 & 123 & 3.92 & 3.440 & 18.30 & 1 & 0 & 4 & 4\\\\\n\tMerc 280C & 17.8 & 6 & 167.6 & 123 & 3.92 & 3.440 & 18.90 & 1 & 0 & 4 & 4\\\\\n\tFerrari Dino & 19.7 & 6 & 145.0 & 175 & 3.62 & 2.770 & 15.50 & 0 & 1 & 5 & 6\\\\\n\\end{tabular}\n",
            "text/markdown": "\nA data.frame: 7 x 11\n\n| <!--/--> | mpg &lt;dbl&gt; | cyl &lt;dbl&gt; | disp &lt;dbl&gt; | hp &lt;dbl&gt; | drat &lt;dbl&gt; | wt &lt;dbl&gt; | qsec &lt;dbl&gt; | vs &lt;dbl&gt; | am &lt;dbl&gt; | gear &lt;dbl&gt; | carb &lt;dbl&gt; |\n|---|---|---|---|---|---|---|---|---|---|---|---|\n| Mazda RX4 | 21.0 | 6 | 160.0 | 110 | 3.90 | 2.620 | 16.46 | 0 | 1 | 4 | 4 |\n| Mazda RX4 Wag | 21.0 | 6 | 160.0 | 110 | 3.90 | 2.875 | 17.02 | 0 | 1 | 4 | 4 |\n| Hornet 4 Drive | 21.4 | 6 | 258.0 | 110 | 3.08 | 3.215 | 19.44 | 1 | 0 | 3 | 1 |\n| Valiant | 18.1 | 6 | 225.0 | 105 | 2.76 | 3.460 | 20.22 | 1 | 0 | 3 | 1 |\n| Merc 280 | 19.2 | 6 | 167.6 | 123 | 3.92 | 3.440 | 18.30 | 1 | 0 | 4 | 4 |\n| Merc 280C | 17.8 | 6 | 167.6 | 123 | 3.92 | 3.440 | 18.90 | 1 | 0 | 4 | 4 |\n| Ferrari Dino | 19.7 | 6 | 145.0 | 175 | 3.62 | 2.770 | 15.50 | 0 | 1 | 5 | 6 |\n\n",
            "text/html": "<table>\n<caption>A data.frame: 7 x 11</caption>\n<thead>\n\t<tr><th></th><th scope=col>mpg</th><th scope=col>cyl</th><th scope=col>disp</th><th scope=col>hp</th><th scope=col>drat</th><th scope=col>wt</th><th scope=col>qsec</th><th scope=col>vs</th><th scope=col>am</th><th scope=col>gear</th><th scope=col>carb</th></tr>\n\t<tr><th></th><th scope=col>&lt;dbl&gt;</th><th scope=col>&lt;dbl&gt;</th><th scope=col>&lt;dbl&gt;</th><th scope=col>&lt;dbl&gt;</th><th scope=col>&lt;dbl&gt;</th><th scope=col>&lt;dbl&gt;</th><th scope=col>&lt;dbl&gt;</th><th scope=col>&lt;dbl&gt;</th><th scope=col>&lt;dbl&gt;</th><th scope=col>&lt;dbl&gt;</th><th scope=col>&lt;dbl&gt;</th></tr>\n</thead>\n<tbody>\n\t<tr><th scope=row>Mazda RX4</th><td>21.0</td><td>6</td><td>160.0</td><td>110</td><td>3.90</td><td>2.620</td><td>16.46</td><td>0</td><td>1</td><td>4</td><td>4</td></tr>\n\t<tr><th scope=row>Mazda RX4 Wag</th><td>21.0</td><td>6</td><td>160.0</td><td>110</td><td>3.90</td><td>2.875</td><td>17.02</td><td>0</td><td>1</td><td>4</td><td>4</td></tr>\n\t<tr><th scope=row>Hornet 4 Drive</th><td>21.4</td><td>6</td><td>258.0</td><td>110</td><td>3.08</td><td>3.215</td><td>19.44</td><td>1</td><td>0</td><td>3</td><td>1</td></tr>\n\t<tr><th scope=row>Valiant</th><td>18.1</td><td>6</td><td>225.0</td><td>105</td><td>2.76</td><td>3.460</td><td>20.22</td><td>1</td><td>0</td><td>3</td><td>1</td></tr>\n\t<tr><th scope=row>Merc 280</th><td>19.2</td><td>6</td><td>167.6</td><td>123</td><td>3.92</td><td>3.440</td><td>18.30</td><td>1</td><td>0</td><td>4</td><td>4</td></tr>\n\t<tr><th scope=row>Merc 280C</th><td>17.8</td><td>6</td><td>167.6</td><td>123</td><td>3.92</td><td>3.440</td><td>18.90</td><td>1</td><td>0</td><td>4</td><td>4</td></tr>\n\t<tr><th scope=row>Ferrari Dino</th><td>19.7</td><td>6</td><td>145.0</td><td>175</td><td>3.62</td><td>2.770</td><td>15.50</td><td>0</td><td>1</td><td>5</td><td>6</td></tr>\n</tbody>\n</table>\n"
          },
          "metadata": {}
        }
      ]
    },
    {
      "metadata": {},
      "cell_type": "markdown",
      "source": "#### Ex 8: Select the columns am,gear, and carb."
    },
    {
      "metadata": {
        "trusted": true
      },
      "cell_type": "code",
      "source": "required.columns <- c('am','gear','carb')\nmtcars[required.columns]",
      "execution_count": 42,
      "outputs": [
        {
          "output_type": "display_data",
          "data": {
            "text/plain": "                    am gear carb\nMazda RX4           1  4    4   \nMazda RX4 Wag       1  4    4   \nDatsun 710          1  4    1   \nHornet 4 Drive      0  3    1   \nHornet Sportabout   0  3    2   \nValiant             0  3    1   \nDuster 360          0  3    4   \nMerc 240D           0  4    2   \nMerc 230            0  4    2   \nMerc 280            0  4    4   \nMerc 280C           0  4    4   \nMerc 450SE          0  3    3   \nMerc 450SL          0  3    3   \nMerc 450SLC         0  3    3   \nCadillac Fleetwood  0  3    4   \nLincoln Continental 0  3    4   \nChrysler Imperial   0  3    4   \nFiat 128            1  4    1   \nHonda Civic         1  4    2   \nToyota Corolla      1  4    1   \nToyota Corona       0  3    1   \nDodge Challenger    0  3    2   \nAMC Javelin         0  3    2   \nCamaro Z28          0  3    4   \nPontiac Firebird    0  3    2   \nFiat X1-9           1  4    1   \nPorsche 914-2       1  5    2   \nLotus Europa        1  5    2   \nFord Pantera L      1  5    4   \nFerrari Dino        1  5    6   \nMaserati Bora       1  5    8   \nVolvo 142E          1  4    2   ",
            "text/latex": "A data.frame: 32 x 3\n\\begin{tabular}{r|lll}\n  & am & gear & carb\\\\\n  & <dbl> & <dbl> & <dbl>\\\\\n\\hline\n\tMazda RX4 & 1 & 4 & 4\\\\\n\tMazda RX4 Wag & 1 & 4 & 4\\\\\n\tDatsun 710 & 1 & 4 & 1\\\\\n\tHornet 4 Drive & 0 & 3 & 1\\\\\n\tHornet Sportabout & 0 & 3 & 2\\\\\n\tValiant & 0 & 3 & 1\\\\\n\tDuster 360 & 0 & 3 & 4\\\\\n\tMerc 240D & 0 & 4 & 2\\\\\n\tMerc 230 & 0 & 4 & 2\\\\\n\tMerc 280 & 0 & 4 & 4\\\\\n\tMerc 280C & 0 & 4 & 4\\\\\n\tMerc 450SE & 0 & 3 & 3\\\\\n\tMerc 450SL & 0 & 3 & 3\\\\\n\tMerc 450SLC & 0 & 3 & 3\\\\\n\tCadillac Fleetwood & 0 & 3 & 4\\\\\n\tLincoln Continental & 0 & 3 & 4\\\\\n\tChrysler Imperial & 0 & 3 & 4\\\\\n\tFiat 128 & 1 & 4 & 1\\\\\n\tHonda Civic & 1 & 4 & 2\\\\\n\tToyota Corolla & 1 & 4 & 1\\\\\n\tToyota Corona & 0 & 3 & 1\\\\\n\tDodge Challenger & 0 & 3 & 2\\\\\n\tAMC Javelin & 0 & 3 & 2\\\\\n\tCamaro Z28 & 0 & 3 & 4\\\\\n\tPontiac Firebird & 0 & 3 & 2\\\\\n\tFiat X1-9 & 1 & 4 & 1\\\\\n\tPorsche 914-2 & 1 & 5 & 2\\\\\n\tLotus Europa & 1 & 5 & 2\\\\\n\tFord Pantera L & 1 & 5 & 4\\\\\n\tFerrari Dino & 1 & 5 & 6\\\\\n\tMaserati Bora & 1 & 5 & 8\\\\\n\tVolvo 142E & 1 & 4 & 2\\\\\n\\end{tabular}\n",
            "text/markdown": "\nA data.frame: 32 x 3\n\n| <!--/--> | am &lt;dbl&gt; | gear &lt;dbl&gt; | carb &lt;dbl&gt; |\n|---|---|---|---|\n| Mazda RX4 | 1 | 4 | 4 |\n| Mazda RX4 Wag | 1 | 4 | 4 |\n| Datsun 710 | 1 | 4 | 1 |\n| Hornet 4 Drive | 0 | 3 | 1 |\n| Hornet Sportabout | 0 | 3 | 2 |\n| Valiant | 0 | 3 | 1 |\n| Duster 360 | 0 | 3 | 4 |\n| Merc 240D | 0 | 4 | 2 |\n| Merc 230 | 0 | 4 | 2 |\n| Merc 280 | 0 | 4 | 4 |\n| Merc 280C | 0 | 4 | 4 |\n| Merc 450SE | 0 | 3 | 3 |\n| Merc 450SL | 0 | 3 | 3 |\n| Merc 450SLC | 0 | 3 | 3 |\n| Cadillac Fleetwood | 0 | 3 | 4 |\n| Lincoln Continental | 0 | 3 | 4 |\n| Chrysler Imperial | 0 | 3 | 4 |\n| Fiat 128 | 1 | 4 | 1 |\n| Honda Civic | 1 | 4 | 2 |\n| Toyota Corolla | 1 | 4 | 1 |\n| Toyota Corona | 0 | 3 | 1 |\n| Dodge Challenger | 0 | 3 | 2 |\n| AMC Javelin | 0 | 3 | 2 |\n| Camaro Z28 | 0 | 3 | 4 |\n| Pontiac Firebird | 0 | 3 | 2 |\n| Fiat X1-9 | 1 | 4 | 1 |\n| Porsche 914-2 | 1 | 5 | 2 |\n| Lotus Europa | 1 | 5 | 2 |\n| Ford Pantera L | 1 | 5 | 4 |\n| Ferrari Dino | 1 | 5 | 6 |\n| Maserati Bora | 1 | 5 | 8 |\n| Volvo 142E | 1 | 4 | 2 |\n\n",
            "text/html": "<table>\n<caption>A data.frame: 32 x 3</caption>\n<thead>\n\t<tr><th></th><th scope=col>am</th><th scope=col>gear</th><th scope=col>carb</th></tr>\n\t<tr><th></th><th scope=col>&lt;dbl&gt;</th><th scope=col>&lt;dbl&gt;</th><th scope=col>&lt;dbl&gt;</th></tr>\n</thead>\n<tbody>\n\t<tr><th scope=row>Mazda RX4</th><td>1</td><td>4</td><td>4</td></tr>\n\t<tr><th scope=row>Mazda RX4 Wag</th><td>1</td><td>4</td><td>4</td></tr>\n\t<tr><th scope=row>Datsun 710</th><td>1</td><td>4</td><td>1</td></tr>\n\t<tr><th scope=row>Hornet 4 Drive</th><td>0</td><td>3</td><td>1</td></tr>\n\t<tr><th scope=row>Hornet Sportabout</th><td>0</td><td>3</td><td>2</td></tr>\n\t<tr><th scope=row>Valiant</th><td>0</td><td>3</td><td>1</td></tr>\n\t<tr><th scope=row>Duster 360</th><td>0</td><td>3</td><td>4</td></tr>\n\t<tr><th scope=row>Merc 240D</th><td>0</td><td>4</td><td>2</td></tr>\n\t<tr><th scope=row>Merc 230</th><td>0</td><td>4</td><td>2</td></tr>\n\t<tr><th scope=row>Merc 280</th><td>0</td><td>4</td><td>4</td></tr>\n\t<tr><th scope=row>Merc 280C</th><td>0</td><td>4</td><td>4</td></tr>\n\t<tr><th scope=row>Merc 450SE</th><td>0</td><td>3</td><td>3</td></tr>\n\t<tr><th scope=row>Merc 450SL</th><td>0</td><td>3</td><td>3</td></tr>\n\t<tr><th scope=row>Merc 450SLC</th><td>0</td><td>3</td><td>3</td></tr>\n\t<tr><th scope=row>Cadillac Fleetwood</th><td>0</td><td>3</td><td>4</td></tr>\n\t<tr><th scope=row>Lincoln Continental</th><td>0</td><td>3</td><td>4</td></tr>\n\t<tr><th scope=row>Chrysler Imperial</th><td>0</td><td>3</td><td>4</td></tr>\n\t<tr><th scope=row>Fiat 128</th><td>1</td><td>4</td><td>1</td></tr>\n\t<tr><th scope=row>Honda Civic</th><td>1</td><td>4</td><td>2</td></tr>\n\t<tr><th scope=row>Toyota Corolla</th><td>1</td><td>4</td><td>1</td></tr>\n\t<tr><th scope=row>Toyota Corona</th><td>0</td><td>3</td><td>1</td></tr>\n\t<tr><th scope=row>Dodge Challenger</th><td>0</td><td>3</td><td>2</td></tr>\n\t<tr><th scope=row>AMC Javelin</th><td>0</td><td>3</td><td>2</td></tr>\n\t<tr><th scope=row>Camaro Z28</th><td>0</td><td>3</td><td>4</td></tr>\n\t<tr><th scope=row>Pontiac Firebird</th><td>0</td><td>3</td><td>2</td></tr>\n\t<tr><th scope=row>Fiat X1-9</th><td>1</td><td>4</td><td>1</td></tr>\n\t<tr><th scope=row>Porsche 914-2</th><td>1</td><td>5</td><td>2</td></tr>\n\t<tr><th scope=row>Lotus Europa</th><td>1</td><td>5</td><td>2</td></tr>\n\t<tr><th scope=row>Ford Pantera L</th><td>1</td><td>5</td><td>4</td></tr>\n\t<tr><th scope=row>Ferrari Dino</th><td>1</td><td>5</td><td>6</td></tr>\n\t<tr><th scope=row>Maserati Bora</th><td>1</td><td>5</td><td>8</td></tr>\n\t<tr><th scope=row>Volvo 142E</th><td>1</td><td>4</td><td>2</td></tr>\n</tbody>\n</table>\n"
          },
          "metadata": {}
        }
      ]
    },
    {
      "metadata": {},
      "cell_type": "markdown",
      "source": "#### Ex 9: Create a new column called performance, which is calculated by hp/wt."
    },
    {
      "metadata": {
        "trusted": true
      },
      "cell_type": "code",
      "source": "mtcars['Performance'] <- mtcars$hp/mtcars$wt",
      "execution_count": 65,
      "outputs": []
    },
    {
      "metadata": {
        "trusted": true
      },
      "cell_type": "code",
      "source": "head(mtcars,3)",
      "execution_count": 66,
      "outputs": [
        {
          "output_type": "display_data",
          "data": {
            "text/plain": "              mpg  cyl disp hp  drat wt    qsec  vs am gear carb Performance\nMazda RX4     21.0 6   160  110 3.90 2.620 16.46 0  1  4    4    41.98473   \nMazda RX4 Wag 21.0 6   160  110 3.90 2.875 17.02 0  1  4    4    38.26087   \nDatsun 710    22.8 4   108   93 3.85 2.320 18.61 1  1  4    1    40.08621   ",
            "text/latex": "A data.frame: 3 x 12\n\\begin{tabular}{r|llllllllllll}\n  & mpg & cyl & disp & hp & drat & wt & qsec & vs & am & gear & carb & Performance\\\\\n  & <dbl> & <dbl> & <dbl> & <dbl> & <dbl> & <dbl> & <dbl> & <dbl> & <dbl> & <dbl> & <dbl> & <dbl>\\\\\n\\hline\n\tMazda RX4 & 21.0 & 6 & 160 & 110 & 3.90 & 2.620 & 16.46 & 0 & 1 & 4 & 4 & 41.98473\\\\\n\tMazda RX4 Wag & 21.0 & 6 & 160 & 110 & 3.90 & 2.875 & 17.02 & 0 & 1 & 4 & 4 & 38.26087\\\\\n\tDatsun 710 & 22.8 & 4 & 108 &  93 & 3.85 & 2.320 & 18.61 & 1 & 1 & 4 & 1 & 40.08621\\\\\n\\end{tabular}\n",
            "text/markdown": "\nA data.frame: 3 x 12\n\n| <!--/--> | mpg &lt;dbl&gt; | cyl &lt;dbl&gt; | disp &lt;dbl&gt; | hp &lt;dbl&gt; | drat &lt;dbl&gt; | wt &lt;dbl&gt; | qsec &lt;dbl&gt; | vs &lt;dbl&gt; | am &lt;dbl&gt; | gear &lt;dbl&gt; | carb &lt;dbl&gt; | Performance &lt;dbl&gt; |\n|---|---|---|---|---|---|---|---|---|---|---|---|---|\n| Mazda RX4 | 21.0 | 6 | 160 | 110 | 3.90 | 2.620 | 16.46 | 0 | 1 | 4 | 4 | 41.98473 |\n| Mazda RX4 Wag | 21.0 | 6 | 160 | 110 | 3.90 | 2.875 | 17.02 | 0 | 1 | 4 | 4 | 38.26087 |\n| Datsun 710 | 22.8 | 4 | 108 |  93 | 3.85 | 2.320 | 18.61 | 1 | 1 | 4 | 1 | 40.08621 |\n\n",
            "text/html": "<table>\n<caption>A data.frame: 3 x 12</caption>\n<thead>\n\t<tr><th></th><th scope=col>mpg</th><th scope=col>cyl</th><th scope=col>disp</th><th scope=col>hp</th><th scope=col>drat</th><th scope=col>wt</th><th scope=col>qsec</th><th scope=col>vs</th><th scope=col>am</th><th scope=col>gear</th><th scope=col>carb</th><th scope=col>Performance</th></tr>\n\t<tr><th></th><th scope=col>&lt;dbl&gt;</th><th scope=col>&lt;dbl&gt;</th><th scope=col>&lt;dbl&gt;</th><th scope=col>&lt;dbl&gt;</th><th scope=col>&lt;dbl&gt;</th><th scope=col>&lt;dbl&gt;</th><th scope=col>&lt;dbl&gt;</th><th scope=col>&lt;dbl&gt;</th><th scope=col>&lt;dbl&gt;</th><th scope=col>&lt;dbl&gt;</th><th scope=col>&lt;dbl&gt;</th><th scope=col>&lt;dbl&gt;</th></tr>\n</thead>\n<tbody>\n\t<tr><th scope=row>Mazda RX4</th><td>21.0</td><td>6</td><td>160</td><td>110</td><td>3.90</td><td>2.620</td><td>16.46</td><td>0</td><td>1</td><td>4</td><td>4</td><td>41.98473</td></tr>\n\t<tr><th scope=row>Mazda RX4 Wag</th><td>21.0</td><td>6</td><td>160</td><td>110</td><td>3.90</td><td>2.875</td><td>17.02</td><td>0</td><td>1</td><td>4</td><td>4</td><td>38.26087</td></tr>\n\t<tr><th scope=row>Datsun 710</th><td>22.8</td><td>4</td><td>108</td><td> 93</td><td>3.85</td><td>2.320</td><td>18.61</td><td>1</td><td>1</td><td>4</td><td>1</td><td>40.08621</td></tr>\n</tbody>\n</table>\n"
          },
          "metadata": {}
        }
      ]
    },
    {
      "metadata": {},
      "cell_type": "markdown",
      "source": "#### Ex 10: Your performance column will have several decimal place precision. Figure out how to use round() (check help(round)) to reduce this accuracy to only 2 decimal places."
    },
    {
      "metadata": {
        "trusted": true
      },
      "cell_type": "code",
      "source": "",
      "execution_count": null,
      "outputs": []
    },
    {
      "metadata": {
        "trusted": true
      },
      "cell_type": "code",
      "source": "mtcars['Performance'] <- round(mtcars$Performance, 2)",
      "execution_count": 67,
      "outputs": []
    },
    {
      "metadata": {
        "trusted": true
      },
      "cell_type": "code",
      "source": "head(mtcars, 3)",
      "execution_count": 68,
      "outputs": [
        {
          "output_type": "display_data",
          "data": {
            "text/plain": "              mpg  cyl disp hp  drat wt    qsec  vs am gear carb Performance\nMazda RX4     21.0 6   160  110 3.90 2.620 16.46 0  1  4    4    41.98      \nMazda RX4 Wag 21.0 6   160  110 3.90 2.875 17.02 0  1  4    4    38.26      \nDatsun 710    22.8 4   108   93 3.85 2.320 18.61 1  1  4    1    40.09      ",
            "text/latex": "A data.frame: 3 x 12\n\\begin{tabular}{r|llllllllllll}\n  & mpg & cyl & disp & hp & drat & wt & qsec & vs & am & gear & carb & Performance\\\\\n  & <dbl> & <dbl> & <dbl> & <dbl> & <dbl> & <dbl> & <dbl> & <dbl> & <dbl> & <dbl> & <dbl> & <dbl>\\\\\n\\hline\n\tMazda RX4 & 21.0 & 6 & 160 & 110 & 3.90 & 2.620 & 16.46 & 0 & 1 & 4 & 4 & 41.98\\\\\n\tMazda RX4 Wag & 21.0 & 6 & 160 & 110 & 3.90 & 2.875 & 17.02 & 0 & 1 & 4 & 4 & 38.26\\\\\n\tDatsun 710 & 22.8 & 4 & 108 &  93 & 3.85 & 2.320 & 18.61 & 1 & 1 & 4 & 1 & 40.09\\\\\n\\end{tabular}\n",
            "text/markdown": "\nA data.frame: 3 x 12\n\n| <!--/--> | mpg &lt;dbl&gt; | cyl &lt;dbl&gt; | disp &lt;dbl&gt; | hp &lt;dbl&gt; | drat &lt;dbl&gt; | wt &lt;dbl&gt; | qsec &lt;dbl&gt; | vs &lt;dbl&gt; | am &lt;dbl&gt; | gear &lt;dbl&gt; | carb &lt;dbl&gt; | Performance &lt;dbl&gt; |\n|---|---|---|---|---|---|---|---|---|---|---|---|---|\n| Mazda RX4 | 21.0 | 6 | 160 | 110 | 3.90 | 2.620 | 16.46 | 0 | 1 | 4 | 4 | 41.98 |\n| Mazda RX4 Wag | 21.0 | 6 | 160 | 110 | 3.90 | 2.875 | 17.02 | 0 | 1 | 4 | 4 | 38.26 |\n| Datsun 710 | 22.8 | 4 | 108 |  93 | 3.85 | 2.320 | 18.61 | 1 | 1 | 4 | 1 | 40.09 |\n\n",
            "text/html": "<table>\n<caption>A data.frame: 3 x 12</caption>\n<thead>\n\t<tr><th></th><th scope=col>mpg</th><th scope=col>cyl</th><th scope=col>disp</th><th scope=col>hp</th><th scope=col>drat</th><th scope=col>wt</th><th scope=col>qsec</th><th scope=col>vs</th><th scope=col>am</th><th scope=col>gear</th><th scope=col>carb</th><th scope=col>Performance</th></tr>\n\t<tr><th></th><th scope=col>&lt;dbl&gt;</th><th scope=col>&lt;dbl&gt;</th><th scope=col>&lt;dbl&gt;</th><th scope=col>&lt;dbl&gt;</th><th scope=col>&lt;dbl&gt;</th><th scope=col>&lt;dbl&gt;</th><th scope=col>&lt;dbl&gt;</th><th scope=col>&lt;dbl&gt;</th><th scope=col>&lt;dbl&gt;</th><th scope=col>&lt;dbl&gt;</th><th scope=col>&lt;dbl&gt;</th><th scope=col>&lt;dbl&gt;</th></tr>\n</thead>\n<tbody>\n\t<tr><th scope=row>Mazda RX4</th><td>21.0</td><td>6</td><td>160</td><td>110</td><td>3.90</td><td>2.620</td><td>16.46</td><td>0</td><td>1</td><td>4</td><td>4</td><td>41.98</td></tr>\n\t<tr><th scope=row>Mazda RX4 Wag</th><td>21.0</td><td>6</td><td>160</td><td>110</td><td>3.90</td><td>2.875</td><td>17.02</td><td>0</td><td>1</td><td>4</td><td>4</td><td>38.26</td></tr>\n\t<tr><th scope=row>Datsun 710</th><td>22.8</td><td>4</td><td>108</td><td> 93</td><td>3.85</td><td>2.320</td><td>18.61</td><td>1</td><td>1</td><td>4</td><td>1</td><td>40.09</td></tr>\n</tbody>\n</table>\n"
          },
          "metadata": {}
        }
      ]
    },
    {
      "metadata": {},
      "cell_type": "markdown",
      "source": "#### Ex 10: What is the average mpg for cars that have more than 100 hp AND a wt value of more than 2.5"
    },
    {
      "metadata": {
        "trusted": true
      },
      "cell_type": "code",
      "source": "mean(mtcars[(mtcars$hp>100)&(mtcars$wt >2.5),]$mpg)",
      "execution_count": 74,
      "outputs": [
        {
          "output_type": "display_data",
          "data": {
            "text/plain": "[1] 16.86364",
            "text/latex": "16.8636363636364",
            "text/markdown": "16.8636363636364",
            "text/html": "16.8636363636364"
          },
          "metadata": {}
        }
      ]
    },
    {
      "metadata": {},
      "cell_type": "markdown",
      "source": "#### Ex 11: What is the mpg of the Hornet Sportabout?"
    },
    {
      "metadata": {
        "trusted": true
      },
      "cell_type": "code",
      "source": "mtcars['Hornet Sportabout',]$mpg",
      "execution_count": 77,
      "outputs": [
        {
          "output_type": "display_data",
          "data": {
            "text/plain": "[1] 18.7",
            "text/latex": "18.7",
            "text/markdown": "18.7",
            "text/html": "18.7"
          },
          "metadata": {}
        }
      ]
    },
    {
      "metadata": {
        "trusted": true
      },
      "cell_type": "code",
      "source": "",
      "execution_count": null,
      "outputs": []
    }
  ],
  "metadata": {
    "kernelspec": {
      "name": "r",
      "display_name": "R",
      "language": "R"
    },
    "language_info": {
      "mimetype": "text/x-r-source",
      "name": "R",
      "pygments_lexer": "r",
      "version": "3.4.1",
      "file_extension": ".r",
      "codemirror_mode": "r"
    }
  },
  "nbformat": 4,
  "nbformat_minor": 2
}