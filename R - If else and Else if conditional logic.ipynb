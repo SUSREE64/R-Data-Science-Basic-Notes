{
  "cells": [
    {
      "metadata": {
        "collapsed": true
      },
      "cell_type": "markdown",
      "source": "### Simple If statement"
    },
    {
      "metadata": {
        "trusted": true
      },
      "cell_type": "code",
      "source": "# Syntax\n# if (condition){\n\n#  code blocl\n\n#}",
      "execution_count": 1,
      "outputs": []
    },
    {
      "metadata": {
        "trusted": true
      },
      "cell_type": "code",
      "source": "x <- 10\nif (x == 10){\n    \n    print ( \"Yes x is equal to 10 \")\n}",
      "execution_count": 2,
      "outputs": [
        {
          "output_type": "stream",
          "text": "[1] \"Yes x is equal to 10 \"\n",
          "name": "stdout"
        }
      ]
    },
    {
      "metadata": {},
      "cell_type": "markdown",
      "source": "### If  else if  else"
    },
    {
      "metadata": {
        "trusted": true
      },
      "cell_type": "code",
      "source": "x <- 1\n# we can have multiple else if conditions between one if and final eslse.\nif(x >10 ){\n   \n    print(\" x is more than 10\")\n    \n    \n} else if(x == 10){\n    \n    print(\" x is just equal to 10\")\n    \n}else{\n    \n    print( \"x is neither equal to 10 nor more than 10\")\n    \n}\n    ",
      "execution_count": 8,
      "outputs": [
        {
          "output_type": "stream",
          "text": "[1] \"x is neither equal to 10 nor more than 10\"\n",
          "name": "stdout"
        }
      ]
    },
    {
      "metadata": {
        "trusted": true
      },
      "cell_type": "code",
      "source": "",
      "execution_count": null,
      "outputs": []
    }
  ],
  "metadata": {
    "kernelspec": {
      "name": "r",
      "display_name": "R",
      "language": "R"
    },
    "language_info": {
      "mimetype": "text/x-r-source",
      "name": "R",
      "pygments_lexer": "r",
      "version": "3.4.1",
      "file_extension": ".r",
      "codemirror_mode": "r"
    }
  },
  "nbformat": 4,
  "nbformat_minor": 2
}