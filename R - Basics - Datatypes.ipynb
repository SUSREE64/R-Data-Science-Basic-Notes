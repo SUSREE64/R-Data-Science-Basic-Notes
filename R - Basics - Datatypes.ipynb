{
  "cells": [
    {
      "metadata": {
        "collapsed": true
      },
      "cell_type": "markdown",
      "source": "## R - Basics Data Types"
    },
    {
      "metadata": {
        "trusted": true
      },
      "cell_type": "code",
      "source": "# Printing some thing\nprint(\"Hey How do you do?\")",
      "execution_count": 1,
      "outputs": [
        {
          "output_type": "stream",
          "text": "[1] \"Hey How do you do?\"\n",
          "name": "stdout"
        }
      ]
    },
    {
      "metadata": {},
      "cell_type": "markdown",
      "source": "\n<p>**The variables are assigned with R-Objects and the data type of the R-object becomes the data type of the variable. There are many types of R-objects. The frequently used ones are --** <p>\n\n\n* Vectors\n* Lists\n* Matrices\n* Arrays\n* Factors\n* Data Frames"
    },
    {
      "metadata": {},
      "cell_type": "markdown",
      "source": "The basic data structure in R is the **vector.**<br>\n**Vectors** come in two flavours: _**atomic vectors**_ and _**lists.**_ They have three common properties:\n\nType, typeof(), what it is.<br>\nLength, length(), how many elements it contains.<br>\nAttributes, attributes(), additional arbitrary metadata.<br>\nThey differ in the types of their elements: <br>\n**all elements of an atomic vector must be the same type,**<br> \n**whereas the elements of a list can have different types.**"
    },
    {
      "metadata": {},
      "cell_type": "markdown",
      "source": "### Atomic vectors"
    },
    {
      "metadata": {},
      "cell_type": "markdown",
      "source": "There are four common types of atomic vectors that I’ll discuss in detail: logical, integer, double (often called numeric), and character. There are two rare types that I will not discuss further: complex and raw.\n\nAtomic vectors are usually created with c(), short for combine:"
    },
    {
      "metadata": {
        "trusted": true
      },
      "cell_type": "code",
      "source": "dbl_var <- c(1, 2.5, 4.5)\n# With the L suffix, you get an integer rather than a double\nint_var <- c(1L, 6L, 10L)\n# Use TRUE and FALSE (or T and F) to create logical vectors\nlog_var <- c(TRUE, FALSE, T, F)\nchr_var <- c(\"these are\", \"some strings\")",
      "execution_count": 32,
      "outputs": []
    },
    {
      "metadata": {
        "trusted": true
      },
      "cell_type": "code",
      "source": "print(typeof(dbl_var))\nprint(typeof(int_var))\nprint(typeof(log_var))\nprint(typeof(chr_var))",
      "execution_count": 36,
      "outputs": [
        {
          "output_type": "stream",
          "text": "[1] \"double\"\n[1] \"integer\"\n[1] \"logical\"\n[1] \"character\"\n",
          "name": "stdout"
        }
      ]
    },
    {
      "metadata": {
        "trusted": true
      },
      "cell_type": "code",
      "source": "print(str(dbl_var))\nprint(str(int_var))\nprint(str(log_var))\nprint(str(chr_var))",
      "execution_count": 40,
      "outputs": [
        {
          "output_type": "stream",
          "text": " num [1:3] 1 2.5 4.5\nNULL\n int [1:3] 1 6 10\nNULL\n logi [1:4] TRUE FALSE TRUE FALSE\nNULL\n chr [1:2] \"these are\" \"some strings\"\nNULL\n",
          "name": "stdout"
        }
      ]
    },
    {
      "metadata": {
        "trusted": true
      },
      "cell_type": "code",
      "source": "print(class(dbl_var))\nprint(class(int_var))\nprint(class(log_var))\nprint(class(chr_var))",
      "execution_count": 44,
      "outputs": [
        {
          "output_type": "stream",
          "text": "[1] \"numeric\"\n[1] \"integer\"\n[1] \"logical\"\n[1] \"character\"\n",
          "name": "stdout"
        }
      ]
    },
    {
      "metadata": {
        "trusted": true
      },
      "cell_type": "code",
      "source": "# 3 Features of Vectors 1. typeof 2. length 3. attributes",
      "execution_count": null,
      "outputs": []
    },
    {
      "metadata": {
        "trusted": true
      },
      "cell_type": "code",
      "source": "print(typeof(dbl_var))\nprint(length(dbl_var))\nprint(attributes(dbl_var))",
      "execution_count": 46,
      "outputs": [
        {
          "output_type": "stream",
          "text": "[1] \"double\"\n[1] 3\nNULL\n",
          "name": "stdout"
        }
      ]
    },
    {
      "metadata": {
        "trusted": true
      },
      "cell_type": "code",
      "source": "# Numeric\na<-10\nclass(a)",
      "execution_count": 28,
      "outputs": [
        {
          "output_type": "display_data",
          "data": {
            "text/plain": "[1] \"numeric\"",
            "text/latex": "'numeric'",
            "text/markdown": "'numeric'",
            "text/html": "'numeric'"
          },
          "metadata": {}
        }
      ]
    },
    {
      "metadata": {
        "trusted": true
      },
      "cell_type": "code",
      "source": "length(a)",
      "execution_count": 30,
      "outputs": [
        {
          "output_type": "display_data",
          "data": {
            "text/plain": "[1] 1",
            "text/latex": "1",
            "text/markdown": "1",
            "text/html": "1"
          },
          "metadata": {}
        }
      ]
    },
    {
      "metadata": {
        "trusted": true
      },
      "cell_type": "code",
      "source": "attributes(a)",
      "execution_count": 31,
      "outputs": [
        {
          "output_type": "display_data",
          "data": {
            "text/plain": "NULL"
          },
          "metadata": {}
        }
      ]
    },
    {
      "metadata": {
        "trusted": true
      },
      "cell_type": "code",
      "source": "b <- 2.3\nclass(b)",
      "execution_count": 19,
      "outputs": [
        {
          "output_type": "display_data",
          "data": {
            "text/plain": "[1] \"numeric\"",
            "text/latex": "'numeric'",
            "text/markdown": "'numeric'",
            "text/html": "'numeric'"
          },
          "metadata": {}
        }
      ]
    },
    {
      "metadata": {
        "trusted": true
      },
      "cell_type": "code",
      "source": "# integer type\nc <- 1L\nclass(c)",
      "execution_count": 18,
      "outputs": [
        {
          "output_type": "display_data",
          "data": {
            "text/plain": "[1] \"integer\"",
            "text/latex": "'integer'",
            "text/markdown": "'integer'",
            "text/html": "'integer'"
          },
          "metadata": {}
        }
      ]
    },
    {
      "metadata": {
        "trusted": true
      },
      "cell_type": "code",
      "source": "# Character and strings etc\nstr <- \"a\"\nclass(str)",
      "execution_count": 17,
      "outputs": [
        {
          "output_type": "display_data",
          "data": {
            "text/plain": "[1] \"character\"",
            "text/latex": "'character'",
            "text/markdown": "'character'",
            "text/html": "'character'"
          },
          "metadata": {}
        }
      ]
    },
    {
      "metadata": {
        "trusted": true
      },
      "cell_type": "code",
      "source": "str1 <- \"sree\"\nclass(str1)",
      "execution_count": 16,
      "outputs": [
        {
          "output_type": "display_data",
          "data": {
            "text/plain": "[1] \"character\"",
            "text/latex": "'character'",
            "text/markdown": "'character'",
            "text/html": "'character'"
          },
          "metadata": {}
        }
      ]
    },
    {
      "metadata": {
        "trusted": true
      },
      "cell_type": "code",
      "source": "#complex\ncomp <- 3 + 2i\nclass(comp)",
      "execution_count": 23,
      "outputs": [
        {
          "output_type": "display_data",
          "data": {
            "text/plain": "[1] \"complex\"",
            "text/latex": "'complex'",
            "text/markdown": "'complex'",
            "text/html": "'complex'"
          },
          "metadata": {}
        }
      ]
    },
    {
      "metadata": {
        "trusted": true
      },
      "cell_type": "code",
      "source": "str(comp)",
      "execution_count": 24,
      "outputs": [
        {
          "output_type": "stream",
          "text": " cplx 3+2i\n",
          "name": "stdout"
        }
      ]
    },
    {
      "metadata": {
        "trusted": true
      },
      "cell_type": "code",
      "source": "str(str1)",
      "execution_count": 25,
      "outputs": [
        {
          "output_type": "stream",
          "text": " chr \"sree\"\n",
          "name": "stdout"
        }
      ]
    },
    {
      "metadata": {
        "trusted": true
      },
      "cell_type": "code",
      "source": "typeof(str1)",
      "execution_count": 26,
      "outputs": [
        {
          "output_type": "display_data",
          "data": {
            "text/plain": "[1] \"character\"",
            "text/latex": "'character'",
            "text/markdown": "'character'",
            "text/html": "'character'"
          },
          "metadata": {}
        }
      ]
    },
    {
      "metadata": {},
      "cell_type": "markdown",
      "source": "### Coercion\nAll elements of an atomic vector must be the same type, so when you attempt to combine different types they will be coerced to the most flexible type. Types from least to most flexible are: logical, integer, double, and character.\n\nFor example, combining a character and an integer yields a character:"
    },
    {
      "metadata": {
        "trusted": true
      },
      "cell_type": "code",
      "source": "c(1,2,3,'8') # All elements coereced to char type\n",
      "execution_count": 4,
      "outputs": [
        {
          "output_type": "display_data",
          "data": {
            "text/plain": "[1] \"1\" \"2\" \"3\" \"8\"",
            "text/latex": "\\begin{enumerate*}\n\\item '1'\n\\item '2'\n\\item '3'\n\\item '8'\n\\end{enumerate*}\n",
            "text/markdown": "1. '1'\n2. '2'\n3. '3'\n4. '8'\n\n\n",
            "text/html": "<ol class=list-inline>\n\t<li>'1'</li>\n\t<li>'2'</li>\n\t<li>'3'</li>\n\t<li>'8'</li>\n</ol>\n"
          },
          "metadata": {}
        }
      ]
    },
    {
      "metadata": {
        "trusted": true
      },
      "cell_type": "code",
      "source": "# another example of coercion\nc(F,1,2,3,4) # F or FALSE, T OR TRUE are taken as logical elements and  0 or 1 considered",
      "execution_count": 2,
      "outputs": [
        {
          "output_type": "display_data",
          "data": {
            "text/plain": "[1] 0 1 2 3 4",
            "text/latex": "\\begin{enumerate*}\n\\item 0\n\\item 1\n\\item 2\n\\item 3\n\\item 4\n\\end{enumerate*}\n",
            "text/markdown": "1. 0\n2. 1\n3. 2\n4. 3\n5. 4\n\n\n",
            "text/html": "<ol class=list-inline>\n\t<li>0</li>\n\t<li>1</li>\n\t<li>2</li>\n\t<li>3</li>\n\t<li>4</li>\n</ol>\n"
          },
          "metadata": {}
        }
      ]
    },
    {
      "metadata": {
        "trusted": true
      },
      "cell_type": "code",
      "source": "print(c(FALSE, 1,2,3,4))\nprint(c(T, 2,3,3))\nprint(c(TRUE,0,1,2))",
      "execution_count": 3,
      "outputs": [
        {
          "output_type": "stream",
          "text": "[1] 0 1 2 3 4\n[1] 1 2 3 3\n[1] 1 0 1 2\n",
          "name": "stdout"
        }
      ]
    },
    {
      "metadata": {},
      "cell_type": "markdown",
      "source": "### Vectors and names"
    },
    {
      "metadata": {
        "trusted": true
      },
      "cell_type": "code",
      "source": "# we can add names to vector elements\nweek.temps <- c(42, 39,38,36.5,35,38.9,36) # Notice here, in a variable name . is allowed.\ndays<-c(\"SUN\",\"MON\",\"TUE\",\"WED\",\"THU\",\"FRI\",\"SAT\")\nnames(week.temps)<- days # Here names of week.temps assigned with days vector\nweek.temps",
      "execution_count": 11,
      "outputs": [
        {
          "output_type": "display_data",
          "data": {
            "text/plain": " SUN  MON  TUE  WED  THU  FRI  SAT \n42.0 39.0 38.0 36.5 35.0 38.9 36.0 ",
            "text/latex": "\\begin{description*}\n\\item[SUN] 42\n\\item[MON] 39\n\\item[TUE] 38\n\\item[WED] 36.5\n\\item[THU] 35\n\\item[FRI] 38.9\n\\item[SAT] 36\n\\end{description*}\n",
            "text/markdown": "SUN\n:   42MON\n:   39TUE\n:   38WED\n:   36.5THU\n:   35FRI\n:   38.9SAT\n:   36\n\n",
            "text/html": "<dl class=dl-horizontal>\n\t<dt>SUN</dt>\n\t\t<dd>42</dd>\n\t<dt>MON</dt>\n\t\t<dd>39</dd>\n\t<dt>TUE</dt>\n\t\t<dd>38</dd>\n\t<dt>WED</dt>\n\t\t<dd>36.5</dd>\n\t<dt>THU</dt>\n\t\t<dd>35</dd>\n\t<dt>FRI</dt>\n\t\t<dd>38.9</dd>\n\t<dt>SAT</dt>\n\t\t<dd>36</dd>\n</dl>\n"
          },
          "metadata": {}
        }
      ]
    },
    {
      "metadata": {
        "trusted": true
      },
      "cell_type": "code",
      "source": "# with names to a vector it appears a tabular data and easy to index\nprint(week.temps[\"SUN\"])# indexing with the name\nprint(week.temps[1]) # indexsing with index number\n",
      "execution_count": 17,
      "outputs": [
        {
          "output_type": "stream",
          "text": "SUN \n 42 \nSUN \n 42 \n",
          "name": "stdout"
        }
      ]
    },
    {
      "metadata": {},
      "cell_type": "markdown",
      "source": "### Lists\nLists are different from atomic vectors because their elements can be of any type, including lists. <br>\nYou construct lists by using **list()** instead of **c()**:"
    },
    {
      "metadata": {
        "trusted": true
      },
      "cell_type": "code",
      "source": "x <- list(c(1,2,3), c(4,5,'a'))\ntypeof(x)",
      "execution_count": 55,
      "outputs": [
        {
          "output_type": "display_data",
          "data": {
            "text/plain": "[1] \"list\"",
            "text/latex": "'list'",
            "text/markdown": "'list'",
            "text/html": "'list'"
          },
          "metadata": {}
        }
      ]
    },
    {
      "metadata": {
        "trusted": true
      },
      "cell_type": "code",
      "source": "length(x)",
      "execution_count": 56,
      "outputs": [
        {
          "output_type": "display_data",
          "data": {
            "text/plain": "[1] 2",
            "text/latex": "2",
            "text/markdown": "2",
            "text/html": "2"
          },
          "metadata": {}
        }
      ]
    },
    {
      "metadata": {
        "trusted": true
      },
      "cell_type": "code",
      "source": "attributes(x)",
      "execution_count": 57,
      "outputs": [
        {
          "output_type": "display_data",
          "data": {
            "text/plain": "NULL"
          },
          "metadata": {}
        }
      ]
    },
    {
      "metadata": {
        "trusted": true
      },
      "cell_type": "code",
      "source": "x[1] # Indexing the 1st element",
      "execution_count": 59,
      "outputs": [
        {
          "output_type": "display_data",
          "data": {
            "text/plain": "[[1]]\n[1] 1 2 3\n",
            "text/latex": "\\begin{enumerate}\n\\item \\begin{enumerate*}\n\\item 1\n\\item 2\n\\item 3\n\\end{enumerate*}\n\n\\end{enumerate}\n",
            "text/markdown": "1. 1. 1\n2. 2\n3. 3\n\n\n\n\n\n",
            "text/html": "<ol>\n\t<li><ol class=list-inline>\n\t<li>1</li>\n\t<li>2</li>\n\t<li>3</li>\n</ol>\n</li>\n</ol>\n"
          },
          "metadata": {}
        }
      ]
    },
    {
      "metadata": {
        "trusted": true
      },
      "cell_type": "code",
      "source": "mixed_list = list(1,2,'a','sree', 2.3)\nmixed_list",
      "execution_count": 68,
      "outputs": [
        {
          "output_type": "display_data",
          "data": {
            "text/plain": "[[1]]\n[1] 1\n\n[[2]]\n[1] 2\n\n[[3]]\n[1] \"a\"\n\n[[4]]\n[1] \"sree\"\n\n[[5]]\n[1] 2.3\n",
            "text/latex": "\\begin{enumerate}\n\\item 1\n\\item 2\n\\item 'a'\n\\item 'sree'\n\\item 2.3\n\\end{enumerate}\n",
            "text/markdown": "1. 1\n2. 2\n3. 'a'\n4. 'sree'\n5. 2.3\n\n\n",
            "text/html": "<ol>\n\t<li>1</li>\n\t<li>2</li>\n\t<li>'a'</li>\n\t<li>'sree'</li>\n\t<li>2.3</li>\n</ol>\n"
          },
          "metadata": {}
        }
      ]
    },
    {
      "metadata": {
        "trusted": true
      },
      "cell_type": "code",
      "source": "# Unlike c() list does not apply coercion elements remain as they are",
      "execution_count": 70,
      "outputs": []
    },
    {
      "metadata": {},
      "cell_type": "markdown",
      "source": "### Factors\nOne important use of attributes is to define factors. <br>\nA factor is a vector that can contain only predefined values, and is used to store categorical data.<br>\nFactors are built on top of integer vectors using two attributes: the class, “factor”, which makes them behave differently from regular integer vectors, and the levels, which defines the set of allowed values."
    },
    {
      "metadata": {
        "trusted": true
      },
      "cell_type": "code",
      "source": "x <- c('a', 'b', 'b', 'b', 'a', 'c', 'c', 'd')\nxfact <- factor(x)\nxfact",
      "execution_count": 73,
      "outputs": [
        {
          "output_type": "display_data",
          "data": {
            "text/plain": "[1] a b b b a c c d\nLevels: a b c d",
            "text/latex": "\\begin{enumerate*}\n\\item a\n\\item b\n\\item b\n\\item b\n\\item a\n\\item c\n\\item c\n\\item d\n\\end{enumerate*}\n\n\\emph{Levels}: \\begin{enumerate*}\n\\item 'a'\n\\item 'b'\n\\item 'c'\n\\item 'd'\n\\end{enumerate*}\n",
            "text/markdown": "1. a\n2. b\n3. b\n4. b\n5. a\n6. c\n7. c\n8. d\n\n\n\n**Levels**: 1. 'a'\n2. 'b'\n3. 'c'\n4. 'd'\n\n\n",
            "text/html": "<ol class=list-inline>\n\t<li>a</li>\n\t<li>b</li>\n\t<li>b</li>\n\t<li>b</li>\n\t<li>a</li>\n\t<li>c</li>\n\t<li>c</li>\n\t<li>d</li>\n</ol>\n\n<details>\n\t<summary style=display:list-item;cursor:pointer>\n\t\t<strong>Levels</strong>:\n\t</summary>\n\t<ol class=list-inline>\n\t\t<li>'a'</li>\n\t\t<li>'b'</li>\n\t\t<li>'c'</li>\n\t\t<li>'d'</li>\n\t</ol>\n</details>"
          },
          "metadata": {}
        }
      ]
    },
    {
      "metadata": {
        "trusted": true
      },
      "cell_type": "code",
      "source": "# levels are unique elements \ntypeof(xfact)",
      "execution_count": 74,
      "outputs": [
        {
          "output_type": "display_data",
          "data": {
            "text/plain": "[1] \"integer\"",
            "text/latex": "'integer'",
            "text/markdown": "'integer'",
            "text/html": "'integer'"
          },
          "metadata": {}
        }
      ]
    },
    {
      "metadata": {
        "trusted": true
      },
      "cell_type": "code",
      "source": "class(xfact)",
      "execution_count": 75,
      "outputs": [
        {
          "output_type": "display_data",
          "data": {
            "text/plain": "[1] \"factor\"",
            "text/latex": "'factor'",
            "text/markdown": "'factor'",
            "text/html": "'factor'"
          },
          "metadata": {}
        }
      ]
    },
    {
      "metadata": {
        "trusted": true
      },
      "cell_type": "code",
      "source": "f1 <- factor(letters)\nlevels(f1) <- rev(levels(f1)) # reversed the levels and re assigned, there by the f1 is reversed",
      "execution_count": 78,
      "outputs": []
    },
    {
      "metadata": {
        "trusted": true
      },
      "cell_type": "code",
      "source": "f1",
      "execution_count": 77,
      "outputs": [
        {
          "output_type": "display_data",
          "data": {
            "text/plain": " [1] z y x w v u t s r q p o n m l k j i h g f e d c b a\nLevels: z y x w v u t s r q p o n m l k j i h g f e d c b a",
            "text/latex": "\\begin{enumerate*}\n\\item z\n\\item y\n\\item x\n\\item w\n\\item v\n\\item u\n\\item t\n\\item s\n\\item r\n\\item q\n\\item p\n\\item o\n\\item n\n\\item m\n\\item l\n\\item k\n\\item j\n\\item i\n\\item h\n\\item g\n\\item f\n\\item e\n\\item d\n\\item c\n\\item b\n\\item a\n\\end{enumerate*}\n\n\\emph{Levels}: \\begin{enumerate*}\n\\item 'z'\n\\item 'y'\n\\item 'x'\n\\item 'w'\n\\item 'v'\n\\item 'u'\n\\item 't'\n\\item 's'\n\\item 'r'\n\\item 'q'\n\\item 'p'\n\\item 'o'\n\\item 'n'\n\\item 'm'\n\\item 'l'\n\\item 'k'\n\\item 'j'\n\\item 'i'\n\\item 'h'\n\\item 'g'\n\\item 'f'\n\\item 'e'\n\\item 'd'\n\\item 'c'\n\\item 'b'\n\\item 'a'\n\\end{enumerate*}\n",
            "text/markdown": "1. z\n2. y\n3. x\n4. w\n5. v\n6. u\n7. t\n8. s\n9. r\n10. q\n11. p\n12. o\n13. n\n14. m\n15. l\n16. k\n17. j\n18. i\n19. h\n20. g\n21. f\n22. e\n23. d\n24. c\n25. b\n26. a\n\n\n\n**Levels**: 1. 'z'\n2. 'y'\n3. 'x'\n4. 'w'\n5. 'v'\n6. 'u'\n7. 't'\n8. 's'\n9. 'r'\n10. 'q'\n11. 'p'\n12. 'o'\n13. 'n'\n14. 'm'\n15. 'l'\n16. 'k'\n17. 'j'\n18. 'i'\n19. 'h'\n20. 'g'\n21. 'f'\n22. 'e'\n23. 'd'\n24. 'c'\n25. 'b'\n26. 'a'\n\n\n",
            "text/html": "<ol class=list-inline>\n\t<li>z</li>\n\t<li>y</li>\n\t<li>x</li>\n\t<li>w</li>\n\t<li>v</li>\n\t<li>u</li>\n\t<li>t</li>\n\t<li>s</li>\n\t<li>r</li>\n\t<li>q</li>\n\t<li>p</li>\n\t<li>o</li>\n\t<li>n</li>\n\t<li>m</li>\n\t<li>l</li>\n\t<li>k</li>\n\t<li>j</li>\n\t<li>i</li>\n\t<li>h</li>\n\t<li>g</li>\n\t<li>f</li>\n\t<li>e</li>\n\t<li>d</li>\n\t<li>c</li>\n\t<li>b</li>\n\t<li>a</li>\n</ol>\n\n<details>\n\t<summary style=display:list-item;cursor:pointer>\n\t\t<strong>Levels</strong>:\n\t</summary>\n\t<ol class=list-inline>\n\t\t<li>'z'</li>\n\t\t<li>'y'</li>\n\t\t<li>'x'</li>\n\t\t<li>'w'</li>\n\t\t<li>'v'</li>\n\t\t<li>'u'</li>\n\t\t<li>'t'</li>\n\t\t<li>'s'</li>\n\t\t<li>'r'</li>\n\t\t<li>'q'</li>\n\t\t<li>'p'</li>\n\t\t<li>'o'</li>\n\t\t<li>'n'</li>\n\t\t<li>'m'</li>\n\t\t<li>'l'</li>\n\t\t<li>'k'</li>\n\t\t<li>'j'</li>\n\t\t<li>'i'</li>\n\t\t<li>'h'</li>\n\t\t<li>'g'</li>\n\t\t<li>'f'</li>\n\t\t<li>'e'</li>\n\t\t<li>'d'</li>\n\t\t<li>'c'</li>\n\t\t<li>'b'</li>\n\t\t<li>'a'</li>\n\t</ol>\n</details>"
          },
          "metadata": {}
        }
      ]
    },
    {
      "metadata": {},
      "cell_type": "markdown",
      "source": "### Matrices and arrays\nAdding a dim attribute to an atomic vector allows it to behave like a multi-dimensional array. <br>\nA special case of the array is the matrix, which has two dimensions.<br>\nMatrices are used commonly as part of the mathematical machinery of statistics.<br>\nArrays are much rarer, but worth being aware of.\n\nMatrices and arrays are created with matrix() and array(), or by using the assignment form of dim():"
    },
    {
      "metadata": {
        "trusted": true
      },
      "cell_type": "code",
      "source": "# Two scalar arguments to specify rows and columns\na <- matrix(1:8, ncol = 3, nrow = 2)\na",
      "execution_count": 90,
      "outputs": [
        {
          "output_type": "stream",
          "text": "Warning message in matrix(1:8, ncol = 3, nrow = 2):\n“data length [8] is not a sub-multiple or multiple of the number of columns [3]”",
          "name": "stderr"
        },
        {
          "output_type": "display_data",
          "data": {
            "text/plain": "     [,1] [,2] [,3]\n[1,] 1    3    5   \n[2,] 2    4    6   ",
            "text/latex": "A matrix: 2 x 3 of type int\n\\begin{tabular}{lll}\n\t 1 & 3 & 5\\\\\n\t 2 & 4 & 6\\\\\n\\end{tabular}\n",
            "text/markdown": "\nA matrix: 2 x 3 of type int\n\n| 1 | 3 | 5 |\n| 2 | 4 | 6 |\n\n",
            "text/html": "<table>\n<caption>A matrix: 2 x 3 of type int</caption>\n<tbody>\n\t<tr><td>1</td><td>3</td><td>5</td></tr>\n\t<tr><td>2</td><td>4</td><td>6</td></tr>\n</tbody>\n</table>\n"
          },
          "metadata": {}
        }
      ]
    },
    {
      "metadata": {
        "trusted": true
      },
      "cell_type": "code",
      "source": "print(typeof(a))\nprint(class(a))\nprint(str(a))",
      "execution_count": 89,
      "outputs": [
        {
          "output_type": "stream",
          "text": "[1] \"integer\"\n[1] \"matrix\"\n int [1:2, 1:3] 1 2 3 4 5 6\nNULL\n",
          "name": "stdout"
        }
      ]
    },
    {
      "metadata": {
        "trusted": true
      },
      "cell_type": "code",
      "source": "",
      "execution_count": null,
      "outputs": []
    },
    {
      "metadata": {
        "trusted": true
      },
      "cell_type": "code",
      "source": "# One vector argument to describe all dimensions\nb <- array(1:12, c(2, 3, 2))",
      "execution_count": null,
      "outputs": []
    },
    {
      "metadata": {},
      "cell_type": "markdown",
      "source": "### Some number work"
    },
    {
      "metadata": {
        "trusted": true
      },
      "cell_type": "code",
      "source": "# Rounding up to a nearst integer  floating number",
      "execution_count": 1,
      "outputs": []
    },
    {
      "metadata": {
        "trusted": true
      },
      "cell_type": "code",
      "source": "round(2.645)",
      "execution_count": 3,
      "outputs": [
        {
          "output_type": "display_data",
          "data": {
            "text/plain": "[1] 3",
            "text/latex": "3",
            "text/markdown": "3",
            "text/html": "3"
          },
          "metadata": {}
        }
      ]
    },
    {
      "metadata": {
        "trusted": true
      },
      "cell_type": "code",
      "source": "# Rounding down a float to a nearest number\nfloor(5.7)",
      "execution_count": 4,
      "outputs": [
        {
          "output_type": "display_data",
          "data": {
            "text/plain": "[1] 5",
            "text/latex": "5",
            "text/markdown": "5",
            "text/html": "5"
          },
          "metadata": {}
        }
      ]
    },
    {
      "metadata": {
        "trusted": true
      },
      "cell_type": "code",
      "source": "ceiling(-5.7) # Here it is rounded up ( -5 is bigger than -5.7)",
      "execution_count": 5,
      "outputs": [
        {
          "output_type": "display_data",
          "data": {
            "text/plain": "[1] -5",
            "text/latex": "-5",
            "text/markdown": "-5",
            "text/html": "-5"
          },
          "metadata": {}
        }
      ]
    },
    {
      "metadata": {
        "trusted": true
      },
      "cell_type": "code",
      "source": "ceiling(5.7) # Notice here it is rounded up",
      "execution_count": 6,
      "outputs": [
        {
          "output_type": "display_data",
          "data": {
            "text/plain": "[1] 6",
            "text/latex": "6",
            "text/markdown": "6",
            "text/html": "6"
          },
          "metadata": {}
        }
      ]
    },
    {
      "metadata": {
        "trusted": true
      },
      "cell_type": "code",
      "source": "round(-3.2) # Here also rounded up",
      "execution_count": 7,
      "outputs": [
        {
          "output_type": "display_data",
          "data": {
            "text/plain": "[1] -3",
            "text/latex": "-3",
            "text/markdown": "-3",
            "text/html": "-3"
          },
          "metadata": {}
        }
      ]
    },
    {
      "metadata": {
        "trusted": true
      },
      "cell_type": "code",
      "source": "floor(-5.7) # here it is rounded down",
      "execution_count": 8,
      "outputs": [
        {
          "output_type": "display_data",
          "data": {
            "text/plain": "[1] -6",
            "text/latex": "-6",
            "text/markdown": "-6",
            "text/html": "-6"
          },
          "metadata": {}
        }
      ]
    },
    {
      "metadata": {
        "trusted": true
      },
      "cell_type": "code",
      "source": "trunc(3.2) # gets the integer part only",
      "execution_count": 9,
      "outputs": [
        {
          "output_type": "display_data",
          "data": {
            "text/plain": "[1] 3",
            "text/latex": "3",
            "text/markdown": "3",
            "text/html": "3"
          },
          "metadata": {}
        }
      ]
    },
    {
      "metadata": {
        "trusted": true
      },
      "cell_type": "code",
      "source": "trunc(-3.2) # gets the integer part only",
      "execution_count": 12,
      "outputs": [
        {
          "output_type": "display_data",
          "data": {
            "text/plain": "[1] -3",
            "text/latex": "-3",
            "text/markdown": "-3",
            "text/html": "-3"
          },
          "metadata": {}
        }
      ]
    },
    {
      "metadata": {
        "trusted": true
      },
      "cell_type": "code",
      "source": "as.integer(-3.134) # gets teh integer part only",
      "execution_count": 14,
      "outputs": [
        {
          "output_type": "display_data",
          "data": {
            "text/plain": "[1] -3",
            "text/latex": "-3",
            "text/markdown": "-3",
            "text/html": "-3"
          },
          "metadata": {}
        }
      ]
    },
    {
      "metadata": {
        "trusted": true
      },
      "cell_type": "code",
      "source": "ceiling(9.1234) # takes next higher integer",
      "execution_count": 16,
      "outputs": [
        {
          "output_type": "display_data",
          "data": {
            "text/plain": "[1] 10",
            "text/latex": "10",
            "text/markdown": "10",
            "text/html": "10"
          },
          "metadata": {}
        }
      ]
    },
    {
      "metadata": {
        "trusted": true
      },
      "cell_type": "code",
      "source": "ceiling(0.1)",
      "execution_count": 17,
      "outputs": [
        {
          "output_type": "display_data",
          "data": {
            "text/plain": "[1] 1",
            "text/latex": "1",
            "text/markdown": "1",
            "text/html": "1"
          },
          "metadata": {}
        }
      ]
    },
    {
      "metadata": {
        "trusted": true
      },
      "cell_type": "code",
      "source": "ceiling(-9.0111) # observe the difference from above acting like trunc",
      "execution_count": 18,
      "outputs": [
        {
          "output_type": "display_data",
          "data": {
            "text/plain": "[1] -9",
            "text/latex": "-9",
            "text/markdown": "-9",
            "text/html": "-9"
          },
          "metadata": {}
        }
      ]
    },
    {
      "metadata": {
        "trusted": true
      },
      "cell_type": "code",
      "source": "# How many 5 are in 32?\n32 %/% 5 # There are 6 , 5s in 32 and that is equal to 30 and there is a reminder of 2",
      "execution_count": 1,
      "outputs": [
        {
          "output_type": "display_data",
          "data": {
            "text/plain": "[1] 6",
            "text/latex": "6",
            "text/markdown": "6",
            "text/html": "6"
          },
          "metadata": {}
        }
      ]
    },
    {
      "metadata": {
        "trusted": true
      },
      "cell_type": "code",
      "source": "# How much is the reminder after 32 gets devided by 5\n32%%5 # this is nothing but modulo",
      "execution_count": 3,
      "outputs": [
        {
          "output_type": "display_data",
          "data": {
            "text/plain": "[1] 2",
            "text/latex": "2",
            "text/markdown": "2",
            "text/html": "2"
          },
          "metadata": {}
        }
      ]
    },
    {
      "metadata": {
        "trusted": true
      },
      "cell_type": "code",
      "source": "# Absolute value of number\nprint(abs(-2.3))\nprint(abs(5.4))",
      "execution_count": 5,
      "outputs": [
        {
          "output_type": "stream",
          "text": "[1] 2.3\n[1] 5.4\n",
          "name": "stdout"
        }
      ]
    },
    {
      "metadata": {
        "trusted": true
      },
      "cell_type": "code",
      "source": "",
      "execution_count": null,
      "outputs": []
    }
  ],
  "metadata": {
    "kernelspec": {
      "name": "r",
      "display_name": "R",
      "language": "R"
    },
    "language_info": {
      "mimetype": "text/x-r-source",
      "name": "R",
      "pygments_lexer": "r",
      "version": "3.4.1",
      "file_extension": ".r",
      "codemirror_mode": "r"
    }
  },
  "nbformat": 4,
  "nbformat_minor": 2
}