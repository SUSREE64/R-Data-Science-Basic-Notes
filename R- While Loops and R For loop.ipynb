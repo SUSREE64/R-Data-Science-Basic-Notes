{
  "cells": [
    {
      "metadata": {
        "collapsed": true
      },
      "cell_type": "markdown",
      "source": "### R- While loops"
    },
    {
      "metadata": {
        "trusted": true
      },
      "cell_type": "code",
      "source": "## Syntax\n#while(condition){\n    \n    #code block\n    \n#}",
      "execution_count": 2,
      "outputs": []
    },
    {
      "metadata": {
        "trusted": true
      },
      "cell_type": "code",
      "source": "# Using while loop print out multiplication table of a number\nnum <- 13\na<-1\nwhile (a <=10){\n    \n    print(paste (a, \"*\", num, \"=\", a*num))\n    a <- a+1\n    \n}\n",
      "execution_count": 3,
      "outputs": [
        {
          "output_type": "stream",
          "text": "[1] \"1 * 13 = 13\"\n[1] \"2 * 13 = 26\"\n[1] \"3 * 13 = 39\"\n[1] \"4 * 13 = 52\"\n[1] \"5 * 13 = 65\"\n[1] \"6 * 13 = 78\"\n[1] \"7 * 13 = 91\"\n[1] \"8 * 13 = 104\"\n[1] \"9 * 13 = 117\"\n[1] \"10 * 13 = 130\"\n",
          "name": "stdout"
        }
      ]
    },
    {
      "metadata": {
        "trusted": true
      },
      "cell_type": "code",
      "source": "# break the loop on a particular condition\nnum <- 0\na<-1\nwhile (a <=10){\n    \n    if (num == 0 ){\n        \n        print(\"sorry the num is zero \")\n        break\n    }\n    \n    print(paste (a, \"*\", num, \"=\", a*num))\n    a <- a+1\n    \n}",
      "execution_count": 5,
      "outputs": [
        {
          "output_type": "stream",
          "text": "[1] \"sorry the num is zero \"\n",
          "name": "stdout"
        }
      ]
    },
    {
      "metadata": {
        "trusted": true
      },
      "cell_type": "markdown",
      "source": "### R For Loops"
    },
    {
      "metadata": {
        "trusted": true
      },
      "cell_type": "code",
      "source": "# syntax\n#for(variable in vector){\n    \n    #code block\n    \n#}",
      "execution_count": 1,
      "outputs": []
    },
    {
      "metadata": {
        "trusted": true
      },
      "cell_type": "code",
      "source": "# print a multiplication table using for loop\nnum <- 13\nvec <- c(1:10)\nfor (x in vec){\n    \n    print(paste (x, \"*\",num,\"=\", num*x))\n    \n}",
      "execution_count": 5,
      "outputs": [
        {
          "output_type": "stream",
          "text": "[1] \"1 * 13 = 13\"\n[1] \"2 * 13 = 26\"\n[1] \"3 * 13 = 39\"\n[1] \"4 * 13 = 52\"\n[1] \"5 * 13 = 65\"\n[1] \"6 * 13 = 78\"\n[1] \"7 * 13 = 91\"\n[1] \"8 * 13 = 104\"\n[1] \"9 * 13 = 117\"\n[1] \"10 * 13 = 130\"\n",
          "name": "stdout"
        }
      ]
    },
    {
      "metadata": {
        "trusted": true
      },
      "cell_type": "code",
      "source": "",
      "execution_count": 6,
      "outputs": []
    },
    {
      "metadata": {
        "trusted": true
      },
      "cell_type": "code",
      "source": "",
      "execution_count": null,
      "outputs": []
    },
    {
      "metadata": {
        "trusted": true
      },
      "cell_type": "code",
      "source": "",
      "execution_count": null,
      "outputs": []
    }
  ],
  "metadata": {
    "kernelspec": {
      "name": "r",
      "display_name": "R",
      "language": "R"
    },
    "language_info": {
      "mimetype": "text/x-r-source",
      "name": "R",
      "pygments_lexer": "r",
      "version": "3.4.1",
      "file_extension": ".r",
      "codemirror_mode": "r"
    }
  },
  "nbformat": 4,
  "nbformat_minor": 2
}